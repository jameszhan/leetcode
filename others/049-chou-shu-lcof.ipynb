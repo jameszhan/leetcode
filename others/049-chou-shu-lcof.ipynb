{
 "cells": [
  {
   "cell_type": "markdown",
   "id": "collected-partnership",
   "metadata": {},
   "source": [
    "我们把只包含质因子 2、3 和 5 的数称作丑数（Ugly Number）。求按从小到大的顺序的第 n 个丑数。\n",
    "\n",
    "#### 示例:\n",
    "\n",
    "##### 输入: `n = 10`\n",
    "##### 输出: `12`\n",
    "\n",
    "> 解释: 1, 2, 3, 4, 5, 6, 8, 9, 10, 12 是前 10 个丑数。\n",
    "\n",
    "#### 说明:  \n",
    "##### 1 是丑数。\n",
    "##### n 不超过1690。"
   ]
  },
  {
   "cell_type": "code",
   "execution_count": null,
   "id": "linear-nickname",
   "metadata": {},
   "outputs": [],
   "source": []
  },
  {
   "cell_type": "markdown",
   "id": "ordered-cargo",
   "metadata": {},
   "source": [
    "[解题思路](https://leetcode-cn.com/problems/chou-shu-lcof/solution/mian-shi-ti-49-chou-shu-dong-tai-gui-hua-qing-xi-t)"
   ]
  },
  {
   "cell_type": "code",
   "execution_count": 6,
   "id": "marine-pride",
   "metadata": {},
   "outputs": [],
   "source": [
    "def solve(n: int) -> int:\n",
    "    dp, a, b, c = [1 for i in range(n)], 0, 0, 0\n",
    "    for i in range(1, n):\n",
    "        n2, n3, n5 = dp[a] * 2, dp[b] * 3, dp[c] * 5\n",
    "        dp[i] = min(n2, n3, n5)\n",
    "        if n2 == dp[i]:\n",
    "            a += 1\n",
    "        if n3 == dp[i]:\n",
    "            b += 1\n",
    "        if n5 == dp[i]:\n",
    "            c += 1\n",
    "    return dp[n - 1]"
   ]
  },
  {
   "cell_type": "code",
   "execution_count": 7,
   "id": "disabled-position",
   "metadata": {},
   "outputs": [
    {
     "data": {
      "text/plain": [
       "12"
      ]
     },
     "execution_count": 7,
     "metadata": {},
     "output_type": "execute_result"
    }
   ],
   "source": [
    "solve(10)"
   ]
  },
  {
   "cell_type": "code",
   "execution_count": null,
   "id": "minus-leonard",
   "metadata": {},
   "outputs": [],
   "source": []
  }
 ],
 "metadata": {
  "kernelspec": {
   "display_name": "Python 3",
   "language": "python",
   "name": "python3"
  },
  "language_info": {
   "codemirror_mode": {
    "name": "ipython",
    "version": 3
   },
   "file_extension": ".py",
   "mimetype": "text/x-python",
   "name": "python",
   "nbconvert_exporter": "python",
   "pygments_lexer": "ipython3",
   "version": "3.8.6"
  }
 },
 "nbformat": 4,
 "nbformat_minor": 5
}
