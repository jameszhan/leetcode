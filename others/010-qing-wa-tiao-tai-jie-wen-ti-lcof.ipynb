{
 "cells": [
  {
   "cell_type": "markdown",
   "id": "negative-butter",
   "metadata": {},
   "source": [
    "### 青蛙跳台阶问题\n",
    "\n",
    "一只青蛙一次可以跳上1级台阶，也可以跳上2级台阶。求该青蛙跳上一个 n 级的台阶总共有多少种跳法。\n",
    "\n",
    "答案需要取模`1e9+7（1000000007`，如计算初始结果为：`1000000008`，请返回`1`。\n",
    "\n",
    "#### 示例 1：\n",
    "```\n",
    "输入：n = 2\n",
    "输出：2\n",
    "```\n",
    "\n",
    "#### 示例 2：\n",
    "```\n",
    "输入：n = 7\n",
    "输出：21\n",
    "```\n",
    "\n",
    "#### 示例 3：\n",
    "```\n",
    "输入：n = 0\n",
    "输出：1\n",
    "```\n",
    "\n",
    "#### 提示：\n",
    "\n",
    "`0 <= n <= 100`\n",
    "\n",
    "> 注意：本题与leetcode 70 题相同"
   ]
  },
  {
   "cell_type": "code",
   "execution_count": 1,
   "id": "rocky-chrome",
   "metadata": {},
   "outputs": [],
   "source": [
    "def numWays(n: int) -> int:\n",
    "    cache = {}\n",
    "    def solve(m: int) -> int:\n",
    "        if m <= 1:\n",
    "            return 1\n",
    "        \n",
    "        if m - 2 not in cache:\n",
    "            cache[m - 2] = solve(m - 2)\n",
    "        if m - 1 not in cache:\n",
    "            cache[m - 1] = solve(m - 1)\n",
    "        \n",
    "        return cache[m - 2] + cache[m - 1]\n",
    "    \n",
    "    ans = solve(n)\n",
    "    return ans % 1000000007"
   ]
  },
  {
   "cell_type": "code",
   "execution_count": 2,
   "id": "aboriginal-minority",
   "metadata": {},
   "outputs": [
    {
     "data": {
      "text/plain": [
       "782204094"
      ]
     },
     "execution_count": 2,
     "metadata": {},
     "output_type": "execute_result"
    }
   ],
   "source": [
    "numWays(100)"
   ]
  },
  {
   "cell_type": "code",
   "execution_count": 3,
   "id": "nonprofit-bonus",
   "metadata": {},
   "outputs": [
    {
     "data": {
      "text/plain": [
       "2"
      ]
     },
     "execution_count": 3,
     "metadata": {},
     "output_type": "execute_result"
    }
   ],
   "source": [
    "numWays(2)"
   ]
  },
  {
   "cell_type": "code",
   "execution_count": 4,
   "id": "major-macedonia",
   "metadata": {},
   "outputs": [
    {
     "data": {
      "text/plain": [
       "21"
      ]
     },
     "execution_count": 4,
     "metadata": {},
     "output_type": "execute_result"
    }
   ],
   "source": [
    "numWays(7)"
   ]
  },
  {
   "cell_type": "code",
   "execution_count": 5,
   "id": "thrown-lewis",
   "metadata": {},
   "outputs": [
    {
     "data": {
      "text/plain": [
       "1"
      ]
     },
     "execution_count": 5,
     "metadata": {},
     "output_type": "execute_result"
    }
   ],
   "source": [
    "numWays(0)"
   ]
  }
 ],
 "metadata": {
  "kernelspec": {
   "display_name": "Python 3",
   "language": "python",
   "name": "python3"
  },
  "language_info": {
   "codemirror_mode": {
    "name": "ipython",
    "version": 3
   },
   "file_extension": ".py",
   "mimetype": "text/x-python",
   "name": "python",
   "nbconvert_exporter": "python",
   "pygments_lexer": "ipython3",
   "version": "3.8.6"
  }
 },
 "nbformat": 4,
 "nbformat_minor": 5
}
