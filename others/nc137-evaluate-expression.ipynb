{
 "cells": [
  {
   "cell_type": "markdown",
   "id": "missing-employment",
   "metadata": {},
   "source": [
    "请写一个整数计算器，支持加减乘三种运算和括号。\n",
    "\n",
    "#### 示例1\n",
    "```\n",
    "输入 \"1+2\"\n",
    "返回值 3\n",
    "```\n",
    "\n",
    "#### 示例2\n",
    "```\n",
    "输入 \"(2*(3-4))*5\"\n",
    "返回值 -10\n",
    "```\n",
    "\n",
    "#### 示例3\n",
    "```\n",
    "输入 \"3+2*3*4-1\"\n",
    "返回值 26\n",
    "```\n",
    "\n",
    "参考[leetcode 150](https://leetcode-cn.com/problems/evaluate-reverse-polish-notation/)和[leetcode 224](https://leetcode-cn.com/problems/basic-calculator/)"
   ]
  },
  {
   "cell_type": "markdown",
   "id": "presidential-truth",
   "metadata": {},
   "source": [
    "#### 中缀表达式转后缀表达式（逆波兰表达式）\n",
    "\n",
    "1. 初始化两个栈：运算符栈`stack`和储存中间结果的栈`ast`；\n",
    "2. 从左至右扫描中缀表达式；\n",
    "3. 遇到操作数时，将其压`ast`；\n",
    "4. 遇到运算符时，比较其与s1栈顶运算符的优先级：\n",
    "    1. 如果`stack`为空，或栈顶运算符为左括号“(”，则直接将此运算符入栈；\n",
    "    2. 否则，若优先级比栈顶运算符的高，也将运算符压入`stack`；\n",
    "    3. 否则，将`stack`栈顶的运算符弹出并压入到`ast`中，再次转到(4.1)与`stack`中新的栈顶运算符相比较； \n",
    "5. 遇到括号时：　\n",
    "    1. 如果是左括号\"(\"，则直接压入`stack`　\n",
    "    2. 如果是右括号\")\"，则依次弹出`stack`栈顶的运算符，并压入`ast`，直到遇到左括号为止，此时将这一对括号丢弃6.重复步骤2至5，直到表达式的最右边\n",
    "7. 将`stack`中剩余的运算符依次弹出并压入`ast`\n",
    "8. 依次弹出`ast`中的元素并输出，结果的逆序即为中缀表达式对应的后缀表达式"
   ]
  },
  {
   "cell_type": "code",
   "execution_count": 50,
   "id": "nasty-horizon",
   "metadata": {},
   "outputs": [
    {
     "name": "stdout",
     "output_type": "stream",
     "text": [
      "['-2', '+', '1']\n",
      "['1', '+', '1']\n",
      "['2', '-', '1', '+', '2']\n",
      "['(', '1', '+', '(', '4', '+', '5', '+', '2', ')', '-', '3', ')', '+', '(', '6', '+', '8', ')']\n",
      "['216', '-', '18', '+', '-3', '+', '(', '2', '-', '1', ')', '+', '100', '-', '50']\n"
     ]
    }
   ],
   "source": [
    "def tokenize(s):\n",
    "    tokens, digitStart, sign = [], -1, 1\n",
    "    signleads = {'+', \"*\", \"(\"}\n",
    "    for i, c in enumerate(s):\n",
    "        if c.isdigit():\n",
    "            if digitStart <= -1:\n",
    "                digitStart = i\n",
    "        else:\n",
    "            if digitStart >= 0:\n",
    "                if sign == -1:\n",
    "                    tokens.append('-' + s[digitStart:i])\n",
    "                else:\n",
    "                    tokens.append(s[digitStart:i])\n",
    "                digitStart = -1\n",
    "            if c == '+' or c == '*' or c == '(' or c == ')':\n",
    "                tokens.append(c)\n",
    "                sign = 1\n",
    "            elif c == '-':\n",
    "                if len(tokens) == 0 or tokens[-1] in signleads:\n",
    "                    sign = -1\n",
    "                else:\n",
    "                    tokens.append(c)\n",
    "            elif c == ' ':\n",
    "                continue\n",
    "            else:\n",
    "                print(c)\n",
    "        \n",
    "    if digitStart > -1:\n",
    "        tokens.append(s[digitStart:])\n",
    "                \n",
    "    return tokens\n",
    "\n",
    "print(tokenize(\"-2+ 1\"))\n",
    "print(tokenize(\"1 + 1\"))\n",
    "print(tokenize(\"2-1 + 2\"))\n",
    "print(tokenize(\"(1+(4+5+2)-3)+(6+8)\"))\n",
    "print(tokenize(\"216-18 + -3 + (2-1)+ 100-50\"))"
   ]
  },
  {
   "cell_type": "code",
   "execution_count": 62,
   "id": "wooden-obligation",
   "metadata": {},
   "outputs": [],
   "source": [
    "def parse(tokens):\n",
    "    ast, stack = [], []\n",
    "    for i, t in enumerate(tokens):\n",
    "        if t.isdigit() or t[0] == '-' and t[1:].isdigit():\n",
    "            ast.append(t)\n",
    "        elif t == '+' or t == '-' or t == '*':\n",
    "            if len(stack) == 0 or stack[-1] == '(':\n",
    "                stack.append(t)\n",
    "            else:\n",
    "                top = stack[-1]\n",
    "                if (top == '+' or top == '-') and t == '*':\n",
    "                    stack.append(t)\n",
    "                else:\n",
    "                    ast.append(stack.pop())\n",
    "                    stack.append(t)\n",
    "        elif t == '(':\n",
    "            stack.append(t)\n",
    "        elif t == ')':\n",
    "            while len(stack) > 0:\n",
    "                top = stack.pop()\n",
    "                if top == '(':\n",
    "                    break\n",
    "                else:\n",
    "                    ast.append(top)\n",
    "    \n",
    "    while len(stack) > 0:\n",
    "        ast.append(stack.pop())\n",
    "        \n",
    "    return ast"
   ]
  },
  {
   "cell_type": "code",
   "execution_count": 63,
   "id": "tamil-leeds",
   "metadata": {},
   "outputs": [],
   "source": [
    "import operator\n",
    "\n",
    "operators = {'+': operator.add, '-': operator.sub, '*': operator.mul}\n",
    "\n",
    "def evaluate(ast):\n",
    "    op = ast.pop()\n",
    "    if op in operators:\n",
    "        right = evaluate(ast)\n",
    "        left = evaluate(ast)\n",
    "        return operators[op](left, right)\n",
    "    else:\n",
    "        return int(op)"
   ]
  },
  {
   "cell_type": "code",
   "execution_count": 64,
   "id": "careful-disabled",
   "metadata": {},
   "outputs": [],
   "source": [
    "def solve(s):\n",
    "    tokens = tokenize(s)\n",
    "    print(tokens)\n",
    "    ast = parse(tokens)\n",
    "    print(ast)\n",
    "    return evaluate(ast)"
   ]
  },
  {
   "cell_type": "code",
   "execution_count": 65,
   "id": "elegant-means",
   "metadata": {},
   "outputs": [
    {
     "name": "stdout",
     "output_type": "stream",
     "text": [
      "['-2', '+', '1']\n",
      "['-2', '1', '+']\n"
     ]
    },
    {
     "data": {
      "text/plain": [
       "-1"
      ]
     },
     "execution_count": 65,
     "metadata": {},
     "output_type": "execute_result"
    }
   ],
   "source": [
    "solve(\"-2 + 1\")"
   ]
  },
  {
   "cell_type": "code",
   "execution_count": 66,
   "id": "sweet-damages",
   "metadata": {},
   "outputs": [
    {
     "name": "stdout",
     "output_type": "stream",
     "text": [
      "['1', '+', '2']\n",
      "['1', '2', '+']\n"
     ]
    },
    {
     "data": {
      "text/plain": [
       "3"
      ]
     },
     "execution_count": 66,
     "metadata": {},
     "output_type": "execute_result"
    }
   ],
   "source": [
    "solve(\"1+2\")"
   ]
  },
  {
   "cell_type": "code",
   "execution_count": 67,
   "id": "wanted-salon",
   "metadata": {},
   "outputs": [
    {
     "name": "stdout",
     "output_type": "stream",
     "text": [
      "['(', '2', '*', '(', '3', '-', '4', ')', ')', '*', '5']\n",
      "['2', '3', '4', '-', '*', '5', '*']\n"
     ]
    },
    {
     "data": {
      "text/plain": [
       "-10"
      ]
     },
     "execution_count": 67,
     "metadata": {},
     "output_type": "execute_result"
    }
   ],
   "source": [
    "solve(\"(2*(3-4))*5\")"
   ]
  },
  {
   "cell_type": "code",
   "execution_count": 68,
   "id": "improved-yahoo",
   "metadata": {},
   "outputs": [
    {
     "name": "stdout",
     "output_type": "stream",
     "text": [
      "['3', '+', '2', '*', '3', '*', '4', '-', '1']\n",
      "['3', '2', '3', '*', '4', '*', '1', '-', '+']\n"
     ]
    },
    {
     "data": {
      "text/plain": [
       "26"
      ]
     },
     "execution_count": 68,
     "metadata": {},
     "output_type": "execute_result"
    }
   ],
   "source": [
    "solve(\"3+2*3*4-1\")"
   ]
  },
  {
   "cell_type": "code",
   "execution_count": 72,
   "id": "random-collector",
   "metadata": {},
   "outputs": [
    {
     "name": "stdout",
     "output_type": "stream",
     "text": [
      "['9', '+', '(', '3', '-', '1', ')', '*', '3', '+', '10', '*', '2']\n",
      "['9', '3', '1', '-', '3', '*', '10', '2', '*', '+', '+']\n"
     ]
    },
    {
     "data": {
      "text/plain": [
       "35"
      ]
     },
     "execution_count": 72,
     "metadata": {},
     "output_type": "execute_result"
    }
   ],
   "source": [
    "solve(\"9+(3-1)*3+10 * 2\")"
   ]
  },
  {
   "cell_type": "code",
   "execution_count": 71,
   "id": "developmental-budapest",
   "metadata": {},
   "outputs": [
    {
     "name": "stdout",
     "output_type": "stream",
     "text": [
      "['(', '(', '10', '*', '(', '6', '*', '(', '(', '9', '+', '3', ')', '*', '-11', ')', ')', ')', '+', '17', ')', '+', '5']\n",
      "['10', '6', '9', '3', '+', '-11', '*', '*', '*', '17', '+', '5', '+']\n"
     ]
    },
    {
     "data": {
      "text/plain": [
       "-7898"
      ]
     },
     "execution_count": 71,
     "metadata": {},
     "output_type": "execute_result"
    }
   ],
   "source": [
    "solve(\"((10 * (6 * ((9 + 3) * -11))) + 17) + 5\") # 10 6 9 3 + -11 * * * 17 + 5 +"
   ]
  },
  {
   "cell_type": "code",
   "execution_count": null,
   "id": "swiss-ratio",
   "metadata": {},
   "outputs": [],
   "source": []
  },
  {
   "cell_type": "code",
   "execution_count": null,
   "id": "departmental-gauge",
   "metadata": {},
   "outputs": [],
   "source": []
  }
 ],
 "metadata": {
  "kernelspec": {
   "display_name": "Python 3",
   "language": "python",
   "name": "python3"
  },
  "language_info": {
   "codemirror_mode": {
    "name": "ipython",
    "version": 3
   },
   "file_extension": ".py",
   "mimetype": "text/x-python",
   "name": "python",
   "nbconvert_exporter": "python",
   "pygments_lexer": "ipython3",
   "version": "3.8.6"
  }
 },
 "nbformat": 4,
 "nbformat_minor": 5
}
