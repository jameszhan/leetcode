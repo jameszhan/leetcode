{
 "cells": [
  {
   "cell_type": "markdown",
   "id": "sharp-pilot",
   "metadata": {},
   "source": [
    "给定一个数组arr，返回arr的最长无的重复子数组的长度(无重复指的是所有数字都不相同)。\n",
    "\n",
    "#### 示例1\n",
    "```\n",
    "输入 [2,3,4,5]\n",
    "返回值 4\n",
    "```\n",
    "\n",
    "#### 示例2\n",
    "```\n",
    "输入 [2,2,3,4,3]\n",
    "返回值 3\n",
    "```\n",
    "\n",
    "#### 备注:\n",
    "\n",
    "$1 \\leq n \\leq 10^5$"
   ]
  },
  {
   "cell_type": "code",
   "execution_count": 15,
   "id": "satellite-conflict",
   "metadata": {},
   "outputs": [],
   "source": [
    "from typing import List\n",
    "\n",
    "def maxLength(arr: List[int]):\n",
    "    l = len(arr)\n",
    "    ans = 0\n",
    "    cache = {}\n",
    "    for i in range(l):\n",
    "        cache[arr[i]] = i\n",
    "        for j in range(i + 1, l):\n",
    "            n = arr[j]\n",
    "            if n in cache:\n",
    "                ans = max(ans, j - i)\n",
    "                break\n",
    "            cache[n] = j\n",
    "        if l - i < ans:\n",
    "            break\n",
    "        cache.clear()\n",
    "    if ans == 0:\n",
    "        ans = l\n",
    "    return ans"
   ]
  },
  {
   "cell_type": "code",
   "execution_count": 16,
   "id": "ordered-toolbox",
   "metadata": {},
   "outputs": [
    {
     "data": {
      "text/plain": [
       "4"
      ]
     },
     "execution_count": 16,
     "metadata": {},
     "output_type": "execute_result"
    }
   ],
   "source": [
    "maxLength([2,3,4,5])"
   ]
  },
  {
   "cell_type": "code",
   "execution_count": 17,
   "id": "rough-nepal",
   "metadata": {},
   "outputs": [
    {
     "data": {
      "text/plain": [
       "3"
      ]
     },
     "execution_count": 17,
     "metadata": {},
     "output_type": "execute_result"
    }
   ],
   "source": [
    "maxLength([2,2,3,4,3])"
   ]
  },
  {
   "cell_type": "code",
   "execution_count": 18,
   "id": "confidential-jacob",
   "metadata": {},
   "outputs": [
    {
     "data": {
      "text/plain": [
       "9"
      ]
     },
     "execution_count": 18,
     "metadata": {},
     "output_type": "execute_result"
    }
   ],
   "source": [
    "maxLength([1, 2, 3, 4, 5, 6, 7, 8, 9, 8, 7, 6, 5, 4, 3, 2, 1])"
   ]
  },
  {
   "cell_type": "code",
   "execution_count": 19,
   "id": "narrative-backing",
   "metadata": {},
   "outputs": [
    {
     "data": {
      "text/plain": [
       "5"
      ]
     },
     "execution_count": 19,
     "metadata": {},
     "output_type": "execute_result"
    }
   ],
   "source": [
    "maxLength([1, 2, 3, 3, 2, 1, 2, 3, 4, 5, 4, 3, 2, 1, 3, 2, 1])"
   ]
  },
  {
   "cell_type": "code",
   "execution_count": 24,
   "id": "impressed-stations",
   "metadata": {},
   "outputs": [],
   "source": [
    "def max_length(arr: List[int]) -> int:\n",
    "    ans = 0\n",
    "    checked = []\n",
    "    curr = 0\n",
    "    for i in range(len(arr)):\n",
    "        curr += 1\n",
    "        n = arr[i]\n",
    "        if n in checked:\n",
    "            pos = checked.index(n)\n",
    "            del checked[0:pos+1]\n",
    "            curr -= (pos + 1)\n",
    "\n",
    "        checked.append(n)\n",
    "        ans = max(curr, ans)\n",
    "    return ans"
   ]
  },
  {
   "cell_type": "code",
   "execution_count": 25,
   "id": "married-leadership",
   "metadata": {},
   "outputs": [
    {
     "data": {
      "text/plain": [
       "5"
      ]
     },
     "execution_count": 25,
     "metadata": {},
     "output_type": "execute_result"
    }
   ],
   "source": [
    "max_length([1, 2, 3, 3, 2, 1, 2, 3, 4, 5, 4, 3, 2, 1, 3, 2, 1])"
   ]
  },
  {
   "cell_type": "code",
   "execution_count": 26,
   "id": "together-messaging",
   "metadata": {},
   "outputs": [
    {
     "data": {
      "text/plain": [
       "9"
      ]
     },
     "execution_count": 26,
     "metadata": {},
     "output_type": "execute_result"
    }
   ],
   "source": [
    "max_length([1, 2, 3, 4, 5, 6, 7, 8, 9, 8, 7, 6, 5, 4, 3, 2, 1])"
   ]
  },
  {
   "cell_type": "code",
   "execution_count": 27,
   "id": "waiting-yorkshire",
   "metadata": {},
   "outputs": [
    {
     "data": {
      "text/plain": [
       "3"
      ]
     },
     "execution_count": 27,
     "metadata": {},
     "output_type": "execute_result"
    }
   ],
   "source": [
    "max_length([2,2,3,4,3])"
   ]
  },
  {
   "cell_type": "code",
   "execution_count": 28,
   "id": "unique-interim",
   "metadata": {},
   "outputs": [
    {
     "data": {
      "text/plain": [
       "4"
      ]
     },
     "execution_count": 28,
     "metadata": {},
     "output_type": "execute_result"
    }
   ],
   "source": [
    "max_length([2,3,4,5])"
   ]
  }
 ],
 "metadata": {
  "kernelspec": {
   "display_name": "Python 3",
   "language": "python",
   "name": "python3"
  },
  "language_info": {
   "codemirror_mode": {
    "name": "ipython",
    "version": 3
   },
   "file_extension": ".py",
   "mimetype": "text/x-python",
   "name": "python",
   "nbconvert_exporter": "python",
   "pygments_lexer": "ipython3",
   "version": "3.8.6"
  }
 },
 "nbformat": 4,
 "nbformat_minor": 5
}
