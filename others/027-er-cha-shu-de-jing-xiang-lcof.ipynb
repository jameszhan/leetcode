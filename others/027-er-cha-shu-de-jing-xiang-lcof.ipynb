{
 "cells": [
  {
   "cell_type": "markdown",
   "id": "streaming-captain",
   "metadata": {},
   "source": [
    "[二叉树的镜像](https://leetcode-cn.com/problems/er-cha-shu-de-jing-xiang-lcof/)\n",
    "\n",
    "请完成一个函数，输入一个二叉树，该函数输出它的镜像。\n",
    "\n",
    "```\n",
    "例如输入：\n",
    "\n",
    "     4\n",
    "   /   \\\n",
    "  2     7\n",
    " / \\   / \\\n",
    "1   3 6   9\n",
    "\n",
    "镜像输出：\n",
    "\n",
    "     4\n",
    "   /   \\\n",
    "  7     2\n",
    " / \\   / \\\n",
    "9   6 3   1\n",
    "```\n",
    "\n",
    "#### 示例 1：\n",
    "```\n",
    "输入：root = [4,2,7,1,3,6,9]\n",
    "输出：[4,7,2,9,6,3,1]\n",
    "```\n",
    "\n",
    "#### 限制：\n",
    "\n",
    "`0 <= 节点个数 <= 1000`\n"
   ]
  },
  {
   "cell_type": "code",
   "execution_count": 1,
   "id": "permanent-greeting",
   "metadata": {},
   "outputs": [],
   "source": [
    "# Definition for a binary tree node.\n",
    "class TreeNode:\n",
    "    def __init__(self, x):\n",
    "        self.val = x\n",
    "        self.left = None\n",
    "        self.right = None\n",
    "\n",
    "class Solution:\n",
    "    def mirrorTree(self, root: TreeNode) -> TreeNode:\n",
    "        if root is not None:\n",
    "            left = root.left\n",
    "            right = root.right\n",
    "            root.left = self.mirrorTree(right)\n",
    "            root.right = self.mirrorTree(left)\n",
    "        return root"
   ]
  },
  {
   "cell_type": "code",
   "execution_count": null,
   "id": "recent-thought",
   "metadata": {},
   "outputs": [],
   "source": []
  }
 ],
 "metadata": {
  "kernelspec": {
   "display_name": "Python 3",
   "language": "python",
   "name": "python3"
  },
  "language_info": {
   "codemirror_mode": {
    "name": "ipython",
    "version": 3
   },
   "file_extension": ".py",
   "mimetype": "text/x-python",
   "name": "python",
   "nbconvert_exporter": "python",
   "pygments_lexer": "ipython3",
   "version": "3.8.6"
  }
 },
 "nbformat": 4,
 "nbformat_minor": 5
}
