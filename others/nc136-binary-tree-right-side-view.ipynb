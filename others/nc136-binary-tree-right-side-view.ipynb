{
 "cells": [
  {
   "cell_type": "markdown",
   "id": "engaged-welsh",
   "metadata": {},
   "source": [
    "### [输出二叉树的右视图](https://www.nowcoder.com/practice/c9480213597e45f4807880c763ddd5f0?tab=answerKey)\n",
    "\n",
    "请根据二叉树的前序遍历，中序遍历恢复二叉树，并打印出二叉树的右视图\n",
    "\n",
    "#### 示例1\n",
    "```\n",
    "输入 [1,2,4,5,3],[4,2,5,1,3]\n",
    "返回值[1,3,5]\n",
    "```\n",
    "\n",
    "#### 备注:\n",
    "二叉树每个节点的值在区间`[1,10000]`内，且保证每个节点的值互不相同。\n",
    "\n",
    "#### 相关题目\n",
    "- [105. 从前序与中序遍历序列构造二叉树](https://leetcode-cn.com/problems/construct-binary-tree-from-preorder-and-inorder-traversal/)\n",
    "- [199. 二叉树的右视图](https://leetcode-cn.com/problems/binary-tree-right-side-view/)"
   ]
  },
  {
   "cell_type": "code",
   "execution_count": 9,
   "id": "atmospheric-submission",
   "metadata": {},
   "outputs": [],
   "source": [
    "from typing import List\n",
    "\n",
    "class TreeNode:\n",
    "    def __init__(self, val=0, left=None, right=None):\n",
    "        self.val = val\n",
    "        self.left = left\n",
    "        self.right = right\n",
    "        \n",
    "class Solution:\n",
    "    def solve(self, preorder: List[int], inorder: List[int]) -> List[int]:\n",
    "        \n",
    "        def build(preorder: List[int], inorder: List[int]) -> TreeNode:\n",
    "            if preorder and inorder:\n",
    "                root = TreeNode(preorder[0])\n",
    "                idx = inorder.index(root.val)\n",
    "\n",
    "                root.left = build(preorder[1:idx+1], inorder[:idx])\n",
    "                root.right = build(preorder[idx+1:], inorder[idx+1:])\n",
    "                return root\n",
    "            else:\n",
    "                return None\n",
    "        \n",
    "        def rightSideView(root: TreeNode) -> List[int]:\n",
    "            if root is None:\n",
    "                return []\n",
    "            \n",
    "            queue, ans = [root], []\n",
    "            while queue:\n",
    "                n = len(queue)\n",
    "                for i in range(n):\n",
    "                    node = queue.pop(0)\n",
    "                    if node.left:\n",
    "                        queue.append(node.left)\n",
    "                    if node.right:\n",
    "                        queue.append(node.right)\n",
    "                    \n",
    "                    if i == n - 1:\n",
    "                        ans.append(node.val)\n",
    "            return ans\n",
    "        \n",
    "        tree = build(preorder, inorder)\n",
    "        return rightSideView(tree)"
   ]
  },
  {
   "cell_type": "code",
   "execution_count": 10,
   "id": "loving-venezuela",
   "metadata": {},
   "outputs": [],
   "source": [
    "solution = Solution()"
   ]
  },
  {
   "cell_type": "code",
   "execution_count": 11,
   "id": "rocky-museum",
   "metadata": {},
   "outputs": [
    {
     "data": {
      "text/plain": [
       "[1, 3, 5]"
      ]
     },
     "execution_count": 11,
     "metadata": {},
     "output_type": "execute_result"
    }
   ],
   "source": [
    "solution.solve([1,2,4,5,3],[4,2,5,1,3])"
   ]
  },
  {
   "cell_type": "code",
   "execution_count": null,
   "id": "sacred-salmon",
   "metadata": {},
   "outputs": [],
   "source": []
  }
 ],
 "metadata": {
  "kernelspec": {
   "display_name": "Python 3",
   "language": "python",
   "name": "python3"
  },
  "language_info": {
   "codemirror_mode": {
    "name": "ipython",
    "version": 3
   },
   "file_extension": ".py",
   "mimetype": "text/x-python",
   "name": "python",
   "nbconvert_exporter": "python",
   "pygments_lexer": "ipython3",
   "version": "3.8.6"
  }
 },
 "nbformat": 4,
 "nbformat_minor": 5
}
