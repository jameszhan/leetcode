{
 "cells": [
  {
   "cell_type": "markdown",
   "id": "matched-minutes",
   "metadata": {},
   "source": [
    "### 实现二叉树先序，中序和后序遍历\n",
    "\n",
    "#### 题目描述\n",
    "分别按照二叉树先序，中序和后序打印所有的节点。\n",
    "\n",
    "#### 示例1\n",
    "\n",
    "```\n",
    "输入\n",
    "{1,2,3}\n",
    "返回值\n",
    "[[1,2,3],[2,1,3],[2,3,1]]\n",
    "```\n",
    "\n",
    "#### 备注:\n",
    "\n",
    "$ n \\leq 10^6 $"
   ]
  },
  {
   "cell_type": "code",
   "execution_count": 4,
   "id": "fiscal-clark",
   "metadata": {},
   "outputs": [],
   "source": [
    "from typing import List\n",
    "\n",
    "class TreeNode:\n",
    "    def __init__(self, x):\n",
    "        self.val = x\n",
    "        self.left = None\n",
    "        self.right = None\n",
    "\n",
    "class Solution:\n",
    "    def threeOrders(self , root: TreeNode) -> List[List[int]]:\n",
    "        \n",
    "        def preOrder(root: TreeNode, res: List[int]) -> None:\n",
    "            if root is not None:\n",
    "                res.append(root.val)\n",
    "                preOrder(root.left, res)\n",
    "                preOrder(root.right, res)\n",
    "        \n",
    "        def inOrder(root: TreeNode, res: List[int]) -> None:\n",
    "            if root is not None:\n",
    "                inOrder(root.left, res)\n",
    "                res.append(root.val)\n",
    "                inOrder(root.right, res)\n",
    "                \n",
    "        def postOrder(root: TreeNode, res: List[int]) -> None:\n",
    "            if root is not None:\n",
    "                postOrder(root.left, res)\n",
    "                postOrder(root.right, res)\n",
    "                res.append(root.val)\n",
    "\n",
    "        ans = [[], [], []]\n",
    "        preOrder(root, ans[0])\n",
    "        inOrder(root, ans[1])\n",
    "        postOrder(root, ans[2])\n",
    "        \n",
    "        return ans"
   ]
  },
  {
   "cell_type": "code",
   "execution_count": null,
   "id": "unlike-midnight",
   "metadata": {},
   "outputs": [],
   "source": []
  }
 ],
 "metadata": {
  "kernelspec": {
   "display_name": "Python 3",
   "language": "python",
   "name": "python3"
  },
  "language_info": {
   "codemirror_mode": {
    "name": "ipython",
    "version": 3
   },
   "file_extension": ".py",
   "mimetype": "text/x-python",
   "name": "python",
   "nbconvert_exporter": "python",
   "pygments_lexer": "ipython3",
   "version": "3.8.6"
  }
 },
 "nbformat": 4,
 "nbformat_minor": 5
}
