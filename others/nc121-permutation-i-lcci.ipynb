{
 "cells": [
  {
   "cell_type": "markdown",
   "id": "clinical-death",
   "metadata": {},
   "source": [
    "### [无重复字符串的排列组合](https://leetcode-cn.com/problems/permutation-i-lcci/)\n",
    "\n",
    "无重复字符串的排列组合。编写一种方法，计算某字符串的所有排列组合，字符串每个字符均不相同。\n",
    "\n",
    "#### 示例1:\n",
    "```\n",
    "输入：S = \"qwe\"\n",
    "输出：[\"qwe\", \"qew\", \"wqe\", \"weq\", \"ewq\", \"eqw\"]\n",
    "```\n",
    "\n",
    "#### 示例2:\n",
    "```\n",
    "输入：S = \"ab\"\n",
    "输出：[\"ab\", \"ba\"]\n",
    "```\n",
    "\n",
    "#### 提示:\n",
    "- 字符都是英文字母。\n",
    "- 字符串长度在`[1, 9]`之间。"
   ]
  },
  {
   "cell_type": "code",
   "execution_count": 26,
   "id": "designing-safety",
   "metadata": {},
   "outputs": [],
   "source": [
    "from typing import List\n",
    "\n",
    "def permutation(s: str) -> List[str]:\n",
    "    \n",
    "    def dfs(a, k, predict, handle):\n",
    "        n = len(arr)\n",
    "        for i in range(n):\n",
    "            a[k] = i\n",
    "            if predict(a, k):\n",
    "                if n - 1 == k:\n",
    "                    handle(a)\n",
    "                else:\n",
    "                    dfs(a, k + 1, predict, handle)\n",
    "\n",
    "    def check(a, k):\n",
    "        for i in range(k):\n",
    "            if a[i] == a[k]:\n",
    "                return False\n",
    "        return True\n",
    "\n",
    "    ans = []\n",
    "    def save(a):\n",
    "        candidate = ''.join(map(lambda i: s[i], a))\n",
    "        if candidate not in ans:\n",
    "            ans.append(candidate)\n",
    "\n",
    "    arr = [0 for i in range(len(s))]\n",
    "    dfs(arr, 0, check, save)     \n",
    "    return ans"
   ]
  },
  {
   "cell_type": "code",
   "execution_count": 27,
   "id": "actual-speed",
   "metadata": {},
   "outputs": [
    {
     "data": {
      "text/plain": [
       "['qwe', 'qew', 'wqe', 'weq', 'eqw', 'ewq']"
      ]
     },
     "execution_count": 27,
     "metadata": {},
     "output_type": "execute_result"
    }
   ],
   "source": [
    "permutation('qwe')"
   ]
  },
  {
   "cell_type": "code",
   "execution_count": 28,
   "id": "architectural-termination",
   "metadata": {},
   "outputs": [
    {
     "data": {
      "text/plain": [
       "['ab', 'ba']"
      ]
     },
     "execution_count": 28,
     "metadata": {},
     "output_type": "execute_result"
    }
   ],
   "source": [
    "permutation('ab')"
   ]
  },
  {
   "cell_type": "code",
   "execution_count": 29,
   "id": "fifth-ocean",
   "metadata": {},
   "outputs": [
    {
     "data": {
      "text/plain": [
       "['aa']"
      ]
     },
     "execution_count": 29,
     "metadata": {},
     "output_type": "execute_result"
    }
   ],
   "source": [
    "permutation('aa')"
   ]
  },
  {
   "cell_type": "code",
   "execution_count": null,
   "id": "wanted-armstrong",
   "metadata": {},
   "outputs": [],
   "source": []
  }
 ],
 "metadata": {
  "kernelspec": {
   "display_name": "Python 3",
   "language": "python",
   "name": "python3"
  },
  "language_info": {
   "codemirror_mode": {
    "name": "ipython",
    "version": 3
   },
   "file_extension": ".py",
   "mimetype": "text/x-python",
   "name": "python",
   "nbconvert_exporter": "python",
   "pygments_lexer": "ipython3",
   "version": "3.8.6"
  }
 },
 "nbformat": 4,
 "nbformat_minor": 5
}
