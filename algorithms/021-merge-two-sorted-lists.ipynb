{
 "cells": [
  {
   "cell_type": "markdown",
   "id": "subject-listing",
   "metadata": {},
   "source": [
    "### 合并两个有序链表\n",
    "\n",
    "将两个升序链表合并为一个新的 升序 链表并返回。新链表是通过拼接给定的两个链表的所有节点组成的。 \n",
    "\n",
    "#### 示例 1：\n",
    "```\n",
    "输入：l1 = [1,2,4], l2 = [1,3,4]\n",
    "输出：[1,1,2,3,4,4]\n",
    "```\n",
    "\n",
    "#### 示例 2：\n",
    "```\n",
    "输入：l1 = [], l2 = []\n",
    "输出：[]\n",
    "```\n",
    "\n",
    "#### 示例 3：\n",
    "```\n",
    "输入：l1 = [], l2 = [0]\n",
    "输出：[0]\n",
    "```\n",
    "\n",
    "#### 提示：\n",
    "\n",
    "- 两个链表的节点数目范围是 [0, 50]\n",
    "- -100 <= Node.val <= 100\n",
    "- l1 和 l2 均按 非递减顺序 排列"
   ]
  },
  {
   "cell_type": "code",
   "execution_count": 3,
   "id": "configured-ordinary",
   "metadata": {},
   "outputs": [],
   "source": [
    "# Definition for singly-linked list.\n",
    "class ListNode:\n",
    "    def __init__(self, val=0, next=None):\n",
    "        self.val = val\n",
    "        self.next = next\n",
    "        \n",
    "class Solution:\n",
    "    def mergeTwoLists(self, l1: ListNode, l2: ListNode) -> ListNode:\n",
    "        if l1 is None:\n",
    "            return l2\n",
    "        if l2 is None:\n",
    "            return l1\n",
    "        \n",
    "        h1, h2, h = l1, l2, ListNode()\n",
    "        l = h\n",
    "        while True:\n",
    "            if h1.val < h2.val:\n",
    "                h.next = ListNode(h1.val)\n",
    "                h1 = h1.next\n",
    "            else:\n",
    "                h.next = ListNode(h2.val)\n",
    "                h2 = h2.next\n",
    "            \n",
    "            h = h.next\n",
    "            \n",
    "            if h1 is None or h2 is None:\n",
    "                break\n",
    "                \n",
    "        if h1 is not None:\n",
    "            h.next = h1\n",
    "        \n",
    "        if h2 is not None:\n",
    "            h.next = h2\n",
    "            \n",
    "        return l.next"
   ]
  }
 ],
 "metadata": {
  "kernelspec": {
   "display_name": "Python 3",
   "language": "python",
   "name": "python3"
  },
  "language_info": {
   "codemirror_mode": {
    "name": "ipython",
    "version": 3
   },
   "file_extension": ".py",
   "mimetype": "text/x-python",
   "name": "python",
   "nbconvert_exporter": "python",
   "pygments_lexer": "ipython3",
   "version": "3.8.6"
  }
 },
 "nbformat": 4,
 "nbformat_minor": 5
}
