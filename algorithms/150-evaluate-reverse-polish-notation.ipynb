{
 "cells": [
  {
   "cell_type": "markdown",
   "id": "otherwise-soundtrack",
   "metadata": {},
   "source": [
    "### [逆波兰表达式求值](https://leetcode-cn.com/problems/evaluate-reverse-polish-notation/)\n",
    "\n",
    "根据 逆波兰表示法，求表达式的值。\n",
    "\n",
    "有效的运算符包括 +, -, *, / 。每个运算对象可以是整数，也可以是另一个逆波兰表达式。\n",
    "\n",
    "#### 说明：\n",
    "\n",
    "- 整数除法只保留整数部分。\n",
    "- 给定逆波兰表达式总是有效的。换句话说，表达式总会得出有效数值且不存在除数为 0 的情况。\n",
    " \n",
    "#### 示例 1：\n",
    "```\n",
    "输入: [\"2\", \"1\", \"+\", \"3\", \"*\"]\n",
    "输出: 9\n",
    "解释: 该算式转化为常见的中缀算术表达式为：((2 + 1) * 3) = 9\n",
    "```\n",
    "\n",
    "#### 示例 2：\n",
    "```\n",
    "输入: [\"4\", \"13\", \"5\", \"/\", \"+\"]\n",
    "输出: 6\n",
    "解释: 该算式转化为常见的中缀算术表达式为：(4 + (13 / 5)) = 6\n",
    "```\n",
    "\n",
    "#### 示例 3：\n",
    "```\n",
    "输入: [\"10\", \"6\", \"9\", \"3\", \"+\", \"-11\", \"*\", \"/\", \"*\", \"17\", \"+\", \"5\", \"+\"]\n",
    "输出: 22\n",
    "解释: \n",
    "该算式转化为常见的中缀算术表达式为：\n",
    "  ((10 * (6 / ((9 + 3) * -11))) + 17) + 5\n",
    "= ((10 * (6 / (12 * -11))) + 17) + 5\n",
    "= ((10 * (6 / -132)) + 17) + 5\n",
    "= ((10 * 0) + 17) + 5\n",
    "= (0 + 17) + 5\n",
    "= 17 + 5\n",
    "= 22\n",
    "```\n",
    "\n",
    "#### 逆波兰表达式：\n",
    "\n",
    "逆波兰表达式是一种后缀表达式，所谓后缀就是指算符写在后面。\n",
    "\n",
    "- 平常使用的算式则是一种中缀表达式，如`( 1 + 2 ) * ( 3 + 4 )`。\n",
    "- 该算式的逆波兰表达式写法为`( ( 1 2 + ) ( 3 4 + ) * )`。\n",
    "\n",
    "逆波兰表达式主要有以下两个优点：\n",
    "\n",
    "- 去掉括号后表达式无歧义，上式即便写成`1 2 + 3 4 + *`也可以依据次序计算出正确结果。\n",
    "- 适合用栈操作运算：遇到数字则入栈；遇到算符则取出栈顶两个数字进行计算，并将结果压入栈中。"
   ]
  },
  {
   "cell_type": "code",
   "execution_count": 2,
   "id": "phantom-blair",
   "metadata": {},
   "outputs": [],
   "source": [
    "from typing import List\n",
    "import operator\n",
    "\n",
    "operators = {'+': operator.add, '-': operator.sub, '*': operator.mul, '/': operator.truediv}\n",
    "def evaluate(ast):\n",
    "    node = ast.pop()\n",
    "    if node in operators:\n",
    "        right = evaluate(ast)\n",
    "        left = evaluate(ast)\n",
    "        if node == '/':\n",
    "            return int(operators[node](left, right))\n",
    "        else:\n",
    "            return operators[node](left, right)\n",
    "    elif node.isdigit() or node[0] == '-' and node[1:].isdigit():\n",
    "        return int(node)\n",
    "    else:\n",
    "        SytaxError(\"unkonwn \" + node)\n",
    "\n",
    "def evalRPN(tokens: List[str]) -> int:\n",
    "    return evaluate(tokens)"
   ]
  },
  {
   "cell_type": "code",
   "execution_count": 3,
   "id": "martial-gateway",
   "metadata": {},
   "outputs": [
    {
     "data": {
      "text/plain": [
       "9"
      ]
     },
     "execution_count": 3,
     "metadata": {},
     "output_type": "execute_result"
    }
   ],
   "source": [
    "evalRPN([\"2\", \"1\", \"+\", \"3\", \"*\"])"
   ]
  },
  {
   "cell_type": "code",
   "execution_count": 4,
   "id": "thousand-power",
   "metadata": {},
   "outputs": [
    {
     "data": {
      "text/plain": [
       "6"
      ]
     },
     "execution_count": 4,
     "metadata": {},
     "output_type": "execute_result"
    }
   ],
   "source": [
    "evalRPN([\"4\", \"13\", \"5\", \"/\", \"+\"])"
   ]
  },
  {
   "cell_type": "code",
   "execution_count": 5,
   "id": "photographic-disease",
   "metadata": {},
   "outputs": [
    {
     "data": {
      "text/plain": [
       "22"
      ]
     },
     "execution_count": 5,
     "metadata": {},
     "output_type": "execute_result"
    }
   ],
   "source": [
    "evalRPN([\"10\", \"6\", \"9\", \"3\", \"+\", \"-11\", \"*\", \"/\", \"*\", \"17\", \"+\", \"5\", \"+\"])"
   ]
  },
  {
   "cell_type": "code",
   "execution_count": 6,
   "id": "computational-organ",
   "metadata": {},
   "outputs": [
    {
     "data": {
      "text/plain": [
       "3"
      ]
     },
     "execution_count": 6,
     "metadata": {},
     "output_type": "execute_result"
    }
   ],
   "source": [
    "evalRPN([\"2\", \"1\", \"-\", \"3\", \"*\"])"
   ]
  },
  {
   "cell_type": "code",
   "execution_count": 7,
   "id": "structured-expert",
   "metadata": {},
   "outputs": [
    {
     "data": {
      "text/plain": [
       "20"
      ]
     },
     "execution_count": 7,
     "metadata": {},
     "output_type": "execute_result"
    }
   ],
   "source": [
    "evalRPN([\"9\", \"3\", \"1\", \"-\", \"3\", \"*\", \"+\", \"10\", \"2\", \"/\", \"+\"])"
   ]
  },
  {
   "cell_type": "code",
   "execution_count": 11,
   "id": "moral-longer",
   "metadata": {},
   "outputs": [
    {
     "data": {
      "text/plain": [
       "3"
      ]
     },
     "execution_count": 11,
     "metadata": {},
     "output_type": "execute_result"
    }
   ],
   "source": [
    "evalRPN(['2', '1', '-', '2', '+'])"
   ]
  },
  {
   "cell_type": "code",
   "execution_count": 12,
   "id": "european-boston",
   "metadata": {},
   "outputs": [
    {
     "data": {
      "text/plain": [
       "3"
      ]
     },
     "execution_count": 12,
     "metadata": {},
     "output_type": "execute_result"
    }
   ],
   "source": [
    "evalRPN(['5', '3', '1', '-', '-'])"
   ]
  },
  {
   "cell_type": "code",
   "execution_count": 13,
   "id": "abstract-sending",
   "metadata": {},
   "outputs": [
    {
     "data": {
      "text/plain": [
       "7"
      ]
     },
     "execution_count": 13,
     "metadata": {},
     "output_type": "execute_result"
    }
   ],
   "source": [
    "evalRPN(['1', '4', '5', '+', '2', '+', '-', '3', '+', '6', '8', '+', '+'])"
   ]
  },
  {
   "cell_type": "code",
   "execution_count": 14,
   "id": "broadband-dairy",
   "metadata": {},
   "outputs": [
    {
     "data": {
      "text/plain": [
       "23"
      ]
     },
     "execution_count": 14,
     "metadata": {},
     "output_type": "execute_result"
    }
   ],
   "source": [
    "evalRPN(['1', '4', '5', '+', '2', '+', '+', '3', '-', '6', '8', '+', '+'])"
   ]
  },
  {
   "cell_type": "code",
   "execution_count": null,
   "id": "capable-refrigerator",
   "metadata": {},
   "outputs": [],
   "source": []
  }
 ],
 "metadata": {
  "kernelspec": {
   "display_name": "Python 3",
   "language": "python",
   "name": "python3"
  },
  "language_info": {
   "codemirror_mode": {
    "name": "ipython",
    "version": 3
   },
   "file_extension": ".py",
   "mimetype": "text/x-python",
   "name": "python",
   "nbconvert_exporter": "python",
   "pygments_lexer": "ipython3",
   "version": "3.8.6"
  }
 },
 "nbformat": 4,
 "nbformat_minor": 5
}
