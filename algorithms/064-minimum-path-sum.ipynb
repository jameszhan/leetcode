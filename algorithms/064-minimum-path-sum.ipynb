{
 "cells": [
  {
   "cell_type": "markdown",
   "id": "monthly-frederick",
   "metadata": {},
   "source": [
    "### [最小路径和](https://leetcode-cn.com/problems/minimum-path-sum/)\n",
    "\n",
    "给定一个包含非负整数的`m x n`网格`grid`，请找出一条从左上角到右下角的路径，使得路径上的数字总和为最小。\n",
    "\n",
    "说明：每次只能向下或者向右移动一步。\n",
    "\n",
    "#### 示例 1：\n",
    "```\n",
    "输入：grid = [[1,3,1],[1,5,1],[4,2,1]]\n",
    "输出：7\n",
    "解释：因为路径 1→3→1→1→1 的总和最小。\n",
    "```\n",
    "\n",
    "#### 示例 2：\n",
    "```\n",
    "输入：grid = [[1,2,3],[4,5,6]]\n",
    "输出：12\n",
    "```\n",
    "\n",
    "#### 提示：\n",
    "- `m == grid.length`\n",
    "- `n == grid[i].length`\n",
    "- `1 <= m, n <= 200`\n",
    "- `0 <= grid[i][j] <= 100`"
   ]
  },
  {
   "cell_type": "code",
   "execution_count": 4,
   "id": "conservative-visitor",
   "metadata": {},
   "outputs": [],
   "source": [
    "from typing import List\n",
    "\n",
    "def minPathSum(grid: List[List[int]]) -> int:\n",
    "    if not (grid and grid[0]):\n",
    "        return 0\n",
    "    \n",
    "    m, n = len(grid), len(grid[0])\n",
    "    dp = [[0 for _ in range(n)] for _ in range(m)]\n",
    "    for i in range(m):\n",
    "        for j in range(n):\n",
    "            if i == 0 and j == 0:\n",
    "                dp[i][j] = grid[i][j]\n",
    "            elif i == 0:\n",
    "                dp[i][j] = grid[i][j] + dp[i][j - 1]\n",
    "            elif j == 0:\n",
    "                dp[i][j] = grid[i][j] + dp[i - 1][j]\n",
    "            else:\n",
    "                dp[i][j] = min(dp[i - 1][j], dp[i][j - 1]) + grid[i][j]\n",
    "                \n",
    "    return dp[m - 1][n - 1] "
   ]
  },
  {
   "cell_type": "code",
   "execution_count": 5,
   "id": "departmental-security",
   "metadata": {},
   "outputs": [
    {
     "data": {
      "text/plain": [
       "7"
      ]
     },
     "execution_count": 5,
     "metadata": {},
     "output_type": "execute_result"
    }
   ],
   "source": [
    "minPathSum([[1,3,1],[1,5,1],[4,2,1]])"
   ]
  },
  {
   "cell_type": "code",
   "execution_count": 6,
   "id": "convinced-study",
   "metadata": {},
   "outputs": [
    {
     "data": {
      "text/plain": [
       "12"
      ]
     },
     "execution_count": 6,
     "metadata": {},
     "output_type": "execute_result"
    }
   ],
   "source": [
    "minPathSum([[1,2,3],[4,5,6]])"
   ]
  },
  {
   "cell_type": "code",
   "execution_count": 7,
   "id": "alien-danger",
   "metadata": {},
   "outputs": [
    {
     "data": {
      "text/plain": [
       "12"
      ]
     },
     "execution_count": 7,
     "metadata": {},
     "output_type": "execute_result"
    }
   ],
   "source": [
    "minPathSum([[1,3,5,9],[8,1,3,4],[5,0,6,1],[8,8,4,0]])"
   ]
  }
 ],
 "metadata": {
  "kernelspec": {
   "display_name": "Python 3",
   "language": "python",
   "name": "python3"
  },
  "language_info": {
   "codemirror_mode": {
    "name": "ipython",
    "version": 3
   },
   "file_extension": ".py",
   "mimetype": "text/x-python",
   "name": "python",
   "nbconvert_exporter": "python",
   "pygments_lexer": "ipython3",
   "version": "3.8.6"
  }
 },
 "nbformat": 4,
 "nbformat_minor": 5
}
