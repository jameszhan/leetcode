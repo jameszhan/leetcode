{
 "cells": [
  {
   "cell_type": "markdown",
   "id": "strong-pharmacy",
   "metadata": {},
   "source": [
    "### [矩阵置零](https://leetcode-cn.com/problems/set-matrix-zeroes/)\n",
    "\n",
    "给定一个 m x n 的矩阵，如果一个元素为 0，则将其所在行和列的所有元素都设为 0。请使用原地算法。\n",
    "\n",
    "#### 示例 1:\n",
    "```\n",
    "输入: \n",
    "[\n",
    "  [1,1,1],\n",
    "  [1,0,1],\n",
    "  [1,1,1]\n",
    "]\n",
    "输出: \n",
    "[\n",
    "  [1,0,1],\n",
    "  [0,0,0],\n",
    "  [1,0,1]\n",
    "]\n",
    "```\n",
    "\n",
    "#### 示例 2:\n",
    "```\n",
    "输入: \n",
    "[\n",
    "  [0,1,2,0],\n",
    "  [3,4,5,2],\n",
    "  [1,3,1,5]\n",
    "]\n",
    "输出: \n",
    "[\n",
    "  [0,0,0,0],\n",
    "  [0,4,5,0],\n",
    "  [0,3,1,0]\n",
    "]\n",
    "```\n",
    "\n",
    "#### 进阶:\n",
    "- 一个直接的解决方案是使用  O(mn) 的额外空间，但这并不是一个好的解决方案。\n",
    "- 一个简单的改进方案是使用 O(m + n) 的额外空间，但这仍然不是最好的解决方案。\n",
    "- 你能想出一个常数空间的解决方案吗？"
   ]
  },
  {
   "cell_type": "code",
   "execution_count": 4,
   "id": "pressing-whale",
   "metadata": {},
   "outputs": [],
   "source": [
    "from typing import List\n",
    "\n",
    "def setZeroes(matrix: List[List[int]]) -> None:\n",
    "    \"\"\"\n",
    "    Do not return anything, modify matrix in-place instead.\n",
    "    \"\"\"\n",
    "    m, n = len(matrix), len(matrix[0])\n",
    "    cols, rows = set(), set()\n",
    "    for i in range(m):\n",
    "        for j in range(n):\n",
    "            if matrix[i][j] == 0:\n",
    "                rows.add(i)\n",
    "                cols.add(j)\n",
    "                \n",
    "    for i in range(m):\n",
    "        for j in range(n):\n",
    "            if i in rows or j in cols:\n",
    "                matrix[i][j] = 0\n",
    "                \n",
    "    print(matrix)"
   ]
  },
  {
   "cell_type": "code",
   "execution_count": 5,
   "id": "proud-warner",
   "metadata": {},
   "outputs": [
    {
     "name": "stdout",
     "output_type": "stream",
     "text": [
      "[[1, 0, 1], [0, 0, 0], [1, 0, 1]]\n"
     ]
    }
   ],
   "source": [
    "setZeroes([\n",
    "  [1,1,1],\n",
    "  [1,0,1],\n",
    "  [1,1,1]\n",
    "])"
   ]
  },
  {
   "cell_type": "code",
   "execution_count": 6,
   "id": "comic-collar",
   "metadata": {},
   "outputs": [
    {
     "name": "stdout",
     "output_type": "stream",
     "text": [
      "[[0, 0, 0, 0], [0, 4, 5, 0], [0, 3, 1, 0]]\n"
     ]
    }
   ],
   "source": [
    "setZeroes([\n",
    "  [0,1,2,0],\n",
    "  [3,4,5,2],\n",
    "  [1,3,1,5]\n",
    "])"
   ]
  }
 ],
 "metadata": {
  "kernelspec": {
   "display_name": "Python 3",
   "language": "python",
   "name": "python3"
  },
  "language_info": {
   "codemirror_mode": {
    "name": "ipython",
    "version": 3
   },
   "file_extension": ".py",
   "mimetype": "text/x-python",
   "name": "python",
   "nbconvert_exporter": "python",
   "pygments_lexer": "ipython3",
   "version": "3.8.6"
  }
 },
 "nbformat": 4,
 "nbformat_minor": 5
}
