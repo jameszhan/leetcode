{
 "cells": [
  {
   "cell_type": "markdown",
   "id": "cognitive-recovery",
   "metadata": {},
   "source": [
    "### [K 个一组翻转链表](https://leetcode-cn.com/problems/reverse-nodes-in-k-group/)\n",
    "\n",
    "给你一个链表，每 k 个节点一组进行翻转，请你返回翻转后的链表。\n",
    "\n",
    "k 是一个正整数，它的值小于或等于链表的长度。\n",
    "\n",
    "如果节点总数不是 k 的整数倍，那么请将最后剩余的节点保持原有顺序。\n",
    "\n",
    "\n",
    "#### 示例：\n",
    "```\n",
    "给你这个链表：1->2->3->4->5\n",
    "\n",
    "当 k = 2 时，应当返回: 2->1->4->3->5\n",
    "\n",
    "当 k = 3 时，应当返回: 3->2->1->4->5\n",
    "```\n",
    "\n",
    "#### 说明：\n",
    "- 你的算法只能使用常数的额外空间。\n",
    "- 你不能只是单纯的改变节点内部的值，而是需要实际进行节点交换。"
   ]
  },
  {
   "cell_type": "code",
   "execution_count": 81,
   "id": "logical-breeding",
   "metadata": {},
   "outputs": [],
   "source": [
    "from typing import List\n",
    "\n",
    "class ListNode:\n",
    "    def __init__(self, val=0, next=None):\n",
    "        self.val = val\n",
    "        self.next = next\n",
    "        \n",
    "    @staticmethod\n",
    "    def fromList(nums: List[int]):\n",
    "        n, head = len(nums), ListNode(nums[0])\n",
    "        node = head\n",
    "        for i in range(1, n):\n",
    "            node.next = ListNode(nums[i])\n",
    "            node = node.next\n",
    "        return head\n",
    "    \n",
    "    def __str__(self):\n",
    "        s = str(self.val)\n",
    "        node, i = self.next, 0\n",
    "        while node:\n",
    "            s += \" -> %d\" % node.val\n",
    "            node = node.next\n",
    "            if i > 20:\n",
    "                s += ' -> ...'\n",
    "                break\n",
    "            i += 1\n",
    "        return s\n",
    "        \n",
    "class Solution:\n",
    "    def reverseKGroup(self, head: ListNode, k: int) -> ListNode:\n",
    "        groupStart, groupEnd = head, head\n",
    "        newhead, tail = None, None\n",
    "        while groupEnd:\n",
    "            i = 0\n",
    "            while i < k:\n",
    "                groupEnd = groupEnd.next\n",
    "                i += 1\n",
    "                if not groupEnd:\n",
    "                    break\n",
    "                    \n",
    "            # [groupStart, groupEnd)\n",
    "            if groupEnd or i == k:\n",
    "                groupPrev, groupCurr = None, groupStart\n",
    "                while groupCurr != groupEnd:\n",
    "                    tmp = groupCurr.next\n",
    "                    groupCurr.next = groupPrev\n",
    "                    groupPrev = groupCurr\n",
    "                    groupCurr = tmp\n",
    "\n",
    "                if not newhead:\n",
    "                    newhead = groupPrev\n",
    "                    \n",
    "                if tail:\n",
    "                    tail.next = groupPrev\n",
    "                \n",
    "                tail = groupStart\n",
    "                groupStart = groupEnd\n",
    "\n",
    "        tail.next = groupStart\n",
    "        return newhead"
   ]
  },
  {
   "cell_type": "code",
   "execution_count": 82,
   "id": "subsequent-samba",
   "metadata": {},
   "outputs": [],
   "source": [
    "S = Solution()"
   ]
  },
  {
   "cell_type": "code",
   "execution_count": 83,
   "id": "attractive-livestock",
   "metadata": {},
   "outputs": [
    {
     "name": "stdout",
     "output_type": "stream",
     "text": [
      "3 -> 2 -> 1 -> 6 -> 5 -> 4 -> 7 -> 8\n"
     ]
    }
   ],
   "source": [
    "head = ListNode.fromList([1, 2, 3, 4, 5, 6, 7, 8])\n",
    "print(S.reverseKGroup(head, 3))"
   ]
  },
  {
   "cell_type": "code",
   "execution_count": 84,
   "id": "hidden-healthcare",
   "metadata": {},
   "outputs": [
    {
     "name": "stdout",
     "output_type": "stream",
     "text": [
      "2 -> 1 -> 4 -> 3 -> 5\n"
     ]
    }
   ],
   "source": [
    "print(S.reverseKGroup(ListNode.fromList([1, 2, 3, 4, 5]), 2))"
   ]
  },
  {
   "cell_type": "code",
   "execution_count": 85,
   "id": "certain-trauma",
   "metadata": {},
   "outputs": [
    {
     "name": "stdout",
     "output_type": "stream",
     "text": [
      "3 -> 2 -> 1 -> 4 -> 5\n"
     ]
    }
   ],
   "source": [
    "print(S.reverseKGroup(ListNode.fromList([1, 2, 3, 4, 5]), 3))"
   ]
  },
  {
   "cell_type": "code",
   "execution_count": 86,
   "id": "suffering-soccer",
   "metadata": {},
   "outputs": [
    {
     "name": "stdout",
     "output_type": "stream",
     "text": [
      "3 -> 2 -> 1 -> 6 -> 5 -> 4\n"
     ]
    }
   ],
   "source": [
    "print(S.reverseKGroup(ListNode.fromList([1, 2, 3, 4, 5, 6]), 3))"
   ]
  },
  {
   "cell_type": "code",
   "execution_count": 87,
   "id": "nutritional-dealer",
   "metadata": {},
   "outputs": [
    {
     "name": "stdout",
     "output_type": "stream",
     "text": [
      "1\n"
     ]
    }
   ],
   "source": [
    "print(S.reverseKGroup(ListNode.fromList([1]), 1))"
   ]
  }
 ],
 "metadata": {
  "kernelspec": {
   "display_name": "Python 3",
   "language": "python",
   "name": "python3"
  },
  "language_info": {
   "codemirror_mode": {
    "name": "ipython",
    "version": 3
   },
   "file_extension": ".py",
   "mimetype": "text/x-python",
   "name": "python",
   "nbconvert_exporter": "python",
   "pygments_lexer": "ipython3",
   "version": "3.8.6"
  }
 },
 "nbformat": 4,
 "nbformat_minor": 5
}
