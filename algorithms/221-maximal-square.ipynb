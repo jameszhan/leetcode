{
 "cells": [
  {
   "cell_type": "markdown",
   "id": "utility-approach",
   "metadata": {},
   "source": [
    "### [最大正方形](https://leetcode-cn.com/problems/maximal-square/)\n",
    "\n",
    "在一个由`'0'`和`'1'`组成的二维矩阵内，找到只包含`'1'`的最大正方形，并返回其面积。\n",
    "\n",
    "#### 示例 1：\n",
    "```\n",
    "输入：matrix = [\n",
    "        [\"1\",\"0\",\"1\",\"0\",\"0\"],\n",
    "        [\"1\",\"0\",\"1\",\"1\",\"1\"],\n",
    "        [\"1\",\"1\",\"1\",\"1\",\"1\"],\n",
    "        [\"1\",\"0\",\"0\",\"1\",\"0\"]\n",
    "    ]\n",
    "输出：4\n",
    "```\n",
    "\n",
    "#### 示例 2：\n",
    "```\n",
    "输入：matrix = [\n",
    "        [\"0\",\"1\"],\n",
    "        [\"1\",\"0\"]\n",
    "    ]\n",
    "输出：1\n",
    "```\n",
    "\n",
    "#### 示例 3：\n",
    "```\n",
    "输入：matrix = [[\"0\"]]\n",
    "输出：0\n",
    "```\n",
    "\n",
    "#### 提示：\n",
    "\n",
    "- `m == matrix.length`\n",
    "- `n == matrix[i].length`\n",
    "- `1 <= m, n <= 300`\n",
    "- `matrix[i][j] 为 '0' 或 '1'`"
   ]
  },
  {
   "cell_type": "code",
   "execution_count": 12,
   "id": "black-initial",
   "metadata": {},
   "outputs": [],
   "source": [
    "from typing import List\n",
    "\n",
    "def maximalSquare(matrix: List[List[str]]) -> int:\n",
    "    if not (matrix and matrix[0]):\n",
    "        return 0\n",
    "    m, n = len(matrix), len(matrix[0])\n",
    "    \n",
    "    def countMaxSide(r, c):\n",
    "        maxSide = 1\n",
    "        maxK = min(m - r, n - c)\n",
    "        for k in range(1, maxK):\n",
    "            flag = True\n",
    "            if matrix[r + k][c + k] == '0':\n",
    "                break\n",
    "            for i in range(k):\n",
    "                if matrix[r + k][c + i] == '0' or matrix[r + i][c + k] == '0':\n",
    "                    flag = False\n",
    "                    break\n",
    "            \n",
    "            if flag:\n",
    "                maxSide = max(maxSide, k + 1)\n",
    "            else:\n",
    "                break\n",
    "        return maxSide\n",
    "                \n",
    "    ans = 0\n",
    "    for r in range(m):\n",
    "        for c in range(n):\n",
    "            if matrix[r][c] == '1':\n",
    "                side = countMaxSide(r, c)\n",
    "                ans = max(ans, side * side)\n",
    "    return ans"
   ]
  },
  {
   "cell_type": "code",
   "execution_count": 13,
   "id": "still-gravity",
   "metadata": {},
   "outputs": [
    {
     "data": {
      "text/plain": [
       "1"
      ]
     },
     "execution_count": 13,
     "metadata": {},
     "output_type": "execute_result"
    }
   ],
   "source": [
    "maximalSquare([[\"0\", \"1\"], [\"1\", \"0\"]])"
   ]
  },
  {
   "cell_type": "code",
   "execution_count": 14,
   "id": "micro-nancy",
   "metadata": {},
   "outputs": [
    {
     "data": {
      "text/plain": [
       "4"
      ]
     },
     "execution_count": 14,
     "metadata": {},
     "output_type": "execute_result"
    }
   ],
   "source": [
    "matrix = [\n",
    "    [\"1\",\"0\",\"1\",\"0\",\"0\"],\n",
    "    [\"1\",\"0\",\"1\",\"1\",\"1\"],\n",
    "    [\"1\",\"1\",\"1\",\"1\",\"1\"],\n",
    "    [\"1\",\"0\",\"0\",\"1\",\"0\"]\n",
    "]\n",
    "maximalSquare(matrix)"
   ]
  },
  {
   "cell_type": "code",
   "execution_count": 15,
   "id": "realistic-volunteer",
   "metadata": {},
   "outputs": [
    {
     "data": {
      "text/plain": [
       "4"
      ]
     },
     "execution_count": 15,
     "metadata": {},
     "output_type": "execute_result"
    }
   ],
   "source": [
    "maximalSquare([[\"1\",\"1\"],[\"1\",\"1\"]])"
   ]
  },
  {
   "cell_type": "code",
   "execution_count": null,
   "id": "challenging-reduction",
   "metadata": {},
   "outputs": [],
   "source": []
  }
 ],
 "metadata": {
  "kernelspec": {
   "display_name": "Python 3",
   "language": "python",
   "name": "python3"
  },
  "language_info": {
   "codemirror_mode": {
    "name": "ipython",
    "version": 3
   },
   "file_extension": ".py",
   "mimetype": "text/x-python",
   "name": "python",
   "nbconvert_exporter": "python",
   "pygments_lexer": "ipython3",
   "version": "3.8.6"
  }
 },
 "nbformat": 4,
 "nbformat_minor": 5
}
