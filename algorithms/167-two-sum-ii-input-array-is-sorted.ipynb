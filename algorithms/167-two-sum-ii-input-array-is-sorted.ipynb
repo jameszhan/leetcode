{
 "cells": [
  {
   "cell_type": "markdown",
   "id": "working-negotiation",
   "metadata": {},
   "source": [
    "### [两数之和 II - 输入有序数组](https://leetcode-cn.com/problems/two-sum-ii-input-array-is-sorted/)\n",
    "\n",
    "给定一个已按照 升序排列  的整数数组`numbers`，请你从数组中找出两个数满足相加之和等于目标数`target`。\n",
    "\n",
    "函数应该以长度为`2`的整数数组的形式返回这两个数的下标值。`numbers`的下标 从`1`开始计数 ，所以答案数组应当满足`1 <= answer[0] < answer[1] <= numbers.length`。\n",
    "\n",
    "你可以假设每个输入只对应唯一的答案，而且你不可以重复使用相同的元素。\n",
    "\n",
    "#### 示例 1：\n",
    "```\n",
    "输入：numbers = [2,7,11,15], target = 9\n",
    "输出：[1,2]\n",
    "解释：2 与 7 之和等于目标数 9 。因此 index1 = 1, index2 = 2 。\n",
    "```\n",
    "\n",
    "#### 示例 2：\n",
    "```\n",
    "输入：numbers = [2,3,4], target = 6\n",
    "输出：[1,3]\n",
    "```\n",
    "\n",
    "#### 示例 3：\n",
    "```\n",
    "输入：numbers = [-1,0], target = -1\n",
    "输出：[1,2]\n",
    "```\n",
    "\n",
    "提示：\n",
    "- $ 2 <= numbers.length <= 3 * 10^4 $\n",
    "- -1000 <= numbers[i] <= 1000\n",
    "- numbers 按 递增顺序 排列\n",
    "- -1000 <= target <= 1000\n",
    "- 仅存在一个有效答案"
   ]
  },
  {
   "cell_type": "code",
   "execution_count": 5,
   "id": "regional-essex",
   "metadata": {},
   "outputs": [],
   "source": [
    "from typing import List\n",
    "\n",
    "def twoSum(numbers: List[int], target: int) -> List[int]:\n",
    "    d = {}\n",
    "    for i, n in enumerate(numbers):\n",
    "        d[target - n] = i\n",
    "    \n",
    "    for i, n in enumerate(numbers):\n",
    "        if n in d and d[n] != i:\n",
    "            return [i + 1, d[n] + 1]\n",
    "    return []"
   ]
  },
  {
   "cell_type": "code",
   "execution_count": 6,
   "id": "southeast-patch",
   "metadata": {},
   "outputs": [
    {
     "data": {
      "text/plain": [
       "[1, 2]"
      ]
     },
     "execution_count": 6,
     "metadata": {},
     "output_type": "execute_result"
    }
   ],
   "source": [
    "numbers = [2,7,11,15]\n",
    "target = 9\n",
    "twoSum(numbers, target)"
   ]
  },
  {
   "cell_type": "code",
   "execution_count": 7,
   "id": "resistant-vegetarian",
   "metadata": {},
   "outputs": [
    {
     "data": {
      "text/plain": [
       "[1, 3]"
      ]
     },
     "execution_count": 7,
     "metadata": {},
     "output_type": "execute_result"
    }
   ],
   "source": [
    "numbers = [2,3,4]\n",
    "target = 6\n",
    "twoSum(numbers, target)"
   ]
  },
  {
   "cell_type": "code",
   "execution_count": 8,
   "id": "soviet-plane",
   "metadata": {},
   "outputs": [
    {
     "data": {
      "text/plain": [
       "[1, 2]"
      ]
     },
     "execution_count": 8,
     "metadata": {},
     "output_type": "execute_result"
    }
   ],
   "source": [
    "numbers = [-1,0]\n",
    "target = -1\n",
    "twoSum(numbers, target)"
   ]
  }
 ],
 "metadata": {
  "kernelspec": {
   "display_name": "Python 3",
   "language": "python",
   "name": "python3"
  },
  "language_info": {
   "codemirror_mode": {
    "name": "ipython",
    "version": 3
   },
   "file_extension": ".py",
   "mimetype": "text/x-python",
   "name": "python",
   "nbconvert_exporter": "python",
   "pygments_lexer": "ipython3",
   "version": "3.8.6"
  }
 },
 "nbformat": 4,
 "nbformat_minor": 5
}
