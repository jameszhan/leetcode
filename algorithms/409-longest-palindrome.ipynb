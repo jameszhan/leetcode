{
 "cells": [
  {
   "cell_type": "markdown",
   "id": "seventh-event",
   "metadata": {},
   "source": [
    "### [最长回文串](https://leetcode-cn.com/problems/longest-palindrome/)\n",
    "\n",
    "在构造过程中，请注意区分大小写。比如 \"Aa\" 不能当做一个回文字符串。\n",
    "\n",
    "注意: 假设字符串的长度不会超过 1010。\n",
    "\n",
    "#### 示例 1:\n",
    "\n",
    "```\n",
    "输入: \"abccccdd\"\n",
    "输出: 7\n",
    "解释: 我们可以构造的最长的回文串是\"dccaccd\", 它的长度是 7。\n",
    "```"
   ]
  },
  {
   "cell_type": "code",
   "execution_count": 24,
   "id": "unlikely-webmaster",
   "metadata": {},
   "outputs": [],
   "source": [
    "def longestPalindrome(s: str) -> int:\n",
    "    if not s:\n",
    "        return 0\n",
    "    \n",
    "    d = {}\n",
    "    for c in s:\n",
    "        if c in d:\n",
    "            d[c] += 1\n",
    "        else:\n",
    "            d[c] = 1\n",
    "    \n",
    "    \n",
    "    ans, haveOdd = 0, False\n",
    "    for c, v in d.items():\n",
    "        if v % 2 == 0:\n",
    "            ans += v\n",
    "        else:\n",
    "            ans += v - 1\n",
    "            haveOdd = True\n",
    "            \n",
    "    return ans + 1 if haveOdd else ans"
   ]
  },
  {
   "cell_type": "code",
   "execution_count": 22,
   "id": "advisory-paris",
   "metadata": {},
   "outputs": [
    {
     "data": {
      "text/plain": [
       "7"
      ]
     },
     "execution_count": 22,
     "metadata": {},
     "output_type": "execute_result"
    }
   ],
   "source": [
    "longestPalindrome(\"abccccdd\")"
   ]
  },
  {
   "cell_type": "code",
   "execution_count": 17,
   "id": "structured-reproduction",
   "metadata": {},
   "outputs": [],
   "source": [
    "import collections\n",
    "\n",
    "def longestPalindrome(s: str) -> int:\n",
    "    ans = 0\n",
    "    for c in collections.Counter(s).values():\n",
    "        ans += (c - (c & 1))\n",
    "    return min(ans + 1, len(s))"
   ]
  },
  {
   "cell_type": "code",
   "execution_count": 25,
   "id": "disciplinary-chile",
   "metadata": {},
   "outputs": [
    {
     "data": {
      "text/plain": [
       "983"
      ]
     },
     "execution_count": 25,
     "metadata": {},
     "output_type": "execute_result"
    }
   ],
   "source": [
    "# 期望结果 983\n",
    "longestPalindrome(\"civilwartestingwhetherthatnaptionoranynartionsoconceivedandsodedicatedcanlongendureWeareqmetonagreatbattlefiemldoftzhatwarWehavecometodedicpateaportionofthatfieldasafinalrestingplaceforthosewhoheregavetheirlivesthatthatnationmightliveItisaltogetherfangandproperthatweshoulddothisButinalargersensewecannotdedicatewecannotconsecratewecannothallowthisgroundThebravelmenlivinganddeadwhostruggledherehaveconsecrateditfaraboveourpoorponwertoaddordetractTgheworldadswfilllittlenotlenorlongrememberwhatwesayherebutitcanneverforgetwhattheydidhereItisforusthelivingrathertobededicatedheretotheulnfinishedworkwhichtheywhofoughtherehavethusfarsonoblyadvancedItisratherforustobeherededicatedtothegreattdafskremainingbeforeusthatfromthesehonoreddeadwetakeincreaseddevotiontothatcauseforwhichtheygavethelastpfullmeasureofdevotionthatweherehighlyresolvethatthesedeadshallnothavediedinvainthatthisnationunsderGodshallhaveanewbirthoffreedomandthatgovernmentofthepeoplebythepeopleforthepeopleshallnotperishfromtheearth\")"
   ]
  }
 ],
 "metadata": {
  "kernelspec": {
   "display_name": "Python 3",
   "language": "python",
   "name": "python3"
  },
  "language_info": {
   "codemirror_mode": {
    "name": "ipython",
    "version": 3
   },
   "file_extension": ".py",
   "mimetype": "text/x-python",
   "name": "python",
   "nbconvert_exporter": "python",
   "pygments_lexer": "ipython3",
   "version": "3.8.6"
  }
 },
 "nbformat": 4,
 "nbformat_minor": 5
}
