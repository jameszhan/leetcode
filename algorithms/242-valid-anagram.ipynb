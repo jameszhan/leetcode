{
 "cells": [
  {
   "cell_type": "markdown",
   "id": "aggregate-jordan",
   "metadata": {},
   "source": [
    "### [有效的字母异位词](https://leetcode-cn.com/problems/valid-anagram/)\n",
    "\n",
    "给定两个字符串`s`和`t`，编写一个函数来判断`t`是否是`s`的字母异位词。\n",
    "\n",
    "#### 示例 1:\n",
    "```\n",
    "输入: s = \"anagram\", t = \"nagaram\"\n",
    "输出: true\n",
    "```\n",
    "\n",
    "#### 示例 2:\n",
    "```\n",
    "输入: s = \"rat\", t = \"car\"\n",
    "输出: false\n",
    "说明:\n",
    "你可以假设字符串只包含小写字母。\n",
    "```\n",
    "\n",
    "#### 进阶:\n",
    "- 如果输入字符串包含 unicode 字符怎么办？你能否调整你的解法来应对这种情况？"
   ]
  },
  {
   "cell_type": "code",
   "execution_count": 5,
   "id": "exclusive-investment",
   "metadata": {},
   "outputs": [],
   "source": [
    "def isAnagram(s: str, t: str) -> bool:\n",
    "    ss = sorted(s)\n",
    "    tt = sorted(t)\n",
    "    return ss == tt"
   ]
  },
  {
   "cell_type": "code",
   "execution_count": 6,
   "id": "stuffed-importance",
   "metadata": {},
   "outputs": [
    {
     "data": {
      "text/plain": [
       "True"
      ]
     },
     "execution_count": 6,
     "metadata": {},
     "output_type": "execute_result"
    }
   ],
   "source": [
    "isAnagram(\"anagram\", \"nagaram\")"
   ]
  },
  {
   "cell_type": "code",
   "execution_count": 7,
   "id": "manufactured-reader",
   "metadata": {},
   "outputs": [
    {
     "data": {
      "text/plain": [
       "False"
      ]
     },
     "execution_count": 7,
     "metadata": {},
     "output_type": "execute_result"
    }
   ],
   "source": [
    "isAnagram(\"rat\", \"car\")"
   ]
  },
  {
   "cell_type": "code",
   "execution_count": null,
   "id": "outstanding-recognition",
   "metadata": {},
   "outputs": [],
   "source": []
  }
 ],
 "metadata": {
  "kernelspec": {
   "display_name": "Python 3",
   "language": "python",
   "name": "python3"
  },
  "language_info": {
   "codemirror_mode": {
    "name": "ipython",
    "version": 3
   },
   "file_extension": ".py",
   "mimetype": "text/x-python",
   "name": "python",
   "nbconvert_exporter": "python",
   "pygments_lexer": "ipython3",
   "version": "3.8.6"
  }
 },
 "nbformat": 4,
 "nbformat_minor": 5
}
