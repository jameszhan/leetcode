{
 "cells": [
  {
   "cell_type": "markdown",
   "id": "progressive-borough",
   "metadata": {},
   "source": [
    "### [找到所有数组中消失的数字](https://leetcode-cn.com/problems/find-all-numbers-disappeared-in-an-array/)\n",
    "\n",
    "给定一个范围在`1 ≤ a[i] ≤ n` ( n = 数组大小 ) 的 整型数组，数组中的元素一些出现了两次，另一些只出现一次。\n",
    "\n",
    "找到所有在`[1, n]`范围之间没有出现在数组中的数字。\n",
    "\n",
    "您能在不使用额外空间且时间复杂度为`O(n)`的情况下完成这个任务吗? 你可以假定返回的数组不算在额外空间内。\n",
    "\n",
    "#### 示例:\n",
    "```\n",
    "输入:[4,3,2,7,8,2,3,1]\n",
    "输出: [5,6]\n",
    "```"
   ]
  },
  {
   "cell_type": "code",
   "execution_count": 1,
   "id": "wanted-poker",
   "metadata": {},
   "outputs": [],
   "source": [
    "from typing import List\n",
    "\n",
    "def findDisappearedNumbers(nums: List[int]) -> List[int]:\n",
    "    for i, n in enumerate(nums):\n",
    "        if nums[abs(n) - 1] > 0:\n",
    "            nums[abs(n) - 1] *= -1\n",
    "    ans = []\n",
    "    for i, n in enumerate(nums):\n",
    "        if n > 0:\n",
    "            ans.append(i + 1)\n",
    "    return ans"
   ]
  },
  {
   "cell_type": "code",
   "execution_count": 2,
   "id": "plastic-parent",
   "metadata": {},
   "outputs": [
    {
     "data": {
      "text/plain": [
       "[5, 6]"
      ]
     },
     "execution_count": 2,
     "metadata": {},
     "output_type": "execute_result"
    }
   ],
   "source": [
    "findDisappearedNumbers([4,3,2,7,8,2,3,1])"
   ]
  }
 ],
 "metadata": {
  "kernelspec": {
   "display_name": "Python 3",
   "language": "python",
   "name": "python3"
  },
  "language_info": {
   "codemirror_mode": {
    "name": "ipython",
    "version": 3
   },
   "file_extension": ".py",
   "mimetype": "text/x-python",
   "name": "python",
   "nbconvert_exporter": "python",
   "pygments_lexer": "ipython3",
   "version": "3.8.6"
  }
 },
 "nbformat": 4,
 "nbformat_minor": 5
}
