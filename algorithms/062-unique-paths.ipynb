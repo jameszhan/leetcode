{
 "cells": [
  {
   "cell_type": "markdown",
   "id": "handled-trinity",
   "metadata": {},
   "source": [
    "### [不同路径](https://leetcode-cn.com/problems/unique-paths/)\n",
    "\n",
    "一个机器人位于一个`m x n`网格的左上角 （起始点在下图中标记为 “Start” ）。\n",
    "\n",
    "机器人每次只能向下或者向右移动一步。机器人试图达到网格的右下角（在下图中标记为 “Finish” ）。\n",
    "\n",
    "问总共有多少条不同的路径？\n",
    "\n",
    "#### 示例 1：\n",
    "```\n",
    "输入：m = 3, n = 7\n",
    "输出：28\n",
    "```\n",
    "\n",
    "#### 示例 2：\n",
    "```\n",
    "输入：m = 3, n = 2\n",
    "输出：3\n",
    "解释：\n",
    "从左上角开始，总共有 3 条路径可以到达右下角。\n",
    "1. 向右 -> 向下 -> 向下\n",
    "2. 向下 -> 向下 -> 向右\n",
    "3. 向下 -> 向右 -> 向下\n",
    "```\n",
    "\n",
    "#### 示例 3：\n",
    "```\n",
    "输入：m = 7, n = 3\n",
    "输出：28\n",
    "```\n",
    "\n",
    "#### 示例 4：\n",
    "```\n",
    "输入：m = 3, n = 3\n",
    "输出：6\n",
    "```\n",
    "\n",
    "#### 提示：\n",
    "- `1 <= m, n <= 100`\n",
    "- 题目数据保证答案小于等于 $ 2 * 10^9 $"
   ]
  },
  {
   "cell_type": "code",
   "execution_count": 2,
   "id": "exciting-arctic",
   "metadata": {},
   "outputs": [],
   "source": [
    "def uniquePaths(m: int, n: int) -> int:\n",
    "    cache = {}\n",
    "    \n",
    "    def solve(i, j):\n",
    "        if i <= 1 or j <= 1:\n",
    "            return 1\n",
    "        \n",
    "        if (i, j - 1) not in cache:\n",
    "            cache[(i, j - 1)] = solve(i, j - 1)\n",
    "        if (i - 1, j) not in cache:\n",
    "            cache[(i - 1, j)] = solve(i - 1, j)\n",
    "        return cache[(i, j - 1)] + cache[(i - 1, j)]\n",
    "\n",
    "    return solve(m, n)"
   ]
  },
  {
   "cell_type": "code",
   "execution_count": 3,
   "id": "august-translator",
   "metadata": {},
   "outputs": [
    {
     "data": {
      "text/plain": [
       "28"
      ]
     },
     "execution_count": 3,
     "metadata": {},
     "output_type": "execute_result"
    }
   ],
   "source": [
    "uniquePaths(3, 7)"
   ]
  },
  {
   "cell_type": "code",
   "execution_count": 4,
   "id": "second-plaza",
   "metadata": {},
   "outputs": [
    {
     "data": {
      "text/plain": [
       "193536720"
      ]
     },
     "execution_count": 4,
     "metadata": {},
     "output_type": "execute_result"
    }
   ],
   "source": [
    "uniquePaths(23, 12)"
   ]
  },
  {
   "cell_type": "code",
   "execution_count": 5,
   "id": "valid-helmet",
   "metadata": {},
   "outputs": [
    {
     "data": {
      "text/plain": [
       "28"
      ]
     },
     "execution_count": 5,
     "metadata": {},
     "output_type": "execute_result"
    }
   ],
   "source": [
    "uniquePaths(7, 3)"
   ]
  },
  {
   "cell_type": "code",
   "execution_count": 6,
   "id": "compressed-equivalent",
   "metadata": {},
   "outputs": [
    {
     "data": {
      "text/plain": [
       "6"
      ]
     },
     "execution_count": 6,
     "metadata": {},
     "output_type": "execute_result"
    }
   ],
   "source": [
    "uniquePaths(3, 3)"
   ]
  }
 ],
 "metadata": {
  "kernelspec": {
   "display_name": "Python 3",
   "language": "python",
   "name": "python3"
  },
  "language_info": {
   "codemirror_mode": {
    "name": "ipython",
    "version": 3
   },
   "file_extension": ".py",
   "mimetype": "text/x-python",
   "name": "python",
   "nbconvert_exporter": "python",
   "pygments_lexer": "ipython3",
   "version": "3.8.6"
  }
 },
 "nbformat": 4,
 "nbformat_minor": 5
}
