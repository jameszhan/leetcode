{
 "cells": [
  {
   "cell_type": "code",
   "execution_count": 16,
   "id": "demonstrated-people",
   "metadata": {},
   "outputs": [],
   "source": [
    "def uniquePaths(m: int, n: int) -> int:\n",
    "    cache = {}\n",
    "    \n",
    "    def solve(i, j):\n",
    "        if i <= 1 or j <= 1:\n",
    "            return 1\n",
    "        \n",
    "        if (i, j - 1) not in cache:\n",
    "            cache[(i, j - 1)] = solve(i, j - 1)\n",
    "        if (i - 1, j) not in cache:\n",
    "            cache[(i - 1, j)] = solve(i - 1, j)\n",
    "        return cache[(i, j - 1)] + cache[(i - 1, j)]\n",
    "\n",
    "    return solve(m, n)"
   ]
  },
  {
   "cell_type": "code",
   "execution_count": null,
   "id": "aggregate-string",
   "metadata": {},
   "outputs": [],
   "source": []
  },
  {
   "cell_type": "code",
   "execution_count": 14,
   "id": "racial-anchor",
   "metadata": {},
   "outputs": [
    {
     "data": {
      "text/plain": [
       "28"
      ]
     },
     "execution_count": 14,
     "metadata": {},
     "output_type": "execute_result"
    }
   ],
   "source": [
    "uniquePaths(3, 7)"
   ]
  },
  {
   "cell_type": "code",
   "execution_count": 15,
   "id": "engaging-investigator",
   "metadata": {},
   "outputs": [
    {
     "data": {
      "text/plain": [
       "193536720"
      ]
     },
     "execution_count": 15,
     "metadata": {},
     "output_type": "execute_result"
    }
   ],
   "source": [
    "uniquePaths(23, 12)"
   ]
  },
  {
   "cell_type": "code",
   "execution_count": null,
   "id": "disabled-robin",
   "metadata": {},
   "outputs": [],
   "source": []
  },
  {
   "cell_type": "markdown",
   "id": "falling-evidence",
   "metadata": {},
   "source": [
    "https://www.nowcoder.com/practice/166eaff8439d4cd898e3ba933fbc6358?tpId=117&tqId=37736&companyId=239&rp=1&ru=%2Fcompany%2Fhome%2Fcode%2F239&qru=%2Fta%2Fjob-code-high%2Fquestion-ranking&tab=answerKey"
   ]
  },
  {
   "cell_type": "code",
   "execution_count": null,
   "id": "vocational-statement",
   "metadata": {},
   "outputs": [],
   "source": []
  }
 ],
 "metadata": {
  "kernelspec": {
   "display_name": "Python 3",
   "language": "python",
   "name": "python3"
  },
  "language_info": {
   "codemirror_mode": {
    "name": "ipython",
    "version": 3
   },
   "file_extension": ".py",
   "mimetype": "text/x-python",
   "name": "python",
   "nbconvert_exporter": "python",
   "pygments_lexer": "ipython3",
   "version": "3.8.6"
  }
 },
 "nbformat": 4,
 "nbformat_minor": 5
}
