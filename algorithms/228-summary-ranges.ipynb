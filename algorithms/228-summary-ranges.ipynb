{
 "cells": [
  {
   "cell_type": "markdown",
   "id": "suffering-nicholas",
   "metadata": {},
   "source": [
    "### [汇总区间](https://leetcode-cn.com/problems/summary-ranges/)\n",
    "\n",
    "给定一个无重复元素的有序整数数组`nums`。\n",
    "\n",
    "返回 恰好覆盖数组中所有数字 的 最小有序 区间范围列表。也就是说，`nums`的每个元素都恰好被某个区间范围所覆盖，并且不存在属于某个范围但不属于`nums`的数字`x`。\n",
    "\n",
    "列表中的每个区间范围`[a,b]`应该按如下格式输出：\n",
    "\n",
    "- \"a->b\" ，如果 a != b\n",
    "- \"a\" ，如果 a == b\n",
    " \n",
    "\n",
    "#### 示例 1：\n",
    "```\n",
    "输入：nums = [0,1,2,4,5,7]\n",
    "输出：[\"0->2\",\"4->5\",\"7\"]\n",
    "解释：区间范围是：\n",
    "[0,2] --> \"0->2\"\n",
    "[4,5] --> \"4->5\"\n",
    "[7,7] --> \"7\"\n",
    "```\n",
    "\n",
    "#### 示例 2：\n",
    "```\n",
    "输入：nums = [0,2,3,4,6,8,9]\n",
    "输出：[\"0\",\"2->4\",\"6\",\"8->9\"]\n",
    "解释：区间范围是：\n",
    "[0,0] --> \"0\"\n",
    "[2,4] --> \"2->4\"\n",
    "[6,6] --> \"6\"\n",
    "[8,9] --> \"8->9\"\n",
    "```\n",
    "\n",
    "#### 示例 3：\n",
    "```\n",
    "输入：nums = []\n",
    "输出：[]\n",
    "```\n",
    "\n",
    "#### 示例 4：\n",
    "```\n",
    "输入：nums = [-1]\n",
    "输出：[\"-1\"]\n",
    "```\n",
    "\n",
    "#### 示例 5：\n",
    "```\n",
    "输入：nums = [0]\n",
    "输出：[\"0\"]\n",
    "```\n",
    "\n",
    "#### 提示：\n",
    "- 0 <= nums.length <= 20\n",
    "- $ -2^{31} <= nums[i] <= 2^{31} - 1 $\n",
    "- nums 中的所有值都 互不相同\n",
    "- nums 按升序排列"
   ]
  },
  {
   "cell_type": "code",
   "execution_count": 26,
   "id": "protected-facing",
   "metadata": {},
   "outputs": [],
   "source": [
    "from typing import List\n",
    "\n",
    "def summaryRanges(nums: List[int]) -> List[str]:\n",
    "    if not nums:\n",
    "        return []\n",
    "    \n",
    "    ans, start, end = [], nums[0], nums[0]\n",
    "    for i in range(1, len(nums)):\n",
    "        n = nums[i]\n",
    "        if end + 1 == n:\n",
    "            end = n\n",
    "        else:\n",
    "            ans.append((start, end))\n",
    "            start, end = n, n\n",
    "            \n",
    "    ans.append((start, end))\n",
    "    \n",
    "    return list(map(lambda a: str(a[0]) if a[0] == a[1] else '{0}->{1}'.format(a[0], a[1]), ans))"
   ]
  },
  {
   "cell_type": "code",
   "execution_count": 27,
   "id": "incoming-vegetation",
   "metadata": {},
   "outputs": [
    {
     "data": {
      "text/plain": [
       "['0-2', '4-5', '7']"
      ]
     },
     "execution_count": 27,
     "metadata": {},
     "output_type": "execute_result"
    }
   ],
   "source": [
    "summaryRanges([0,1,2,4,5,7])"
   ]
  },
  {
   "cell_type": "code",
   "execution_count": 28,
   "id": "talented-wyoming",
   "metadata": {},
   "outputs": [
    {
     "data": {
      "text/plain": [
       "['0', '2-4', '6', '8-9']"
      ]
     },
     "execution_count": 28,
     "metadata": {},
     "output_type": "execute_result"
    }
   ],
   "source": [
    "summaryRanges([0,2,3,4,6,8,9])"
   ]
  },
  {
   "cell_type": "code",
   "execution_count": 29,
   "id": "beneficial-momentum",
   "metadata": {},
   "outputs": [
    {
     "data": {
      "text/plain": [
       "['-1']"
      ]
     },
     "execution_count": 29,
     "metadata": {},
     "output_type": "execute_result"
    }
   ],
   "source": [
    "summaryRanges([-1])"
   ]
  },
  {
   "cell_type": "code",
   "execution_count": 30,
   "id": "organizational-steps",
   "metadata": {},
   "outputs": [
    {
     "data": {
      "text/plain": [
       "['0']"
      ]
     },
     "execution_count": 30,
     "metadata": {},
     "output_type": "execute_result"
    }
   ],
   "source": [
    "summaryRanges([0])"
   ]
  }
 ],
 "metadata": {
  "kernelspec": {
   "display_name": "Python 3",
   "language": "python",
   "name": "python3"
  },
  "language_info": {
   "codemirror_mode": {
    "name": "ipython",
    "version": 3
   },
   "file_extension": ".py",
   "mimetype": "text/x-python",
   "name": "python",
   "nbconvert_exporter": "python",
   "pygments_lexer": "ipython3",
   "version": "3.8.6"
  }
 },
 "nbformat": 4,
 "nbformat_minor": 5
}
