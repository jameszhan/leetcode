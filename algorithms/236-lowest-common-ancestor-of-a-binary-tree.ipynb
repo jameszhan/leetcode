{
 "cells": [
  {
   "cell_type": "markdown",
   "id": "median-entertainment",
   "metadata": {},
   "source": [
    "### [二叉树的最近公共祖先](https://leetcode-cn.com/problems/lowest-common-ancestor-of-a-binary-tree/)\n",
    "\n",
    "给定一个二叉树, 找到该树中两个指定节点的最近公共祖先。\n",
    "\n",
    "百度百科中最近公共祖先的定义为：“对于有根树 T 的两个节点 p、q，最近公共祖先表示为一个节点 x，满足 x 是 p、q 的祖先且 x 的深度尽可能大（一个节点也可以是它自己的祖先）。”\n",
    "\n",
    "#### 示例 1：\n",
    "```\n",
    "输入：root = [3,5,1,6,2,0,8,null,null,7,4], p = 5, q = 1\n",
    "输出：3\n",
    "解释：节点 5 和节点 1 的最近公共祖先是节点 3 。\n",
    "```\n",
    "\n",
    "#### 示例 2：\n",
    "```\n",
    "输入：root = [3,5,1,6,2,0,8,null,null,7,4], p = 5, q = 4\n",
    "输出：5\n",
    "解释：节点 5 和节点 4 的最近公共祖先是节点 5 。因为根据定义最近公共祖先节点可以为节点本身。\n",
    "```\n",
    "\n",
    "#### 示例 3：\n",
    "```\n",
    "输入：root = [1,2], p = 1, q = 2\n",
    "输出：1\n",
    "```\n",
    "\n",
    "#### 提示：\n",
    "\n",
    "- 树中节点数目在范围 [2, 105] 内。\n",
    "- $ -10^9 <= Node.val <= 10^9 $\n",
    "- 所有 Node.val 互不相同 。\n",
    "- p != q\n",
    "- p 和 q 均存在于给定的二叉树中。\n"
   ]
  },
  {
   "cell_type": "code",
   "execution_count": 2,
   "id": "final-mileage",
   "metadata": {},
   "outputs": [],
   "source": [
    "class TreeNode:\n",
    "    def __init__(self, x):\n",
    "        self.val = x\n",
    "        self.left = None\n",
    "        self.right = None\n",
    "\n",
    "class Solution:\n",
    "    def lowestCommonAncestor(self, root: 'TreeNode', p: 'TreeNode', q: 'TreeNode') -> 'TreeNode':\n",
    "        \n",
    "        def findPath(node: TreeNode, target: TreeNode, paths: List[TreeNode], handle):\n",
    "            if node:\n",
    "                paths.append(node)\n",
    "                if target.val != node.val:\n",
    "                    if node.left:\n",
    "                        findPath(node.left, target, paths, handle)\n",
    "                    if node.right:\n",
    "                        findPath(node.right, target, paths, handle)\n",
    "                else:\n",
    "                    handle(paths)\n",
    "                paths.pop()\n",
    "\n",
    "        ppaths, qpaths = [], []\n",
    "        findPath(root, p, ppaths, lambda p: ppaths.extend(p))\n",
    "        findPath(root, q, qpaths, lambda p: qpaths.extend(p))\n",
    "\n",
    "        ans = root.val\n",
    "        for i in range(min(len(ppaths), len(qpaths))):\n",
    "            if ppaths[i] != qpaths[i]:\n",
    "                break\n",
    "            else:\n",
    "                ans = ppaths[i]\n",
    "\n",
    "        return ans"
   ]
  }
 ],
 "metadata": {
  "kernelspec": {
   "display_name": "Python 3",
   "language": "python",
   "name": "python3"
  },
  "language_info": {
   "codemirror_mode": {
    "name": "ipython",
    "version": 3
   },
   "file_extension": ".py",
   "mimetype": "text/x-python",
   "name": "python",
   "nbconvert_exporter": "python",
   "pygments_lexer": "ipython3",
   "version": "3.8.6"
  }
 },
 "nbformat": 4,
 "nbformat_minor": 5
}
