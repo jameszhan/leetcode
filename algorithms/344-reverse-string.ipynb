{
 "cells": [
  {
   "cell_type": "markdown",
   "id": "funded-season",
   "metadata": {},
   "source": [
    "编写一个函数，其作用是将输入的字符串反转过来。输入字符串以字符数组`char[]`的形式给出。\n",
    "\n",
    "不要给另外的数组分配额外的空间，你必须原地修改输入数组、使用`O(1)`的额外空间解决这一问题。\n",
    "\n",
    "你可以假设数组中的所有字符都是`ASCII`码表中的可打印字符。\n",
    "\n",
    "#### 示例 1：\n",
    "```\n",
    "输入：[\"h\",\"e\",\"l\",\"l\",\"o\"]\n",
    "输出：[\"o\",\"l\",\"l\",\"e\",\"h\"]\n",
    "```\n",
    "\n",
    "示例 2：\n",
    "```\n",
    "输入：[\"H\",\"a\",\"n\",\"n\",\"a\",\"h\"]\n",
    "输出：[\"h\",\"a\",\"n\",\"n\",\"a\",\"H\"]\n",
    "```"
   ]
  },
  {
   "cell_type": "code",
   "execution_count": 1,
   "id": "focused-dancing",
   "metadata": {},
   "outputs": [],
   "source": [
    "class Solution:\n",
    "    def solve(self , s: str) -> str:\n",
    "        return ''.join(reversed(s))"
   ]
  },
  {
   "cell_type": "code",
   "execution_count": 6,
   "id": "mighty-living",
   "metadata": {},
   "outputs": [],
   "source": [
    "from typing import List\n",
    "\n",
    "def reverseString(s: List[str]) -> None:\n",
    "    l = len(s)\n",
    "    if l <= 1:\n",
    "        return s\n",
    "    i, j = 0, l - 1\n",
    "    while i < j:\n",
    "        s[i], s[j] = s[j], s[i]\n",
    "        i += 1\n",
    "        j -= 1"
   ]
  },
  {
   "cell_type": "code",
   "execution_count": 7,
   "id": "classical-offering",
   "metadata": {},
   "outputs": [
    {
     "data": {
      "text/plain": [
       "['o', 'l', 'l', 'e', 'h']"
      ]
     },
     "execution_count": 7,
     "metadata": {},
     "output_type": "execute_result"
    }
   ],
   "source": [
    "s = [\"h\",\"e\",\"l\",\"l\",\"o\"]\n",
    "reverseString(s)\n",
    "s"
   ]
  },
  {
   "cell_type": "code",
   "execution_count": 8,
   "id": "composed-eugene",
   "metadata": {},
   "outputs": [
    {
     "data": {
      "text/plain": [
       "['h', 'a', 'n', 'n', 'a', 'H']"
      ]
     },
     "execution_count": 8,
     "metadata": {},
     "output_type": "execute_result"
    }
   ],
   "source": [
    "s = [\"H\",\"a\",\"n\",\"n\",\"a\",\"h\"]\n",
    "reverseString(s)\n",
    "s"
   ]
  }
 ],
 "metadata": {
  "kernelspec": {
   "display_name": "Python 3",
   "language": "python",
   "name": "python3"
  },
  "language_info": {
   "codemirror_mode": {
    "name": "ipython",
    "version": 3
   },
   "file_extension": ".py",
   "mimetype": "text/x-python",
   "name": "python",
   "nbconvert_exporter": "python",
   "pygments_lexer": "ipython3",
   "version": "3.8.6"
  }
 },
 "nbformat": 4,
 "nbformat_minor": 5
}
