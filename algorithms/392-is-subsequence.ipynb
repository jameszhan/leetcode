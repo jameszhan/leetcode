{
 "cells": [
  {
   "cell_type": "markdown",
   "id": "nuclear-courtesy",
   "metadata": {},
   "source": [
    "### [判断子序列](https://leetcode-cn.com/problems/is-subsequence/)\n",
    "\n",
    "给定字符串`s`和`t`，判断`s`是否为`t`的子序列。\n",
    "\n",
    "字符串的一个子序列是原始字符串删除一些（也可以不删除）字符而不改变剩余字符相对位置形成的新字符串。（例如，\"ace\"是\"abcde\"的一个子序列，而\"aec\"不是）。\n",
    "\n",
    "进阶：\n",
    "如果有大量输入的 `S`，称作 `S1, S2, ... , Sk` 其中 `k >= 10亿`，你需要依次检查它们是否为 `T` 的子序列。在这种情况下，你会怎样改变代码？\n",
    "\n",
    "#### 示例 1：\n",
    "```\n",
    "输入：s = \"abc\", t = \"ahbgdc\"\n",
    "输出：true\n",
    "```\n",
    "\n",
    "#### 示例 2：\n",
    "```\n",
    "输入：s = \"axc\", t = \"ahbgdc\"\n",
    "输出：false\n",
    "```\n",
    "\n",
    "#### 提示：\n",
    "- 0 <= s.length <= 100\n",
    "- 0 <= t.length <= 10^4\n",
    "- 两个字符串都只由小写字符组成"
   ]
  },
  {
   "cell_type": "code",
   "execution_count": 6,
   "id": "located-jonathan",
   "metadata": {},
   "outputs": [],
   "source": [
    "# 动态规划\n",
    "def isSubsequence(s: str, t: str) -> bool:\n",
    "    m, n = len(s), len(t)\n",
    "    if m == 0:\n",
    "        return True\n",
    "    elif m > n:\n",
    "        return False\n",
    "    \n",
    "    dp = [[False for _ in range(n)] for _ in range(m)]\n",
    "            \n",
    "    for j in range(n):\n",
    "        if s[0] == t[j]:\n",
    "            dp[0][j] = True\n",
    "        elif j > 0:\n",
    "            dp[0][j] = dp[0][j - 1]\n",
    "        \n",
    "    for i in range(1, m):\n",
    "        for j in range(1, n):\n",
    "            if s[i] == t[j]:\n",
    "                dp[i][j] = dp[i - 1][j - 1]\n",
    "            else:\n",
    "                dp[i][j] = dp[i][j - 1]\n",
    "    return dp[-1][-1]"
   ]
  },
  {
   "cell_type": "code",
   "execution_count": 2,
   "id": "generic-church",
   "metadata": {},
   "outputs": [],
   "source": [
    "# 双指针\n",
    "def isSubsequence(s: str, t: str) -> bool:\n",
    "    m, n = len(s), len(t)\n",
    "    i, j = 0, 0\n",
    "    while i < m and j < n:\n",
    "        if s[i] == t[j]:\n",
    "            i += 1\n",
    "            j += 1\n",
    "        else:\n",
    "            j += 1\n",
    "    return i == m"
   ]
  },
  {
   "cell_type": "code",
   "execution_count": 7,
   "id": "centered-potato",
   "metadata": {},
   "outputs": [
    {
     "data": {
      "text/plain": [
       "False"
      ]
     },
     "execution_count": 7,
     "metadata": {},
     "output_type": "execute_result"
    }
   ],
   "source": [
    "isSubsequence(\"axc\", \"ahbgdc\")"
   ]
  },
  {
   "cell_type": "code",
   "execution_count": 8,
   "id": "italian-blackberry",
   "metadata": {},
   "outputs": [
    {
     "data": {
      "text/plain": [
       "True"
      ]
     },
     "execution_count": 8,
     "metadata": {},
     "output_type": "execute_result"
    }
   ],
   "source": [
    "isSubsequence(\"abc\", \"ahbgdc\")"
   ]
  },
  {
   "cell_type": "code",
   "execution_count": 9,
   "id": "twelve-sacrifice",
   "metadata": {},
   "outputs": [
    {
     "data": {
      "text/plain": [
       "True"
      ]
     },
     "execution_count": 9,
     "metadata": {},
     "output_type": "execute_result"
    }
   ],
   "source": [
    "isSubsequence(\"b\", \"abc\")"
   ]
  }
 ],
 "metadata": {
  "kernelspec": {
   "display_name": "Python 3",
   "language": "python",
   "name": "python3"
  },
  "language_info": {
   "codemirror_mode": {
    "name": "ipython",
    "version": 3
   },
   "file_extension": ".py",
   "mimetype": "text/x-python",
   "name": "python",
   "nbconvert_exporter": "python",
   "pygments_lexer": "ipython3",
   "version": "3.8.6"
  }
 },
 "nbformat": 4,
 "nbformat_minor": 5
}
