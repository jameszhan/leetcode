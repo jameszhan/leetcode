{
 "cells": [
  {
   "cell_type": "markdown",
   "id": "vocational-general",
   "metadata": {},
   "source": [
    "### [在排序数组中查找元素的第一个和最后一个位置](https://leetcode-cn.com/problems/find-first-and-last-position-of-element-in-sorted-array/)\n",
    "\n",
    "给定一个按照升序排列的整数数组`nums`，和一个目标值`target`。找出给定目标值在数组中的开始位置和结束位置。\n",
    "\n",
    "如果数组中不存在目标值`target`，返回`[-1, -1]`。\n",
    "\n",
    "#### 进阶：\n",
    "- 你可以设计并实现时间复杂度为`O(log n)`的算法解决此问题吗？\n",
    "\n",
    "#### 示例 1：\n",
    "```\n",
    "输入：nums = [5,7,7,8,8,10], target = 8\n",
    "输出：[3,4]\n",
    "```\n",
    "#### 示例 2：\n",
    "```\n",
    "输入：nums = [5,7,7,8,8,10], target = 6\n",
    "输出：[-1,-1]\n",
    "```\n",
    "#### 示例 3：\n",
    "```\n",
    "输入：nums = [], target = 0\n",
    "输出：[-1,-1]\n",
    "```\n",
    "\n",
    "#### 提示：\n",
    "- $ 0 <= nums.length <= 10^5 $\n",
    "- $ -10^9 <= nums[i] <= 10^9 $\n",
    "- nums 是一个非递减数组\n",
    "- $ -10^9 <= target <= 10^9 $"
   ]
  },
  {
   "cell_type": "code",
   "execution_count": 52,
   "id": "blond-quality",
   "metadata": {},
   "outputs": [],
   "source": [
    "from typing import List\n",
    "\n",
    "def searchRange(nums: List[int], target: int) -> List[int]:\n",
    "    \n",
    "    def search(l: int, r: int) -> int:\n",
    "        if l <= r:\n",
    "            mid = l + (r - l) // 2 \n",
    "            if nums[mid] < target:\n",
    "                return search(mid + 1, r)\n",
    "            elif nums[mid] > target:\n",
    "                return search(l, mid - 1)\n",
    "            else:\n",
    "                return mid\n",
    "        else:\n",
    "            return -1\n",
    "    \n",
    "    if not nums:\n",
    "        return [-1, -1]\n",
    "    \n",
    "    n = len(nums)\n",
    "    index = search(0, n - 1)\n",
    "    if index >= 0:\n",
    "        start, end = index, index\n",
    "        while start > 0 and nums[start - 1] == target:\n",
    "            start -= 1\n",
    "        while end < n - 1 and nums[end + 1] == target:\n",
    "            end += 1\n",
    "        \n",
    "        return [start, end]\n",
    "    else:\n",
    "        return [-1, -1]"
   ]
  },
  {
   "cell_type": "code",
   "execution_count": 53,
   "id": "prepared-distributor",
   "metadata": {},
   "outputs": [
    {
     "data": {
      "text/plain": [
       "[3, 4]"
      ]
     },
     "execution_count": 53,
     "metadata": {},
     "output_type": "execute_result"
    }
   ],
   "source": [
    "searchRange([5,7,7,8,8,10], 8)"
   ]
  },
  {
   "cell_type": "code",
   "execution_count": 54,
   "id": "rough-preparation",
   "metadata": {},
   "outputs": [
    {
     "data": {
      "text/plain": [
       "[0, 0]"
      ]
     },
     "execution_count": 54,
     "metadata": {},
     "output_type": "execute_result"
    }
   ],
   "source": [
    "searchRange([5,7,7,8,8,10], 5)"
   ]
  },
  {
   "cell_type": "code",
   "execution_count": 55,
   "id": "separated-ecuador",
   "metadata": {},
   "outputs": [
    {
     "data": {
      "text/plain": [
       "[-1, -1]"
      ]
     },
     "execution_count": 55,
     "metadata": {},
     "output_type": "execute_result"
    }
   ],
   "source": [
    "searchRange([], 0)"
   ]
  },
  {
   "cell_type": "code",
   "execution_count": 56,
   "id": "homeless-uruguay",
   "metadata": {},
   "outputs": [
    {
     "data": {
      "text/plain": [
       "[-1, -1]"
      ]
     },
     "execution_count": 56,
     "metadata": {},
     "output_type": "execute_result"
    }
   ],
   "source": [
    "searchRange([2, 2], 3)"
   ]
  }
 ],
 "metadata": {
  "kernelspec": {
   "display_name": "Python 3",
   "language": "python",
   "name": "python3"
  },
  "language_info": {
   "codemirror_mode": {
    "name": "ipython",
    "version": 3
   },
   "file_extension": ".py",
   "mimetype": "text/x-python",
   "name": "python",
   "nbconvert_exporter": "python",
   "pygments_lexer": "ipython3",
   "version": "3.8.6"
  }
 },
 "nbformat": 4,
 "nbformat_minor": 5
}
