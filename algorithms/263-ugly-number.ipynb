{
 "cells": [
  {
   "cell_type": "markdown",
   "id": "prescription-entrepreneur",
   "metadata": {},
   "source": [
    "### [丑数](https://leetcode-cn.com/problems/ugly-number/)\n",
    "\n",
    "编写一个程序判断给定的数是否为丑数。\n",
    "\n",
    "丑数就是只包含质因数 2, 3, 5 的正整数。\n",
    "\n",
    "#### 示例 1:\n",
    "```\n",
    "输入: 6\n",
    "输出: true\n",
    "解释: 6 = 2 × 3\n",
    "```\n",
    "#### 示例 2:\n",
    "```\n",
    "输入: 8\n",
    "输出: true\n",
    "解释: 8 = 2 × 2 × 2\n",
    "```\n",
    "示例 3:\n",
    "```\n",
    "输入: 14\n",
    "输出: false \n",
    "解释: 14 不是丑数，因为它包含了另外一个质因数 7。\n",
    "```\n",
    "\n",
    "#### 说明：\n",
    "- 1 是丑数。\n",
    "- 输入不会超过 32 位有符号整数的范围: $ [−2^{31},  2^{31} − 1] $。"
   ]
  },
  {
   "cell_type": "code",
   "execution_count": 1,
   "id": "defensive-oliver",
   "metadata": {},
   "outputs": [],
   "source": [
    "def isUgly(num: int) -> bool:\n",
    "    if num == 0:\n",
    "        return False\n",
    "    n = num\n",
    "    while n % 5 == 0:\n",
    "        n = n // 5\n",
    "        \n",
    "    while n % 3 == 0:\n",
    "        n = n // 3\n",
    "        \n",
    "    while n % 2 == 0:\n",
    "        n = n // 2\n",
    "    \n",
    "    return n == 1"
   ]
  },
  {
   "cell_type": "code",
   "execution_count": 2,
   "id": "chicken-identifier",
   "metadata": {},
   "outputs": [
    {
     "data": {
      "text/plain": [
       "True"
      ]
     },
     "execution_count": 2,
     "metadata": {},
     "output_type": "execute_result"
    }
   ],
   "source": [
    "isUgly(6)"
   ]
  },
  {
   "cell_type": "code",
   "execution_count": 3,
   "id": "annoying-aurora",
   "metadata": {},
   "outputs": [
    {
     "data": {
      "text/plain": [
       "True"
      ]
     },
     "execution_count": 3,
     "metadata": {},
     "output_type": "execute_result"
    }
   ],
   "source": [
    "isUgly(8)"
   ]
  },
  {
   "cell_type": "code",
   "execution_count": 6,
   "id": "planned-karen",
   "metadata": {},
   "outputs": [
    {
     "data": {
      "text/plain": [
       "False"
      ]
     },
     "execution_count": 6,
     "metadata": {},
     "output_type": "execute_result"
    }
   ],
   "source": [
    "isUgly(21)"
   ]
  }
 ],
 "metadata": {
  "kernelspec": {
   "display_name": "Python 3",
   "language": "python",
   "name": "python3"
  },
  "language_info": {
   "codemirror_mode": {
    "name": "ipython",
    "version": 3
   },
   "file_extension": ".py",
   "mimetype": "text/x-python",
   "name": "python",
   "nbconvert_exporter": "python",
   "pygments_lexer": "ipython3",
   "version": "3.8.6"
  }
 },
 "nbformat": 4,
 "nbformat_minor": 5
}
