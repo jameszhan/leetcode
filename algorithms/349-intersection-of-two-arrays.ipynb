{
 "cells": [
  {
   "cell_type": "markdown",
   "id": "intelligent-ensemble",
   "metadata": {},
   "source": [
    "### [两个数组的交集](https://leetcode-cn.com/problems/intersection-of-two-arrays/)\n",
    "\n",
    "给定两个数组，编写一个函数来计算它们的交集。\n",
    "\n",
    "#### 示例 1：\n",
    "```\n",
    "输入：nums1 = [1,2,2,1], nums2 = [2,2]\n",
    "输出：[2]\n",
    "```\n",
    "\n",
    "#### 示例 2：\n",
    "```\n",
    "输入：nums1 = [4,9,5], nums2 = [9,4,9,8,4]\n",
    "输出：[9,4]\n",
    "```\n",
    "\n",
    "#### 说明：\n",
    "- 输出结果中的每个元素一定是唯一的。\n",
    "- 我们可以不考虑输出结果的顺序。"
   ]
  },
  {
   "cell_type": "code",
   "execution_count": 5,
   "id": "needed-jungle",
   "metadata": {},
   "outputs": [],
   "source": [
    "from typing import List\n",
    "\n",
    "def intersection(nums1: List[int], nums2: List[int]) -> List[int]:\n",
    "    set1, set2 = set(nums1), set(nums2)\n",
    "    if len(set1) > len(set2):\n",
    "        return [x for x in set2 if x in set1]\n",
    "    else:\n",
    "        return [x for x in set1 if x in set2]"
   ]
  },
  {
   "cell_type": "code",
   "execution_count": 6,
   "id": "proprietary-enlargement",
   "metadata": {},
   "outputs": [
    {
     "data": {
      "text/plain": [
       "[2]"
      ]
     },
     "execution_count": 6,
     "metadata": {},
     "output_type": "execute_result"
    }
   ],
   "source": [
    "intersection([1,2,2,1], [2,2])"
   ]
  },
  {
   "cell_type": "code",
   "execution_count": 7,
   "id": "cosmetic-timber",
   "metadata": {},
   "outputs": [
    {
     "data": {
      "text/plain": [
       "[9, 4]"
      ]
     },
     "execution_count": 7,
     "metadata": {},
     "output_type": "execute_result"
    }
   ],
   "source": [
    "intersection([4,9,5], [9,4,9,8,4])"
   ]
  },
  {
   "cell_type": "code",
   "execution_count": null,
   "id": "skilled-reputation",
   "metadata": {},
   "outputs": [],
   "source": []
  }
 ],
 "metadata": {
  "kernelspec": {
   "display_name": "Python 3",
   "language": "python",
   "name": "python3"
  },
  "language_info": {
   "codemirror_mode": {
    "name": "ipython",
    "version": 3
   },
   "file_extension": ".py",
   "mimetype": "text/x-python",
   "name": "python",
   "nbconvert_exporter": "python",
   "pygments_lexer": "ipython3",
   "version": "3.8.6"
  }
 },
 "nbformat": 4,
 "nbformat_minor": 5
}
