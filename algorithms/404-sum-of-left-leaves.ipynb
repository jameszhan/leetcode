{
 "cells": [
  {
   "cell_type": "markdown",
   "id": "official-liberia",
   "metadata": {},
   "source": [
    "### [左叶子之和](https://leetcode-cn.com/problems/sum-of-left-leaves/)\n",
    "\n",
    "计算给定二叉树的所有左叶子之和。\n",
    "\n",
    "#### 示例：\n",
    "```\n",
    "    3\n",
    "   / \\\n",
    "  9  20\n",
    "    /  \\\n",
    "   15   7\n",
    "```\n",
    "在这个二叉树中，有两个左叶子，分别是 9 和 15，所以返回 24"
   ]
  },
  {
   "cell_type": "code",
   "execution_count": null,
   "id": "likely-schedule",
   "metadata": {},
   "outputs": [],
   "source": [
    "class TreeNode:\n",
    "    def __init__(self, x):\n",
    "        self.val = x\n",
    "        self.left = None\n",
    "        self.right = None\n",
    "\n",
    "class Solution:\n",
    "    def sumOfLeftLeaves(self, root: TreeNode) -> int:\n",
    "        def sumLeft(node: TreeNode) -> int:\n",
    "            if node is None or (node.left is None and node.right is None):\n",
    "                return 0\n",
    "            \n",
    "            s = 0\n",
    "            if node.left and node.left.left is None and node.left.right is None:\n",
    "                s += node.left.val\n",
    "\n",
    "            return s + sumLeft(node.left) + sumLeft(node.right)\n",
    "            \n",
    "        return sumLeft(root)         "
   ]
  }
 ],
 "metadata": {
  "kernelspec": {
   "display_name": "Python 3",
   "language": "python",
   "name": "python3"
  },
  "language_info": {
   "codemirror_mode": {
    "name": "ipython",
    "version": 3
   },
   "file_extension": ".py",
   "mimetype": "text/x-python",
   "name": "python",
   "nbconvert_exporter": "python",
   "pygments_lexer": "ipython3",
   "version": "3.8.6"
  }
 },
 "nbformat": 4,
 "nbformat_minor": 5
}
