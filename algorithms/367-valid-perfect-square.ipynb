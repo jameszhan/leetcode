{
 "cells": [
  {
   "cell_type": "markdown",
   "id": "dense-python",
   "metadata": {},
   "source": [
    "### [有效的完全平方数](https://leetcode-cn.com/problems/valid-perfect-square/)\n",
    "\n",
    "给定一个正整数`num`，编写一个函数，如果`num`是一个完全平方数，则返回`True`，否则返回`False`。\n",
    "\n",
    "> 说明：不要使用任何内置的库函数，如`sqrt`。\n",
    "\n",
    "#### 示例 1：\n",
    "```\n",
    "输入：16\n",
    "输出：True\n",
    "```\n",
    "#### 示例 2：\n",
    "```\n",
    "输入：14\n",
    "输出：False\n",
    "```"
   ]
  },
  {
   "cell_type": "markdown",
   "id": "thousand-momentum",
   "metadata": {},
   "source": [
    "#### 牛顿迭代法\n",
    "\n",
    "$ \\frac{f(x_k)}{x_k-x_{k+1}} = f'(x_k) $\n",
    "\n",
    "$ x_{k + 1} = x_k - \\frac{f(x_k)}{f'(x_k)} $\n",
    "\n",
    "$ f(x_k) = x_k^2 - \\textrm{num} $\n",
    "\n",
    "$ x_{k + 1} = \\frac{1}{2}\\left(x_k + \\frac{\\textrm{num}}{x_k}\\right) $"
   ]
  },
  {
   "cell_type": "code",
   "execution_count": 10,
   "id": "tested-customs",
   "metadata": {},
   "outputs": [],
   "source": [
    "def isPerfectSquare(num: int) -> bool:\n",
    "    if num < 2:\n",
    "        return True\n",
    "    \n",
    "    guess = num // 2\n",
    "    while guess * guess > num:\n",
    "        guess = (guess + num // guess) // 2\n",
    "    \n",
    "    return guess * guess == num"
   ]
  },
  {
   "cell_type": "code",
   "execution_count": 5,
   "id": "harmful-mercy",
   "metadata": {},
   "outputs": [
    {
     "data": {
      "text/plain": [
       "True"
      ]
     },
     "execution_count": 5,
     "metadata": {},
     "output_type": "execute_result"
    }
   ],
   "source": [
    "isPerfectSquare(16)"
   ]
  },
  {
   "cell_type": "code",
   "execution_count": 6,
   "id": "herbal-scratch",
   "metadata": {},
   "outputs": [
    {
     "data": {
      "text/plain": [
       "False"
      ]
     },
     "execution_count": 6,
     "metadata": {},
     "output_type": "execute_result"
    }
   ],
   "source": [
    "isPerfectSquare(13)"
   ]
  },
  {
   "cell_type": "code",
   "execution_count": 7,
   "id": "passing-burton",
   "metadata": {},
   "outputs": [
    {
     "data": {
      "text/plain": [
       "False"
      ]
     },
     "execution_count": 7,
     "metadata": {},
     "output_type": "execute_result"
    }
   ],
   "source": [
    "isPerfectSquare(1600000)"
   ]
  },
  {
   "cell_type": "code",
   "execution_count": 9,
   "id": "guided-linux",
   "metadata": {},
   "outputs": [
    {
     "data": {
      "text/plain": [
       "True"
      ]
     },
     "execution_count": 9,
     "metadata": {},
     "output_type": "execute_result"
    }
   ],
   "source": [
    "isPerfectSquare(16000000)"
   ]
  },
  {
   "cell_type": "code",
   "execution_count": null,
   "id": "processed-documentation",
   "metadata": {},
   "outputs": [],
   "source": []
  }
 ],
 "metadata": {
  "kernelspec": {
   "display_name": "Python 3",
   "language": "python",
   "name": "python3"
  },
  "language_info": {
   "codemirror_mode": {
    "name": "ipython",
    "version": 3
   },
   "file_extension": ".py",
   "mimetype": "text/x-python",
   "name": "python",
   "nbconvert_exporter": "python",
   "pygments_lexer": "ipython3",
   "version": "3.8.6"
  }
 },
 "nbformat": 4,
 "nbformat_minor": 5
}
