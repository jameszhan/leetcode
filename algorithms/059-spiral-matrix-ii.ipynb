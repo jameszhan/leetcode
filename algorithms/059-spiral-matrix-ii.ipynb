{
 "cells": [
  {
   "cell_type": "markdown",
   "id": "bigger-trout",
   "metadata": {},
   "source": [
    "给你一个正整数 n ，生成一个包含 1 到 n^2 所有元素，且元素按顺时针顺序螺旋排列的 n x n 正方形矩阵 matrix 。\n",
    "\n",
    "#### 示例 1：\n",
    "\n",
    "##### 输入：`n = 3`\n",
    "##### 输出：`[[1,2,3],[8,9,4],[7,6,5]]`\n",
    "\n",
    "#### 示例 2：\n",
    "\n",
    "##### 输入：`n = 1`\n",
    "##### 输出：`[[1]]`\n",
    "\n",
    "#### 提示：\n",
    "\n",
    "`1 <= n <= 20`"
   ]
  },
  {
   "cell_type": "code",
   "execution_count": 1,
   "id": "velvet-metropolitan",
   "metadata": {},
   "outputs": [],
   "source": [
    "from typing import List\n",
    "\n",
    "def solve(n: int) -> List[List[int]]:\n",
    "    assert n > 0, '{} is not a positive number'.format(n)\n",
    "    ans = [[0 for i in range(n)] for j in range(n)]\n",
    "    l, r, t, b = 0, n - 1, 0, n - 1\n",
    "    k = 1\n",
    "    while k <= n * n:\n",
    "        for j in range(l, r + 1):  # l to r\n",
    "            ans[t][j] = k\n",
    "            k += 1\n",
    "        t += 1\n",
    "        for i in range(t, b + 1):  # t to b\n",
    "            ans[i][r] = k\n",
    "            k += 1\n",
    "        r -= 1\n",
    "        for j in range(r, l - 1, -1): # r to l\n",
    "            ans[b][j] = k\n",
    "            k += 1\n",
    "        b -= 1\n",
    "        for i in range(b, t - 1, -1): # b to t\n",
    "            ans[i][l] = k\n",
    "            k += 1\n",
    "        l += 1\n",
    "    return ans"
   ]
  },
  {
   "cell_type": "code",
   "execution_count": 2,
   "id": "turkish-colony",
   "metadata": {},
   "outputs": [
    {
     "data": {
      "text/plain": [
       "[[1]]"
      ]
     },
     "execution_count": 2,
     "metadata": {},
     "output_type": "execute_result"
    }
   ],
   "source": [
    "solve(1)"
   ]
  },
  {
   "cell_type": "code",
   "execution_count": 3,
   "id": "improving-transportation",
   "metadata": {},
   "outputs": [
    {
     "data": {
      "text/plain": [
       "[[1, 2], [4, 3]]"
      ]
     },
     "execution_count": 3,
     "metadata": {},
     "output_type": "execute_result"
    }
   ],
   "source": [
    "solve(2)"
   ]
  },
  {
   "cell_type": "code",
   "execution_count": 4,
   "id": "adjacent-representation",
   "metadata": {},
   "outputs": [
    {
     "data": {
      "text/plain": [
       "[[1, 2, 3], [8, 9, 4], [7, 6, 5]]"
      ]
     },
     "execution_count": 4,
     "metadata": {},
     "output_type": "execute_result"
    }
   ],
   "source": [
    "solve(3)"
   ]
  },
  {
   "cell_type": "code",
   "execution_count": 5,
   "id": "fatal-smith",
   "metadata": {},
   "outputs": [
    {
     "data": {
      "text/plain": [
       "[[1, 2, 3, 4], [12, 13, 14, 5], [11, 16, 15, 6], [10, 9, 8, 7]]"
      ]
     },
     "execution_count": 5,
     "metadata": {},
     "output_type": "execute_result"
    }
   ],
   "source": [
    "solve(4)"
   ]
  },
  {
   "cell_type": "code",
   "execution_count": 6,
   "id": "realistic-injury",
   "metadata": {},
   "outputs": [
    {
     "data": {
      "text/plain": [
       "[[1, 2, 3, 4, 5],\n",
       " [16, 17, 18, 19, 6],\n",
       " [15, 24, 25, 20, 7],\n",
       " [14, 23, 22, 21, 8],\n",
       " [13, 12, 11, 10, 9]]"
      ]
     },
     "execution_count": 6,
     "metadata": {},
     "output_type": "execute_result"
    }
   ],
   "source": [
    "solve(5)"
   ]
  }
 ],
 "metadata": {
  "kernelspec": {
   "display_name": "Python 3",
   "language": "python",
   "name": "python3"
  },
  "language_info": {
   "codemirror_mode": {
    "name": "ipython",
    "version": 3
   },
   "file_extension": ".py",
   "mimetype": "text/x-python",
   "name": "python",
   "nbconvert_exporter": "python",
   "pygments_lexer": "ipython3",
   "version": "3.8.6"
  }
 },
 "nbformat": 4,
 "nbformat_minor": 5
}
