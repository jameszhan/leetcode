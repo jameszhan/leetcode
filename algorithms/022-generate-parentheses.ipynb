{
 "cells": [
  {
   "cell_type": "markdown",
   "id": "automatic-vault",
   "metadata": {},
   "source": [
    "### [括号生成](https://leetcode-cn.com/problems/generate-parentheses/)\n",
    "\n",
    "数字`n`代表生成括号的对数，请你设计一个函数，用于能够生成所有可能的并且 有效的 括号组合。\n",
    "\n",
    "#### 示例 1：\n",
    "```\n",
    "输入：n = 3\n",
    "输出：[\"((()))\",\"(()())\",\"(())()\",\"()(())\",\"()()()\"]\n",
    "```\n",
    "\n",
    "#### 示例 2：\n",
    "```\n",
    "输入：n = 1\n",
    "输出：[\"()\"]\n",
    "```\n",
    "\n",
    "#### 提示：\n",
    "- `1 <= n <= 8`"
   ]
  },
  {
   "cell_type": "code",
   "execution_count": 23,
   "id": "broadband-evidence",
   "metadata": {},
   "outputs": [],
   "source": [
    "from typing import List\n",
    "from collections import Counter\n",
    "\n",
    "MAP = { 0: '(', 1: ')' }\n",
    "\n",
    "def generateParenthesis(num: int) -> List[str]:\n",
    "    \n",
    "    def dfs(a: List[int], n: int, k: int, predict, handle):\n",
    "        for i in range(2):\n",
    "            a[k] = i\n",
    "            if predict(a, k):\n",
    "                if k == n - 1:\n",
    "                    c = Counter(a)\n",
    "                    if c[0] == c[1]:\n",
    "                        handle(a)\n",
    "                else:\n",
    "                    dfs(a, n, k + 1, predict, handle)\n",
    "        \n",
    "    def predict(a: List[int], k: int):\n",
    "        c = Counter(a[0:k])\n",
    "        return c[0] >= c[1]\n",
    "               \n",
    "    m = num * 2\n",
    "    ans = []\n",
    "    def collect(a: List[int]):\n",
    "        ans.append(''.join(map(lambda i: MAP[i], a)))\n",
    "\n",
    "    a = [0 for _ in range(m)]\n",
    "    dfs(a, m, 0, predict, collect)\n",
    "    return ans"
   ]
  },
  {
   "cell_type": "code",
   "execution_count": 24,
   "id": "distributed-depression",
   "metadata": {},
   "outputs": [
    {
     "data": {
      "text/plain": [
       "['((()))', '(()())', '(())()', '()(())', '()()()']"
      ]
     },
     "execution_count": 24,
     "metadata": {},
     "output_type": "execute_result"
    }
   ],
   "source": [
    "generateParenthesis(3)"
   ]
  },
  {
   "cell_type": "code",
   "execution_count": 25,
   "id": "exciting-webster",
   "metadata": {},
   "outputs": [
    {
     "data": {
      "text/plain": [
       "['()']"
      ]
     },
     "execution_count": 25,
     "metadata": {},
     "output_type": "execute_result"
    }
   ],
   "source": [
    "generateParenthesis(1)"
   ]
  }
 ],
 "metadata": {
  "kernelspec": {
   "display_name": "Python 3",
   "language": "python",
   "name": "python3"
  },
  "language_info": {
   "codemirror_mode": {
    "name": "ipython",
    "version": 3
   },
   "file_extension": ".py",
   "mimetype": "text/x-python",
   "name": "python",
   "nbconvert_exporter": "python",
   "pygments_lexer": "ipython3",
   "version": "3.8.6"
  }
 },
 "nbformat": 4,
 "nbformat_minor": 5
}
