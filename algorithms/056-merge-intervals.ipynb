{
 "cells": [
  {
   "cell_type": "markdown",
   "id": "individual-singles",
   "metadata": {},
   "source": [
    "### [合并区间](https://leetcode-cn.com/problems/merge-intervals/)\n",
    "\n",
    "以数组`intervals`表示若干个区间的集合，其中单个区间为`intervals[i] = [starti, endi]`。请你合并所有重叠的区间，并返回一个不重叠的区间数组，该数组需恰好覆盖输入中的所有区间。\n",
    "\n",
    "#### 示例 1：\n",
    "```\n",
    "输入：intervals = [[1,3],[2,6],[8,10],[15,18]]\n",
    "输出：[[1,6],[8,10],[15,18]]\n",
    "解释：区间 [1,3] 和 [2,6] 重叠, 将它们合并为 [1,6].\n",
    "```\n",
    "\n",
    "#### 示例 2：\n",
    "```\n",
    "输入：intervals = [[1,4],[4,5]]\n",
    "输出：[[1,5]]\n",
    "解释：区间 [1,4] 和 [4,5] 可被视为重叠区间。\n",
    "```\n",
    "\n",
    "#### 提示：\n",
    "- `1 <= intervals.length <= 104`\n",
    "- `intervals[i].length == 2`\n",
    "- `0 <= starti <= endi <= 104`"
   ]
  },
  {
   "cell_type": "code",
   "execution_count": 23,
   "id": "necessary-daughter",
   "metadata": {},
   "outputs": [],
   "source": [
    "from typing import List\n",
    "\n",
    "def merge(intervals: List[List[int]]) -> List[List[int]]:\n",
    "    intervals.sort(key = lambda x: x[0])\n",
    "    merged = []\n",
    "    for interval in intervals:\n",
    "        l, r = interval\n",
    "        if len(merged) == 0 or merged[-1][1] < l:\n",
    "            merged.append(interval)\n",
    "        else:\n",
    "            merged[-1][1] = max(merged[-1][1], r)\n",
    "    return merged"
   ]
  },
  {
   "cell_type": "code",
   "execution_count": 24,
   "id": "excess-ethiopia",
   "metadata": {},
   "outputs": [
    {
     "data": {
      "text/plain": [
       "[[1, 6], [8, 10], [15, 18]]"
      ]
     },
     "execution_count": 24,
     "metadata": {},
     "output_type": "execute_result"
    }
   ],
   "source": [
    "merge([[1,3],[2,6],[8,10],[15,18]])"
   ]
  },
  {
   "cell_type": "code",
   "execution_count": 25,
   "id": "opposite-google",
   "metadata": {},
   "outputs": [
    {
     "data": {
      "text/plain": [
       "[[1, 6], [8, 10], [15, 18]]"
      ]
     },
     "execution_count": 25,
     "metadata": {},
     "output_type": "execute_result"
    }
   ],
   "source": [
    "merge([[1,3],[8,10], [2,6],[15,18]])"
   ]
  },
  {
   "cell_type": "code",
   "execution_count": 26,
   "id": "charming-overview",
   "metadata": {},
   "outputs": [
    {
     "data": {
      "text/plain": [
       "[[1, 5]]"
      ]
     },
     "execution_count": 26,
     "metadata": {},
     "output_type": "execute_result"
    }
   ],
   "source": [
    "merge([[1,4],[4,5]])"
   ]
  }
 ],
 "metadata": {
  "kernelspec": {
   "display_name": "Python 3",
   "language": "python",
   "name": "python3"
  },
  "language_info": {
   "codemirror_mode": {
    "name": "ipython",
    "version": 3
   },
   "file_extension": ".py",
   "mimetype": "text/x-python",
   "name": "python",
   "nbconvert_exporter": "python",
   "pygments_lexer": "ipython3",
   "version": "3.8.6"
  }
 },
 "nbformat": 4,
 "nbformat_minor": 5
}
