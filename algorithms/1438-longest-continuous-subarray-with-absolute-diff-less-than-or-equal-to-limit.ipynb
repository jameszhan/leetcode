{
 "cells": [
  {
   "cell_type": "markdown",
   "id": "floppy-arizona",
   "metadata": {},
   "source": [
    "### [绝对差不超过限制的最长连续子数组](https://leetcode-cn.com/problems/longest-continuous-subarray-with-absolute-diff-less-than-or-equal-to-limit/)\n",
    "\n",
    "给你一个整数数组`nums`，和一个表示限制的整数`limit`，请你返回最长连续子数组的长度，该子数组中的任意两个元素之间的绝对差必须小于或者等于`limit`。\n",
    "\n",
    "如果不存在满足条件的子数组，则返回 0 。\n",
    "\n",
    "#### 示例 1：\n",
    "```\n",
    "输入：nums = [8,2,4,7], limit = 4\n",
    "输出：2 \n",
    "解释：所有子数组如下：\n",
    "[8] 最大绝对差 |8-8| = 0 <= 4.\n",
    "[8,2] 最大绝对差 |8-2| = 6 > 4. \n",
    "[8,2,4] 最大绝对差 |8-2| = 6 > 4.\n",
    "[8,2,4,7] 最大绝对差 |8-2| = 6 > 4.\n",
    "[2] 最大绝对差 |2-2| = 0 <= 4.\n",
    "[2,4] 最大绝对差 |2-4| = 2 <= 4.\n",
    "[2,4,7] 最大绝对差 |2-7| = 5 > 4.\n",
    "[4] 最大绝对差 |4-4| = 0 <= 4.\n",
    "[4,7] 最大绝对差 |4-7| = 3 <= 4.\n",
    "[7] 最大绝对差 |7-7| = 0 <= 4. \n",
    "因此，满足题意的最长子数组的长度为 2 。\n",
    "```\n",
    "\n",
    "#### 示例 2：\n",
    "```\n",
    "输入：nums = [10,1,2,4,7,2], limit = 5\n",
    "输出：4 \n",
    "解释：满足题意的最长子数组是 [2,4,7,2]，其最大绝对差 |2-7| = 5 <= 5 。\n",
    "```\n",
    "\n",
    "#### 示例 3：\n",
    "```\n",
    "输入：nums = [4,2,2,2,4,4,2,2], limit = 0\n",
    "输出：3\n",
    "```\n",
    "\n",
    "#### 提示：\n",
    "- 1 <= nums.length <= 10^5\n",
    "- 1 <= nums[i] <= 10^9\n",
    "- 0 <= limit <= 10^9"
   ]
  },
  {
   "cell_type": "code",
   "execution_count": 1,
   "id": "outside-catch",
   "metadata": {},
   "outputs": [],
   "source": [
    "from typing import List\n",
    "# 常规解法，超时\n",
    "def longestSubarray(nums: List[int], limit: int) -> int:\n",
    "    n, ans = len(nums), 0\n",
    "    if n <= 1:\n",
    "        return n\n",
    "    for i in range(n):\n",
    "        ni = nums[i]\n",
    "        l, nmin, nmax = 1, ni, ni \n",
    "        for j in range(i + 1, n):\n",
    "            nj = nums[j]\n",
    "            if nmin > nj:\n",
    "                nmin = nj\n",
    "            if nmax < nj:\n",
    "                nmax = nj\n",
    "            \n",
    "            if nmax - nmin <= limit:\n",
    "                ans = max(ans, j - i + 1)\n",
    "    return ans"
   ]
  },
  {
   "cell_type": "code",
   "execution_count": 2,
   "id": "rental-matrix",
   "metadata": {},
   "outputs": [],
   "source": [
    "# 超时\n",
    "def longestSubarray(nums: List[int], limit: int) -> int:\n",
    "    n, ans = len(nums), 0\n",
    "    if n <= 1:\n",
    "        return n    \n",
    "    \n",
    "    n0 = nums[0]\n",
    "    \n",
    "    ans, maxlen, queue = 1, 1, [n0]\n",
    "    for i in range(1, n):\n",
    "        ni, qmin, qmax = nums[i], min(queue), max(queue)\n",
    "\n",
    "        if abs(ni - qmin) <= limit and abs(qmax - ni) <= limit:\n",
    "            queue.append(ni)\n",
    "        else:\n",
    "            ans = max(ans, maxlen)\n",
    "            j = len(queue)\n",
    "            while abs(ni - queue[j - 1]) <= limit:\n",
    "                j -= 1\n",
    "            \n",
    "            del queue[0:j]\n",
    "            queue.append(ni)\n",
    "        maxlen = len(queue)\n",
    "\n",
    "    ans = max(ans, maxlen)\n",
    "    return ans"
   ]
  },
  {
   "cell_type": "code",
   "execution_count": 3,
   "id": "accompanied-beatles",
   "metadata": {},
   "outputs": [],
   "source": [
    "def longestSubarray(nums: List[int], limit: int) -> int:\n",
    "    n, ans = len(nums), 0\n",
    "    if n <= 1:\n",
    "        return n    \n",
    "    \n",
    "    n0 = nums[0]\n",
    "    qmax, qmin, ans, start = [n0], [n0], 1, 0\n",
    "        \n",
    "    for i in range(1, n):\n",
    "        ni = nums[i]\n",
    "        while qmin and ni < qmin[-1]:\n",
    "            qmin.pop()\n",
    "        qmin.append(ni)\n",
    "        \n",
    "        while qmax and ni > qmax[-1]:\n",
    "            qmax.pop()\n",
    "        qmax.append(ni)\n",
    "        \n",
    "        while qmax[0] - qmin[0] > limit:\n",
    "            if qmin[0] == nums[start]:\n",
    "                qmin.pop(0)\n",
    "            if qmax[0] == nums[start]:\n",
    "                qmax.pop(0)\n",
    "            start += 1\n",
    "        else:\n",
    "            ans = max(ans, i - start + 1)\n",
    "            \n",
    "    return ans"
   ]
  },
  {
   "cell_type": "code",
   "execution_count": 4,
   "id": "found-airline",
   "metadata": {},
   "outputs": [
    {
     "data": {
      "text/plain": [
       "5"
      ]
     },
     "execution_count": 4,
     "metadata": {},
     "output_type": "execute_result"
    }
   ],
   "source": [
    "longestSubarray([1,5,6,7,8,10,6,5,6], 4)"
   ]
  },
  {
   "cell_type": "code",
   "execution_count": 5,
   "id": "square-liverpool",
   "metadata": {},
   "outputs": [
    {
     "data": {
      "text/plain": [
       "2"
      ]
     },
     "execution_count": 5,
     "metadata": {},
     "output_type": "execute_result"
    }
   ],
   "source": [
    "longestSubarray([8,2,4,7], 4)"
   ]
  },
  {
   "cell_type": "code",
   "execution_count": 6,
   "id": "weird-philippines",
   "metadata": {},
   "outputs": [
    {
     "data": {
      "text/plain": [
       "4"
      ]
     },
     "execution_count": 6,
     "metadata": {},
     "output_type": "execute_result"
    }
   ],
   "source": [
    "longestSubarray([10,1,2,4,7,2], 5)"
   ]
  },
  {
   "cell_type": "code",
   "execution_count": 7,
   "id": "superior-camel",
   "metadata": {},
   "outputs": [
    {
     "data": {
      "text/plain": [
       "3"
      ]
     },
     "execution_count": 7,
     "metadata": {},
     "output_type": "execute_result"
    }
   ],
   "source": [
    "longestSubarray([4,2,2,2,4,4,2,2], 0)"
   ]
  },
  {
   "cell_type": "code",
   "execution_count": 8,
   "id": "motivated-graphic",
   "metadata": {},
   "outputs": [
    {
     "data": {
      "text/plain": [
       "6"
      ]
     },
     "execution_count": 8,
     "metadata": {},
     "output_type": "execute_result"
    }
   ],
   "source": [
    "longestSubarray([2, 2, 2, 2, 2, 2], 0)"
   ]
  },
  {
   "cell_type": "code",
   "execution_count": 9,
   "id": "aerial-smith",
   "metadata": {},
   "outputs": [
    {
     "data": {
      "text/plain": [
       "3"
      ]
     },
     "execution_count": 9,
     "metadata": {},
     "output_type": "execute_result"
    }
   ],
   "source": [
    "longestSubarray([2, 2, 1, 2, 2, 2], 0)"
   ]
  },
  {
   "cell_type": "code",
   "execution_count": 10,
   "id": "cloudy-explanation",
   "metadata": {},
   "outputs": [
    {
     "data": {
      "text/plain": [
       "25"
      ]
     },
     "execution_count": 10,
     "metadata": {},
     "output_type": "execute_result"
    }
   ],
   "source": [
    "a = [24,12,71,33,5,87,10,11,3,58,2,97,97,36,32,35,15,80,24,45,38,9,22,21,33,68,22,85,35,83,92,38,59,90,42,64,61,15,4,40,50,44,54,25,34,14,33,94,66,27,78,56,3,29,3,51,19,5,93,21,58,91,65,87,55,70,29,81,89,67,58,29,68,84,4,51,87,74,42,85,81,55,8,95,39]\n",
    "longestSubarray(a, 87)"
   ]
  }
 ],
 "metadata": {
  "kernelspec": {
   "display_name": "Python 3",
   "language": "python",
   "name": "python3"
  },
  "language_info": {
   "codemirror_mode": {
    "name": "ipython",
    "version": 3
   },
   "file_extension": ".py",
   "mimetype": "text/x-python",
   "name": "python",
   "nbconvert_exporter": "python",
   "pygments_lexer": "ipython3",
   "version": "3.8.6"
  }
 },
 "nbformat": 4,
 "nbformat_minor": 5
}
