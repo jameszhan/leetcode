{
 "cells": [
  {
   "cell_type": "markdown",
   "id": "prescribed-papua",
   "metadata": {},
   "source": [
    "### [两整数之和](https://leetcode-cn.com/problems/sum-of-two-integers/)\n",
    "\n",
    "不使用运算符`+`和`-`，计算两整数`a`、`b` 之和。\n",
    "\n",
    "#### 示例 1:\n",
    "```\n",
    "输入: a = 1, b = 2\n",
    "输出: 3\n",
    "```\n",
    "\n",
    "#### 示例 2:\n",
    "```\n",
    "输入: a = -2, b = 3\n",
    "输出: 1\n",
    "```"
   ]
  },
  {
   "cell_type": "code",
   "execution_count": 3,
   "id": "higher-combination",
   "metadata": {},
   "outputs": [],
   "source": [
    "def getSum(a: int, b: int) -> int:\n",
    "    return sum([a, b])"
   ]
  },
  {
   "cell_type": "code",
   "execution_count": 4,
   "id": "floating-pulse",
   "metadata": {},
   "outputs": [
    {
     "data": {
      "text/plain": [
       "3"
      ]
     },
     "execution_count": 4,
     "metadata": {},
     "output_type": "execute_result"
    }
   ],
   "source": [
    "getSum(1, 2)"
   ]
  },
  {
   "cell_type": "code",
   "execution_count": 5,
   "id": "wrapped-berlin",
   "metadata": {},
   "outputs": [
    {
     "data": {
      "text/plain": [
       "1"
      ]
     },
     "execution_count": 5,
     "metadata": {},
     "output_type": "execute_result"
    }
   ],
   "source": [
    "getSum(-2, 3)"
   ]
  },
  {
   "cell_type": "code",
   "execution_count": 6,
   "id": "fatal-layout",
   "metadata": {},
   "outputs": [],
   "source": [
    "from operator import add\n",
    "\n",
    "def getSum(a: int, b: int) -> int:\n",
    "    return add(a, b)"
   ]
  },
  {
   "cell_type": "code",
   "execution_count": 7,
   "id": "lonely-variety",
   "metadata": {},
   "outputs": [
    {
     "data": {
      "text/plain": [
       "1"
      ]
     },
     "execution_count": 7,
     "metadata": {},
     "output_type": "execute_result"
    }
   ],
   "source": [
    "getSum(-2, 3)"
   ]
  },
  {
   "cell_type": "code",
   "execution_count": 8,
   "id": "printable-pitch",
   "metadata": {},
   "outputs": [],
   "source": [
    "MASK = 0xFFFFFFFF\n",
    "def getSum(a: int, b: int) -> int:\n",
    "    if a == 0:\n",
    "        return b\n",
    "    if b == 0:\n",
    "        return a\n",
    "    \n",
    "    a &= MASK\n",
    "    b &= MASK\n",
    "    while b != 0:\n",
    "        carry = a & b\n",
    "        a ^= b\n",
    "        b = (carry << 1) & MASK\n",
    "    \n",
    "    return a if a < 0x80000000 else ~(a ^ MASK)"
   ]
  },
  {
   "cell_type": "code",
   "execution_count": 9,
   "id": "rental-extraction",
   "metadata": {},
   "outputs": [
    {
     "data": {
      "text/plain": [
       "1"
      ]
     },
     "execution_count": 9,
     "metadata": {},
     "output_type": "execute_result"
    }
   ],
   "source": [
    "getSum(-2, 3)"
   ]
  },
  {
   "cell_type": "code",
   "execution_count": 10,
   "id": "cleared-daisy",
   "metadata": {},
   "outputs": [
    {
     "data": {
      "text/plain": [
       "3"
      ]
     },
     "execution_count": 10,
     "metadata": {},
     "output_type": "execute_result"
    }
   ],
   "source": [
    "getSum(1, 2)"
   ]
  },
  {
   "cell_type": "code",
   "execution_count": 11,
   "id": "accompanied-blond",
   "metadata": {},
   "outputs": [
    {
     "data": {
      "text/plain": [
       "-1998"
      ]
     },
     "execution_count": 11,
     "metadata": {},
     "output_type": "execute_result"
    }
   ],
   "source": [
    "getSum(-999, -999)"
   ]
  },
  {
   "cell_type": "code",
   "execution_count": null,
   "id": "alone-circular",
   "metadata": {},
   "outputs": [],
   "source": []
  }
 ],
 "metadata": {
  "kernelspec": {
   "display_name": "Python 3",
   "language": "python",
   "name": "python3"
  },
  "language_info": {
   "codemirror_mode": {
    "name": "ipython",
    "version": 3
   },
   "file_extension": ".py",
   "mimetype": "text/x-python",
   "name": "python",
   "nbconvert_exporter": "python",
   "pygments_lexer": "ipython3",
   "version": "3.8.6"
  }
 },
 "nbformat": 4,
 "nbformat_minor": 5
}
