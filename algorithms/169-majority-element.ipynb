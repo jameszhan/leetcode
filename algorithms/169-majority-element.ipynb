{
 "cells": [
  {
   "cell_type": "markdown",
   "id": "married-glenn",
   "metadata": {},
   "source": [
    "给定一个大小为`n`的数组，找到其中的多数元素。多数元素是指在数组中出现次数 大于`⌊ n/2 ⌋`的元素。\n",
    "\n",
    "你可以假设数组是非空的，并且给定的数组总是存在多数元素。\n",
    "\n",
    "#### 示例 1：\n",
    "```\n",
    "输入：[3,2,3]\n",
    "输出：3\n",
    "```\n",
    "\n",
    "#### 示例 2：\n",
    "```\n",
    "输入：[2,2,1,1,1,2,2]\n",
    "输出：2\n",
    "```\n",
    "\n",
    "#### 进阶：\n",
    "\n",
    "尝试设计时间复杂度为`O(n)`、空间复杂度为`O(1)`的算法解决此问题。"
   ]
  },
  {
   "cell_type": "code",
   "execution_count": 4,
   "id": "united-imaging",
   "metadata": {},
   "outputs": [],
   "source": [
    "from typing import List\n",
    "\n",
    "def majorityElement(nums: List[int]) -> int:\n",
    "    ans = nums[0]\n",
    "    count = 1\n",
    "    for i in range(1, len(nums)):\n",
    "        if ans == nums[i]:\n",
    "            count += 1\n",
    "        else:\n",
    "            count -= 1\n",
    "            if count == 0:\n",
    "                ans = nums[i + 1]\n",
    "    return ans"
   ]
  },
  {
   "cell_type": "code",
   "execution_count": null,
   "id": "hairy-eclipse",
   "metadata": {},
   "outputs": [],
   "source": [
    "def majorityElement(nums: List[int]) -> int:\n",
    "    d = {}\n",
    "    for v in nums:\n",
    "        if v in d:\n",
    "            d[v] = d[v] + 1\n",
    "        else:\n",
    "            d[v] = 1\n",
    "    for k in d:\n",
    "        if d[k] > len(nums) / 2:\n",
    "            return k\n",
    "    return 0"
   ]
  }
 ],
 "metadata": {
  "kernelspec": {
   "display_name": "Python 3",
   "language": "python",
   "name": "python3"
  },
  "language_info": {
   "codemirror_mode": {
    "name": "ipython",
    "version": 3
   },
   "file_extension": ".py",
   "mimetype": "text/x-python",
   "name": "python",
   "nbconvert_exporter": "python",
   "pygments_lexer": "ipython3",
   "version": "3.8.6"
  }
 },
 "nbformat": 4,
 "nbformat_minor": 5
}
