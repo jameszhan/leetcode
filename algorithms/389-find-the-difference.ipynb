{
 "cells": [
  {
   "cell_type": "markdown",
   "id": "median-plaza",
   "metadata": {},
   "source": [
    "### [找不同](https://leetcode-cn.com/problems/find-the-difference/)\n",
    "\n",
    "给定两个字符串 s 和 t，它们只包含小写字母。\n",
    "\n",
    "字符串 t 由字符串 s 随机重排，然后在随机位置添加一个字母。\n",
    "\n",
    "请找出在 t 中被添加的字母。\n",
    "\n",
    "#### 示例 1：\n",
    "```\n",
    "输入：s = \"abcd\", t = \"abcde\"\n",
    "输出：\"e\"\n",
    "解释：'e' 是那个被添加的字母。\n",
    "```\n",
    "\n",
    "#### 示例 2：\n",
    "```\n",
    "输入：s = \"\", t = \"y\"\n",
    "输出：\"y\"\n",
    "```\n",
    "\n",
    "#### 示例 3：\n",
    "```\n",
    "输入：s = \"a\", t = \"aa\"\n",
    "输出：\"a\"\n",
    "```\n",
    "\n",
    "示例 4：\n",
    "```\n",
    "输入：s = \"ae\", t = \"aea\"\n",
    "输出：\"a\"\n",
    "```\n",
    "\n",
    "#### 提示：\n",
    "- 0 <= s.length <= 1000\n",
    "- t.length == s.length + 1\n",
    "- s 和 t 只包含小写字母"
   ]
  },
  {
   "cell_type": "code",
   "execution_count": 2,
   "id": "connected-hughes",
   "metadata": {},
   "outputs": [],
   "source": [
    "from collections import Counter\n",
    "\n",
    "def findTheDifference(s: str, t: str) -> str:\n",
    "    counter1, counter2 = Counter(s), Counter(t)\n",
    "    for c, v1 in counter2.items():\n",
    "        if c not in counter1:\n",
    "            return c\n",
    "        else:\n",
    "            v2 = counter1[c]\n",
    "            if v1 > v2:\n",
    "                return c\n",
    "    return None"
   ]
  },
  {
   "cell_type": "code",
   "execution_count": 3,
   "id": "paperback-people",
   "metadata": {},
   "outputs": [
    {
     "data": {
      "text/plain": [
       "'a'"
      ]
     },
     "execution_count": 3,
     "metadata": {},
     "output_type": "execute_result"
    }
   ],
   "source": [
    "findTheDifference(\"ae\", \"aea\")"
   ]
  },
  {
   "cell_type": "code",
   "execution_count": 4,
   "id": "coordinated-nurse",
   "metadata": {},
   "outputs": [
    {
     "data": {
      "text/plain": [
       "'a'"
      ]
     },
     "execution_count": 4,
     "metadata": {},
     "output_type": "execute_result"
    }
   ],
   "source": [
    "findTheDifference(\"a\", \"aa\")"
   ]
  },
  {
   "cell_type": "code",
   "execution_count": 5,
   "id": "excited-offering",
   "metadata": {},
   "outputs": [
    {
     "data": {
      "text/plain": [
       "'y'"
      ]
     },
     "execution_count": 5,
     "metadata": {},
     "output_type": "execute_result"
    }
   ],
   "source": [
    "findTheDifference(\"\", \"y\")"
   ]
  },
  {
   "cell_type": "code",
   "execution_count": 6,
   "id": "caroline-collection",
   "metadata": {},
   "outputs": [
    {
     "data": {
      "text/plain": [
       "'e'"
      ]
     },
     "execution_count": 6,
     "metadata": {},
     "output_type": "execute_result"
    }
   ],
   "source": [
    "findTheDifference(\"abcd\", \"abcde\")"
   ]
  }
 ],
 "metadata": {
  "kernelspec": {
   "display_name": "Python 3",
   "language": "python",
   "name": "python3"
  },
  "language_info": {
   "codemirror_mode": {
    "name": "ipython",
    "version": 3
   },
   "file_extension": ".py",
   "mimetype": "text/x-python",
   "name": "python",
   "nbconvert_exporter": "python",
   "pygments_lexer": "ipython3",
   "version": "3.8.6"
  }
 },
 "nbformat": 4,
 "nbformat_minor": 5
}
