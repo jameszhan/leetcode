{
 "cells": [
  {
   "cell_type": "markdown",
   "id": "cellular-angle",
   "metadata": {},
   "source": [
    "#### [组合总和 Ⅳ](https://leetcode-cn.com/problems/combination-sum-iv/)\n",
    "\n",
    "给定一个由正整数组成且不存在重复数字的数组，找出和为给定目标正整数的组合的个数。\n",
    "\n",
    "#### 示例:\n",
    "```\n",
    "nums = [1, 2, 3]\n",
    "target = 4\n",
    "\n",
    "所有可能的组合为：\n",
    "(1, 1, 1, 1)\n",
    "(1, 1, 2)\n",
    "(1, 2, 1)\n",
    "(1, 3)\n",
    "(2, 1, 1)\n",
    "(2, 2)\n",
    "(3, 1)\n",
    "\n",
    "请注意，顺序不同的序列被视作不同的组合。\n",
    "\n",
    "因此输出为 7。\n",
    "```\n",
    "\n",
    "#### 进阶：\n",
    "- 如果给定的数组中含有负数会怎么样？\n",
    "- 问题会产生什么变化？\n",
    "- 我们需要在题目中添加什么限制来允许负数的出现？\n",
    "\n",
    "#### 相关题目\n",
    "- [39. 组合总和](https://leetcode-cn.com/problems/combination-sum/)\n",
    "- [40. 组合总和 II](https://leetcode-cn.com/problems/combination-sum-ii/)\n",
    "- [377. 组合总和 Ⅳ](https://leetcode-cn.com/problems/combination-sum-iv/)\n",
    "- [加起来和为目标值的组合](https://www.nowcoder.com/practice/75e6cd5b85ab41c6a7c43359a74e869a)"
   ]
  },
  {
   "cell_type": "code",
   "execution_count": 1,
   "id": "thrown-sheet",
   "metadata": {},
   "outputs": [],
   "source": [
    "from typing import List\n",
    "\n",
    "def combinationSum(nums: List[int], target: int) -> int:\n",
    "    n = len(nums)\n",
    "    answers = []\n",
    "    def solve(target: int, start: int, candidates: List[int]):\n",
    "        if target == 0:\n",
    "            answers.append(candidates.copy())\n",
    "        elif target > 0:\n",
    "            for i in range(n):\n",
    "                num = nums[i]\n",
    "                candidates.append(num)\n",
    "                solve(target - num, i, candidates)\n",
    "                candidates.pop()\n",
    "    \n",
    "    if n > 0:\n",
    "        solve(target, 0, [])  \n",
    "    return len(answers)"
   ]
  },
  {
   "cell_type": "code",
   "execution_count": 2,
   "id": "seeing-space",
   "metadata": {},
   "outputs": [
    {
     "data": {
      "text/plain": [
       "7"
      ]
     },
     "execution_count": 2,
     "metadata": {},
     "output_type": "execute_result"
    }
   ],
   "source": [
    "combinationSum([1, 2, 3], 4)"
   ]
  },
  {
   "cell_type": "code",
   "execution_count": null,
   "id": "removed-peripheral",
   "metadata": {},
   "outputs": [],
   "source": [
    "combinationSum([4, 2, 1], 32)"
   ]
  },
  {
   "cell_type": "code",
   "execution_count": null,
   "id": "documentary-valentine",
   "metadata": {},
   "outputs": [],
   "source": []
  }
 ],
 "metadata": {
  "kernelspec": {
   "display_name": "Python 3",
   "language": "python",
   "name": "python3"
  },
  "language_info": {
   "codemirror_mode": {
    "name": "ipython",
    "version": 3
   },
   "file_extension": ".py",
   "mimetype": "text/x-python",
   "name": "python",
   "nbconvert_exporter": "python",
   "pygments_lexer": "ipython3",
   "version": "3.8.6"
  }
 },
 "nbformat": 4,
 "nbformat_minor": 5
}
