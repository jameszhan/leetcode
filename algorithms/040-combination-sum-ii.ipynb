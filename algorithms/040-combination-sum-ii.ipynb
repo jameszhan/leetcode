{
 "cells": [
  {
   "cell_type": "markdown",
   "id": "medical-passport",
   "metadata": {},
   "source": [
    "#### [组合总和 II](https://leetcode-cn.com/problems/combination-sum-ii/)\n",
    "\n",
    "给定一个数组`candidates`和一个目标数`target`，找出`candidates`中所有可以使数字和为`target`的组合。\n",
    "\n",
    "`candidates`中的每个数字在每个组合中只能使用一次。\n",
    "\n",
    "#### 说明：\n",
    "- 所有数字（包括目标数）都是正整数。\n",
    "- 解集不能包含重复的组合。 \n",
    "\n",
    "#### 示例 1:\n",
    "```\n",
    "输入: candidates = [10,1,2,7,6,1,5], target = 8,\n",
    "所求解集为:\n",
    "[\n",
    "  [1, 7],\n",
    "  [1, 2, 5],\n",
    "  [2, 6],\n",
    "  [1, 1, 6]\n",
    "]\n",
    "```\n",
    "\n",
    "#### 示例 2:\n",
    "```\n",
    "输入: candidates = [2,5,2,1,2], target = 5,\n",
    "所求解集为:\n",
    "[\n",
    "  [1,2,2],\n",
    "  [5]\n",
    "]\n",
    "```\n",
    "\n",
    "#### 相关题目\n",
    "- [39. 组合总和](https://leetcode-cn.com/problems/combination-sum/)\n",
    "- [40. 组合总和 II](https://leetcode-cn.com/problems/combination-sum-ii/)\n",
    "- [377. 组合总和 Ⅳ](https://leetcode-cn.com/problems/combination-sum-iv/)\n",
    "- [加起来和为目标值的组合](https://www.nowcoder.com/practice/75e6cd5b85ab41c6a7c43359a74e869a)"
   ]
  },
  {
   "cell_type": "code",
   "execution_count": 16,
   "id": "flush-producer",
   "metadata": {},
   "outputs": [],
   "source": [
    "from typing import List\n",
    "\n",
    "# 允许重复的版本\n",
    "def combinationSum2(candidates: List[int], target: int) -> List[List[int]]:\n",
    "    candidates.sort()\n",
    "    \n",
    "    ans = []\n",
    "    def solve(candidates: List[int], items:List[int], target):\n",
    "        if candidates and target > 0:\n",
    "            for c in candidates:\n",
    "                items.append(c)\n",
    "                solve(candidates[1:], items, target - c)\n",
    "                items.pop()\n",
    "        elif target == 0:\n",
    "            ans.append(list(items))\n",
    "    \n",
    "    solve(candidates, [], target)\n",
    "    return ans"
   ]
  },
  {
   "cell_type": "code",
   "execution_count": 17,
   "id": "white-lexington",
   "metadata": {},
   "outputs": [
    {
     "data": {
      "text/plain": [
       "[[1, 1, 6],\n",
       " [1, 2, 5],\n",
       " [1, 5, 2],\n",
       " [1, 7],\n",
       " [1, 1, 6],\n",
       " [1, 2, 5],\n",
       " [1, 5, 2],\n",
       " [1, 7],\n",
       " [2, 1, 5],\n",
       " [2, 6],\n",
       " [5, 1, 2],\n",
       " [6, 2],\n",
       " [7, 1]]"
      ]
     },
     "execution_count": 17,
     "metadata": {},
     "output_type": "execute_result"
    }
   ],
   "source": [
    "combinationSum2([10, 1, 2, 7, 6, 1, 5], 8)"
   ]
  },
  {
   "cell_type": "code",
   "execution_count": 18,
   "id": "prostate-poison",
   "metadata": {},
   "outputs": [
    {
     "data": {
      "text/plain": [
       "[[1, 2, 2], [1, 2, 2], [1, 2, 2], [1, 2, 2], [1, 2, 2], [1, 2, 2], [5]]"
      ]
     },
     "execution_count": 18,
     "metadata": {},
     "output_type": "execute_result"
    }
   ],
   "source": [
    "combinationSum2([2, 5, 2, 1, 2], 5)"
   ]
  },
  {
   "cell_type": "code",
   "execution_count": 143,
   "id": "comfortable-lodging",
   "metadata": {},
   "outputs": [],
   "source": [
    "# 去除重复版本\n",
    "def combinationSum(nums: List[int], target: int) -> List[List[int]]:\n",
    "    n, answers = len(nums), []\n",
    "    def solve(target, start, ans):\n",
    "        if target == 0:\n",
    "            a = ans.copy()\n",
    "            if a not in answers:\n",
    "                answers.append(a)\n",
    "        elif target > 0:\n",
    "            for i in range(start, n):\n",
    "                num = nums[i]\n",
    "                if num > target:\n",
    "                    break\n",
    "                ans.append(num)\n",
    "                solve(target - num, i + 1, ans)\n",
    "                ans.pop()\n",
    "\n",
    "    if n > 0:\n",
    "        s = sum(nums)\n",
    "        if s >= target:\n",
    "            nums.sort()\n",
    "            solve(target, 0, [])\n",
    "    return answers"
   ]
  },
  {
   "cell_type": "code",
   "execution_count": 144,
   "id": "refined-brave",
   "metadata": {},
   "outputs": [
    {
     "data": {
      "text/plain": [
       "[[1, 1, 6], [1, 2, 5], [1, 7], [2, 6]]"
      ]
     },
     "execution_count": 144,
     "metadata": {},
     "output_type": "execute_result"
    }
   ],
   "source": [
    "combinationSum([10, 1, 2, 7, 6, 1, 5], 8)"
   ]
  },
  {
   "cell_type": "code",
   "execution_count": 145,
   "id": "unable-prayer",
   "metadata": {},
   "outputs": [
    {
     "data": {
      "text/plain": [
       "[[1, 2, 2], [5]]"
      ]
     },
     "execution_count": 145,
     "metadata": {},
     "output_type": "execute_result"
    }
   ],
   "source": [
    "combinationSum([2, 5, 2, 1, 2], 5)"
   ]
  },
  {
   "cell_type": "code",
   "execution_count": 146,
   "id": "corporate-search",
   "metadata": {},
   "outputs": [
    {
     "data": {
      "text/plain": [
       "[]"
      ]
     },
     "execution_count": 146,
     "metadata": {},
     "output_type": "execute_result"
    }
   ],
   "source": [
    "combinationSum([1, 2], 4)"
   ]
  },
  {
   "cell_type": "code",
   "execution_count": 147,
   "id": "unexpected-bronze",
   "metadata": {},
   "outputs": [
    {
     "data": {
      "text/plain": [
       "[]"
      ]
     },
     "execution_count": 147,
     "metadata": {},
     "output_type": "execute_result"
    }
   ],
   "source": [
    "combinationSum([1,1,1,1,1,1,1,1,1,1,1,1,1,1,1,1,1,1,1,1,1,1,1,1,1], 27)"
   ]
  },
  {
   "cell_type": "code",
   "execution_count": 148,
   "id": "comparable-consent",
   "metadata": {},
   "outputs": [
    {
     "data": {
      "text/plain": [
       "[[1]]"
      ]
     },
     "execution_count": 148,
     "metadata": {},
     "output_type": "execute_result"
    }
   ],
   "source": [
    "combinationSum([1], 1)"
   ]
  }
 ],
 "metadata": {
  "kernelspec": {
   "display_name": "Python 3",
   "language": "python",
   "name": "python3"
  },
  "language_info": {
   "codemirror_mode": {
    "name": "ipython",
    "version": 3
   },
   "file_extension": ".py",
   "mimetype": "text/x-python",
   "name": "python",
   "nbconvert_exporter": "python",
   "pygments_lexer": "ipython3",
   "version": "3.8.6"
  }
 },
 "nbformat": 4,
 "nbformat_minor": 5
}
