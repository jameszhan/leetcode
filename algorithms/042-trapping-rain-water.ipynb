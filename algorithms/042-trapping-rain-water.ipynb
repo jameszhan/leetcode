{
 "cells": [
  {
   "cell_type": "markdown",
   "id": "supported-surgery",
   "metadata": {},
   "source": [
    "### [接雨水](https://leetcode-cn.com/problems/trapping-rain-water/)\n",
    "\n",
    "给定`n`个非负整数表示每个宽度为`1`的柱子的高度图，计算按此排列的柱子，下雨之后能接多少雨水。\n",
    "\n",
    "#### 示例 1：\n",
    "```\n",
    "输入：height = [0,1,0,2,1,0,1,3,2,1,2,1]\n",
    "输出：6\n",
    "解释：上面是由数组 [0,1,0,2,1,0,1,3,2,1,2,1] 表示的高度图，在这种情况下，可以接 6 个单位的雨水（蓝色部分表示雨水）。 \n",
    "```\n",
    "\n",
    "#### 示例 2：\n",
    "```\n",
    "输入：height = [4,2,0,3,2,5]\n",
    "输出：9\n",
    "```\n",
    "\n",
    "#### 提示：\n",
    "- `n == height.length`\n",
    "- `0 <= n <= 3 * 104`\n",
    "- `0 <= height[i] <= 105`\n",
    "\n",
    "#### 相关题目\n",
    "- [容器盛水问题](https://www.nowcoder.com/practice/31c1aed01b394f0b8b7734de0324e00f)\n",
    "- [11. 盛最多水的容器](https://leetcode-cn.com/problems/container-with-most-water/)\n",
    "- [42. 接雨水](https://leetcode-cn.com/problems/trapping-rain-water/)\n",
    "- [407. 接雨水 II](https://leetcode-cn.com/problems/trapping-rain-water-ii/)\n",
    "- [面试题 17.21. 直方图的水量](https://leetcode-cn.com/problems/volume-of-histogram-lcci/)"
   ]
  },
  {
   "cell_type": "code",
   "execution_count": 21,
   "id": "hungarian-french",
   "metadata": {},
   "outputs": [],
   "source": [
    "from typing import List\n",
    "\n",
    "def trap(heights: List[int]) -> int:\n",
    "    if not heights :\n",
    "        return 0\n",
    "    \n",
    "    n = len(heights)\n",
    "    if n <= 2:\n",
    "        return 0\n",
    "    \n",
    "    left, right = [0 for _ in range(n)], [0 for _ in range(n)]\n",
    "    for i in range(1, n):\n",
    "        left[i] = max(left[i - 1], heights[i - 1])\n",
    "    \n",
    "    for j in range(n - 2, -1, -1):\n",
    "        right[j] = max(right[j + 1], heights[j + 1])\n",
    "        \n",
    "    ans = 0\n",
    "    for k in range(1, n - 1):\n",
    "        h = min(left[k], right[k])\n",
    "        if h > heights[k]:\n",
    "            ans += (h - heights[k])\n",
    "    return ans"
   ]
  },
  {
   "cell_type": "code",
   "execution_count": 22,
   "id": "polished-manitoba",
   "metadata": {},
   "outputs": [
    {
     "data": {
      "text/plain": [
       "6"
      ]
     },
     "execution_count": 22,
     "metadata": {},
     "output_type": "execute_result"
    }
   ],
   "source": [
    "trap([0,1,0,2,1,0,1,3,2,1,2,1])"
   ]
  },
  {
   "cell_type": "code",
   "execution_count": 23,
   "id": "bridal-integer",
   "metadata": {},
   "outputs": [
    {
     "data": {
      "text/plain": [
       "5"
      ]
     },
     "execution_count": 23,
     "metadata": {},
     "output_type": "execute_result"
    }
   ],
   "source": [
    "trap([3,1,2,5,2,4])"
   ]
  },
  {
   "cell_type": "code",
   "execution_count": 24,
   "id": "qualified-slovenia",
   "metadata": {},
   "outputs": [
    {
     "data": {
      "text/plain": [
       "9"
      ]
     },
     "execution_count": 24,
     "metadata": {},
     "output_type": "execute_result"
    }
   ],
   "source": [
    "trap([4,2,0,3,2,5])"
   ]
  },
  {
   "cell_type": "code",
   "execution_count": null,
   "id": "reverse-parameter",
   "metadata": {},
   "outputs": [],
   "source": []
  }
 ],
 "metadata": {
  "kernelspec": {
   "display_name": "Python 3",
   "language": "python",
   "name": "python3"
  },
  "language_info": {
   "codemirror_mode": {
    "name": "ipython",
    "version": 3
   },
   "file_extension": ".py",
   "mimetype": "text/x-python",
   "name": "python",
   "nbconvert_exporter": "python",
   "pygments_lexer": "ipython3",
   "version": "3.8.6"
  }
 },
 "nbformat": 4,
 "nbformat_minor": 5
}
