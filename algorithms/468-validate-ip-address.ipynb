{
 "cells": [
  {
   "cell_type": "markdown",
   "id": "million-stations",
   "metadata": {},
   "source": [
    "### [验证IP地址](https://leetcode-cn.com/problems/validate-ip-address/)\n",
    "\n",
    "编写一个函数来验证输入的字符串是否是有效的`IPv4`或`IPv6`地址。\n",
    "\n",
    "如果是有效的`IPv4`地址，返回 \"IPv4\" ；\n",
    "如果是有效的`IPv6`地址，返回 \"IPv6\" ；\n",
    "如果不是上述类型的`IP`地址，返回 \"Neither\"。\n",
    "\n",
    "`IPv4`地址由十进制数和点来表示，每个地址包含 4 个十进制数，其范围为 0 - 255， 用(\".\")分割。比如，`172.16.254.1`；\n",
    "\n",
    "同时，`IPv4`地址内的数不会以`0`开头。比如，地址`172.16.254.01`是不合法的。\n",
    "\n",
    "`IPv6`地址由`8`组`16`进制的数字来表示，每组表示`16`比特。这些组数字通过 (\":\")分割。比如,  `2001:0db8:85a3:0000:0000:8a2e:0370:7334`是一个有效的地址。而且，我们可以加入一些以`0`开头的数字，字母可以使用大写，也可以是小写。所以， `2001:db8:85a3:0:0:8A2E:0370:7334`也是一个有效的IPv6 address地址 (即，忽略 0 开头，忽略大小写)。\n",
    "\n",
    "然而，我们不能因为某个组的值为`0`，而使用一个空的组，以至于出现 (::) 的情况。 比如， `2001:0db8:85a3::8A2E:0370:7334`是无效的 IPv6 地址。\n",
    "\n",
    "同时，在`IPv6`地址中，多余的`0`也是不被允许的。比如， `02001:0db8:85a3:0000:0000:8a2e:0370:7334`是无效的。\n",
    "\n",
    "#### 示例 1：\n",
    "```\n",
    "输入：IP = \"172.16.254.1\"\n",
    "输出：\"IPv4\"\n",
    "解释：有效的 IPv4 地址，返回 \"IPv4\"\n",
    "```\n",
    "\n",
    "#### 示例 2：\n",
    "\n",
    "```\n",
    "输入：IP = \"2001:0db8:85a3:0:0:8A2E:0370:7334\"\n",
    "输出：\"IPv6\"\n",
    "解释：有效的 IPv6 地址，返回 \"IPv6\"\n",
    "```\n",
    "\n",
    "#### 示例 3：\n",
    "```\n",
    "输入：IP = \"256.256.256.256\"\n",
    "输出：\"Neither\"\n",
    "解释：既不是 IPv4 地址，又不是 IPv6 地址\n",
    "```\n",
    "\n",
    "#### 示例 4：\n",
    "```\n",
    "输入：IP = \"2001:0db8:85a3:0:0:8A2E:0370:7334:\"\n",
    "输出：\"Neither\"\n",
    "```\n",
    "\n",
    "#### 示例 5：\n",
    "```\n",
    "输入：IP = \"1e1.4.5.6\"\n",
    "输出：\"Neither\"\n",
    "```\n",
    "\n",
    "#### 提示：\n",
    "> IP 仅由英文字母，数字，字符 '.' 和 ':' 组成。\n"
   ]
  },
  {
   "cell_type": "code",
   "execution_count": 59,
   "id": "rubber-investigation",
   "metadata": {},
   "outputs": [],
   "source": [
    "import re\n",
    "\n",
    "def validIPAddress(IP: str) -> str:\n",
    "    ipv4 = re.compile('^((25[0-5]|2[0-4][0-9]|1[0-9][0-9]|[1-9][0-9]|[0-9])\\.){3}(25[0-5]|2[0-4][0-9]|1[0-9][0-9]|[1-9][0-9]|[0-9])$')\n",
    "    ipv6 = re.compile('^((([0-9]|[a-f]|[A-F]){1,4})\\:){7}([0-9]|[a-f]|[A-F]){1,4}$')\n",
    "\n",
    "    if len(IP) <= 16 and ipv4.match(IP):\n",
    "        return \"IPv4\"\n",
    "    elif ipv6.match(IP):\n",
    "        return \"IPv6\"\n",
    "    else:\n",
    "        return \"Neither\""
   ]
  },
  {
   "cell_type": "code",
   "execution_count": 60,
   "id": "stretch-patrol",
   "metadata": {},
   "outputs": [
    {
     "data": {
      "text/plain": [
       "'IPv4'"
      ]
     },
     "execution_count": 60,
     "metadata": {},
     "output_type": "execute_result"
    }
   ],
   "source": [
    "validIPAddress(\"172.16.254.1\")"
   ]
  },
  {
   "cell_type": "code",
   "execution_count": 61,
   "id": "saved-vampire",
   "metadata": {},
   "outputs": [
    {
     "data": {
      "text/plain": [
       "'IPv6'"
      ]
     },
     "execution_count": 61,
     "metadata": {},
     "output_type": "execute_result"
    }
   ],
   "source": [
    "validIPAddress(\"2001:0db8:85a3:0:0:8A2E:0370:7334\")"
   ]
  },
  {
   "cell_type": "code",
   "execution_count": 62,
   "id": "hourly-python",
   "metadata": {},
   "outputs": [
    {
     "data": {
      "text/plain": [
       "'Neither'"
      ]
     },
     "execution_count": 62,
     "metadata": {},
     "output_type": "execute_result"
    }
   ],
   "source": [
    "validIPAddress(\"256.256.256.256\")"
   ]
  },
  {
   "cell_type": "code",
   "execution_count": 63,
   "id": "adverse-criminal",
   "metadata": {},
   "outputs": [
    {
     "data": {
      "text/plain": [
       "'Neither'"
      ]
     },
     "execution_count": 63,
     "metadata": {},
     "output_type": "execute_result"
    }
   ],
   "source": [
    "validIPAddress(\"2001:0db8:85a3:0:0:8A2E:0370:7334:\")"
   ]
  },
  {
   "cell_type": "code",
   "execution_count": 64,
   "id": "musical-cartridge",
   "metadata": {},
   "outputs": [
    {
     "data": {
      "text/plain": [
       "'Neither'"
      ]
     },
     "execution_count": 64,
     "metadata": {},
     "output_type": "execute_result"
    }
   ],
   "source": [
    "validIPAddress(\"01.01.01.01\")"
   ]
  },
  {
   "cell_type": "code",
   "execution_count": 65,
   "id": "clinical-visibility",
   "metadata": {},
   "outputs": [
    {
     "data": {
      "text/plain": [
       "'IPv6'"
      ]
     },
     "execution_count": 65,
     "metadata": {},
     "output_type": "execute_result"
    }
   ],
   "source": [
    "validIPAddress(\"2001:0db8:85a3:033:0:8A2E:0370:7334\")"
   ]
  },
  {
   "cell_type": "code",
   "execution_count": null,
   "id": "therapeutic-freeze",
   "metadata": {},
   "outputs": [],
   "source": []
  }
 ],
 "metadata": {
  "kernelspec": {
   "display_name": "Python 3",
   "language": "python",
   "name": "python3"
  },
  "language_info": {
   "codemirror_mode": {
    "name": "ipython",
    "version": 3
   },
   "file_extension": ".py",
   "mimetype": "text/x-python",
   "name": "python",
   "nbconvert_exporter": "python",
   "pygments_lexer": "ipython3",
   "version": "3.8.6"
  }
 },
 "nbformat": 4,
 "nbformat_minor": 5
}
