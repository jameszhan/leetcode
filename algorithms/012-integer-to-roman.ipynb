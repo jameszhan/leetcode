{
 "cells": [
  {
   "cell_type": "markdown",
   "id": "hispanic-circle",
   "metadata": {},
   "source": [
    "罗马数字包含以下七种字符： I， V， X， L，C，D 和 M。\n",
    "\n",
    "```\n",
    "字符          数值\n",
    "I             1\n",
    "V             5\n",
    "X             10\n",
    "L             50\n",
    "C             100\n",
    "D             500\n",
    "M             1000\n",
    "```\n",
    "\n",
    "例如， 罗马数字 `2` 写做 `II` ，即为两个并列的 `I`。`12` 写做 `XII` ，即为 `X + II` 。 27 写做  `XXVII`, 即为 `XX + V + II`。\n",
    "\n",
    "通常情况下，罗马数字中小的数字在大的数字的右边。但也存在特例，例如 4 不写做 IIII，而是 IV。数字 1 在数字 5 的左边，所表示的数等于大数 5 减小数 1 得到的数值 4 。同样地，数字 9 表示为 IX。这个特殊的规则只适用于以下六种情况：\n",
    "\n",
    "I 可以放在 V (5) 和 X (10) 的左边，来表示 4 和 9。\n",
    "X 可以放在 L (50) 和 C (100) 的左边，来表示 40 和 90。 \n",
    "C 可以放在 D (500) 和 M (1000) 的左边，来表示 400 和 900。\n",
    "给定一个整数，将其转为罗马数字。输入确保在 1 到 3999 的范围内。\n",
    "\n",
    "#### 示例 1:\n",
    "```\n",
    "输入: 3\n",
    "输出: \"III\"\n",
    "```\n",
    "\n",
    "#### 示例 2:\n",
    "```\n",
    "输入: 4\n",
    "输出: \"IV\"\n",
    "```\n",
    "\n",
    "#### 示例 3:\n",
    "```\n",
    "输入: 9\n",
    "输出: \"IX\"\n",
    "```\n",
    "\n",
    "#### 示例 4:\n",
    "```\n",
    "输入: 58\n",
    "输出: \"LVIII\"\n",
    "解释: L = 50, V = 5, III = 3.\n",
    "```\n",
    "\n",
    "#### 示例 5:\n",
    "```\n",
    "输入: 1994\n",
    "输出: \"MCMXCIV\"\n",
    "解释: M = 1000, CM = 900, XC = 90, IV = 4.\n",
    "```\n",
    "\n",
    "#### 提示：\n",
    "\n",
    "`1 <= num <= 3999`"
   ]
  },
  {
   "cell_type": "code",
   "execution_count": 21,
   "id": "informative-mount",
   "metadata": {},
   "outputs": [],
   "source": [
    "digits = [('M', 1000), ('CM', 900), ('D', 500), ('CD', 400), ('C', 100), ('XC', 90), \n",
    "          ('L', 50), ('XL', 40), ('X', 10), ('IX', 9), ('V', 5), ('IV', 4), ('I', 1)]\n",
    "\n",
    "def solve(n: int) -> str:\n",
    "    assert n > 0 and n < 4000, '1 <= n <= 3999'\n",
    "    ans = []\n",
    "    for sym, val in digits:\n",
    "        if n > val:\n",
    "            count, n = divmod(n, val)\n",
    "            ans += [sym] * count\n",
    "        elif n == val:\n",
    "            ans.append(sym)\n",
    "            break\n",
    "    \n",
    "    return ''.join(ans)"
   ]
  },
  {
   "cell_type": "code",
   "execution_count": 22,
   "id": "judicial-petroleum",
   "metadata": {},
   "outputs": [
    {
     "data": {
      "text/plain": [
       "'III'"
      ]
     },
     "execution_count": 22,
     "metadata": {},
     "output_type": "execute_result"
    }
   ],
   "source": [
    "solve(3)"
   ]
  },
  {
   "cell_type": "code",
   "execution_count": 23,
   "id": "graduate-dairy",
   "metadata": {},
   "outputs": [
    {
     "data": {
      "text/plain": [
       "'IV'"
      ]
     },
     "execution_count": 23,
     "metadata": {},
     "output_type": "execute_result"
    }
   ],
   "source": [
    "solve(4)"
   ]
  },
  {
   "cell_type": "code",
   "execution_count": 24,
   "id": "enhanced-thompson",
   "metadata": {},
   "outputs": [
    {
     "data": {
      "text/plain": [
       "'IX'"
      ]
     },
     "execution_count": 24,
     "metadata": {},
     "output_type": "execute_result"
    }
   ],
   "source": [
    "solve(9)"
   ]
  },
  {
   "cell_type": "code",
   "execution_count": 25,
   "id": "median-console",
   "metadata": {},
   "outputs": [
    {
     "data": {
      "text/plain": [
       "'LVIII'"
      ]
     },
     "execution_count": 25,
     "metadata": {},
     "output_type": "execute_result"
    }
   ],
   "source": [
    "solve(58)"
   ]
  },
  {
   "cell_type": "code",
   "execution_count": 26,
   "id": "miniature-madagascar",
   "metadata": {},
   "outputs": [
    {
     "data": {
      "text/plain": [
       "'MCMXCIV'"
      ]
     },
     "execution_count": 26,
     "metadata": {},
     "output_type": "execute_result"
    }
   ],
   "source": [
    "solve(1994)"
   ]
  }
 ],
 "metadata": {
  "kernelspec": {
   "display_name": "Python 3",
   "language": "python",
   "name": "python3"
  },
  "language_info": {
   "codemirror_mode": {
    "name": "ipython",
    "version": 3
   },
   "file_extension": ".py",
   "mimetype": "text/x-python",
   "name": "python",
   "nbconvert_exporter": "python",
   "pygments_lexer": "ipython3",
   "version": "3.8.6"
  }
 },
 "nbformat": 4,
 "nbformat_minor": 5
}
