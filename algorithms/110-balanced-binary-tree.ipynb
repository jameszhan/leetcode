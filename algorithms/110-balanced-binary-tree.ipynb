{
 "cells": [
  {
   "cell_type": "markdown",
   "id": "likely-provider",
   "metadata": {},
   "source": [
    "### [平衡二叉树](https://leetcode-cn.com/problems/balanced-binary-tree/)\n",
    "\n",
    "给定一个二叉树，判断它是否是高度平衡的二叉树。\n",
    "\n",
    "本题中，一棵高度平衡二叉树定义为：\n",
    "\n",
    "一个二叉树每个节点 的左右两个子树的高度差的绝对值不超过`1`。\n",
    "\n",
    "#### 示例 1：\n",
    "```\n",
    "输入：root = [3,9,20,null,null,15,7]\n",
    "输出：true\n",
    "```\n",
    "\n",
    "#### 示例 2：\n",
    "```\n",
    "输入：root = [1,2,2,3,3,null,null,4,4]\n",
    "输出：false\n",
    "```\n",
    "\n",
    "#### 示例 3：\n",
    "```\n",
    "输入：root = []\n",
    "输出：true\n",
    "``` \n",
    "\n",
    "#### 提示：\n",
    "- 树中的节点数在范围`[0, 5000]`内\n",
    "- $ -10^4 <= Node.val <= 10^4 $"
   ]
  },
  {
   "cell_type": "code",
   "execution_count": 4,
   "id": "intellectual-lounge",
   "metadata": {},
   "outputs": [],
   "source": [
    "class TreeNode:\n",
    "    def __init__(self, val=0, left=None, right=None):\n",
    "        self.val = val\n",
    "        self.left = left\n",
    "        self.right = right\n",
    "        \n",
    "class Solution:\n",
    "    def isBalanced(self, root: TreeNode) -> bool:\n",
    "        def depth(node: TreeNode) -> int:\n",
    "            if node:\n",
    "                return max(depth(node.left), depth(node.right)) + 1\n",
    "            else:\n",
    "                return 0\n",
    "            \n",
    "        if root:\n",
    "            return abs(depth(root.left) - depth(root.right)) <= 1 and self.isBalanced(root.left) and self.isBalanced(root.right)\n",
    "        else:\n",
    "            return True"
   ]
  }
 ],
 "metadata": {
  "kernelspec": {
   "display_name": "Python 3",
   "language": "python",
   "name": "python3"
  },
  "language_info": {
   "codemirror_mode": {
    "name": "ipython",
    "version": 3
   },
   "file_extension": ".py",
   "mimetype": "text/x-python",
   "name": "python",
   "nbconvert_exporter": "python",
   "pygments_lexer": "ipython3",
   "version": "3.8.6"
  }
 },
 "nbformat": 4,
 "nbformat_minor": 5
}
