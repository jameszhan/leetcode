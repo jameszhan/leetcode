{
 "cells": [
  {
   "cell_type": "markdown",
   "id": "metallic-zealand",
   "metadata": {},
   "source": [
    "### [最大连续1的个数 III](https://leetcode-cn.com/problems/max-consecutive-ones-iii/)\n",
    "\n",
    "给定一个由若干 0 和 1 组成的数组 A，我们最多可以将 K 个值从 0 变成 1 。\n",
    "\n",
    "返回仅包含 1 的最长（连续）子数组的长度。\n",
    "\n",
    "\n",
    "#### 示例 1：\n",
    "```\n",
    "输入：A = [1,1,1,0,0,0,1,1,1,1,0], K = 2\n",
    "输出：6\n",
    "解释： \n",
    "[1,1,1,0,0,1,1,1,1,1,1]\n",
    "粗体数字从 0 翻转到 1，最长的子数组长度为 6。\n",
    "```\n",
    "\n",
    "#### 示例 2：\n",
    "```\n",
    "输入：A = [0,0,1,1,0,0,1,1,1,0,1,1,0,0,0,1,1,1,1], K = 3\n",
    "输出：10\n",
    "解释：\n",
    "[0,0,1,1,1,1,1,1,1,1,1,1,0,0,0,1,1,1,1]\n",
    "粗体数字从 0 翻转到 1，最长的子数组长度为 10。\n",
    "```\n",
    "\n",
    "#### 提示：\n",
    "- 1 <= A.length <= 20000\n",
    "- 0 <= K <= A.length\n",
    "- A[i] 为 0 或 1 "
   ]
  },
  {
   "cell_type": "code",
   "execution_count": 21,
   "id": "mineral-assault",
   "metadata": {},
   "outputs": [],
   "source": [
    "from typing import List\n",
    "\n",
    "def longestOnes(A: List[int], K: int) -> int:\n",
    "    n = len(A)\n",
    "    left, right, count = 0, 0, 0\n",
    "    ans = 0\n",
    "    while right < n:\n",
    "        if A[right] == 0:                       # 扩大右边界\n",
    "            count += 1\n",
    "        \n",
    "        right += 1\n",
    "        \n",
    "        while count > K:\n",
    "            if A[left] == 0:\n",
    "                count -= 1\n",
    "            left += 1                           # 如果不符合条件的话就扩大左边界\n",
    "        \n",
    "        ans = max(right - left, ans)\n",
    "\n",
    "    return ans"
   ]
  },
  {
   "cell_type": "code",
   "execution_count": 19,
   "id": "placed-company",
   "metadata": {},
   "outputs": [
    {
     "data": {
      "text/plain": [
       "6"
      ]
     },
     "execution_count": 19,
     "metadata": {},
     "output_type": "execute_result"
    }
   ],
   "source": [
    "longestOnes([1,1,1,0,0,0,1,1,1,1,0], 2)"
   ]
  },
  {
   "cell_type": "code",
   "execution_count": 20,
   "id": "checked-butter",
   "metadata": {},
   "outputs": [
    {
     "data": {
      "text/plain": [
       "10"
      ]
     },
     "execution_count": 20,
     "metadata": {},
     "output_type": "execute_result"
    }
   ],
   "source": [
    "longestOnes([0,0,1,1,0,0,1,1,1,0,1,1,0,0,0,1,1,1,1], 3)"
   ]
  }
 ],
 "metadata": {
  "kernelspec": {
   "display_name": "Python 3",
   "language": "python",
   "name": "python3"
  },
  "language_info": {
   "codemirror_mode": {
    "name": "ipython",
    "version": 3
   },
   "file_extension": ".py",
   "mimetype": "text/x-python",
   "name": "python",
   "nbconvert_exporter": "python",
   "pygments_lexer": "ipython3",
   "version": "3.8.6"
  }
 },
 "nbformat": 4,
 "nbformat_minor": 5
}
