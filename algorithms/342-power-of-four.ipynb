{
 "cells": [
  {
   "cell_type": "markdown",
   "id": "reported-stretch",
   "metadata": {},
   "source": [
    "### [4的幂](https://leetcode-cn.com/problems/power-of-four/)\n",
    "\n",
    "给定一个整数，写一个函数来判断它是否是`4`的幂次方。如果是，返回`true`；否则，返回`false`。\n",
    "\n",
    "整数`n`是`4`的幂次方需满足：存在整数`x`使得`n == 4**x`\n",
    "\n",
    "#### 示例 1：\n",
    "```\n",
    "输入：n = 16\n",
    "输出：true\n",
    "```\n",
    "\n",
    "#### 示例 2：\n",
    "```\n",
    "输入：n = 5\n",
    "输出：false\n",
    "```\n",
    "\n",
    "#### 示例 3：\n",
    "```\n",
    "输入：n = 1\n",
    "输出：true\n",
    "```\n",
    "\n",
    "#### 提示：\n",
    "- `-231 <= n <= 231 - 1`"
   ]
  },
  {
   "cell_type": "code",
   "execution_count": 24,
   "id": "accessible-vietnamese",
   "metadata": {},
   "outputs": [],
   "source": [
    "def isPowerOfFour(n: int) -> bool:\n",
    "    if n == 1:\n",
    "        return True\n",
    "    elif n < 4:\n",
    "        return False\n",
    "    return n % 4 == 0 and isPowerOfFour(n // 4)"
   ]
  },
  {
   "cell_type": "code",
   "execution_count": 25,
   "id": "settled-ranch",
   "metadata": {},
   "outputs": [
    {
     "data": {
      "text/plain": [
       "True"
      ]
     },
     "execution_count": 25,
     "metadata": {},
     "output_type": "execute_result"
    }
   ],
   "source": [
    "isPowerOfFour(16)"
   ]
  },
  {
   "cell_type": "code",
   "execution_count": 26,
   "id": "european-wayne",
   "metadata": {},
   "outputs": [
    {
     "data": {
      "text/plain": [
       "True"
      ]
     },
     "execution_count": 26,
     "metadata": {},
     "output_type": "execute_result"
    }
   ],
   "source": [
    "isPowerOfFour(1024)"
   ]
  },
  {
   "cell_type": "code",
   "execution_count": 27,
   "id": "blond-textbook",
   "metadata": {},
   "outputs": [
    {
     "data": {
      "text/plain": [
       "False"
      ]
     },
     "execution_count": 27,
     "metadata": {},
     "output_type": "execute_result"
    }
   ],
   "source": [
    "isPowerOfFour(2048)"
   ]
  },
  {
   "cell_type": "code",
   "execution_count": 28,
   "id": "ancient-indiana",
   "metadata": {},
   "outputs": [
    {
     "data": {
      "text/plain": [
       "True"
      ]
     },
     "execution_count": 28,
     "metadata": {},
     "output_type": "execute_result"
    }
   ],
   "source": [
    "isPowerOfFour(4096)"
   ]
  },
  {
   "cell_type": "code",
   "execution_count": 29,
   "id": "actual-chicago",
   "metadata": {},
   "outputs": [
    {
     "data": {
      "text/plain": [
       "True"
      ]
     },
     "execution_count": 29,
     "metadata": {},
     "output_type": "execute_result"
    }
   ],
   "source": [
    "isPowerOfFour(1)"
   ]
  }
 ],
 "metadata": {
  "kernelspec": {
   "display_name": "Python 3",
   "language": "python",
   "name": "python3"
  },
  "language_info": {
   "codemirror_mode": {
    "name": "ipython",
    "version": 3
   },
   "file_extension": ".py",
   "mimetype": "text/x-python",
   "name": "python",
   "nbconvert_exporter": "python",
   "pygments_lexer": "ipython3",
   "version": "3.8.6"
  }
 },
 "nbformat": 4,
 "nbformat_minor": 5
}
