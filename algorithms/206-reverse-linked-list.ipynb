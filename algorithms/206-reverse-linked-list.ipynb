{
 "cells": [
  {
   "cell_type": "markdown",
   "id": "convenient-encyclopedia",
   "metadata": {},
   "source": [
    "反转一个单链表。\n",
    "\n",
    "#### 示例:\n",
    "```\n",
    "输入: 1->2->3->4->5->NULL\n",
    "输出: 5->4->3->2->1->NULL\n",
    "```\n",
    "\n",
    "#### 进阶:\n",
    "\n",
    "你可以迭代或递归地反转链表。你能否用两种方法解决这道题？"
   ]
  },
  {
   "cell_type": "code",
   "execution_count": 4,
   "id": "intimate-quest",
   "metadata": {},
   "outputs": [],
   "source": [
    "# Definition for singly-linked list.\n",
    "class ListNode:\n",
    "    def __init__(self, val=0, next=None):\n",
    "        self.val = val\n",
    "        self.next = next\n",
    "\n",
    "class Solution:\n",
    "    def reverseList(self, head: ListNode) -> ListNode:\n",
    "        if head == None or head.next == None:\n",
    "            return head\n",
    "        c, n = head, head.next\n",
    "        c.next = None\n",
    "        while n != None:\n",
    "            t = n.next\n",
    "            n.next = c\n",
    "            c = n\n",
    "            n = t\n",
    "            \n",
    "        return c"
   ]
  }
 ],
 "metadata": {
  "kernelspec": {
   "display_name": "Python 3",
   "language": "python",
   "name": "python3"
  },
  "language_info": {
   "codemirror_mode": {
    "name": "ipython",
    "version": 3
   },
   "file_extension": ".py",
   "mimetype": "text/x-python",
   "name": "python",
   "nbconvert_exporter": "python",
   "pygments_lexer": "ipython3",
   "version": "3.8.6"
  }
 },
 "nbformat": 4,
 "nbformat_minor": 5
}
