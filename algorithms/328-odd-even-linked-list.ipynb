{
 "cells": [
  {
   "cell_type": "markdown",
   "id": "lonely-valuation",
   "metadata": {},
   "source": [
    "### [奇偶链表](https://leetcode-cn.com/problems/odd-even-linked-list/)\n",
    "\n",
    "给定一个单链表，把所有的奇数节点和偶数节点分别排在一起。请注意，这里的奇数节点和偶数节点指的是节点编号的奇偶性，而不是节点的值的奇偶性。\n",
    "\n",
    "请尝试使用原地算法完成。你的算法的空间复杂度应为`O(1)`，时间复杂度应为`O(nodes)`，`nodes`为节点总数。\n",
    "\n",
    "#### 示例 1:\n",
    "```\n",
    "输入: 1->2->3->4->5->NULL\n",
    "输出: 1->3->5->2->4->NULL\n",
    "```\n",
    "\n",
    "#### 示例 2:\n",
    "```\n",
    "输入: 2->1->3->5->6->4->7->NULL \n",
    "输出: 2->3->6->7->1->5->4->NULL\n",
    "```\n",
    "\n",
    "#### 说明:\n",
    "- 应当保持奇数节点和偶数节点的相对顺序。\n",
    "- 链表的第一个节点视为奇数节点，第二个节点视为偶数节点，以此类推。"
   ]
  },
  {
   "cell_type": "code",
   "execution_count": 40,
   "id": "spiritual-scoop",
   "metadata": {},
   "outputs": [],
   "source": [
    "from typing import List\n",
    "\n",
    "class ListNode:\n",
    "    def __init__(self, val=0, next=None):\n",
    "        self.val = val\n",
    "        self.next = next\n",
    "    \n",
    "    @staticmethod\n",
    "    def fromArray(arr: List[int]):\n",
    "        dummyHead = ListNode()\n",
    "        node = dummyHead\n",
    "        for item in arr:\n",
    "            node.next = ListNode(item)\n",
    "            node = node.next\n",
    "        return dummyHead.next\n",
    "            \n",
    "class Solution:\n",
    "    def oddEvenList(self, head: ListNode) -> ListNode:\n",
    "        if head is None or head.next is None:\n",
    "            return head\n",
    "        \n",
    "        evenHead, oddHead = ListNode(), ListNode()\n",
    "        odd, even, i = oddHead, evenHead, 1\n",
    "        \n",
    "        while head is not None:\n",
    "            if i % 2 == 0:\n",
    "                even.next = head\n",
    "                even = head\n",
    "            else:\n",
    "                odd.next = head\n",
    "                odd = head\n",
    "            head = head.next\n",
    "            i += 1\n",
    "        \n",
    "        odd.next = evenHead.next\n",
    "        even.next = None\n",
    "        return oddHead.next"
   ]
  },
  {
   "cell_type": "code",
   "execution_count": 41,
   "id": "executed-highway",
   "metadata": {},
   "outputs": [],
   "source": [
    "solution = Solution()"
   ]
  },
  {
   "cell_type": "code",
   "execution_count": 42,
   "id": "cardiovascular-holder",
   "metadata": {},
   "outputs": [],
   "source": [
    "head = solution.oddEvenList(ListNode.fromArray([1, 2, 3, 4, 5, 6, 7, 8, 9]))"
   ]
  },
  {
   "cell_type": "code",
   "execution_count": 43,
   "id": "similar-support",
   "metadata": {},
   "outputs": [
    {
     "name": "stdout",
     "output_type": "stream",
     "text": [
      "1\n",
      "3\n",
      "5\n",
      "7\n",
      "9\n",
      "2\n",
      "4\n",
      "6\n",
      "8\n"
     ]
    }
   ],
   "source": [
    "h = head\n",
    "while h:\n",
    "    print(h.val)\n",
    "    h = h.next"
   ]
  }
 ],
 "metadata": {
  "kernelspec": {
   "display_name": "Python 3",
   "language": "python",
   "name": "python3"
  },
  "language_info": {
   "codemirror_mode": {
    "name": "ipython",
    "version": 3
   },
   "file_extension": ".py",
   "mimetype": "text/x-python",
   "name": "python",
   "nbconvert_exporter": "python",
   "pygments_lexer": "ipython3",
   "version": "3.8.6"
  }
 },
 "nbformat": 4,
 "nbformat_minor": 5
}
