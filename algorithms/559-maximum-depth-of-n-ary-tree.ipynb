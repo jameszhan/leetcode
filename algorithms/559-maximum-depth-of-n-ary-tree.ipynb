{
 "cells": [
  {
   "cell_type": "markdown",
   "id": "threaded-abuse",
   "metadata": {},
   "source": [
    "### [N叉树的最大深度](https://leetcode-cn.com/problems/maximum-depth-of-n-ary-tree/)\n",
    "\n",
    "给定一个`N`叉树，找到其最大深度。\n",
    "\n",
    "最大深度是指从根节点到最远叶子节点的最长路径上的节点总数。\n",
    "\n",
    "`N`叉树输入按层序遍历序列化表示，每组子节点由空值分隔（请参见示例）。\n",
    "\n",
    "#### 示例 1：\n",
    "```\n",
    "输入：root = [1,null,3,2,4,null,5,6]\n",
    "输出：3\n",
    "```\n",
    "\n",
    "#### 示例 2：\n",
    "```\n",
    "输入：root = [1,null,2,3,4,5,null,null,6,7,null,8,null,9,10,null,null,11,null,12,null,13,null,null,14]\n",
    "输出：5\n",
    "```\n",
    "\n",
    "#### 提示：\n",
    "- 树的深度不会超过`1000`。\n",
    "- 树的节点数目位于`[0, 104]`之间。\n",
    "\n",
    "#### 相关题目\n",
    "\n",
    "- [100. 相同的树](https://leetcode-cn.com/problems/same-tree/)\n",
    "- [101. 对称二叉树](https://leetcode-cn.com/problems/symmetric-tree/)\n",
    "- [102. 二叉树的层序遍历](https://leetcode-cn.com/problems/binary-tree-level-order-traversal/)\n",
    "- [103. 二叉树的锯齿形层序遍历](https://leetcode-cn.com/problems/binary-tree-zigzag-level-order-traversal/)\n",
    "- [104. 二叉树的最大深度](https://leetcode-cn.com/problems/maximum-depth-of-binary-tree/)\n",
    "- [107. 二叉树的层序遍历 II](https://leetcode-cn.com/problems/binary-tree-level-order-traversal-ii/)\n",
    "- [111. 二叉树的最小深度](https://leetcode-cn.com/problems/minimum-depth-of-binary-tree/)\n",
    "- [429. N叉树的层序遍历](https://leetcode-cn.com/problems/n-ary-tree-level-order-traversal/)\n",
    "- [559. N叉树的最大深度](https://leetcode-cn.com/problems/maximum-depth-of-n-ary-tree/)\n",
    "- [589. N叉树的前序遍历](https://leetcode-cn.com/problems/n-ary-tree-preorder-traversal/)\n",
    "- [590. N叉树的后序遍历](https://leetcode-cn.com/problems/n-ary-tree-postorder-traversal/)\n",
    "- [剑指 Offer 28. 对称的二叉树](https://leetcode-cn.com/problems/dui-cheng-de-er-cha-shu-lcof/)\n",
    "- [剑指 Offer 32 - I. 从上到下打印二叉树](https://leetcode-cn.com/problems/cong-shang-dao-xia-da-yin-er-cha-shu-lcof/)\n",
    "- [剑指 Offer 32 - II. 从上到下打印二叉树 II](https://leetcode-cn.com/problems/cong-shang-dao-xia-da-yin-er-cha-shu-ii-lcof/)\n",
    "- [剑指 Offer 32 - III. 从上到下打印二叉树 III](https://leetcode-cn.com/problems/cong-shang-dao-xia-da-yin-er-cha-shu-iii-lcof/)\n",
    "- [剑指 Offer 55 - I. 二叉树的深度](https://leetcode-cn.com/problems/er-cha-shu-de-shen-du-lcof/)"
   ]
  },
  {
   "cell_type": "code",
   "execution_count": 2,
   "id": "apparent-species",
   "metadata": {},
   "outputs": [],
   "source": [
    "class Node:\n",
    "    def __init__(self, val=None, children=None):\n",
    "        self.val = val\n",
    "        self.children = children\n",
    "\n",
    "class Solution:\n",
    "    def maxDepth(self, root: Node) -> int:\n",
    "        if not root:\n",
    "            return 0\n",
    "        else:\n",
    "            if root.children:\n",
    "                maxdepth = 0\n",
    "                for child in root.children:\n",
    "                    maxdepth = max(maxdepth, self.maxDepth(child))\n",
    "                return 1 + maxdepth\n",
    "            else:\n",
    "                return 1"
   ]
  }
 ],
 "metadata": {
  "kernelspec": {
   "display_name": "Python 3",
   "language": "python",
   "name": "python3"
  },
  "language_info": {
   "codemirror_mode": {
    "name": "ipython",
    "version": 3
   },
   "file_extension": ".py",
   "mimetype": "text/x-python",
   "name": "python",
   "nbconvert_exporter": "python",
   "pygments_lexer": "ipython3",
   "version": "3.8.6"
  }
 },
 "nbformat": 4,
 "nbformat_minor": 5
}
