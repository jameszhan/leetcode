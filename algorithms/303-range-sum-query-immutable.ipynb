{
 "cells": [
  {
   "cell_type": "markdown",
   "id": "union-houston",
   "metadata": {},
   "source": [
    "### [区域和检索 - 数组不可变](https://leetcode-cn.com/problems/range-sum-query-immutable/)\n",
    "\n",
    "给定一个整数数组  nums，求出数组从索引 i 到 j（i ≤ j）范围内元素的总和，包含 i、j 两点。\n",
    "\n",
    "实现 NumArray 类：\n",
    "\n",
    "- `NumArray(int[] nums)` 使用数组 nums 初始化对象\n",
    "- `int sumRange(int i, int j)` 返回数组 `nums` 从索引 `i` 到 `j（i ≤ j）`范围内元素的总和，包含 i、j 两点（也就是 `sum(nums[i], nums[i + 1], ... , nums[j])`）\n",
    "\n",
    "\n",
    "#### 示例：\n",
    "```\n",
    "输入：\n",
    "[\"NumArray\", \"sumRange\", \"sumRange\", \"sumRange\"]\n",
    "[[[-2, 0, 3, -5, 2, -1]], [0, 2], [2, 5], [0, 5]]\n",
    "输出：\n",
    "[null, 1, -1, -3]\n",
    "\n",
    "解释：\n",
    "NumArray numArray = new NumArray([-2, 0, 3, -5, 2, -1]);\n",
    "numArray.sumRange(0, 2); // return 1 ((-2) + 0 + 3)\n",
    "numArray.sumRange(2, 5); // return -1 (3 + (-5) + 2 + (-1)) \n",
    "numArray.sumRange(0, 5); // return -3 ((-2) + 0 + 3 + (-5) + 2 + (-1))\n",
    "```\n",
    "\n",
    "#### 提示：\n",
    "- $ 0 <= nums.length <= 10^4 $\n",
    "- $ 10^5 <= nums[i] <= 10^5 $\n",
    "- $ 0 <= i <= j < nums.length $ \n",
    "- 最多调用$10^4$次`sumRange`方法"
   ]
  },
  {
   "cell_type": "code",
   "execution_count": 2,
   "id": "partial-equivalent",
   "metadata": {},
   "outputs": [],
   "source": [
    "from typing import List\n",
    "\n",
    "class NumArray:\n",
    "\n",
    "    def __init__(self, nums: List[int]):\n",
    "        self.nums = nums\n",
    "\n",
    "    def sumRange(self, i: int, j: int) -> int:\n",
    "        return sum(self.nums[i:j+1])\n",
    "\n",
    "\n",
    "# Your NumArray object will be instantiated and called as such:\n",
    "# obj = NumArray(nums)\n",
    "# param_1 = obj.sumRange(i,j)"
   ]
  }
 ],
 "metadata": {
  "kernelspec": {
   "display_name": "Python 3",
   "language": "python",
   "name": "python3"
  },
  "language_info": {
   "codemirror_mode": {
    "name": "ipython",
    "version": 3
   },
   "file_extension": ".py",
   "mimetype": "text/x-python",
   "name": "python",
   "nbconvert_exporter": "python",
   "pygments_lexer": "ipython3",
   "version": "3.8.6"
  }
 },
 "nbformat": 4,
 "nbformat_minor": 5
}
