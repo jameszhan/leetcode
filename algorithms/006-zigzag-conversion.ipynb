{
 "cells": [
  {
   "cell_type": "markdown",
   "id": "responsible-mason",
   "metadata": {},
   "source": [
    "将一个给定字符串 s 根据给定的行数 numRows ，以从上往下、从左到右进行 Z 字形排列。\n",
    "\n",
    "比如输入字符串为 \"PAYPALISHIRING\" 行数为 3 时，排列如下：\n",
    "\n",
    "```\n",
    "P   A   H   N\n",
    "A P L S I I G\n",
    "Y   I   R\n",
    "```\n",
    "\n",
    "之后，你的输出需要从左往右逐行读取，产生出一个新的字符串，比如：`\"PAHNAPLSIIGYIR\"`。\n",
    "\n",
    "请你实现这个将字符串进行指定行数变换的函数：\n",
    "\n",
    "`string convert(string s, int numRows);`\n",
    " \n",
    "\n",
    "#### 示例 1：\n",
    "\n",
    "##### 输入：`s = \"PAYPALISHIRING\"`, `numRows = 3`\n",
    "##### 输出：`\"PAHNAPLSIIGYIR\"`\n",
    "\n",
    "\n",
    "#### 示例 2：\n",
    "##### 输入：`s = \"PAYPALISHIRING\"`, `numRows = 4`\n",
    "##### 输出：`\"PINALSIGYAHRPI\"`\n",
    "##### 解释：\n",
    "```\n",
    "P     I    N\n",
    "A   L S  I G\n",
    "Y A   H R\n",
    "P     I\n",
    "```\n",
    "\n",
    "#### 示例 3：\n",
    "\n",
    "##### 输入：`s = \"A\"`, `numRows = 1`\n",
    "##### 输出：`\"A\"`\n"
   ]
  },
  {
   "cell_type": "code",
   "execution_count": 12,
   "id": "simplified-europe",
   "metadata": {},
   "outputs": [],
   "source": [
    "import itertools\n",
    "\n",
    "def solve(s: str, numRows: int) -> str:\n",
    "    if not s:\n",
    "        return ''\n",
    "    if numRows <= 1:\n",
    "        return s\n",
    "    \n",
    "    n, k, words = len(s), 0, [[] for _ in range(numRows)]\n",
    "    step = 1\n",
    "    for i in range(n):\n",
    "        words[k].append(s[i])\n",
    "        k += step\n",
    "        if k == numRows - 1:\n",
    "            step = -1\n",
    "        if k == 0:\n",
    "            step = 1\n",
    "    return ''.join(itertools.chain.from_iterable(words))"
   ]
  },
  {
   "cell_type": "code",
   "execution_count": 13,
   "id": "bibliographic-penguin",
   "metadata": {},
   "outputs": [
    {
     "data": {
      "text/plain": [
       "'PAHNAPLSIIGYIR'"
      ]
     },
     "execution_count": 13,
     "metadata": {},
     "output_type": "execute_result"
    }
   ],
   "source": [
    "solve('PAYPALISHIRING', 3)"
   ]
  },
  {
   "cell_type": "code",
   "execution_count": 14,
   "id": "paperback-clearing",
   "metadata": {},
   "outputs": [
    {
     "data": {
      "text/plain": [
       "'PINALSIGYAHRPI'"
      ]
     },
     "execution_count": 14,
     "metadata": {},
     "output_type": "execute_result"
    }
   ],
   "source": [
    "solve('PAYPALISHIRING', 4)"
   ]
  },
  {
   "cell_type": "code",
   "execution_count": null,
   "id": "acknowledged-kingston",
   "metadata": {},
   "outputs": [],
   "source": []
  }
 ],
 "metadata": {
  "kernelspec": {
   "display_name": "Python 3",
   "language": "python",
   "name": "python3"
  },
  "language_info": {
   "codemirror_mode": {
    "name": "ipython",
    "version": 3
   },
   "file_extension": ".py",
   "mimetype": "text/x-python",
   "name": "python",
   "nbconvert_exporter": "python",
   "pygments_lexer": "ipython3",
   "version": "3.8.6"
  }
 },
 "nbformat": 4,
 "nbformat_minor": 5
}
