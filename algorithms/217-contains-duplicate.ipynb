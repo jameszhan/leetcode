{
 "cells": [
  {
   "cell_type": "markdown",
   "id": "returning-eagle",
   "metadata": {},
   "source": [
    "### [存在重复元素](https://leetcode-cn.com/problems/contains-duplicate/)\n",
    "\n",
    "给定一个整数数组，判断是否存在重复元素。\n",
    "\n",
    "如果存在一值在数组中出现至少两次，函数返回 true 。如果数组中每个元素都不相同，则返回 false 。\n",
    "\n",
    "#### 示例 1:\n",
    "```\n",
    "输入: [1,2,3,1]\n",
    "输出: true\n",
    "```\n",
    "\n",
    "#### 示例 2:\n",
    "```\n",
    "输入: [1,2,3,4]\n",
    "输出: false\n",
    "```\n",
    "\n",
    "#### 示例 3:\n",
    "```\n",
    "输入: [1,1,1,3,3,4,3,2,4,2]\n",
    "输出: true\n",
    "```"
   ]
  },
  {
   "cell_type": "code",
   "execution_count": 5,
   "id": "interior-eclipse",
   "metadata": {},
   "outputs": [],
   "source": [
    "from typing import List\n",
    "\n",
    "def containsDuplicate(nums: List[int]) -> bool:\n",
    "    s = set()\n",
    "    for num in nums:\n",
    "        if num in s:\n",
    "            return True\n",
    "        else:\n",
    "            s.add(num)\n",
    "    return False"
   ]
  },
  {
   "cell_type": "code",
   "execution_count": 6,
   "id": "lonely-split",
   "metadata": {},
   "outputs": [
    {
     "data": {
      "text/plain": [
       "True"
      ]
     },
     "execution_count": 6,
     "metadata": {},
     "output_type": "execute_result"
    }
   ],
   "source": [
    "containsDuplicate([1,2,3,1])"
   ]
  },
  {
   "cell_type": "code",
   "execution_count": 7,
   "id": "immediate-corporation",
   "metadata": {},
   "outputs": [
    {
     "data": {
      "text/plain": [
       "False"
      ]
     },
     "execution_count": 7,
     "metadata": {},
     "output_type": "execute_result"
    }
   ],
   "source": [
    "containsDuplicate([1,2,3,4])"
   ]
  },
  {
   "cell_type": "code",
   "execution_count": 8,
   "id": "material-mailman",
   "metadata": {},
   "outputs": [
    {
     "data": {
      "text/plain": [
       "True"
      ]
     },
     "execution_count": 8,
     "metadata": {},
     "output_type": "execute_result"
    }
   ],
   "source": [
    "containsDuplicate([1,1,1,3,3,4,3,2,4,2])"
   ]
  },
  {
   "cell_type": "code",
   "execution_count": null,
   "id": "widespread-tooth",
   "metadata": {},
   "outputs": [],
   "source": []
  }
 ],
 "metadata": {
  "kernelspec": {
   "display_name": "Python 3",
   "language": "python",
   "name": "python3"
  },
  "language_info": {
   "codemirror_mode": {
    "name": "ipython",
    "version": 3
   },
   "file_extension": ".py",
   "mimetype": "text/x-python",
   "name": "python",
   "nbconvert_exporter": "python",
   "pygments_lexer": "ipython3",
   "version": "3.8.6"
  }
 },
 "nbformat": 4,
 "nbformat_minor": 5
}
