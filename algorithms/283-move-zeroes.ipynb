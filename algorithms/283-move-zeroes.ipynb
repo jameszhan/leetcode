{
 "cells": [
  {
   "cell_type": "markdown",
   "id": "immune-chassis",
   "metadata": {},
   "source": [
    "### [移动零](https://leetcode-cn.com/problems/move-zeroes/)\n",
    "\n",
    "给定一个数组`nums`，编写一个函数将所有`0`移动到数组的末尾，同时保持非零元素的相对顺序。\n",
    "\n",
    "#### 示例:\n",
    "```\n",
    "输入: [0,1,0,3,12]\n",
    "输出: [1,3,12,0,0]\n",
    "```\n",
    "\n",
    "#### 说明:\n",
    "- 必须在原数组上操作，不能拷贝额外的数组。\n",
    "- 尽量减少操作次数。"
   ]
  },
  {
   "cell_type": "code",
   "execution_count": 2,
   "id": "dense-moscow",
   "metadata": {},
   "outputs": [],
   "source": [
    "from typing import List\n",
    "\n",
    "def moveZeroes(nums: List[int]) -> None:\n",
    "    \"\"\"\n",
    "    Do not return anything, modify nums in-place instead.\n",
    "    \"\"\"\n",
    "    l = len(nums)\n",
    "    if l < 2:\n",
    "        return None\n",
    "    \n",
    "    index = 0\n",
    "    for i in range(l):\n",
    "        n = nums[i]\n",
    "        if n != 0:\n",
    "            nums[index] = n\n",
    "            index += 1\n",
    "    \n",
    "    while index < l:\n",
    "        nums[index] = 0\n",
    "        index += 1\n",
    "        \n",
    "    print(nums)"
   ]
  },
  {
   "cell_type": "code",
   "execution_count": 3,
   "id": "lined-period",
   "metadata": {},
   "outputs": [
    {
     "name": "stdout",
     "output_type": "stream",
     "text": [
      "[1, 3, 12, 0, 0]\n"
     ]
    }
   ],
   "source": [
    "moveZeroes([0,1,0,3,12])"
   ]
  }
 ],
 "metadata": {
  "kernelspec": {
   "display_name": "Python 3",
   "language": "python",
   "name": "python3"
  },
  "language_info": {
   "codemirror_mode": {
    "name": "ipython",
    "version": 3
   },
   "file_extension": ".py",
   "mimetype": "text/x-python",
   "name": "python",
   "nbconvert_exporter": "python",
   "pygments_lexer": "ipython3",
   "version": "3.8.6"
  }
 },
 "nbformat": 4,
 "nbformat_minor": 5
}
