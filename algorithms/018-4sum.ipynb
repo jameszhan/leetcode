{
 "cells": [
  {
   "cell_type": "markdown",
   "id": "alleged-promotion",
   "metadata": {},
   "source": [
    "给定一个包含 `n` 个整数的数组 `nums` 和一个目标值 `target`，判断 `nums` 中是否存在四个元素 `a，b，c` 和 `d` ，使得 `a + b + c + d` 的值与 `target` 相等？找出所有满足条件且不重复的四元组。\n",
    "\n",
    "#### 注意：\n",
    "\n",
    "答案中不可以包含重复的四元组。\n",
    "\n",
    "#### 示例：\n",
    "\n",
    "```\n",
    "给定数组 nums = [1, 0, -1, 0, -2, 2]，和 target = 0。\n",
    "\n",
    "满足要求的四元组集合为：\n",
    "[\n",
    "  [-1,  0, 0, 1],\n",
    "  [-2, -1, 1, 2],\n",
    "  [-2,  0, 0, 2]\n",
    "]\n",
    "```"
   ]
  },
  {
   "cell_type": "code",
   "execution_count": 61,
   "id": "designing-expense",
   "metadata": {},
   "outputs": [],
   "source": [
    "from typing import List\n",
    "\n",
    "def solve(nums: List[int], target: int) -> List[List[int]]:\n",
    "    if len(nums) < 4:\n",
    "        return []\n",
    "    nums.sort()\n",
    "    ans, n = [], len(nums)\n",
    "    for i in range(n - 3):\n",
    "        if i > 0 and nums[i] == nums[i - 1]:\n",
    "            continue\n",
    "        if nums[i] + nums[i + 1] + nums[i + 2] + nums[i + 3] > target:\n",
    "            break\n",
    "        if nums[i] + nums[n - 1] + nums[n - 2] + nums[n - 3] < target:\n",
    "            continue\n",
    "            \n",
    "        for j in range(i + 1, n - 2):\n",
    "            if j > i + 1 and nums[j] == nums[j - 1]:\n",
    "                continue\n",
    "            if nums[i] + nums[j] + nums[j + 1] + nums[j + 2] > target:\n",
    "                break\n",
    "            if nums[i] + nums[j] + nums[n - 1] + nums[n - 2] < target:\n",
    "                continue\n",
    "            \n",
    "            left, right = j + 1, n - 1\n",
    "            while left < right:\n",
    "                total = nums[i] + nums[j] + nums[left] + nums[right]\n",
    "                if total == target:\n",
    "                    a = [nums[i], nums[j], nums[left], nums[right]]\n",
    "                    if a not in ans:\n",
    "                        ans.append(a)\n",
    "                    left += 1\n",
    "                    right -= 1\n",
    "                elif total < target:\n",
    "                    left += 1\n",
    "                else:\n",
    "                    right -= 1\n",
    "    return ans"
   ]
  },
  {
   "cell_type": "code",
   "execution_count": 62,
   "id": "systematic-justice",
   "metadata": {},
   "outputs": [
    {
     "data": {
      "text/plain": [
       "[[-2, -1, 1, 2], [-2, 0, 0, 2], [-1, 0, 0, 1]]"
      ]
     },
     "execution_count": 62,
     "metadata": {},
     "output_type": "execute_result"
    }
   ],
   "source": [
    "solve([1, 0, -1, 0, -2, 2], 0)"
   ]
  },
  {
   "cell_type": "code",
   "execution_count": 63,
   "id": "infrared-annotation",
   "metadata": {},
   "outputs": [
    {
     "data": {
      "text/plain": [
       "[[-2, -1, 1, 2], [-1, -1, 1, 1]]"
      ]
     },
     "execution_count": 63,
     "metadata": {},
     "output_type": "execute_result"
    }
   ],
   "source": [
    "solve([-2,-1,-1,1,1,2,2], 0)"
   ]
  },
  {
   "cell_type": "code",
   "execution_count": 64,
   "id": "backed-execution",
   "metadata": {},
   "outputs": [
    {
     "data": {
      "text/plain": [
       "[[-3, -2, 2, 3],\n",
       " [-3, -1, 1, 3],\n",
       " [-3, 0, 0, 3],\n",
       " [-3, 0, 1, 2],\n",
       " [-2, -1, 0, 3],\n",
       " [-2, -1, 1, 2],\n",
       " [-2, 0, 0, 2],\n",
       " [-1, 0, 0, 1]]"
      ]
     },
     "execution_count": 64,
     "metadata": {},
     "output_type": "execute_result"
    }
   ],
   "source": [
    "solve([-3,-2,-1,0,0,1,2,3], 0)"
   ]
  },
  {
   "cell_type": "code",
   "execution_count": null,
   "id": "romantic-vitamin",
   "metadata": {},
   "outputs": [],
   "source": []
  }
 ],
 "metadata": {
  "kernelspec": {
   "display_name": "Python 3",
   "language": "python",
   "name": "python3"
  },
  "language_info": {
   "codemirror_mode": {
    "name": "ipython",
    "version": 3
   },
   "file_extension": ".py",
   "mimetype": "text/x-python",
   "name": "python",
   "nbconvert_exporter": "python",
   "pygments_lexer": "ipython3",
   "version": "3.8.6"
  }
 },
 "nbformat": 4,
 "nbformat_minor": 5
}
