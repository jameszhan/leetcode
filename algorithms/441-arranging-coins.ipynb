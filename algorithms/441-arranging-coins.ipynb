{
 "cells": [
  {
   "cell_type": "markdown",
   "id": "heavy-internship",
   "metadata": {},
   "source": [
    "### [排列硬币](https://leetcode-cn.com/problems/arranging-coins/)\n",
    "\n",
    "你总共有 n 枚硬币，你需要将它们摆成一个阶梯形状，第 k 行就必须正好有 k 枚硬币。\n",
    "\n",
    "给定一个数字 n，找出可形成完整阶梯行的总行数。\n",
    "\n",
    "n 是一个非负整数，并且在32位有符号整型的范围内。\n",
    "\n",
    "#### 示例 1:\n",
    "```\n",
    "n = 5\n",
    "\n",
    "硬币可排列成以下几行:\n",
    "¤\n",
    "¤ ¤\n",
    "¤ ¤\n",
    "\n",
    "因为第三行不完整，所以返回2.\n",
    "```\n",
    "\n",
    "#### 示例 2:\n",
    "```\n",
    "n = 8\n",
    "\n",
    "硬币可排列成以下几行:\n",
    "¤\n",
    "¤ ¤\n",
    "¤ ¤ ¤\n",
    "¤ ¤\n",
    "\n",
    "因为第四行不完整，所以返回3.\n",
    "```"
   ]
  },
  {
   "cell_type": "markdown",
   "id": "cellular-cigarette",
   "metadata": {},
   "source": [
    "#### 满足条件\n",
    "\n",
    "$$\n",
    "\\frac{(k - 1) k}2 \\lt n \\le \\frac{k (k + 1)}2\n",
    "\\Rightarrow k \\le \\frac{\\sqrt{8n + 1} - 1}2\n",
    "$$"
   ]
  },
  {
   "cell_type": "code",
   "execution_count": 1,
   "id": "competitive-domestic",
   "metadata": {},
   "outputs": [],
   "source": [
    "import math\n",
    "\n",
    "def arrangeCoins(n: int) -> int:\n",
    "    return (int(math.sqrt(8 * n + 1)) - 1) // 2"
   ]
  },
  {
   "cell_type": "code",
   "execution_count": 2,
   "id": "modified-albert",
   "metadata": {},
   "outputs": [
    {
     "data": {
      "text/plain": [
       "2"
      ]
     },
     "execution_count": 2,
     "metadata": {},
     "output_type": "execute_result"
    }
   ],
   "source": [
    "arrangeCoins(5)"
   ]
  },
  {
   "cell_type": "code",
   "execution_count": 3,
   "id": "prescribed-neighborhood",
   "metadata": {},
   "outputs": [
    {
     "data": {
      "text/plain": [
       "3"
      ]
     },
     "execution_count": 3,
     "metadata": {},
     "output_type": "execute_result"
    }
   ],
   "source": [
    "arrangeCoins(6)"
   ]
  },
  {
   "cell_type": "code",
   "execution_count": 4,
   "id": "stuffed-aerospace",
   "metadata": {},
   "outputs": [
    {
     "data": {
      "text/plain": [
       "3"
      ]
     },
     "execution_count": 4,
     "metadata": {},
     "output_type": "execute_result"
    }
   ],
   "source": [
    "arrangeCoins(8)"
   ]
  },
  {
   "cell_type": "code",
   "execution_count": 5,
   "id": "colonial-workstation",
   "metadata": {},
   "outputs": [
    {
     "data": {
      "text/plain": [
       "4"
      ]
     },
     "execution_count": 5,
     "metadata": {},
     "output_type": "execute_result"
    }
   ],
   "source": [
    "arrangeCoins(10)"
   ]
  }
 ],
 "metadata": {
  "kernelspec": {
   "display_name": "Python 3",
   "language": "python",
   "name": "python3"
  },
  "language_info": {
   "codemirror_mode": {
    "name": "ipython",
    "version": 3
   },
   "file_extension": ".py",
   "mimetype": "text/x-python",
   "name": "python",
   "nbconvert_exporter": "python",
   "pygments_lexer": "ipython3",
   "version": "3.8.6"
  }
 },
 "nbformat": 4,
 "nbformat_minor": 5
}
