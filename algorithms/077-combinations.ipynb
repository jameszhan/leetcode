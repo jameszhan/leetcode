{
 "cells": [
  {
   "cell_type": "markdown",
   "id": "flush-hawaiian",
   "metadata": {},
   "source": [
    "### [组合](https://leetcode-cn.com/problems/combinations/)\n",
    "\n",
    "给定两个整数 `n` 和 `k`，返回 `1 ... n` 中所有可能的 `k` 个数的组合。\n",
    "\n",
    "#### 示例:\n",
    "```\n",
    "输入: n = 4, k = 2\n",
    "输出:\n",
    "[\n",
    "  [2,4],\n",
    "  [3,4],\n",
    "  [2,3],\n",
    "  [1,2],\n",
    "  [1,3],\n",
    "  [1,4],\n",
    "]\n",
    "```"
   ]
  },
  {
   "cell_type": "code",
   "execution_count": 18,
   "id": "bizarre-truth",
   "metadata": {},
   "outputs": [],
   "source": [
    "from typing import List\n",
    "\n",
    "def combine(n: int, k: int) -> List[List[int]]:\n",
    "    \n",
    "    def dfs(a, n, m, k, predict, handle):\n",
    "        for i in range(n):\n",
    "            a[k] = i + 1\n",
    "            if predict(a, k):\n",
    "                if k == m - 1:\n",
    "                    handle(a)\n",
    "                else:\n",
    "                    dfs(a, n, m, k + 1, predict, handle)\n",
    "    \n",
    "    def predict(a, k):\n",
    "        for i in range(k):\n",
    "            if a[i] >= a[k]:\n",
    "                return False\n",
    "        return True\n",
    "    \n",
    "    ans = []\n",
    "    def save(a):\n",
    "        ans.append(a.copy())\n",
    "\n",
    "    arr = [0 for _ in range(k)]\n",
    "    dfs(arr, n, k, 0, predict, save)\n",
    "    \n",
    "    return ans"
   ]
  },
  {
   "cell_type": "code",
   "execution_count": 19,
   "id": "conscious-conspiracy",
   "metadata": {},
   "outputs": [
    {
     "data": {
      "text/plain": [
       "[[1, 2], [1, 3], [1, 4], [2, 3], [2, 4], [3, 4]]"
      ]
     },
     "execution_count": 19,
     "metadata": {},
     "output_type": "execute_result"
    }
   ],
   "source": [
    "combine(4, 2)"
   ]
  },
  {
   "cell_type": "markdown",
   "id": "former-leader",
   "metadata": {},
   "source": [
    "#### Go 语言版本\n",
    "\n",
    "```go\n",
    "package main\n",
    "\n",
    "import \"fmt\"\n",
    "\n",
    "func combinationPredict(a []int, k int) bool {\n",
    "\tfor i := 0; i < k; i++ {\n",
    "\t\tif a[i] >= a[k] {\n",
    "\t\t\treturn false\n",
    "\t\t}\n",
    "\t}\n",
    "\treturn true\n",
    "}\n",
    "\n",
    "func combinationsDFS(a []int, n int, m int, k int, f func(arr []int)) {\n",
    "\tfor i := 0; i < n; i++ {\n",
    "\t\ta[k] = i + 1\n",
    "\t\tif combinationPredict(a, k) {\n",
    "\t\t\tif k == m - 1 {\n",
    "\t\t\t\tf(a)\n",
    "\t\t\t} else {\n",
    "\t\t\t\tcombinationsDFS(a, n, m, k + 1, f)\n",
    "\t\t\t}\n",
    "\t\t}\n",
    "\t}\n",
    "}\n",
    "\n",
    "func factorial(n int) int {\n",
    "\tret := 1\n",
    "\tfor i := 1; i <= n; i++ {\n",
    "\t\tret *= i\n",
    "\t}\n",
    "\treturn ret\n",
    "}\n",
    "\n",
    "func combineNumber(n int , m int) int {\n",
    "\treturn factorial(n) / (factorial(m) * factorial(n - m))\n",
    "}\n",
    "\n",
    "func combine(n int, k int) [][]int {\n",
    "\tsize := combineNumber(n, k)\n",
    "\tanswers := make([][]int, size)\n",
    "\ta := make([]int, k)\n",
    "\ti := 0\n",
    "\n",
    "\thandle := func(arr []int) {\n",
    "\t\tcandidate := make([]int, k)\n",
    "\t\tcopy(candidate, arr)\n",
    "\t\tanswers[i] = candidate\n",
    "\t\ti++\n",
    "\t}\n",
    "\n",
    "\tcombinationsDFS(a, n, k, 0, handle)\n",
    "\n",
    "\treturn answers\n",
    "}\n",
    "\n",
    "func main() {\n",
    "\tret := combine(4, 2)\n",
    "\tfmt.Println(ret)\n",
    "}\n",
    "\n",
    "```"
   ]
  }
 ],
 "metadata": {
  "kernelspec": {
   "display_name": "Python 3",
   "language": "python",
   "name": "python3"
  },
  "language_info": {
   "codemirror_mode": {
    "name": "ipython",
    "version": 3
   },
   "file_extension": ".py",
   "mimetype": "text/x-python",
   "name": "python",
   "nbconvert_exporter": "python",
   "pygments_lexer": "ipython3",
   "version": "3.8.6"
  }
 },
 "nbformat": 4,
 "nbformat_minor": 5
}
