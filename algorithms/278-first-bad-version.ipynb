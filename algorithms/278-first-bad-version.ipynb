{
 "cells": [
  {
   "cell_type": "markdown",
   "id": "limited-mercury",
   "metadata": {},
   "source": [
    "### [第一个错误的版本](https://leetcode-cn.com/problems/first-bad-version/)\n",
    "\n",
    "你是产品经理，目前正在带领一个团队开发新的产品。不幸的是，你的产品的最新版本没有通过质量检测。由于每个版本都是基于之前的版本开发的，所以错误的版本之后的所有版本都是错的。\n",
    "\n",
    "假设你有`n`个版本`[1, 2, ..., n]`，你想找出导致之后所有版本出错的第一个错误的版本。\n",
    "\n",
    "你可以通过调用`bool isBadVersion(version)`接口来判断版本号`version`是否在单元测试中出错。实现一个函数来查找第一个错误的版本。你应该尽量减少对调用 API 的次数。\n",
    "\n",
    "#### 示例:\n",
    "```\n",
    "给定 n = 5，并且 version = 4 是第一个错误的版本。\n",
    "\n",
    "调用 isBadVersion(3) -> false\n",
    "调用 isBadVersion(5) -> true\n",
    "调用 isBadVersion(4) -> true\n",
    "```\n",
    "\n",
    "所以，`4` 是第一个错误的版本。"
   ]
  },
  {
   "cell_type": "code",
   "execution_count": 2,
   "id": "conventional-massage",
   "metadata": {},
   "outputs": [],
   "source": [
    "# The isBadVersion API is already defined for you.\n",
    "# @param version, an integer\n",
    "# @return an integer\n",
    "# def isBadVersion(version):\n",
    "\n",
    "class Solution:\n",
    "    def firstBadVersion(self, n: int) -> int:\n",
    "        def search(l: int, r: int) -> int:\n",
    "            if l >= r:\n",
    "                return l\n",
    "            \n",
    "            mid = (l + r) // 2\n",
    "            res = isBadVersion(mid)\n",
    "            if res:\n",
    "                return search(l, mid)\n",
    "            else:\n",
    "                return search(mid + 1, r)\n",
    "            \n",
    "        return search(1, n + 1)"
   ]
  },
  {
   "cell_type": "code",
   "execution_count": null,
   "id": "bulgarian-principle",
   "metadata": {},
   "outputs": [],
   "source": []
  }
 ],
 "metadata": {
  "kernelspec": {
   "display_name": "Python 3",
   "language": "python",
   "name": "python3"
  },
  "language_info": {
   "codemirror_mode": {
    "name": "ipython",
    "version": 3
   },
   "file_extension": ".py",
   "mimetype": "text/x-python",
   "name": "python",
   "nbconvert_exporter": "python",
   "pygments_lexer": "ipython3",
   "version": "3.8.6"
  }
 },
 "nbformat": 4,
 "nbformat_minor": 5
}
