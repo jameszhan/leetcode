{
 "cells": [
  {
   "cell_type": "markdown",
   "id": "digital-adaptation",
   "metadata": {},
   "source": [
    "### [反转字符串中的元音字母](https://leetcode-cn.com/problems/reverse-vowels-of-a-string/)\n",
    "\n",
    "编写一个函数，以字符串作为输入，反转该字符串中的元音字母。\n",
    "\n",
    "#### 示例 1：\n",
    "```\n",
    "输入：\"hello\"\n",
    "输出：\"holle\"\n",
    "```\n",
    "\n",
    "#### 示例 2：\n",
    "```\n",
    "输入：\"leetcode\"\n",
    "输出：\"leotcede\"\n",
    "```\n",
    "\n",
    "#### 提示：\n",
    "- 元音字母不包含字母 \"y\"。"
   ]
  },
  {
   "cell_type": "code",
   "execution_count": 11,
   "id": "organic-liberia",
   "metadata": {},
   "outputs": [],
   "source": [
    "VOWELS = {'a', 'e', 'i', 'o', 'u', 'A', 'E', 'I', 'O', 'U'}\n",
    "def reverseVowels(s: str) -> str:\n",
    "    vowels= []\n",
    "    for c in s:\n",
    "        if c in VOWELS:\n",
    "            vowels.append(c)\n",
    "    \n",
    "    ans = ''\n",
    "    for c in s:\n",
    "        if c in VOWELS:\n",
    "            ans += vowels.pop()\n",
    "        else:\n",
    "            ans += c\n",
    "    return ans"
   ]
  },
  {
   "cell_type": "code",
   "execution_count": 12,
   "id": "novel-tribute",
   "metadata": {},
   "outputs": [
    {
     "data": {
      "text/plain": [
       "'holle'"
      ]
     },
     "execution_count": 12,
     "metadata": {},
     "output_type": "execute_result"
    }
   ],
   "source": [
    "reverseVowels('hello')"
   ]
  },
  {
   "cell_type": "code",
   "execution_count": 13,
   "id": "pretty-malpractice",
   "metadata": {},
   "outputs": [
    {
     "data": {
      "text/plain": [
       "'leotcede'"
      ]
     },
     "execution_count": 13,
     "metadata": {},
     "output_type": "execute_result"
    }
   ],
   "source": [
    "reverseVowels('leetcode')"
   ]
  }
 ],
 "metadata": {
  "kernelspec": {
   "display_name": "Python 3",
   "language": "python",
   "name": "python3"
  },
  "language_info": {
   "codemirror_mode": {
    "name": "ipython",
    "version": 3
   },
   "file_extension": ".py",
   "mimetype": "text/x-python",
   "name": "python",
   "nbconvert_exporter": "python",
   "pygments_lexer": "ipython3",
   "version": "3.8.6"
  }
 },
 "nbformat": 4,
 "nbformat_minor": 5
}
