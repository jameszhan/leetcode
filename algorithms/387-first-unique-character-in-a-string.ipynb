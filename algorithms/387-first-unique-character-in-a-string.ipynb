{
 "cells": [
  {
   "cell_type": "markdown",
   "id": "photographic-mandate",
   "metadata": {},
   "source": [
    "### [字符串中的第一个唯一字符](https://leetcode-cn.com/problems/first-unique-character-in-a-string/)\n",
    "\n",
    "给定一个字符串，找到它的第一个不重复的字符，并返回它的索引。如果不存在，则返回 -1。\n",
    "\n",
    "#### 示例：\n",
    "```\n",
    "s = \"leetcode\"\n",
    "返回 0\n",
    "```\n",
    "```\n",
    "s = \"loveleetcode\"\n",
    "返回 2\n",
    "```\n",
    "\n",
    "提示：你可以假定该字符串只包含小写字母。"
   ]
  },
  {
   "cell_type": "code",
   "execution_count": 3,
   "id": "experienced-teaching",
   "metadata": {},
   "outputs": [],
   "source": [
    "from collections import Counter\n",
    "\n",
    "def firstUniqChar(s: str) -> int:\n",
    "    counter = Counter(s)\n",
    "    for i, c in enumerate(s):\n",
    "        if counter[c] == 1:\n",
    "            return i\n",
    "    return -1"
   ]
  },
  {
   "cell_type": "code",
   "execution_count": 4,
   "id": "soviet-optimization",
   "metadata": {},
   "outputs": [
    {
     "data": {
      "text/plain": [
       "2"
      ]
     },
     "execution_count": 4,
     "metadata": {},
     "output_type": "execute_result"
    }
   ],
   "source": [
    "firstUniqChar(\"loveleetcode\")"
   ]
  },
  {
   "cell_type": "code",
   "execution_count": 5,
   "id": "dated-labor",
   "metadata": {},
   "outputs": [
    {
     "data": {
      "text/plain": [
       "0"
      ]
     },
     "execution_count": 5,
     "metadata": {},
     "output_type": "execute_result"
    }
   ],
   "source": [
    "firstUniqChar(\"leetcode\")"
   ]
  }
 ],
 "metadata": {
  "kernelspec": {
   "display_name": "Python 3",
   "language": "python",
   "name": "python3"
  },
  "language_info": {
   "codemirror_mode": {
    "name": "ipython",
    "version": 3
   },
   "file_extension": ".py",
   "mimetype": "text/x-python",
   "name": "python",
   "nbconvert_exporter": "python",
   "pygments_lexer": "ipython3",
   "version": "3.8.6"
  }
 },
 "nbformat": 4,
 "nbformat_minor": 5
}
