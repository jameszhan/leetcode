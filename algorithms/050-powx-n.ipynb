{
 "cells": [
  {
   "cell_type": "markdown",
   "id": "informative-indonesia",
   "metadata": {},
   "source": [
    "### [Pow(x, n)](https://leetcode-cn.com/problems/powx-n/)\n",
    "\n",
    "实现 `pow(x, n)` ，即计算 x 的 n 次幂函数（即 $x^n$）。\n",
    "\n",
    "#### 示例 1：\n",
    "```\n",
    "输入：x = 2.00000, n = 10\n",
    "输出：1024.00000\n",
    "```\n",
    "\n",
    "#### 示例 2：\n",
    "```\n",
    "输入：x = 2.10000, n = 3\n",
    "输出：9.26100\n",
    "```\n",
    "\n",
    "#### 示例 3：\n",
    "```\n",
    "输入：x = 2.00000, n = -2\n",
    "输出：0.25000\n",
    "解释：2-2 = 1/22 = 1/4 = 0.25\n",
    "```\n",
    "\n",
    "#### 提示：\n",
    "- -100.0 < x < 100.0\n",
    "- $ -2^{31} <= n <= 2^{31}-1 $\n",
    "- $ -10^4 <= x^n <= 10^4 $"
   ]
  },
  {
   "cell_type": "code",
   "execution_count": 4,
   "id": "olive-funds",
   "metadata": {},
   "outputs": [],
   "source": [
    "def myPow(x: float, n: int) -> float:\n",
    "    ans = 1\n",
    "    if n >= 0:\n",
    "        for i in range(n):\n",
    "            ans *= x\n",
    "    else:\n",
    "        for i in range(-n):\n",
    "            ans /= x\n",
    "    return ans"
   ]
  },
  {
   "cell_type": "code",
   "execution_count": 5,
   "id": "imported-polyester",
   "metadata": {},
   "outputs": [
    {
     "data": {
      "text/plain": [
       "1024.0"
      ]
     },
     "execution_count": 5,
     "metadata": {},
     "output_type": "execute_result"
    }
   ],
   "source": [
    "myPow(2.00000, 10)"
   ]
  },
  {
   "cell_type": "code",
   "execution_count": 6,
   "id": "aquatic-elimination",
   "metadata": {},
   "outputs": [
    {
     "data": {
      "text/plain": [
       "9.261000000000001"
      ]
     },
     "execution_count": 6,
     "metadata": {},
     "output_type": "execute_result"
    }
   ],
   "source": [
    "myPow(2.10000, 3)"
   ]
  },
  {
   "cell_type": "code",
   "execution_count": 8,
   "id": "prospective-glossary",
   "metadata": {},
   "outputs": [
    {
     "data": {
      "text/plain": [
       "0.25"
      ]
     },
     "execution_count": 8,
     "metadata": {},
     "output_type": "execute_result"
    }
   ],
   "source": [
    "myPow(2.00000, -2)"
   ]
  },
  {
   "cell_type": "code",
   "execution_count": 11,
   "id": "fluid-playing",
   "metadata": {},
   "outputs": [],
   "source": [
    "def myPow2(x: float, n: int) -> float:\n",
    "    if n == 0:\n",
    "        return 1\n",
    "    elif n == 1:\n",
    "        return x\n",
    "    elif n == -1:\n",
    "        return 1 / x\n",
    "    else:\n",
    "        half = myPow2(x, n // 2)\n",
    "        rest = myPow2(x, n % 2)\n",
    "        return half * half * rest"
   ]
  },
  {
   "cell_type": "code",
   "execution_count": 12,
   "id": "sonic-filter",
   "metadata": {},
   "outputs": [
    {
     "data": {
      "text/plain": [
       "1024.0"
      ]
     },
     "execution_count": 12,
     "metadata": {},
     "output_type": "execute_result"
    }
   ],
   "source": [
    "myPow2(2.00000, 10)"
   ]
  },
  {
   "cell_type": "code",
   "execution_count": 13,
   "id": "appreciated-independence",
   "metadata": {},
   "outputs": [
    {
     "data": {
      "text/plain": [
       "9.261000000000001"
      ]
     },
     "execution_count": 13,
     "metadata": {},
     "output_type": "execute_result"
    }
   ],
   "source": [
    "myPow2(2.10000, 3)"
   ]
  },
  {
   "cell_type": "code",
   "execution_count": 14,
   "id": "revised-glucose",
   "metadata": {},
   "outputs": [
    {
     "data": {
      "text/plain": [
       "0.25"
      ]
     },
     "execution_count": 14,
     "metadata": {},
     "output_type": "execute_result"
    }
   ],
   "source": [
    "myPow2(2.00000, -2)"
   ]
  }
 ],
 "metadata": {
  "kernelspec": {
   "display_name": "Python 3",
   "language": "python",
   "name": "python3"
  },
  "language_info": {
   "codemirror_mode": {
    "name": "ipython",
    "version": 3
   },
   "file_extension": ".py",
   "mimetype": "text/x-python",
   "name": "python",
   "nbconvert_exporter": "python",
   "pygments_lexer": "ipython3",
   "version": "3.8.6"
  }
 },
 "nbformat": 4,
 "nbformat_minor": 5
}
