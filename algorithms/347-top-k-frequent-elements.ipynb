{
 "cells": [
  {
   "cell_type": "markdown",
   "id": "historical-swedish",
   "metadata": {},
   "source": [
    "### [前 K 个高频元素](https://leetcode-cn.com/problems/top-k-frequent-elements/)\n",
    "\n",
    "给定一个非空的整数数组，返回其中出现频率前 k 高的元素。\n",
    "\n",
    "#### 示例 1:\n",
    "```\n",
    "输入: nums = [1,1,1,2,2,3], k = 2\n",
    "输出: [1,2]\n",
    "```\n",
    "\n",
    "#### 示例 2:\n",
    "```\n",
    "输入: nums = [1], k = 1\n",
    "输出: [1]\n",
    "```\n",
    "#### 提示：\n",
    "- 你可以假设给定的 k 总是合理的，且 `1 ≤ k ≤ 数组中不相同的元素的个数`。\n",
    "- 你的算法的时间复杂度必须优于`O(n log n)`, `n`是数组的大小。\n",
    "- 题目数据保证答案唯一，换句话说，数组中前`k`个高频元素的集合是唯一的。\n",
    "- 你可以按任意顺序返回答案。\n",
    "\n",
    "#### 关联题目\n",
    "\n",
    "- [692. 前K个高频单词](https://leetcode-cn.com/problems/top-k-frequent-words/)\n",
    "- [出现次数的TopK问题](https://www.nowcoder.com/practice/fd711bdfa0e840b381d7e1b82183b3ee)"
   ]
  },
  {
   "cell_type": "code",
   "execution_count": 28,
   "id": "suffering-harris",
   "metadata": {},
   "outputs": [],
   "source": [
    "from typing import List\n",
    "\n",
    "def topKFrequent(nums: List[int], k: int) -> List[int]:\n",
    "    counter = {}\n",
    "    for i in nums:\n",
    "        if i in counter:\n",
    "            counter[i] += 1\n",
    "        else:\n",
    "            counter[i] = 1\n",
    "    \n",
    "    ans = []\n",
    "    for j in range(k):\n",
    "        if counter:\n",
    "            top, el = 0, None\n",
    "            for num in counter:\n",
    "                if counter[num] > top:\n",
    "                    top = counter[num]\n",
    "                    el = num\n",
    "            if el is not None:\n",
    "                ans.append(el)\n",
    "                del counter[el]\n",
    "        else:\n",
    "            break   \n",
    "    return ans"
   ]
  },
  {
   "cell_type": "code",
   "execution_count": 29,
   "id": "bound-coupon",
   "metadata": {},
   "outputs": [
    {
     "data": {
      "text/plain": [
       "[1, 2]"
      ]
     },
     "execution_count": 29,
     "metadata": {},
     "output_type": "execute_result"
    }
   ],
   "source": [
    "topKFrequent([1,1,1,2,2,3], 2)"
   ]
  },
  {
   "cell_type": "code",
   "execution_count": 30,
   "id": "narrow-mayor",
   "metadata": {},
   "outputs": [
    {
     "data": {
      "text/plain": [
       "[1]"
      ]
     },
     "execution_count": 30,
     "metadata": {},
     "output_type": "execute_result"
    }
   ],
   "source": [
    "topKFrequent([1], 1)"
   ]
  },
  {
   "cell_type": "code",
   "execution_count": 31,
   "id": "intended-slovenia",
   "metadata": {},
   "outputs": [
    {
     "data": {
      "text/plain": [
       "[0]"
      ]
     },
     "execution_count": 31,
     "metadata": {},
     "output_type": "execute_result"
    }
   ],
   "source": [
    "topKFrequent([3,0,1,0], 1)"
   ]
  }
 ],
 "metadata": {
  "kernelspec": {
   "display_name": "Python 3",
   "language": "python",
   "name": "python3"
  },
  "language_info": {
   "codemirror_mode": {
    "name": "ipython",
    "version": 3
   },
   "file_extension": ".py",
   "mimetype": "text/x-python",
   "name": "python",
   "nbconvert_exporter": "python",
   "pygments_lexer": "ipython3",
   "version": "3.8.6"
  }
 },
 "nbformat": 4,
 "nbformat_minor": 5
}
