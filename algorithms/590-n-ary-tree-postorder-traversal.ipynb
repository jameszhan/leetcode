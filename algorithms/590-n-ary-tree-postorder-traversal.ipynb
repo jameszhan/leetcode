{
 "cells": [
  {
   "cell_type": "markdown",
   "id": "divided-finding",
   "metadata": {},
   "source": [
    "### [N叉树的后序遍历](https://leetcode-cn.com/problems/n-ary-tree-postorder-traversal/)\n",
    "\n",
    "给定一个`N`叉树，返回其节点值的后序遍历。\n",
    "\n",
    "例如，给定一个`3`叉树 :\n",
    "\n",
    "返回其后序遍历: `[5,6,3,2,4,1]`.\n",
    "\n",
    "说明: 递归法很简单，你可以使用迭代法完成此题吗?\n",
    "\n",
    "#### 相关题目\n",
    "\n",
    "- [100. 相同的树](https://leetcode-cn.com/problems/same-tree/)\n",
    "- [101. 对称二叉树](https://leetcode-cn.com/problems/symmetric-tree/)\n",
    "- [102. 二叉树的层序遍历](https://leetcode-cn.com/problems/binary-tree-level-order-traversal/)\n",
    "- [103. 二叉树的锯齿形层序遍历](https://leetcode-cn.com/problems/binary-tree-zigzag-level-order-traversal/)\n",
    "- [104. 二叉树的最大深度](https://leetcode-cn.com/problems/maximum-depth-of-binary-tree/)\n",
    "- [107. 二叉树的层序遍历 II](https://leetcode-cn.com/problems/binary-tree-level-order-traversal-ii/)\n",
    "- [111. 二叉树的最小深度](https://leetcode-cn.com/problems/minimum-depth-of-binary-tree/)\n",
    "- [429. N叉树的层序遍历](https://leetcode-cn.com/problems/n-ary-tree-level-order-traversal/)\n",
    "- [559. N叉树的最大深度](https://leetcode-cn.com/problems/maximum-depth-of-n-ary-tree/)\n",
    "- [589. N叉树的前序遍历](https://leetcode-cn.com/problems/n-ary-tree-preorder-traversal/)\n",
    "- [590. N叉树的后序遍历](https://leetcode-cn.com/problems/n-ary-tree-postorder-traversal/)\n",
    "- [剑指 Offer 28. 对称的二叉树](https://leetcode-cn.com/problems/dui-cheng-de-er-cha-shu-lcof/)\n",
    "- [剑指 Offer 32 - I. 从上到下打印二叉树](https://leetcode-cn.com/problems/cong-shang-dao-xia-da-yin-er-cha-shu-lcof/)\n",
    "- [剑指 Offer 32 - II. 从上到下打印二叉树 II](https://leetcode-cn.com/problems/cong-shang-dao-xia-da-yin-er-cha-shu-ii-lcof/)\n",
    "- [剑指 Offer 32 - III. 从上到下打印二叉树 III](https://leetcode-cn.com/problems/cong-shang-dao-xia-da-yin-er-cha-shu-iii-lcof/)\n",
    "- [剑指 Offer 55 - I. 二叉树的深度](https://leetcode-cn.com/problems/er-cha-shu-de-shen-du-lcof/)"
   ]
  },
  {
   "cell_type": "code",
   "execution_count": 2,
   "id": "provincial-locking",
   "metadata": {},
   "outputs": [],
   "source": [
    "from typing import List\n",
    "\n",
    "class Node:\n",
    "    def __init__(self, val=None, children=None):\n",
    "        self.val = val\n",
    "        self.children = children\n",
    "\n",
    "class Solution:\n",
    "    def postorder(self, root: 'Node') -> List[int]:\n",
    "        def travel(node: Node, arr: List[int]):\n",
    "            if node.children:\n",
    "                for child in node.children:\n",
    "                    travel(child, arr)\n",
    "            arr.append(node.val)\n",
    "        \n",
    "        ans = []\n",
    "        if root:\n",
    "            travel(root, ans)\n",
    "        return ans"
   ]
  },
  {
   "cell_type": "code",
   "execution_count": null,
   "id": "nuclear-sally",
   "metadata": {},
   "outputs": [],
   "source": []
  }
 ],
 "metadata": {
  "kernelspec": {
   "display_name": "Python 3",
   "language": "python",
   "name": "python3"
  },
  "language_info": {
   "codemirror_mode": {
    "name": "ipython",
    "version": 3
   },
   "file_extension": ".py",
   "mimetype": "text/x-python",
   "name": "python",
   "nbconvert_exporter": "python",
   "pygments_lexer": "ipython3",
   "version": "3.8.6"
  }
 },
 "nbformat": 4,
 "nbformat_minor": 5
}
