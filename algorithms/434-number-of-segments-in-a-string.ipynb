{
 "cells": [
  {
   "cell_type": "markdown",
   "id": "academic-siemens",
   "metadata": {},
   "source": [
    "### [字符串中的单词数](https://leetcode-cn.com/problems/number-of-segments-in-a-string/)\n",
    "\n",
    "统计字符串中的单词个数，这里的单词指的是连续的不是空格的字符。\n",
    "\n",
    "请注意，你可以假定字符串里不包括任何不可打印的字符。\n",
    "\n",
    "#### 示例:\n",
    "\n",
    "```\n",
    "输入: \"Hello, my name is John\"\n",
    "输出: 5\n",
    "解释: 这里的单词是指连续的不是空格的字符，所以 \"Hello,\" 算作 1 个单词。\n",
    "```"
   ]
  },
  {
   "cell_type": "code",
   "execution_count": 1,
   "id": "binding-appeal",
   "metadata": {},
   "outputs": [],
   "source": [
    "def countSegments(s: str) -> int:\n",
    "    return len(s.split())"
   ]
  },
  {
   "cell_type": "code",
   "execution_count": 2,
   "id": "intermediate-nickel",
   "metadata": {},
   "outputs": [
    {
     "data": {
      "text/plain": [
       "5"
      ]
     },
     "execution_count": 2,
     "metadata": {},
     "output_type": "execute_result"
    }
   ],
   "source": [
    "countSegments(\"Hello, my name is John\")"
   ]
  }
 ],
 "metadata": {
  "kernelspec": {
   "display_name": "Python 3",
   "language": "python",
   "name": "python3"
  },
  "language_info": {
   "codemirror_mode": {
    "name": "ipython",
    "version": 3
   },
   "file_extension": ".py",
   "mimetype": "text/x-python",
   "name": "python",
   "nbconvert_exporter": "python",
   "pygments_lexer": "ipython3",
   "version": "3.8.6"
  }
 },
 "nbformat": 4,
 "nbformat_minor": 5
}
