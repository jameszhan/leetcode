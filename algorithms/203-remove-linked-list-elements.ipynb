{
 "cells": [
  {
   "cell_type": "markdown",
   "id": "bizarre-purpose",
   "metadata": {},
   "source": [
    "### [移除链表元素](https://leetcode-cn.com/problems/remove-linked-list-elements/)\n",
    "\n",
    "删除链表中等于给定值`val`的所有节点。\n",
    "\n",
    "#### 示例:\n",
    "```\n",
    "输入: 1->2->6->3->4->5->6, val = 6\n",
    "输出: 1->2->3->4->5\n",
    "```"
   ]
  },
  {
   "cell_type": "code",
   "execution_count": 2,
   "id": "administrative-canal",
   "metadata": {},
   "outputs": [],
   "source": [
    "class ListNode:\n",
    "    def __init__(self, val=0, next=None):\n",
    "        self.val = val\n",
    "        self.next = next\n",
    "        \n",
    "class Solution:\n",
    "    def removeElements(self, head: ListNode, val: int) -> ListNode:\n",
    "        dummyHead = ListNode(0, head)\n",
    "        node, prev = dummyHead.next, dummyHead\n",
    "        while node:\n",
    "            if val == node.val:\n",
    "                prev.next = node.next\n",
    "            else:\n",
    "                prev = node\n",
    "            node = node.next\n",
    "        return dummyHead.next"
   ]
  }
 ],
 "metadata": {
  "kernelspec": {
   "display_name": "Python 3",
   "language": "python",
   "name": "python3"
  },
  "language_info": {
   "codemirror_mode": {
    "name": "ipython",
    "version": 3
   },
   "file_extension": ".py",
   "mimetype": "text/x-python",
   "name": "python",
   "nbconvert_exporter": "python",
   "pygments_lexer": "ipython3",
   "version": "3.8.6"
  }
 },
 "nbformat": 4,
 "nbformat_minor": 5
}
