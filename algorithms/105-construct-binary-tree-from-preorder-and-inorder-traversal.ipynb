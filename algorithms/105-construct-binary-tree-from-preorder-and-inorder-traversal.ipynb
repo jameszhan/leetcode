{
 "cells": [
  {
   "cell_type": "markdown",
   "id": "virgin-lotus",
   "metadata": {},
   "source": [
    "### [从前序与中序遍历序列构造二叉树](https://leetcode-cn.com/problems/construct-binary-tree-from-preorder-and-inorder-traversal/)\n",
    "\n",
    "根据一棵树的前序遍历与中序遍历构造二叉树。\n",
    "\n",
    "#### 注意:\n",
    "> 你可以假设树中没有重复的元素。\n",
    "\n",
    "例如，给出\n",
    "\n",
    "```\n",
    "前序遍历 preorder = [3,9,20,15,7]\n",
    "中序遍历 inorder = [9,3,15,20,7]\n",
    "```\n",
    "\n",
    "返回如下的二叉树：\n",
    "```\n",
    "    3\n",
    "   / \\\n",
    "  9  20\n",
    "    /  \\\n",
    "   15   7\n",
    "```"
   ]
  },
  {
   "cell_type": "code",
   "execution_count": 8,
   "id": "informational-soldier",
   "metadata": {},
   "outputs": [],
   "source": [
    "from typing import List\n",
    "class TreeNode:\n",
    "    def __init__(self, val=0, left=None, right=None):\n",
    "        self.val = val\n",
    "        self.left = left\n",
    "        self.right = right\n",
    "        \n",
    "class Solution:\n",
    "    def buildTree(self, preorder: List[int], inorder: List[int]) -> TreeNode:\n",
    "        def build(preorder: List[int], inorder: List[int]) -> TreeNode:\n",
    "            if not preorder or not inorder:\n",
    "                return None\n",
    "            \n",
    "            root = TreeNode(preorder[0])\n",
    "            idx = inorder.index(root.val)\n",
    "            \n",
    "            root.left = build(preorder[1:idx+1], inorder[:idx])\n",
    "            root.right = build(preorder[idx+1:], inorder[idx+1:])\n",
    "            return root\n",
    "            \n",
    "        return build(preorder, inorder)"
   ]
  },
  {
   "cell_type": "markdown",
   "id": "living-discount",
   "metadata": {},
   "source": [
    "![算法说明](https://notes.zizhizhan.com/files/interview/images/leetcode105-construct-binary-tree-from-preorder-and-inorder-traversal.gif)"
   ]
  }
 ],
 "metadata": {
  "kernelspec": {
   "display_name": "Python 3",
   "language": "python",
   "name": "python3"
  },
  "language_info": {
   "codemirror_mode": {
    "name": "ipython",
    "version": 3
   },
   "file_extension": ".py",
   "mimetype": "text/x-python",
   "name": "python",
   "nbconvert_exporter": "python",
   "pygments_lexer": "ipython3",
   "version": "3.8.6"
  }
 },
 "nbformat": 4,
 "nbformat_minor": 5
}
