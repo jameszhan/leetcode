{
 "cells": [
  {
   "cell_type": "markdown",
   "id": "large-carnival",
   "metadata": {},
   "source": [
    "[编写一个程序，找到两个单链表相交的起始节点](https://leetcode-cn.com/problems/intersection-of-two-linked-lists/)。\n",
    "\n",
    "如下面的两个链表：\n",
    "\n",
    "在节点 c1 开始相交。\n",
    "\n",
    "#### 示例 1：\n",
    "```\n",
    "输入：intersectVal = 8, listA = [4,1,8,4,5], listB = [5,0,1,8,4,5], skipA = 2, skipB = 3\n",
    "输出：Reference of the node with value = 8\n",
    "输入解释：相交节点的值为 8 （注意，如果两个链表相交则不能为 0）。从各自的表头开始算起，链表 A 为 [4,1,8,4,5]，链表 B 为 [5,0,1,8,4,5]。在 A 中，相交节点前有 2 个节点；在 B 中，相交节点前有 3 个节点。\n",
    "```\n",
    "\n",
    "#### 示例 2：\n",
    "```\n",
    "输入：intersectVal = 2, listA = [0,9,1,2,4], listB = [3,2,4], skipA = 3, skipB = 1\n",
    "输出：Reference of the node with value = 2\n",
    "输入解释：相交节点的值为 2 （注意，如果两个链表相交则不能为 0）。从各自的表头开始算起，链表 A 为 [0,9,1,2,4]，链表 B 为 [3,2,4]。在 A 中，相交节点前有 3 个节点；在 B 中，相交节点前有 1 个节点。\n",
    "```\n",
    "\n",
    "#### 示例 3：\n",
    "```\n",
    "输入：intersectVal = 0, listA = [2,6,4], listB = [1,5], skipA = 3, skipB = 2\n",
    "输出：null\n",
    "输入解释：从各自的表头开始算起，链表 A 为 [2,6,4]，链表 B 为 [1,5]。由于这两个链表不相交，所以 intersectVal 必须为 0，而 skipA 和 skipB 可以是任意值。\n",
    "解释：这两个链表不相交，因此返回 null。\n",
    "```\n",
    "\n",
    "#### 注意：\n",
    "\n",
    "- 如果两个链表没有交点，返回`null`.\n",
    "- 在返回结果后，两个链表仍须保持原有的结构。\n",
    "- 可假定整个链表结构中没有循环。\n",
    "- 程序尽量满足`O(n)`时间复杂度，且仅用`O(1)`内存。"
   ]
  },
  {
   "cell_type": "code",
   "execution_count": 4,
   "id": "listed-bacon",
   "metadata": {},
   "outputs": [],
   "source": [
    "# Definition for singly-linked list.\n",
    "class ListNode:\n",
    "    def __init__(self, x):\n",
    "        self.val = x\n",
    "        self.next = None\n",
    "\n",
    "class Solution:\n",
    "    def getIntersectionNode(self, headA: ListNode, headB: ListNode) -> ListNode:\n",
    "        if headA is None or headB is None:\n",
    "            return None\n",
    "        \n",
    "        h1 = headA\n",
    "        while h1 is not None:\n",
    "            h2 = headB\n",
    "            while h2 is not None:\n",
    "                if h1 == h2:\n",
    "                    return h1\n",
    "                else:\n",
    "                    h2 = h2.next\n",
    "            h1 = h1.next\n",
    "        return None"
   ]
  },
  {
   "cell_type": "code",
   "execution_count": 6,
   "id": "spoken-thing",
   "metadata": {},
   "outputs": [],
   "source": [
    "class Solution:\n",
    "    def getIntersectionNode2(self, headA: ListNode, headB: ListNode) -> ListNode:\n",
    "        if headA is None or headB is None:\n",
    "            return None\n",
    "        \n",
    "        h1, h2 = headA, headB\n",
    "        while h1 != h2:\n",
    "            h1 = h1.next if h1 else headB\n",
    "            h2 = h2.next if h2 else headA\n",
    "        \n",
    "        return h1"
   ]
  },
  {
   "cell_type": "code",
   "execution_count": null,
   "id": "quarterly-basket",
   "metadata": {},
   "outputs": [],
   "source": []
  }
 ],
 "metadata": {
  "kernelspec": {
   "display_name": "Python 3",
   "language": "python",
   "name": "python3"
  },
  "language_info": {
   "codemirror_mode": {
    "name": "ipython",
    "version": 3
   },
   "file_extension": ".py",
   "mimetype": "text/x-python",
   "name": "python",
   "nbconvert_exporter": "python",
   "pygments_lexer": "ipython3",
   "version": "3.8.6"
  }
 },
 "nbformat": 4,
 "nbformat_minor": 5
}
