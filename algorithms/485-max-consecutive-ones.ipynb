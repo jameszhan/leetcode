{
 "cells": [
  {
   "cell_type": "markdown",
   "id": "shared-valuable",
   "metadata": {},
   "source": [
    "### [最大连续1的个数](https://leetcode-cn.com/problems/max-consecutive-ones/)\n",
    "\n",
    "给定一个二进制数组， 计算其中最大连续1的个数。\n",
    "\n",
    "#### 示例 1:\n",
    "```\n",
    "输入: [1,1,0,1,1,1]\n",
    "输出: 3\n",
    "解释: 开头的两位和最后的三位都是连续1，所以最大连续1的个数是 3.\n",
    "```\n",
    "\n",
    "#### 注意：\n",
    "- 输入的数组只包含`0`和`1`。\n",
    "- 输入数组的长度是正整数，且不超过`10,000`。"
   ]
  },
  {
   "cell_type": "code",
   "execution_count": 5,
   "id": "remarkable-excess",
   "metadata": {},
   "outputs": [],
   "source": [
    "from typing import List\n",
    "\n",
    "def findMaxConsecutiveOnes(nums: List[int]) -> int:\n",
    "    if not nums:\n",
    "        return 0\n",
    "    \n",
    "    n = len(nums)\n",
    "    dp = [0 for _ in range(n)]\n",
    "    dp[0] = 1 if nums[0] == 1 else 0\n",
    "    \n",
    "    for i in range(1, n):\n",
    "        if nums[i] == 1:\n",
    "            dp[i] = dp[i - 1] + 1\n",
    "        else:\n",
    "            dp[i] = 0\n",
    "    \n",
    "    return max(dp)"
   ]
  },
  {
   "cell_type": "code",
   "execution_count": 6,
   "id": "sensitive-gallery",
   "metadata": {},
   "outputs": [
    {
     "data": {
      "text/plain": [
       "3"
      ]
     },
     "execution_count": 6,
     "metadata": {},
     "output_type": "execute_result"
    }
   ],
   "source": [
    "findMaxConsecutiveOnes([1,1,0,1,1,1])"
   ]
  },
  {
   "cell_type": "code",
   "execution_count": 7,
   "id": "martial-austin",
   "metadata": {},
   "outputs": [],
   "source": [
    "def findMaxConsecutiveOnes(nums: List[int]) -> int:\n",
    "    if not nums:\n",
    "        return 0\n",
    "    \n",
    "    n, count = len(nums), 1 if nums[0] == 1 else 0 \n",
    "    maxCount = count\n",
    "    for i in range(1, n):\n",
    "        if nums[i] == 1:\n",
    "            count += 1\n",
    "            maxCount = max(maxCount, count)\n",
    "        else:\n",
    "            count = 0\n",
    "    \n",
    "    return maxCount"
   ]
  },
  {
   "cell_type": "code",
   "execution_count": 8,
   "id": "recorded-toronto",
   "metadata": {},
   "outputs": [
    {
     "data": {
      "text/plain": [
       "3"
      ]
     },
     "execution_count": 8,
     "metadata": {},
     "output_type": "execute_result"
    }
   ],
   "source": [
    "findMaxConsecutiveOnes([1,1,0,1,1,1])"
   ]
  },
  {
   "cell_type": "code",
   "execution_count": null,
   "id": "competent-softball",
   "metadata": {},
   "outputs": [],
   "source": []
  }
 ],
 "metadata": {
  "kernelspec": {
   "display_name": "Python 3",
   "language": "python",
   "name": "python3"
  },
  "language_info": {
   "codemirror_mode": {
    "name": "ipython",
    "version": 3
   },
   "file_extension": ".py",
   "mimetype": "text/x-python",
   "name": "python",
   "nbconvert_exporter": "python",
   "pygments_lexer": "ipython3",
   "version": "3.8.6"
  }
 },
 "nbformat": 4,
 "nbformat_minor": 5
}
