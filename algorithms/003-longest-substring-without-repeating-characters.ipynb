{
 "cells": [
  {
   "cell_type": "markdown",
   "id": "prescribed-forty",
   "metadata": {},
   "source": [
    "### [无重复字符的最长子串](https://leetcode-cn.com/problems/longest-substring-without-repeating-characters/)\n",
    "\n",
    "给定一个字符串，请你找出其中不含有重复字符的 最长子串 的长度。\n",
    "\n",
    "#### 示例 1:\n",
    "```\n",
    "输入: s = \"abcabcbb\"\n",
    "输出: 3 \n",
    "解释: 因为无重复字符的最长子串是 \"abc\"，所以其长度为 3。\n",
    "```\n",
    "#### 示例 2:\n",
    "```\n",
    "输入: s = \"bbbbb\"\n",
    "输出: 1\n",
    "解释: 因为无重复字符的最长子串是 \"b\"，所以其长度为 1。\n",
    "```\n",
    "#### 示例 3:\n",
    "```\n",
    "输入: s = \"pwwkew\"\n",
    "输出: 3\n",
    "解释: 因为无重复字符的最长子串是 \"wke\"，所以其长度为 3。\n",
    "     请注意，你的答案必须是 子串 的长度，\"pwke\" 是一个子序列，不是子串。\n",
    "```\n",
    "#### 示例 4:\n",
    "```\n",
    "输入: s = \"\"\n",
    "输出: 0\n",
    "```\n",
    "\n",
    "#### 提示：\n",
    "- 0 <= s.length <= 5 * 104\n",
    "- s 由英文字母、数字、符号和空格组成"
   ]
  },
  {
   "cell_type": "code",
   "execution_count": 8,
   "id": "equal-dining",
   "metadata": {},
   "outputs": [
    {
     "name": "stdout",
     "output_type": "stream",
     "text": [
      "3\n",
      "1\n",
      "3\n",
      "7\n"
     ]
    }
   ],
   "source": [
    "def lengthOfLongestSubstring(s: str) -> int:\n",
    "    l = len(s)\n",
    "    if l < 2:\n",
    "        return l\n",
    "    \n",
    "    d, start = {s[0]: 1}, 0\n",
    "    ans = 1\n",
    "    for i in range(1, l):\n",
    "        c = s[i]\n",
    "        if c in d:\n",
    "            start = max(d[c], start)\n",
    "        \n",
    "        ans = max(ans, i - start + 1)\n",
    "        d[c] = i + 1\n",
    "    return ans\n",
    "\n",
    "print(lengthOfLongestSubstring(\"abcabcbb\"))\n",
    "print(lengthOfLongestSubstring(\"bbbbb\"))\n",
    "print(lengthOfLongestSubstring(\"pwwkew\"))\n",
    "print(lengthOfLongestSubstring(\"abcdefg\"))"
   ]
  }
 ],
 "metadata": {
  "kernelspec": {
   "display_name": "Python 3",
   "language": "python",
   "name": "python3"
  },
  "language_info": {
   "codemirror_mode": {
    "name": "ipython",
    "version": 3
   },
   "file_extension": ".py",
   "mimetype": "text/x-python",
   "name": "python",
   "nbconvert_exporter": "python",
   "pygments_lexer": "ipython3",
   "version": "3.8.6"
  }
 },
 "nbformat": 4,
 "nbformat_minor": 5
}
