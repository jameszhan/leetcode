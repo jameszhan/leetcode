{
 "cells": [
  {
   "cell_type": "markdown",
   "id": "common-configuration",
   "metadata": {},
   "source": [
    "给定一个整数数组 nums 和一个目标值 target，请你在该数组中找出和为目标值的那 两个 整数，并返回他们的数组下标。\n",
    "你可以假设每种输入只会对应一个答案。但是，数组中同一个元素不能使用两遍。\n",
    "\n",
    "#### 示例:\n",
    "- 给定 `nums = [2, 7, 11, 15]`, `target = 9`\n",
    "- 因为 `nums[0] + nums[1] = 2 + 7 = 9`\n",
    "- 所以返回 `[0, 1]`"
   ]
  },
  {
   "cell_type": "code",
   "execution_count": 4,
   "id": "black-discovery",
   "metadata": {},
   "outputs": [],
   "source": [
    "def solve(nums, target):\n",
    "    candidates = {}\n",
    "    for i, n in enumerate(nums):\n",
    "        candidates[target - n] = i\n",
    "    for i, n in enumerate(nums):\n",
    "        if n in candidates and i != candidates[n]:\n",
    "            return [i, candidates[n]]\n",
    "    return None"
   ]
  },
  {
   "cell_type": "code",
   "execution_count": 5,
   "id": "refined-palestinian",
   "metadata": {},
   "outputs": [
    {
     "data": {
      "text/plain": [
       "[0, 1]"
      ]
     },
     "execution_count": 5,
     "metadata": {},
     "output_type": "execute_result"
    }
   ],
   "source": [
    "solve([2, 7, 11, 15], 9)"
   ]
  },
  {
   "cell_type": "code",
   "execution_count": 6,
   "id": "early-reader",
   "metadata": {},
   "outputs": [
    {
     "name": "stdout",
     "output_type": "stream",
     "text": [
      "[1, 3]\n",
      "[1, 2]\n",
      "[0, 3]\n",
      "[2, 4]\n"
     ]
    }
   ],
   "source": [
    "print(solve([11, 7, 15, 2], 9))\n",
    "print(solve([3, 2, 4], 6))\n",
    "print(solve([0, 4, 3, 0], 0))\n",
    "print(solve([-1, -2, -3, -4, -5], -8))"
   ]
  },
  {
   "cell_type": "code",
   "execution_count": null,
   "id": "little-demand",
   "metadata": {},
   "outputs": [],
   "source": []
  }
 ],
 "metadata": {
  "kernelspec": {
   "display_name": "Python 3",
   "language": "python",
   "name": "python3"
  },
  "language_info": {
   "codemirror_mode": {
    "name": "ipython",
    "version": 3
   },
   "file_extension": ".py",
   "mimetype": "text/x-python",
   "name": "python",
   "nbconvert_exporter": "python",
   "pygments_lexer": "ipython3",
   "version": "3.8.6"
  }
 },
 "nbformat": 4,
 "nbformat_minor": 5
}
