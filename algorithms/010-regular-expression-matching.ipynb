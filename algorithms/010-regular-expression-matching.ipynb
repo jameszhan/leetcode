{
 "cells": [
  {
   "cell_type": "markdown",
   "id": "collected-slide",
   "metadata": {},
   "source": [
    "### [正则表达式匹配](https://leetcode-cn.com/problems/regular-expression-matching/)\n",
    "\n",
    "给你一个字符串 s 和一个字符规律 p，请你来实现一个支持 '.' 和 '*' 的正则表达式匹配。\n",
    "\n",
    "- `'.'` 匹配任意单个字符\n",
    "- `'*'` 匹配零个或多个前面的那一个元素\n",
    "\n",
    "所谓匹配，是要涵盖**整个**字符串`s`的，而不是部分字符串。\n",
    "\n",
    "#### 示例 1：\n",
    "```\n",
    "输入：s = \"aa\" p = \"a\"\n",
    "输出：false\n",
    "解释：\"a\" 无法匹配 \"aa\" 整个字符串。\n",
    "```\n",
    "\n",
    "#### 示例 2:\n",
    "```\n",
    "输入：s = \"aa\" p = \"a*\"\n",
    "输出：true\n",
    "解释：因为 '*' 代表可以匹配零个或多个前面的那一个元素, 在这里前面的元素就是 'a'。因此，字符串 \"aa\" 可被视为 'a' 重复了一次。\n",
    "```\n",
    "\n",
    "#### 示例 3：\n",
    "```\n",
    "输入：s = \"ab\" p = \".*\"\n",
    "输出：true\n",
    "解释：\".*\" 表示可匹配零个或多个（'*'）任意字符（'.'）。\n",
    "```\n",
    "\n",
    "#### 示例 4：\n",
    "```\n",
    "输入：s = \"aab\" p = \"c*a*b\"\n",
    "输出：true\n",
    "解释：因为 '*' 表示零个或多个，这里 'c' 为 0 个, 'a' 被重复一次。因此可以匹配字符串 \"aab\"。\n",
    "```\n",
    "\n",
    "#### 示例 5：\n",
    "```\n",
    "输入：s = \"mississippi\" p = \"mis*is*p*.\"\n",
    "输出：false\n",
    "```\n",
    "\n",
    "#### 提示：\n",
    "- 0 <= s.length <= 20\n",
    "- 0 <= p.length <= 30\n",
    "- s 可能为空，且只包含从 a-z 的小写字母。\n",
    "- p 可能为空，且只包含从 a-z 的小写字母，以及字符 . 和 *。\n",
    "- 保证每次出现字符 * 时，前面都匹配到有效的字符"
   ]
  },
  {
   "cell_type": "code",
   "execution_count": 1,
   "id": "threatened-evans",
   "metadata": {},
   "outputs": [],
   "source": [
    "def isMatch(s: str, p: str) -> bool:\n",
    "    m, n = len(s), len(p)\n",
    "    dp = [[False for _ in range(n + 1)] for _ in range(m + 1)]\n",
    "    dp[0][0] = True\n",
    "    \n",
    "    for i in range(0, m + 1):\n",
    "        for j in range(1, n + 1):\n",
    "            if i > 0 and (s[i - 1] == p[j - 1] or p[j - 1] == '.'):\n",
    "                dp[i][j] = dp[i - 1][j - 1]    \n",
    "            elif p[j - 1] == '*':\n",
    "                if i > 0 and (s[i - 1] == p[j - 2] or p [j - 2] == '.'):\n",
    "                    dp[i][j] = dp[i][j - 2] or dp[i - 1][j]\n",
    "                else:\n",
    "                    dp[i][j] = dp[i][j - 2]\n",
    "    return dp[-1][-1]"
   ]
  },
  {
   "cell_type": "code",
   "execution_count": 2,
   "id": "subtle-knight",
   "metadata": {},
   "outputs": [
    {
     "data": {
      "text/plain": [
       "False"
      ]
     },
     "execution_count": 2,
     "metadata": {},
     "output_type": "execute_result"
    }
   ],
   "source": [
    "isMatch(\"a\", \"ab*a\")"
   ]
  },
  {
   "cell_type": "code",
   "execution_count": 3,
   "id": "complicated-opposition",
   "metadata": {},
   "outputs": [
    {
     "data": {
      "text/plain": [
       "False"
      ]
     },
     "execution_count": 3,
     "metadata": {},
     "output_type": "execute_result"
    }
   ],
   "source": [
    "isMatch(\"\", \".\")"
   ]
  },
  {
   "cell_type": "code",
   "execution_count": 4,
   "id": "married-moderator",
   "metadata": {},
   "outputs": [
    {
     "data": {
      "text/plain": [
       "True"
      ]
     },
     "execution_count": 4,
     "metadata": {},
     "output_type": "execute_result"
    }
   ],
   "source": [
    "isMatch(\"\", \".*\")"
   ]
  },
  {
   "cell_type": "code",
   "execution_count": 5,
   "id": "standing-foundation",
   "metadata": {},
   "outputs": [
    {
     "data": {
      "text/plain": [
       "True"
      ]
     },
     "execution_count": 5,
     "metadata": {},
     "output_type": "execute_result"
    }
   ],
   "source": [
    "isMatch(\"ab\", \".*..\")"
   ]
  },
  {
   "cell_type": "code",
   "execution_count": 6,
   "id": "dependent-reading",
   "metadata": {},
   "outputs": [
    {
     "data": {
      "text/plain": [
       "True"
      ]
     },
     "execution_count": 6,
     "metadata": {},
     "output_type": "execute_result"
    }
   ],
   "source": [
    "isMatch('abc', 'a.c')"
   ]
  },
  {
   "cell_type": "code",
   "execution_count": 7,
   "id": "brave-scholar",
   "metadata": {},
   "outputs": [
    {
     "data": {
      "text/plain": [
       "False"
      ]
     },
     "execution_count": 7,
     "metadata": {},
     "output_type": "execute_result"
    }
   ],
   "source": [
    "isMatch('aa', 'a')"
   ]
  },
  {
   "cell_type": "code",
   "execution_count": 8,
   "id": "rental-passport",
   "metadata": {},
   "outputs": [
    {
     "data": {
      "text/plain": [
       "True"
      ]
     },
     "execution_count": 8,
     "metadata": {},
     "output_type": "execute_result"
    }
   ],
   "source": [
    "isMatch('aa', 'a*')"
   ]
  },
  {
   "cell_type": "code",
   "execution_count": 9,
   "id": "flexible-prophet",
   "metadata": {},
   "outputs": [
    {
     "data": {
      "text/plain": [
       "True"
      ]
     },
     "execution_count": 9,
     "metadata": {},
     "output_type": "execute_result"
    }
   ],
   "source": [
    "isMatch('ab', '.*')"
   ]
  },
  {
   "cell_type": "code",
   "execution_count": 10,
   "id": "returning-payday",
   "metadata": {},
   "outputs": [
    {
     "data": {
      "text/plain": [
       "True"
      ]
     },
     "execution_count": 10,
     "metadata": {},
     "output_type": "execute_result"
    }
   ],
   "source": [
    "isMatch('aab', 'c*a*b')"
   ]
  },
  {
   "cell_type": "code",
   "execution_count": 11,
   "id": "subject-residence",
   "metadata": {},
   "outputs": [
    {
     "data": {
      "text/plain": [
       "True"
      ]
     },
     "execution_count": 11,
     "metadata": {},
     "output_type": "execute_result"
    }
   ],
   "source": [
    "isMatch('mississppi', 'mis*is*p*.')"
   ]
  },
  {
   "cell_type": "code",
   "execution_count": 12,
   "id": "considered-energy",
   "metadata": {},
   "outputs": [
    {
     "data": {
      "text/plain": [
       "False"
      ]
     },
     "execution_count": 12,
     "metadata": {},
     "output_type": "execute_result"
    }
   ],
   "source": [
    "isMatch(\"abcd\", \"d*\")"
   ]
  }
 ],
 "metadata": {
  "kernelspec": {
   "display_name": "Python 3",
   "language": "python",
   "name": "python3"
  },
  "language_info": {
   "codemirror_mode": {
    "name": "ipython",
    "version": 3
   },
   "file_extension": ".py",
   "mimetype": "text/x-python",
   "name": "python",
   "nbconvert_exporter": "python",
   "pygments_lexer": "ipython3",
   "version": "3.8.6"
  }
 },
 "nbformat": 4,
 "nbformat_minor": 5
}
