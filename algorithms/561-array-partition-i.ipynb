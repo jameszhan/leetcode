{
 "cells": [
  {
   "cell_type": "markdown",
   "id": "afraid-orleans",
   "metadata": {},
   "source": [
    "### [数组拆分 I](https://leetcode-cn.com/problems/array-partition-i/)\n",
    "\n",
    "给定长度为`2n`的整数数组`nums`，你的任务是将这些数分成`n`对, 例如 `(a1, b1), (a2, b2), ..., (an, bn)`，使得从`1`到`n`的`min(ai, bi)`总和最大。\n",
    "\n",
    "返回该**最大总和**。\n",
    "\n",
    "#### 示例 1：\n",
    "```\n",
    "输入：nums = [1,4,3,2]\n",
    "输出：4\n",
    "解释：所有可能的分法（忽略元素顺序）为：\n",
    "1. (1, 4), (2, 3) -> min(1, 4) + min(2, 3) = 1 + 2 = 3\n",
    "2. (1, 3), (2, 4) -> min(1, 3) + min(2, 4) = 1 + 2 = 3\n",
    "3. (1, 2), (3, 4) -> min(1, 2) + min(3, 4) = 1 + 3 = 4\n",
    "所以最大总和为 4\n",
    "```\n",
    "示例 2：\n",
    "```\n",
    "输入：nums = [6,2,6,5,1,2]\n",
    "输出：9\n",
    "解释：最优的分法为 (2, 1), (2, 5), (6, 6). min(2, 1) + min(2, 5) + min(6, 6) = 1 + 2 + 6 = 9\n",
    "```\n",
    "\n",
    "#### 提示：\n",
    "- `1 <= n <= 104`\n",
    "- `nums.length == 2 * n`\n",
    "- `-104 <= nums[i] <= 104`"
   ]
  },
  {
   "cell_type": "code",
   "execution_count": 5,
   "id": "objective-hobby",
   "metadata": {},
   "outputs": [],
   "source": [
    "from typing import List\n",
    "\n",
    "def arrayPairSum(nums: List[int]) -> int:\n",
    "    nums.sort()\n",
    "    ans = 0\n",
    "    for i in range(len(nums)):\n",
    "        if i % 2 == 0:\n",
    "            ans += nums[i]\n",
    "    return ans"
   ]
  },
  {
   "cell_type": "code",
   "execution_count": 6,
   "id": "front-charter",
   "metadata": {},
   "outputs": [
    {
     "data": {
      "text/plain": [
       "4"
      ]
     },
     "execution_count": 6,
     "metadata": {},
     "output_type": "execute_result"
    }
   ],
   "source": [
    "arrayPairSum([1,4,3,2])"
   ]
  },
  {
   "cell_type": "code",
   "execution_count": 7,
   "id": "innocent-worcester",
   "metadata": {},
   "outputs": [
    {
     "data": {
      "text/plain": [
       "9"
      ]
     },
     "execution_count": 7,
     "metadata": {},
     "output_type": "execute_result"
    }
   ],
   "source": [
    "arrayPairSum([6,2,6,5,1,2])"
   ]
  }
 ],
 "metadata": {
  "kernelspec": {
   "display_name": "Python 3",
   "language": "python",
   "name": "python3"
  },
  "language_info": {
   "codemirror_mode": {
    "name": "ipython",
    "version": 3
   },
   "file_extension": ".py",
   "mimetype": "text/x-python",
   "name": "python",
   "nbconvert_exporter": "python",
   "pygments_lexer": "ipython3",
   "version": "3.8.6"
  }
 },
 "nbformat": 4,
 "nbformat_minor": 5
}
