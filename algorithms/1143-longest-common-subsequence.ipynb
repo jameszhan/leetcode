{
 "cells": [
  {
   "cell_type": "markdown",
   "id": "pretty-chase",
   "metadata": {},
   "source": [
    "### [最长公共子序列](https://leetcode-cn.com/problems/longest-common-subsequence/)\n",
    "\n",
    "给定两个字符串 text1 和 text2，返回这两个字符串的最长公共子序列的长度。\n",
    "\n",
    "一个字符串的 子序列 是指这样一个新的字符串：它是由原字符串在不改变字符的相对顺序的情况下删除某些字符（也可以不删除任何字符）后组成的新字符串。\n",
    "例如，\"ace\" 是 \"abcde\" 的子序列，但 \"aec\" 不是 \"abcde\" 的子序列。两个字符串的「公共子序列」是这两个字符串所共同拥有的子序列。\n",
    "\n",
    "若这两个字符串没有公共子序列，则返回 0。\n",
    "\n",
    "\n",
    "#### 示例 1:\n",
    "```\n",
    "输入：text1 = \"abcde\", text2 = \"ace\" \n",
    "输出：3  \n",
    "解释：最长公共子序列是 \"ace\"，它的长度为 3。\n",
    "```\n",
    "\n",
    "#### 示例 2:\n",
    "```\n",
    "输入：text1 = \"abc\", text2 = \"abc\"\n",
    "输出：3\n",
    "解释：最长公共子序列是 \"abc\"，它的长度为 3。\n",
    "```\n",
    "\n",
    "#### 示例 3:\n",
    "```\n",
    "输入：text1 = \"abc\", text2 = \"def\"\n",
    "输出：0\n",
    "解释：两个字符串没有公共子序列，返回 0。\n",
    "```\n",
    "\n",
    "#### 提示:\n",
    "- `1 <= text1.length <= 1000`\n",
    "- `1 <= text2.length <= 1000`\n",
    "- 输入的字符串只含有小写英文字符。"
   ]
  },
  {
   "cell_type": "code",
   "execution_count": 44,
   "id": "annual-savings",
   "metadata": {},
   "outputs": [],
   "source": [
    "def longestCommonSubsequence(s1: str, s2: str) -> int:\n",
    "    if not s1 or not s2:\n",
    "        return 0\n",
    "    m, n = len(s1), len(s2)\n",
    "    \n",
    "    dp = [[0 for _ in range(n)] for _ in range(m)]\n",
    "    \n",
    "    nextValue = 0\n",
    "    for i in range(m):\n",
    "        if s1[i] == s2[0]:\n",
    "            nextValue = 1\n",
    "        dp[i][0] = nextValue\n",
    "        \n",
    "    nextValue = 0\n",
    "    for j in range(n):\n",
    "        if s1[0] == s2[j]:\n",
    "            nextValue = 1\n",
    "        dp[0][j] = nextValue\n",
    "\n",
    "    for i in range(1, m):\n",
    "        for j in range(1, n):\n",
    "            # 上一个字符相等\n",
    "            if s1[i] == s2[j]:\n",
    "                dp[i][j] = dp[i - 1][j - 1] + 1\n",
    "            else:\n",
    "                dp[i][j] = max(dp[i - 1][j], dp[i][j - 1])\n",
    "    return dp[-1][-1]"
   ]
  },
  {
   "cell_type": "code",
   "execution_count": 45,
   "id": "toxic-perfume",
   "metadata": {},
   "outputs": [
    {
     "name": "stdout",
     "output_type": "stream",
     "text": [
      "[[1, 1, 1], [1, 0, 0], [1, 0, 0], [1, 0, 0], [1, 0, 0]]\n",
      "[[1, 1, 1], [1, 1, 1], [1, 2, 2], [1, 2, 2], [1, 2, 3]]\n"
     ]
    },
    {
     "data": {
      "text/plain": [
       "3"
      ]
     },
     "execution_count": 45,
     "metadata": {},
     "output_type": "execute_result"
    }
   ],
   "source": [
    "longestCommonSubsequence(\"abcde\", \"ace\")"
   ]
  },
  {
   "cell_type": "code",
   "execution_count": 46,
   "id": "handmade-mustang",
   "metadata": {},
   "outputs": [
    {
     "name": "stdout",
     "output_type": "stream",
     "text": [
      "[[1, 1, 1], [1, 0, 0], [1, 0, 0]]\n",
      "[[1, 1, 1], [1, 2, 2], [1, 2, 3]]\n"
     ]
    },
    {
     "data": {
      "text/plain": [
       "3"
      ]
     },
     "execution_count": 46,
     "metadata": {},
     "output_type": "execute_result"
    }
   ],
   "source": [
    "longestCommonSubsequence(\"abc\", \"abc\")"
   ]
  },
  {
   "cell_type": "code",
   "execution_count": 47,
   "id": "thirty-basket",
   "metadata": {},
   "outputs": [
    {
     "name": "stdout",
     "output_type": "stream",
     "text": [
      "[[0, 0, 0], [0, 0, 0], [0, 0, 0]]\n",
      "[[0, 0, 0], [0, 0, 0], [0, 0, 0]]\n"
     ]
    },
    {
     "data": {
      "text/plain": [
       "0"
      ]
     },
     "execution_count": 47,
     "metadata": {},
     "output_type": "execute_result"
    }
   ],
   "source": [
    "longestCommonSubsequence(\"abc\", \"def\")"
   ]
  },
  {
   "cell_type": "code",
   "execution_count": 48,
   "id": "polished-practice",
   "metadata": {},
   "outputs": [
    {
     "name": "stdout",
     "output_type": "stream",
     "text": [
      "[[0, 1, 1], [0, 0, 0]]\n",
      "[[0, 1, 1], [0, 1, 1]]\n"
     ]
    },
    {
     "data": {
      "text/plain": [
       "1"
      ]
     },
     "execution_count": 48,
     "metadata": {},
     "output_type": "execute_result"
    }
   ],
   "source": [
    "longestCommonSubsequence(\"b1\", \"yby\")"
   ]
  },
  {
   "cell_type": "code",
   "execution_count": null,
   "id": "fifty-saturn",
   "metadata": {},
   "outputs": [],
   "source": []
  },
  {
   "cell_type": "code",
   "execution_count": null,
   "id": "burning-fiction",
   "metadata": {},
   "outputs": [],
   "source": []
  }
 ],
 "metadata": {
  "kernelspec": {
   "display_name": "Python 3",
   "language": "python",
   "name": "python3"
  },
  "language_info": {
   "codemirror_mode": {
    "name": "ipython",
    "version": 3
   },
   "file_extension": ".py",
   "mimetype": "text/x-python",
   "name": "python",
   "nbconvert_exporter": "python",
   "pygments_lexer": "ipython3",
   "version": "3.8.6"
  }
 },
 "nbformat": 4,
 "nbformat_minor": 5
}
