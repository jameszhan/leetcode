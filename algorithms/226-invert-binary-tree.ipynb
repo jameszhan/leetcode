{
 "cells": [
  {
   "cell_type": "markdown",
   "id": "chicken-jackson",
   "metadata": {},
   "source": [
    "### [翻转二叉树](https://leetcode-cn.com/problems/invert-binary-tree/)\n",
    "\n",
    "翻转一棵二叉树。\n",
    "\n",
    "#### 示例：\n",
    "```\n",
    "输入：\n",
    "\n",
    "     4\n",
    "   /   \\\n",
    "  2     7\n",
    " / \\   / \\\n",
    "1   3 6   9\n",
    "输出：\n",
    "\n",
    "     4\n",
    "   /   \\\n",
    "  7     2\n",
    " / \\   / \\\n",
    "9   6 3   1\n",
    "```\n",
    "\n",
    "#### 备注:\n",
    "\n",
    "这个问题是受到 `Max Howell` 的 原问题 启发的 ：\n",
    "> 谷歌：我们90％的工程师使用您编写的软件(Homebrew)，但是您却无法在面试时在白板上写出翻转二叉树这道题，这太糟糕了。"
   ]
  },
  {
   "cell_type": "code",
   "execution_count": 2,
   "id": "passive-degree",
   "metadata": {},
   "outputs": [],
   "source": [
    "class TreeNode:\n",
    "    def __init__(self, val=0, left=None, right=None):\n",
    "        self.val = val\n",
    "        self.left = left\n",
    "        self.right = right\n",
    "        \n",
    "class Solution:\n",
    "    def invertTree(self, root: TreeNode) -> TreeNode:\n",
    "        if root:\n",
    "            left = root.left\n",
    "            right = root.right\n",
    "            root.left = self.invertTree(right)\n",
    "            root.right = self.invertTree(left)\n",
    "        return root"
   ]
  },
  {
   "cell_type": "code",
   "execution_count": null,
   "id": "eleven-adelaide",
   "metadata": {},
   "outputs": [],
   "source": []
  }
 ],
 "metadata": {
  "kernelspec": {
   "display_name": "Python 3",
   "language": "python",
   "name": "python3"
  },
  "language_info": {
   "codemirror_mode": {
    "name": "ipython",
    "version": 3
   },
   "file_extension": ".py",
   "mimetype": "text/x-python",
   "name": "python",
   "nbconvert_exporter": "python",
   "pygments_lexer": "ipython3",
   "version": "3.8.6"
  }
 },
 "nbformat": 4,
 "nbformat_minor": 5
}
