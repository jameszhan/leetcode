{
 "cells": [
  {
   "cell_type": "markdown",
   "id": "sunset-turkey",
   "metadata": {},
   "source": [
    "### [计数质数](https://leetcode-cn.com/problems/count-primes/)\n",
    "\n",
    "统计所有小于非负整数 n 的质数的数量。\n",
    "\n",
    "#### 示例 1：\n",
    "```\n",
    "输入：n = 10\n",
    "输出：4\n",
    "解释：小于 10 的质数一共有 4 个, 它们是 2, 3, 5, 7 。\n",
    "```\n",
    "\n",
    "#### 示例 2：\n",
    "```\n",
    "输入：n = 0\n",
    "输出：0\n",
    "```\n",
    "\n",
    "#### 示例 3：\n",
    "```\n",
    "输入：n = 1\n",
    "输出：0\n",
    "```\n",
    "\n",
    "#### 提示：\n",
    "- $ 0 <= n <= 5 * 10^6$"
   ]
  },
  {
   "cell_type": "code",
   "execution_count": 10,
   "id": "electric-backing",
   "metadata": {},
   "outputs": [],
   "source": [
    "def countPrimes(n: int) -> int:\n",
    "    primes = [True for i in range(n)]\n",
    "    \n",
    "    # 从 2 开始枚举到 sqrt(n)。\n",
    "    i = 2\n",
    "    while i * i < n:\n",
    "        # 如果当前是素数\n",
    "        if primes[i]:\n",
    "            # 把从 i*i 开始，i 的所有倍数都设置为 false。\n",
    "            for j in range(i * i, n, i):\n",
    "                primes[j] = False\n",
    "        i += 1\n",
    "    ans = 0\n",
    "    for i in range(2, n):\n",
    "        if primes[i]:\n",
    "            ans += 1\n",
    "    return ans"
   ]
  },
  {
   "cell_type": "code",
   "execution_count": 11,
   "id": "metropolitan-anderson",
   "metadata": {},
   "outputs": [
    {
     "data": {
      "text/plain": [
       "4"
      ]
     },
     "execution_count": 11,
     "metadata": {},
     "output_type": "execute_result"
    }
   ],
   "source": [
    "countPrimes(10)"
   ]
  },
  {
   "cell_type": "code",
   "execution_count": 12,
   "id": "figured-generator",
   "metadata": {},
   "outputs": [
    {
     "data": {
      "text/plain": [
       "25"
      ]
     },
     "execution_count": 12,
     "metadata": {},
     "output_type": "execute_result"
    }
   ],
   "source": [
    "countPrimes(100)"
   ]
  },
  {
   "cell_type": "code",
   "execution_count": 13,
   "id": "sized-explanation",
   "metadata": {},
   "outputs": [
    {
     "data": {
      "text/plain": [
       "168"
      ]
     },
     "execution_count": 13,
     "metadata": {},
     "output_type": "execute_result"
    }
   ],
   "source": [
    "countPrimes(1000)"
   ]
  },
  {
   "cell_type": "code",
   "execution_count": 14,
   "id": "faced-experiment",
   "metadata": {},
   "outputs": [
    {
     "data": {
      "text/plain": [
       "1229"
      ]
     },
     "execution_count": 14,
     "metadata": {},
     "output_type": "execute_result"
    }
   ],
   "source": [
    "countPrimes(10000)"
   ]
  },
  {
   "cell_type": "code",
   "execution_count": 15,
   "id": "defensive-newton",
   "metadata": {},
   "outputs": [
    {
     "data": {
      "text/plain": [
       "9592"
      ]
     },
     "execution_count": 15,
     "metadata": {},
     "output_type": "execute_result"
    }
   ],
   "source": [
    "countPrimes(100000)"
   ]
  },
  {
   "cell_type": "code",
   "execution_count": 16,
   "id": "small-currency",
   "metadata": {},
   "outputs": [
    {
     "data": {
      "text/plain": [
       "78498"
      ]
     },
     "execution_count": 16,
     "metadata": {},
     "output_type": "execute_result"
    }
   ],
   "source": [
    "countPrimes(1000000)"
   ]
  },
  {
   "cell_type": "code",
   "execution_count": 17,
   "id": "moral-accommodation",
   "metadata": {},
   "outputs": [
    {
     "data": {
      "text/plain": [
       "664579"
      ]
     },
     "execution_count": 17,
     "metadata": {},
     "output_type": "execute_result"
    }
   ],
   "source": [
    "countPrimes(10000000)"
   ]
  }
 ],
 "metadata": {
  "kernelspec": {
   "display_name": "Python 3",
   "language": "python",
   "name": "python3"
  },
  "language_info": {
   "codemirror_mode": {
    "name": "ipython",
    "version": 3
   },
   "file_extension": ".py",
   "mimetype": "text/x-python",
   "name": "python",
   "nbconvert_exporter": "python",
   "pygments_lexer": "ipython3",
   "version": "3.8.6"
  }
 },
 "nbformat": 4,
 "nbformat_minor": 5
}
