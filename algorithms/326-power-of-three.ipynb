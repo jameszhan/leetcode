{
 "cells": [
  {
   "cell_type": "markdown",
   "id": "indirect-shoulder",
   "metadata": {},
   "source": [
    "### [3的幂](https://leetcode-cn.com/problems/power-of-three/)\n",
    "\n",
    "给定一个整数，写一个函数来判断它是否是 3 的幂次方。如果是，返回 true ；否则，返回 false 。\n",
    "\n",
    "整数 n 是 3 的幂次方需满足：存在整数 x 使得 n == 3x\n",
    "\n",
    "#### 示例 1：\n",
    "```\n",
    "输入：n = 27\n",
    "输出：true\n",
    "```\n",
    "\n",
    "#### 示例 2：\n",
    "```\n",
    "输入：n = 0\n",
    "输出：false\n",
    "```\n",
    "\n",
    "#### 示例 3：\n",
    "```\n",
    "输入：n = 9\n",
    "输出：true\n",
    "```\n",
    "\n",
    "#### 示例 4：\n",
    "```\n",
    "输入：n = 45\n",
    "输出：false\n",
    "```\n",
    "\n",
    "#### 提示：\n",
    "- $-2^{31} <= n <= 2^{31} - 1$"
   ]
  },
  {
   "cell_type": "code",
   "execution_count": 1,
   "id": "laughing-momentum",
   "metadata": {},
   "outputs": [],
   "source": [
    "def isPowerOfThree(n: int) -> bool:\n",
    "    if n < 3:\n",
    "        return n == 1\n",
    "    else:\n",
    "        return n % 3 == 0 and isPowerOfThree(n // 3)"
   ]
  },
  {
   "cell_type": "code",
   "execution_count": 2,
   "id": "applicable-heath",
   "metadata": {},
   "outputs": [
    {
     "data": {
      "text/plain": [
       "True"
      ]
     },
     "execution_count": 2,
     "metadata": {},
     "output_type": "execute_result"
    }
   ],
   "source": [
    "isPowerOfThree(27)"
   ]
  }
 ],
 "metadata": {
  "kernelspec": {
   "display_name": "Python 3",
   "language": "python",
   "name": "python3"
  },
  "language_info": {
   "codemirror_mode": {
    "name": "ipython",
    "version": 3
   },
   "file_extension": ".py",
   "mimetype": "text/x-python",
   "name": "python",
   "nbconvert_exporter": "python",
   "pygments_lexer": "ipython3",
   "version": "3.8.6"
  }
 },
 "nbformat": 4,
 "nbformat_minor": 5
}
