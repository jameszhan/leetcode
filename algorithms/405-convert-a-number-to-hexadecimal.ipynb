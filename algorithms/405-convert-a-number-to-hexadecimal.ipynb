{
 "cells": [
  {
   "cell_type": "markdown",
   "id": "mechanical-narrative",
   "metadata": {},
   "source": [
    "### [数字转换为十六进制数](https://leetcode-cn.com/problems/convert-a-number-to-hexadecimal/)\n",
    "\n",
    "给定一个整数，编写一个算法将这个数转换为十六进制数。对于负整数，我们通常使用 补码运算 方法。\n",
    "\n",
    "#### 注意:\n",
    "- 十六进制中所有字母(a-f)都必须是小写。\n",
    "- 十六进制字符串中不能包含多余的前导零。如果要转化的数为0，那么以单个字符'0'来表示；对于其他情况，十六进制字符串中的第一个字符将不会是0字符。 \n",
    "- 给定的数确保在32位有符号整数范围内。\n",
    "- 不能使用任何由库提供的将数字直接转换或格式化为十六进制的方法。\n",
    "\n",
    "#### 示例 1：\n",
    "```\n",
    "输入:\n",
    "26\n",
    "\n",
    "输出:\n",
    "\"1a\"\n",
    "```\n",
    "\n",
    "#### 示例 2：\n",
    "```\n",
    "输入:\n",
    "-1\n",
    "\n",
    "输出:\n",
    "\"ffffffff\"\n",
    "```"
   ]
  },
  {
   "cell_type": "code",
   "execution_count": 27,
   "id": "aging-celtic",
   "metadata": {},
   "outputs": [],
   "source": [
    "hexdigits = '0123456789abcdef'\n",
    "\n",
    "def toHex(num: int) -> str:\n",
    "    if num == 0:\n",
    "        return '0'\n",
    "    n, ans = num & 0xffffffff, ''\n",
    "    while n != 0:\n",
    "        q = n & 0xf\n",
    "        ans = hexdigits[q] + ans\n",
    "        n = n >> 4\n",
    "    return ans"
   ]
  },
  {
   "cell_type": "code",
   "execution_count": 28,
   "id": "sunset-physiology",
   "metadata": {},
   "outputs": [
    {
     "data": {
      "text/plain": [
       "'0, 1, 2, 3, 4, 5, 6, 7, 8, 9, a, b, c, d, e, f, 10, 11, 12, 13, 14, 15, 16, 17, 18, 19, 1a, 1b, 1c, 1d, 1e, 1f'"
      ]
     },
     "execution_count": 28,
     "metadata": {},
     "output_type": "execute_result"
    }
   ],
   "source": [
    "', '.join(map(toHex, [i for i in range(32)]))"
   ]
  },
  {
   "cell_type": "code",
   "execution_count": 29,
   "id": "written-command",
   "metadata": {},
   "outputs": [
    {
     "data": {
      "text/plain": [
       "'ffffffff'"
      ]
     },
     "execution_count": 29,
     "metadata": {},
     "output_type": "execute_result"
    }
   ],
   "source": [
    "toHex(-1)"
   ]
  }
 ],
 "metadata": {
  "kernelspec": {
   "display_name": "Python 3",
   "language": "python",
   "name": "python3"
  },
  "language_info": {
   "codemirror_mode": {
    "name": "ipython",
    "version": 3
   },
   "file_extension": ".py",
   "mimetype": "text/x-python",
   "name": "python",
   "nbconvert_exporter": "python",
   "pygments_lexer": "ipython3",
   "version": "3.8.6"
  }
 },
 "nbformat": 4,
 "nbformat_minor": 5
}
