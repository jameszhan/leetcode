{
 "cells": [
  {
   "cell_type": "markdown",
   "id": "prepared-expert",
   "metadata": {},
   "source": [
    "给定一个二叉树，返回它的 后序 遍历。\n",
    "\n",
    "#### 示例:\n",
    "```\n",
    "输入: [1,null,2,3]  \n",
    "   1\n",
    "    \\\n",
    "     2\n",
    "    /\n",
    "   3 \n",
    "\n",
    "输出: [3,2,1]\n",
    "```\n",
    "\n",
    "**进阶**: 递归算法很简单，你可以通过迭代算法完成吗？"
   ]
  },
  {
   "cell_type": "code",
   "execution_count": 2,
   "id": "sized-nepal",
   "metadata": {},
   "outputs": [],
   "source": [
    "from typing import List\n",
    "\n",
    "# Definition for a binary tree node.\n",
    "class TreeNode:\n",
    "    def __init__(self, val=0, left=None, right=None):\n",
    "        self.val = val\n",
    "        self.left = left\n",
    "        self.right = right\n",
    "        \n",
    "class Solution:\n",
    "    def postorderTraversal(self, root: TreeNode) -> List[int]:\n",
    "        \n",
    "        def travel(root: TreeNode, res: List):\n",
    "            if root is not None:\n",
    "                travel(root.left, res)\n",
    "                travel(root.right, res)\n",
    "                res.append(root.val)\n",
    "                \n",
    "        ans = []\n",
    "        travel(root, ans)\n",
    "        return ans"
   ]
  }
 ],
 "metadata": {
  "kernelspec": {
   "display_name": "Python 3",
   "language": "python",
   "name": "python3"
  },
  "language_info": {
   "codemirror_mode": {
    "name": "ipython",
    "version": 3
   },
   "file_extension": ".py",
   "mimetype": "text/x-python",
   "name": "python",
   "nbconvert_exporter": "python",
   "pygments_lexer": "ipython3",
   "version": "3.8.6"
  }
 },
 "nbformat": 4,
 "nbformat_minor": 5
}
