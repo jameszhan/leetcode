{
 "cells": [
  {
   "cell_type": "markdown",
   "id": "indonesian-lancaster",
   "metadata": {},
   "source": [
    "给你二叉树的根节点 `root` ，返回它节点值的 前序 遍历。\n",
    "\n",
    "#### 示例 1：\n",
    "```\n",
    "输入：root = [1,null,2,3]\n",
    "输出：[1,2,3]\n",
    "```\n",
    "\n",
    "#### 示例 2：\n",
    "```\n",
    "输入：root = []\n",
    "输出：[]\n",
    "```\n",
    "\n",
    "#### 示例 3：\n",
    "```\n",
    "输入：root = [1]\n",
    "输出：[1]\n",
    "```\n",
    "\n",
    "#### 示例 4：\n",
    "```\n",
    "输入：root = [1,2]\n",
    "输出：[1,2]\n",
    "```\n",
    "\n",
    "#### 示例 5：\n",
    "```\n",
    "输入：root = [1,null,2]\n",
    "输出：[1,2]\n",
    "```\n",
    "\n",
    "#### 提示：\n",
    "\n",
    "- 树中节点数目在范围 [0, 100] 内\n",
    "- -100 <= Node.val <= 100\n",
    " \n",
    "\n",
    "**进阶**：递归算法很简单，你可以通过迭代算法完成吗？"
   ]
  },
  {
   "cell_type": "code",
   "execution_count": 5,
   "id": "champion-engagement",
   "metadata": {},
   "outputs": [],
   "source": [
    "from typing import List\n",
    "\n",
    "# Definition for a binary tree node.\n",
    "class TreeNode:\n",
    "    def __init__(self, val=0, left=None, right=None):\n",
    "        self.val = val\n",
    "        self.left = left\n",
    "        self.right = right\n",
    "        \n",
    "class Solution:\n",
    "    def preorderTraversal(self, root: TreeNode) -> List[int]:\n",
    "        \n",
    "        def travel(root: TreeNode, result: List) -> None:\n",
    "            if root is not None:\n",
    "                result.append(root.val)\n",
    "                travel(root.left, result)\n",
    "                travel(root.right, result)\n",
    "        \n",
    "        ans = []\n",
    "        travel(root, ans)\n",
    "        return ans"
   ]
  },
  {
   "cell_type": "code",
   "execution_count": null,
   "id": "alleged-south",
   "metadata": {},
   "outputs": [],
   "source": []
  }
 ],
 "metadata": {
  "kernelspec": {
   "display_name": "Python 3",
   "language": "python",
   "name": "python3"
  },
  "language_info": {
   "codemirror_mode": {
    "name": "ipython",
    "version": 3
   },
   "file_extension": ".py",
   "mimetype": "text/x-python",
   "name": "python",
   "nbconvert_exporter": "python",
   "pygments_lexer": "ipython3",
   "version": "3.8.6"
  }
 },
 "nbformat": 4,
 "nbformat_minor": 5
}
