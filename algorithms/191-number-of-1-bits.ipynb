{
 "cells": [
  {
   "cell_type": "markdown",
   "id": "original-rogers",
   "metadata": {},
   "source": [
    "### [位1的个数](https://leetcode-cn.com/problems/number-of-1-bits/)\n",
    "\n",
    "请实现一个函数，输入一个整数（以二进制串形式），输出该数二进制表示中 1 的个数。例如，把 9 表示成二进制是 1001，有 2 位是 1。因此，如果输入 9，则该函数输出 2。\n",
    "\n",
    "#### 示例 1：\n",
    "```\n",
    "输入：00000000000000000000000000001011\n",
    "输出：3\n",
    "解释：输入的二进制串 00000000000000000000000000001011 中，共有三位为 '1'。\n",
    "```\n",
    "\n",
    "#### 示例 2：\n",
    "```\n",
    "输入：00000000000000000000000010000000\n",
    "输出：1\n",
    "解释：输入的二进制串 00000000000000000000000010000000 中，共有一位为 '1'。\n",
    "```\n",
    "\n",
    "#### 示例 3：\n",
    "```\n",
    "输入：11111111111111111111111111111101\n",
    "输出：31\n",
    "解释：输入的二进制串 11111111111111111111111111111101 中，共有 31 位为 '1'。\n",
    "```\n",
    "\n",
    "### 提示：\n",
    "> 输入必须是长度为 32 的 二进制串 。\n",
    "\n"
   ]
  },
  {
   "cell_type": "code",
   "execution_count": 13,
   "id": "paperback-american",
   "metadata": {},
   "outputs": [],
   "source": [
    "def hammingWeight(n: int) -> int:\n",
    "    ans = 0\n",
    "    bin_n = bin(n)\n",
    "    for i in range(2, len(bin_n)):\n",
    "        if bin_n[i] == '1':\n",
    "            ans += 1\n",
    "    return ans"
   ]
  },
  {
   "cell_type": "code",
   "execution_count": 14,
   "id": "cellular-alert",
   "metadata": {},
   "outputs": [
    {
     "data": {
      "text/plain": [
       "2"
      ]
     },
     "execution_count": 14,
     "metadata": {},
     "output_type": "execute_result"
    }
   ],
   "source": [
    "hammingWeight(9)"
   ]
  },
  {
   "cell_type": "code",
   "execution_count": 26,
   "id": "agreed-diesel",
   "metadata": {},
   "outputs": [],
   "source": [
    "def hammingWeight(n: int) -> int:\n",
    "    ans = 0\n",
    "    for i in range(32):\n",
    "        if n & 1 == 1:\n",
    "            ans += 1\n",
    "        n = n >> 1\n",
    "    return ans"
   ]
  },
  {
   "cell_type": "code",
   "execution_count": 27,
   "id": "dietary-liberia",
   "metadata": {},
   "outputs": [
    {
     "data": {
      "text/plain": [
       "2"
      ]
     },
     "execution_count": 27,
     "metadata": {},
     "output_type": "execute_result"
    }
   ],
   "source": [
    "hammingWeight(9)"
   ]
  },
  {
   "cell_type": "code",
   "execution_count": 25,
   "id": "viral-management",
   "metadata": {},
   "outputs": [
    {
     "data": {
      "text/plain": [
       "1"
      ]
     },
     "execution_count": 25,
     "metadata": {},
     "output_type": "execute_result"
    }
   ],
   "source": [
    "hammingWeight(-2147483648)"
   ]
  },
  {
   "cell_type": "code",
   "execution_count": null,
   "id": "regional-excuse",
   "metadata": {},
   "outputs": [],
   "source": []
  }
 ],
 "metadata": {
  "kernelspec": {
   "display_name": "Python 3",
   "language": "python",
   "name": "python3"
  },
  "language_info": {
   "codemirror_mode": {
    "name": "ipython",
    "version": 3
   },
   "file_extension": ".py",
   "mimetype": "text/x-python",
   "name": "python",
   "nbconvert_exporter": "python",
   "pygments_lexer": "ipython3",
   "version": "3.8.6"
  }
 },
 "nbformat": 4,
 "nbformat_minor": 5
}
