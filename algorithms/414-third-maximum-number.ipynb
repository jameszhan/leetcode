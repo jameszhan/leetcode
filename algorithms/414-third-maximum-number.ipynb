{
 "cells": [
  {
   "cell_type": "markdown",
   "id": "educational-concept",
   "metadata": {},
   "source": [
    "### [第三大的数](https://leetcode-cn.com/problems/third-maximum-number/)\n",
    "\n",
    "给你一个非空数组，返回此数组中 第三大的数 。如果不存在，则返回数组中最大的数。\n",
    "\n",
    "#### 示例 1：\n",
    "```\n",
    "输入：[3, 2, 1]\n",
    "输出：1\n",
    "解释：第三大的数是 1 。\n",
    "```\n",
    "\n",
    "#### 示例 2：\n",
    "```\n",
    "输入：[1, 2]\n",
    "输出：2\n",
    "解释：第三大的数不存在, 所以返回最大的数 2 。\n",
    "```\n",
    "\n",
    "#### 示例 3：\n",
    "```\n",
    "输入：[2, 2, 3, 1]\n",
    "输出：1\n",
    "解释：注意，要求返回第三大的数，是指第三大且唯一出现的数。\n",
    "存在两个值为2的数，它们都排第二。\n",
    "```\n",
    "\n",
    "#### 提示：\n",
    "- $ 1 <= nums.length <= 10^4 $\n",
    "- $ -2^{31} <= nums[i] <= 2^{31} - 1 $"
   ]
  },
  {
   "cell_type": "code",
   "execution_count": 2,
   "id": "mexican-alfred",
   "metadata": {},
   "outputs": [],
   "source": [
    "from typing import List\n",
    "\n",
    "MIN_VALUE = -0x7FFFFFFFFF\n",
    "def thirdMax(nums: List[int]) -> int:\n",
    "    n = len(nums)\n",
    "    if n <= 2:\n",
    "        return max(nums)\n",
    "    \n",
    "    m1, m2, m3 = MIN_VALUE, MIN_VALUE, MIN_VALUE\n",
    "    for n in nums:\n",
    "        if n > m1:\n",
    "            m3 = m2\n",
    "            m2 = m1\n",
    "            m1 = n\n",
    "        elif n == m1:\n",
    "            continue\n",
    "        elif n > m2:\n",
    "            m3 = m2\n",
    "            m2 = n\n",
    "        elif n == m2:\n",
    "            continue\n",
    "        elif n > m3:\n",
    "            m3 = n\n",
    "    return m3 if m3 != MIN_VALUE else m1"
   ]
  },
  {
   "cell_type": "code",
   "execution_count": 3,
   "id": "engaging-appeal",
   "metadata": {},
   "outputs": [
    {
     "data": {
      "text/plain": [
       "7"
      ]
     },
     "execution_count": 3,
     "metadata": {},
     "output_type": "execute_result"
    }
   ],
   "source": [
    "thirdMax([9, 7, 8, 6, 4, 1, 2])"
   ]
  },
  {
   "cell_type": "code",
   "execution_count": 4,
   "id": "tired-persian",
   "metadata": {},
   "outputs": [
    {
     "data": {
      "text/plain": [
       "1"
      ]
     },
     "execution_count": 4,
     "metadata": {},
     "output_type": "execute_result"
    }
   ],
   "source": [
    "thirdMax([3, 2, 1])"
   ]
  },
  {
   "cell_type": "code",
   "execution_count": 5,
   "id": "numerical-tours",
   "metadata": {},
   "outputs": [
    {
     "data": {
      "text/plain": [
       "1"
      ]
     },
     "execution_count": 5,
     "metadata": {},
     "output_type": "execute_result"
    }
   ],
   "source": [
    "thirdMax([2, 2, 3, 1])"
   ]
  },
  {
   "cell_type": "code",
   "execution_count": 6,
   "id": "distinguished-planet",
   "metadata": {},
   "outputs": [
    {
     "data": {
      "text/plain": [
       "2"
      ]
     },
     "execution_count": 6,
     "metadata": {},
     "output_type": "execute_result"
    }
   ],
   "source": [
    "thirdMax([1, 2])"
   ]
  },
  {
   "cell_type": "code",
   "execution_count": 7,
   "id": "blocked-thailand",
   "metadata": {},
   "outputs": [
    {
     "data": {
      "text/plain": [
       "2"
      ]
     },
     "execution_count": 7,
     "metadata": {},
     "output_type": "execute_result"
    }
   ],
   "source": [
    "thirdMax([1, 1, 2])"
   ]
  },
  {
   "cell_type": "code",
   "execution_count": 8,
   "id": "marine-caution",
   "metadata": {},
   "outputs": [
    {
     "data": {
      "text/plain": [
       "1"
      ]
     },
     "execution_count": 8,
     "metadata": {},
     "output_type": "execute_result"
    }
   ],
   "source": [
    "thirdMax([1, 1, 1])"
   ]
  },
  {
   "cell_type": "code",
   "execution_count": 9,
   "id": "optimum-choir",
   "metadata": {},
   "outputs": [
    {
     "data": {
      "text/plain": [
       "-2147483648"
      ]
     },
     "execution_count": 9,
     "metadata": {},
     "output_type": "execute_result"
    }
   ],
   "source": [
    "thirdMax([1,2,-2147483648])"
   ]
  }
 ],
 "metadata": {
  "kernelspec": {
   "display_name": "Python 3",
   "language": "python",
   "name": "python3"
  },
  "language_info": {
   "codemirror_mode": {
    "name": "ipython",
    "version": 3
   },
   "file_extension": ".py",
   "mimetype": "text/x-python",
   "name": "python",
   "nbconvert_exporter": "python",
   "pygments_lexer": "ipython3",
   "version": "3.8.6"
  }
 },
 "nbformat": 4,
 "nbformat_minor": 5
}
