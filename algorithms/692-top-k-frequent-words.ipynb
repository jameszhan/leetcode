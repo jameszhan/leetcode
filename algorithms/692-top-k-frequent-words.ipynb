{
 "cells": [
  {
   "cell_type": "markdown",
   "id": "acquired-tuner",
   "metadata": {},
   "source": [
    "### [前K个高频单词](https://leetcode-cn.com/problems/top-k-frequent-words/)\n",
    "\n",
    "给一非空的单词列表，返回前 k 个出现次数最多的单词。\n",
    "\n",
    "返回的答案应该按单词出现频率由高到低排序。如果不同的单词有相同出现频率，按字母顺序排序。\n",
    "\n",
    "#### 示例 1：\n",
    "```\n",
    "输入: [\"i\", \"love\", \"leetcode\", \"i\", \"love\", \"coding\"], k = 2\n",
    "输出: [\"i\", \"love\"]\n",
    "解析: \"i\" 和 \"love\" 为出现次数最多的两个单词，均为2次。\n",
    "    注意，按字母顺序 \"i\" 在 \"love\" 之前。\n",
    "```\n",
    "\n",
    "#### 示例 2：\n",
    "```\n",
    "输入: [\"the\", \"day\", \"is\", \"sunny\", \"the\", \"the\", \"the\", \"sunny\", \"is\", \"is\"], k = 4\n",
    "输出: [\"the\", \"is\", \"sunny\", \"day\"]\n",
    "解析: \"the\", \"is\", \"sunny\" 和 \"day\" 是出现次数最多的四个单词，\n",
    "    出现次数依次为 4, 3, 2 和 1 次。\n",
    "```\n",
    "\n",
    "#### 注意：\n",
    "\n",
    "- 假定`k`总为有效值，`1 ≤ k ≤ 集合元素数`。\n",
    "- 输入的单词均由小写字母组成。\n",
    "\n",
    "#### 扩展练习：\n",
    "\n",
    "尝试以`O(n log k)`时间复杂度和`O(n)`空间复杂度解决。\n",
    "\n",
    "#### 关联题目\n",
    "\n",
    "- [347. 前 K 个高频元素](https://leetcode-cn.com/problems/top-k-frequent-elements/)\n",
    "- [出现次数的TopK问题](https://www.nowcoder.com/practice/fd711bdfa0e840b381d7e1b82183b3ee)"
   ]
  },
  {
   "cell_type": "code",
   "execution_count": 20,
   "id": "functional-guarantee",
   "metadata": {},
   "outputs": [],
   "source": [
    "from typing import List\n",
    "\n",
    "def topKFrequent(words: List[str], k: int) -> List[str]:\n",
    "    counter = {}\n",
    "    for w in words:\n",
    "        if w in counter:\n",
    "            counter[w] += 1\n",
    "        else:\n",
    "            counter[w] = 1\n",
    "            \n",
    "    candidates = list(counter.keys())\n",
    "    candidates.sort(key = lambda c: (-counter[c], c))\n",
    "\n",
    "    return candidates[:k]"
   ]
  },
  {
   "cell_type": "code",
   "execution_count": 21,
   "id": "endless-learning",
   "metadata": {},
   "outputs": [
    {
     "data": {
      "text/plain": [
       "['i', 'love']"
      ]
     },
     "execution_count": 21,
     "metadata": {},
     "output_type": "execute_result"
    }
   ],
   "source": [
    "topKFrequent([\"i\", \"love\", \"leetcode\", \"i\", \"love\", \"coding\"], 2)"
   ]
  },
  {
   "cell_type": "code",
   "execution_count": 22,
   "id": "permanent-client",
   "metadata": {},
   "outputs": [
    {
     "data": {
      "text/plain": [
       "['the', 'is', 'sunny', 'day']"
      ]
     },
     "execution_count": 22,
     "metadata": {},
     "output_type": "execute_result"
    }
   ],
   "source": [
    "topKFrequent([\"the\", \"day\", \"is\", \"sunny\", \"the\", \"the\", \"the\", \"sunny\", \"is\", \"is\"], 4)"
   ]
  },
  {
   "cell_type": "code",
   "execution_count": 23,
   "id": "necessary-knight",
   "metadata": {},
   "outputs": [
    {
     "data": {
      "text/plain": [
       "['i', 'love', 'coding']"
      ]
     },
     "execution_count": 23,
     "metadata": {},
     "output_type": "execute_result"
    }
   ],
   "source": [
    "topKFrequent([\"i\", \"love\", \"leetcode\", \"i\", \"love\", \"coding\"], 3)"
   ]
  }
 ],
 "metadata": {
  "kernelspec": {
   "display_name": "Python 3",
   "language": "python",
   "name": "python3"
  },
  "language_info": {
   "codemirror_mode": {
    "name": "ipython",
    "version": 3
   },
   "file_extension": ".py",
   "mimetype": "text/x-python",
   "name": "python",
   "nbconvert_exporter": "python",
   "pygments_lexer": "ipython3",
   "version": "3.8.6"
  }
 },
 "nbformat": 4,
 "nbformat_minor": 5
}
