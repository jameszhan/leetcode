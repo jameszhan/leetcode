{
 "cells": [
  {
   "cell_type": "markdown",
   "id": "proprietary-syndrome",
   "metadata": {},
   "source": [
    "### [同构字符串](https://leetcode-cn.com/problems/isomorphic-strings/)\n",
    "\n",
    "给定两个字符串 `s` 和 `t`，判断它们是否是同构的。\n",
    "\n",
    "如果`s`中的字符可以按某种映射关系替换得到`t`，那么这两个字符串是同构的。\n",
    "\n",
    "每个出现的字符都应当映射到另一个字符，同时不改变字符的顺序。不同字符不能映射到同一个字符上，相同字符只能映射到同一个字符上，字符可以映射到自己本身。\n",
    "\n",
    "#### 示例 1:\n",
    "```\n",
    "输入：s = \"egg\", t = \"add\"\n",
    "输出：true\n",
    "```\n",
    "\n",
    "#### 示例 2：\n",
    "```\n",
    "输入：s = \"foo\", t = \"bar\"\n",
    "输出：false\n",
    "```\n",
    "\n",
    "#### 示例 3：\n",
    "```\n",
    "输入：s = \"paper\", t = \"title\"\n",
    "输出：true\n",
    "```\n",
    "\n",
    "#### 提示：\n",
    "- 可以假设 `s` 和 `t` 长度相同。"
   ]
  },
  {
   "cell_type": "code",
   "execution_count": null,
   "id": "southeast-worthy",
   "metadata": {},
   "outputs": [],
   "source": [
    "def isIsomorphic(s: str, t: str) -> bool:\n",
    "    m, n = len(s), len(t)\n",
    "    if m != n: \n",
    "        return False\n",
    "    \n",
    "    mapping = map(lambda i: (s[i], t[i]), range(n))\n",
    "    s2t, t2s = {}, {}\n",
    "    for sc, tc in mapping:\n",
    "        if sc in s2t and tc != s2t[sc]:\n",
    "            return False\n",
    "        else:\n",
    "            s2t[sc] = tc\n",
    "        \n",
    "        if tc in t2s and sc != t2s[tc]:\n",
    "            return False\n",
    "        else:\n",
    "            t2s[tc] = sc\n",
    "    \n",
    "    return True "
   ]
  }
 ],
 "metadata": {
  "kernelspec": {
   "display_name": "Python 3",
   "language": "python",
   "name": "python3"
  },
  "language_info": {
   "codemirror_mode": {
    "name": "ipython",
    "version": 3
   },
   "file_extension": ".py",
   "mimetype": "text/x-python",
   "name": "python",
   "nbconvert_exporter": "python",
   "pygments_lexer": "ipython3",
   "version": "3.8.6"
  }
 },
 "nbformat": 4,
 "nbformat_minor": 5
}
