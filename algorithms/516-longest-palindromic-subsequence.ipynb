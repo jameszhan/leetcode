{
 "cells": [
  {
   "cell_type": "markdown",
   "id": "committed-clark",
   "metadata": {},
   "source": [
    "### [最长回文子序列](https://leetcode-cn.com/problems/longest-palindromic-subsequence/)\n",
    "\n",
    "给定一个字符串 s ，找到其中最长的回文子序列，并返回该序列的长度。可以假设 s 的最大长度为 1000 。\n",
    "\n",
    "#### 示例 1:\n",
    "\n",
    "```\n",
    "输入: \"bbbab\"\n",
    "输出: 4\n",
    "一个可能的最长回文子序列为 \"bbbb\"。\n",
    "```\n",
    "\n",
    "#### 示例 2:\n",
    "```\n",
    "输入: \"cbbd\"\n",
    "输出: 2\n",
    "一个可能的最长回文子序列为 \"bb\"。\n",
    "```\n",
    "\n",
    "#### 提示：\n",
    "- `1 <= s.length <= 1000`\n",
    "- `s`只包含小写英文字母"
   ]
  },
  {
   "cell_type": "code",
   "execution_count": 20,
   "id": "french-documentation",
   "metadata": {},
   "outputs": [],
   "source": [
    "# 递归原始版本\n",
    "def longestPalindromeSubseq(s: str) -> int:\n",
    "    n = len(s)\n",
    "    if n <= 0:\n",
    "        return 0\n",
    "    elif n == 1:\n",
    "        return 1\n",
    "    \n",
    "    def solve(ss: str) -> int:\n",
    "        if ss:\n",
    "            if len(ss) > 1:\n",
    "                if (ss[0] == ss[-1]):\n",
    "                    return 2 + solve(ss[1:-1])\n",
    "                else:\n",
    "                    return max(solve(ss[:-1]), solve(ss[1:]))\n",
    "            else:\n",
    "                return 1\n",
    "        else:\n",
    "            return 0\n",
    "    \n",
    "    return solve(s)"
   ]
  },
  {
   "cell_type": "code",
   "execution_count": 29,
   "id": "dedicated-prompt",
   "metadata": {},
   "outputs": [],
   "source": [
    "# 递归缓存版本\n",
    "def longestPalindromeSubseq(s: str) -> int:\n",
    "    n = len(s)\n",
    "    if n <= 0:\n",
    "        return 0\n",
    "    elif n == 1:\n",
    "        return 1\n",
    "    \n",
    "    cache = {}\n",
    "    def solve(ss: str) -> int:\n",
    "        if ss:\n",
    "            if len(ss) > 1:\n",
    "                if (ss[0] == ss[-1]):\n",
    "                    key = ss[1:-1]\n",
    "                    if key not in cache:\n",
    "                        cache[key] = solve(key)\n",
    "                    return 2 + cache[key]\n",
    "                else:\n",
    "                    key1, key2 = ss[:-1], ss[1:]\n",
    "                    if key1 not in cache:\n",
    "                        cache[key1] = solve(key1)\n",
    "                    if key2 not in cache:\n",
    "                        cache[key2] = solve(key2)\n",
    "                    return max(cache[key1], cache[key2])\n",
    "            else:\n",
    "                return 1\n",
    "        else:\n",
    "            return 0\n",
    "    \n",
    "    return solve(s)"
   ]
  },
  {
   "cell_type": "code",
   "execution_count": 89,
   "id": "vocational-topic",
   "metadata": {},
   "outputs": [],
   "source": [
    "# 动态规划版本\n",
    "def longestPalindromeSubseq(s: str) -> int:\n",
    "    n = len(s)\n",
    "    if n <= 0:\n",
    "        return 0\n",
    "    elif n == 1:\n",
    "        return 1\n",
    "    \n",
    "    dp = [[0 for _ in range(n)] for _ in range(n)]\n",
    "    for k in range(n):\n",
    "        dp[k][k] = 1\n",
    "        \n",
    "    for i in reversed(range(n)):\n",
    "        for j in range(i + 1, n):\n",
    "            if s[i] == s[j]:\n",
    "                dp[i][j] = dp[i + 1][j - 1] + 2\n",
    "            else:\n",
    "                dp[i][j] = max(dp[i + 1][j], dp[i][j - 1])\n",
    "    return dp[0][-1]"
   ]
  },
  {
   "cell_type": "code",
   "execution_count": 90,
   "id": "polish-casino",
   "metadata": {},
   "outputs": [
    {
     "data": {
      "text/plain": [
       "3"
      ]
     },
     "execution_count": 90,
     "metadata": {},
     "output_type": "execute_result"
    }
   ],
   "source": [
    "longestPalindromeSubseq(\"bbbac\")"
   ]
  },
  {
   "cell_type": "code",
   "execution_count": 91,
   "id": "conservative-folks",
   "metadata": {},
   "outputs": [
    {
     "data": {
      "text/plain": [
       "4"
      ]
     },
     "execution_count": 91,
     "metadata": {},
     "output_type": "execute_result"
    }
   ],
   "source": [
    "longestPalindromeSubseq(\"bbbab\")"
   ]
  },
  {
   "cell_type": "code",
   "execution_count": 92,
   "id": "young-honor",
   "metadata": {},
   "outputs": [
    {
     "data": {
      "text/plain": [
       "3"
      ]
     },
     "execution_count": 92,
     "metadata": {},
     "output_type": "execute_result"
    }
   ],
   "source": [
    "longestPalindromeSubseq(\"aaa\")"
   ]
  },
  {
   "cell_type": "code",
   "execution_count": 93,
   "id": "configured-forest",
   "metadata": {},
   "outputs": [
    {
     "data": {
      "text/plain": [
       "5"
      ]
     },
     "execution_count": 93,
     "metadata": {},
     "output_type": "execute_result"
    }
   ],
   "source": [
    "longestPalindromeSubseq(\"aabaa\")"
   ]
  },
  {
   "cell_type": "code",
   "execution_count": 94,
   "id": "surprised-issue",
   "metadata": {},
   "outputs": [
    {
     "data": {
      "text/plain": [
       "3"
      ]
     },
     "execution_count": 94,
     "metadata": {},
     "output_type": "execute_result"
    }
   ],
   "source": [
    "longestPalindromeSubseq(\"aaba\")"
   ]
  },
  {
   "cell_type": "code",
   "execution_count": 95,
   "id": "coordinate-billion",
   "metadata": {},
   "outputs": [
    {
     "data": {
      "text/plain": [
       "159"
      ]
     },
     "execution_count": 95,
     "metadata": {},
     "output_type": "execute_result"
    }
   ],
   "source": [
    "longestPalindromeSubseq(\"euazbipzncptldueeuechubrcourfpftcebikrxhybkymimgvldiwqvkszfycvqyvtiwfckexmowcxztkfyzqovbtmzpxojfofbvwnncajvrvdbvjhcrameamcfmcoxryjukhpljwszknhiypvyskmsujkuggpztltpgoczafmfelahqwjbhxtjmebnymdyxoeodqmvkxittxjnlltmoobsgzdfhismogqfpfhvqnxeuosjqqalvwhsidgiavcatjjgeztrjuoixxxoznklcxolgpuktirmduxdywwlbikaqkqajzbsjvdgjcnbtfksqhquiwnwflkldgdrqrnwmshdpykicozfowmumzeuznolmgjlltypyufpzjpuvucmesnnrwppheizkapovoloneaxpfinaontwtdqsdvzmqlgkdxlbeguackbdkftzbnynmcejtwudocemcfnuzbttcoew\")"
   ]
  },
  {
   "cell_type": "markdown",
   "id": "unavailable-upgrade",
   "metadata": {},
   "source": [
    "![从下往上遍历](https://notes.zizhizhan.com/files/interview/images/leetcode516-longest-palindromic-subsequence.gif)"
   ]
  }
 ],
 "metadata": {
  "kernelspec": {
   "display_name": "Python 3",
   "language": "python",
   "name": "python3"
  },
  "language_info": {
   "codemirror_mode": {
    "name": "ipython",
    "version": 3
   },
   "file_extension": ".py",
   "mimetype": "text/x-python",
   "name": "python",
   "nbconvert_exporter": "python",
   "pygments_lexer": "ipython3",
   "version": "3.8.6"
  }
 },
 "nbformat": 4,
 "nbformat_minor": 5
}
