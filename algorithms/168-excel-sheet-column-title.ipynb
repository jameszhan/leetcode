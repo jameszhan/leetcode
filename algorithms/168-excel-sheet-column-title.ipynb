{
 "cells": [
  {
   "cell_type": "markdown",
   "id": "worldwide-thanksgiving",
   "metadata": {},
   "source": [
    "### [Excel表列名称](https://leetcode-cn.com/problems/excel-sheet-column-title/)\n",
    "\n",
    "给定一个正整数，返回它在 Excel 表中相对应的列名称。\n",
    "\n",
    "例如，\n",
    "```\n",
    "    1 -> A\n",
    "    2 -> B\n",
    "    3 -> C\n",
    "    ...\n",
    "    26 -> Z\n",
    "    27 -> AA\n",
    "    28 -> AB \n",
    "    ...\n",
    "```\n",
    "\n",
    "#### 示例 1:\n",
    "```\n",
    "输入: 1\n",
    "输出: \"A\"\n",
    "```\n",
    "#### 示例 2:\n",
    "```\n",
    "输入: 28\n",
    "输出: \"AB\"\n",
    "```\n",
    "#### 示例 3:\n",
    "```\n",
    "输入: 701\n",
    "输出: \"ZY\"\n",
    "```"
   ]
  },
  {
   "cell_type": "code",
   "execution_count": 136,
   "id": "cardiac-spirituality",
   "metadata": {},
   "outputs": [],
   "source": [
    "CHARS = {}\n",
    "for i, c in enumerate(range(ord('A'), ord('Z') + 1)):\n",
    "    CHARS[i] = chr(c)\n",
    "        \n",
    "def convertToTitle(num: int) -> str:\n",
    "    arr, q = [], num\n",
    "\n",
    "    while q > 0:\n",
    "        q -= 1\n",
    "        q, r = divmod(q, 26)\n",
    "        arr.append(r)\n",
    "    \n",
    "    s = ''\n",
    "    while arr:\n",
    "        s += CHARS[arr.pop()]\n",
    "    return s"
   ]
  },
  {
   "cell_type": "code",
   "execution_count": 132,
   "id": "likely-approval",
   "metadata": {},
   "outputs": [
    {
     "data": {
      "text/plain": [
       "'DNHX'"
      ]
     },
     "execution_count": 132,
     "metadata": {},
     "output_type": "execute_result"
    }
   ],
   "source": [
    "convertToTitle(80000)"
   ]
  },
  {
   "cell_type": "code",
   "execution_count": 133,
   "id": "forbidden-ranking",
   "metadata": {},
   "outputs": [
    {
     "data": {
      "text/plain": [
       "'A'"
      ]
     },
     "execution_count": 133,
     "metadata": {},
     "output_type": "execute_result"
    }
   ],
   "source": [
    "convertToTitle(1)"
   ]
  },
  {
   "cell_type": "code",
   "execution_count": 134,
   "id": "corrected-quantum",
   "metadata": {},
   "outputs": [
    {
     "data": {
      "text/plain": [
       "'Y'"
      ]
     },
     "execution_count": 134,
     "metadata": {},
     "output_type": "execute_result"
    }
   ],
   "source": [
    "convertToTitle(25)"
   ]
  },
  {
   "cell_type": "code",
   "execution_count": 135,
   "id": "irish-algorithm",
   "metadata": {},
   "outputs": [
    {
     "data": {
      "text/plain": [
       "'Z'"
      ]
     },
     "execution_count": 135,
     "metadata": {},
     "output_type": "execute_result"
    }
   ],
   "source": [
    "convertToTitle(26)"
   ]
  },
  {
   "cell_type": "code",
   "execution_count": 128,
   "id": "competitive-speech",
   "metadata": {},
   "outputs": [
    {
     "data": {
      "text/plain": [
       "'AA'"
      ]
     },
     "execution_count": 128,
     "metadata": {},
     "output_type": "execute_result"
    }
   ],
   "source": [
    "convertToTitle(27)"
   ]
  },
  {
   "cell_type": "code",
   "execution_count": 129,
   "id": "eight-guidance",
   "metadata": {},
   "outputs": [
    {
     "data": {
      "text/plain": [
       "'AB'"
      ]
     },
     "execution_count": 129,
     "metadata": {},
     "output_type": "execute_result"
    }
   ],
   "source": [
    "convertToTitle(28)"
   ]
  },
  {
   "cell_type": "code",
   "execution_count": 130,
   "id": "understanding-tsunami",
   "metadata": {},
   "outputs": [
    {
     "data": {
      "text/plain": [
       "'ZY'"
      ]
     },
     "execution_count": 130,
     "metadata": {},
     "output_type": "execute_result"
    }
   ],
   "source": [
    "convertToTitle(701)"
   ]
  }
 ],
 "metadata": {
  "kernelspec": {
   "display_name": "Python 3",
   "language": "python",
   "name": "python3"
  },
  "language_info": {
   "codemirror_mode": {
    "name": "ipython",
    "version": 3
   },
   "file_extension": ".py",
   "mimetype": "text/x-python",
   "name": "python",
   "nbconvert_exporter": "python",
   "pygments_lexer": "ipython3",
   "version": "3.8.6"
  }
 },
 "nbformat": 4,
 "nbformat_minor": 5
}
