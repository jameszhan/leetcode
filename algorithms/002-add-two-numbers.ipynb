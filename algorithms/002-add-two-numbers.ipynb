{
 "cells": [
  {
   "cell_type": "markdown",
   "id": "stainless-cross",
   "metadata": {},
   "source": [
    "### [两个链表生成相加链表](https://leetcode-cn.com/problems/add-two-numbers/)\n",
    "\n",
    "给你两个**非空**的链表，表示两个非负的整数。它们每位数字都是按照**逆序**的方式存储的，并且每个节点只能存储**一位**数字。\n",
    "\n",
    "请你将两个数相加，并以相同形式返回一个表示和的链表。\n",
    "\n",
    "你可以假设除了数字`0`之外，这两个数都不会以`0`开头。\n",
    "\n",
    "#### 示例 1：\n",
    "```\n",
    "输入：l1 = [2,4,3], l2 = [5,6,4]\n",
    "输出：[7,0,8]\n",
    "解释：342 + 465 = 807.\n",
    "```\n",
    "\n",
    "#### 示例 2：\n",
    "```\n",
    "输入：l1 = [0], l2 = [0]\n",
    "输出：[0]\n",
    "```\n",
    "\n",
    "#### 示例 3：\n",
    "```\n",
    "输入：l1 = [9,9,9,9,9,9,9], l2 = [9,9,9,9]\n",
    "输出：[8,9,9,9,0,0,0,1]\n",
    "```\n",
    "#### 提示：\n",
    "- 每个链表中的节点数在范围`[1, 100]`内\n",
    "- `0 <= Node.val <= 9`\n",
    "- 题目数据保证列表表示的数字不含前导零"
   ]
  },
  {
   "cell_type": "code",
   "execution_count": 3,
   "id": "tested-consideration",
   "metadata": {},
   "outputs": [],
   "source": [
    "class ListNode:\n",
    "    def __init__(self, val=0, next=None):\n",
    "        self.val = val\n",
    "        self.next = next\n",
    "\n",
    "class Solution:\n",
    "    def addTwoNumbers(self, l1: ListNode, l2: ListNode) -> ListNode:\n",
    "        h1, h2, ans = l1, l2, ListNode()\n",
    "        carry, curr = 0, ans\n",
    "        while h1 or h2:\n",
    "            h1val = h1.val if h1 else 0\n",
    "            h2val = h2.val if h2 else 0\n",
    "            value = h1val + h2val + carry\n",
    "            if value >= 10:\n",
    "                carry = 1\n",
    "                value = value % 10\n",
    "            else:\n",
    "                carry = 0\n",
    "            curr.next = ListNode(value)\n",
    "            if h1 is not None:\n",
    "                h1 = h1.next\n",
    "            if h2 is not None:\n",
    "                h2 = h2.next\n",
    "            curr = curr.next\n",
    "        \n",
    "        if carry > 0:\n",
    "            curr.next = ListNode(carry)\n",
    "        return ans.next"
   ]
  },
  {
   "cell_type": "code",
   "execution_count": null,
   "id": "joint-retro",
   "metadata": {},
   "outputs": [],
   "source": []
  }
 ],
 "metadata": {
  "kernelspec": {
   "display_name": "Python 3",
   "language": "python",
   "name": "python3"
  },
  "language_info": {
   "codemirror_mode": {
    "name": "ipython",
    "version": 3
   },
   "file_extension": ".py",
   "mimetype": "text/x-python",
   "name": "python",
   "nbconvert_exporter": "python",
   "pygments_lexer": "ipython3",
   "version": "3.8.6"
  }
 },
 "nbformat": 4,
 "nbformat_minor": 5
}
