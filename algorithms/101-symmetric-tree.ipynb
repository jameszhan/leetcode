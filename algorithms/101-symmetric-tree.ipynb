{
 "cells": [
  {
   "cell_type": "markdown",
   "id": "blessed-messenger",
   "metadata": {},
   "source": [
    "### [对称二叉树](https://leetcode-cn.com/problems/symmetric-tree/)\n",
    "\n",
    "给定一个二叉树，检查它是否是镜像对称的。\n",
    "\n",
    "例如，二叉树`[1,2,2,3,4,4,3]`是对称的。\n",
    "```\n",
    "    1\n",
    "   / \\\n",
    "  2   2\n",
    " / \\ / \\\n",
    "3  4 4  3\n",
    "```\n",
    "\n",
    "但是下面这个`[1,2,2,null,3,null,3]`则不是镜像对称的:\n",
    "```\n",
    "    1\n",
    "   / \\\n",
    "  2   2\n",
    "   \\   \\\n",
    "   3    3\n",
    "```\n",
    "\n",
    "#### 进阶：\n",
    "\n",
    "你可以运用递归和迭代两种方法解决这个问题吗？\n",
    "\n",
    "\n",
    "#### 相关题目\n",
    "\n",
    "- [100. 相同的树](https://leetcode-cn.com/problems/same-tree/)\n",
    "- [101. 对称二叉树](https://leetcode-cn.com/problems/symmetric-tree/)\n",
    "- [102. 二叉树的层序遍历](https://leetcode-cn.com/problems/binary-tree-level-order-traversal/)\n",
    "- [103. 二叉树的锯齿形层序遍历](https://leetcode-cn.com/problems/binary-tree-zigzag-level-order-traversal/)\n",
    "- [104. 二叉树的最大深度](https://leetcode-cn.com/problems/maximum-depth-of-binary-tree/)\n",
    "- [107. 二叉树的层序遍历 II](https://leetcode-cn.com/problems/binary-tree-level-order-traversal-ii/)\n",
    "- [111. 二叉树的最小深度](https://leetcode-cn.com/problems/minimum-depth-of-binary-tree/)\n",
    "- [429. N叉树的层序遍历](https://leetcode-cn.com/problems/n-ary-tree-level-order-traversal/)\n",
    "- [559. N叉树的最大深度](https://leetcode-cn.com/problems/maximum-depth-of-n-ary-tree/)\n",
    "- [589. N叉树的前序遍历](https://leetcode-cn.com/problems/n-ary-tree-preorder-traversal/)\n",
    "- [590. N叉树的后序遍历](https://leetcode-cn.com/problems/n-ary-tree-postorder-traversal/)\n",
    "- [剑指 Offer 28. 对称的二叉树](https://leetcode-cn.com/problems/dui-cheng-de-er-cha-shu-lcof/)\n",
    "- [剑指 Offer 32 - I. 从上到下打印二叉树](https://leetcode-cn.com/problems/cong-shang-dao-xia-da-yin-er-cha-shu-lcof/)\n",
    "- [剑指 Offer 32 - II. 从上到下打印二叉树 II](https://leetcode-cn.com/problems/cong-shang-dao-xia-da-yin-er-cha-shu-ii-lcof/)\n",
    "- [剑指 Offer 32 - III. 从上到下打印二叉树 III](https://leetcode-cn.com/problems/cong-shang-dao-xia-da-yin-er-cha-shu-iii-lcof/)\n",
    "- [剑指 Offer 55 - I. 二叉树的深度](https://leetcode-cn.com/problems/er-cha-shu-de-shen-du-lcof/)"
   ]
  },
  {
   "cell_type": "code",
   "execution_count": 4,
   "id": "silver-yukon",
   "metadata": {},
   "outputs": [],
   "source": [
    "class TreeNode:\n",
    "    def __init__(self, val=0, left=None, right=None):\n",
    "        self.val = val\n",
    "        self.left = left\n",
    "        self.right = right\n",
    "        \n",
    "class Solution:\n",
    "    def isSymmetric(self, root: TreeNode) -> bool:\n",
    "        if root is None:\n",
    "            return True\n",
    "        \n",
    "        def cmp(left: TreeNode, right: TreeNode):\n",
    "            if left is None and right is None:\n",
    "                return True\n",
    "            elif left is not None and right is not None:\n",
    "                if left.val != right.val:\n",
    "                    return False\n",
    "                else:\n",
    "                    return cmp(left.left, right.right) and cmp(left.right, right.left)\n",
    "            else:\n",
    "                return False\n",
    "            \n",
    "        return cmp(root.left, root.right)"
   ]
  }
 ],
 "metadata": {
  "kernelspec": {
   "display_name": "Python 3",
   "language": "python",
   "name": "python3"
  },
  "language_info": {
   "codemirror_mode": {
    "name": "ipython",
    "version": 3
   },
   "file_extension": ".py",
   "mimetype": "text/x-python",
   "name": "python",
   "nbconvert_exporter": "python",
   "pygments_lexer": "ipython3",
   "version": "3.8.6"
  }
 },
 "nbformat": 4,
 "nbformat_minor": 5
}
