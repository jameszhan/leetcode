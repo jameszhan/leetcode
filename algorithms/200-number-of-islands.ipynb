{
 "cells": [
  {
   "cell_type": "markdown",
   "id": "greenhouse-travel",
   "metadata": {},
   "source": [
    "### [岛屿数量](https://leetcode-cn.com/problems/number-of-islands/)\n",
    "\n",
    "给你一个由`'1'`（陆地）和`'0'`（水）组成的的二维网格，请你计算网格中岛屿的数量。\n",
    "\n",
    "岛屿总是被水包围，并且每座岛屿只能由水平方向和/或竖直方向上相邻的陆地连接形成。\n",
    "\n",
    "此外，你可以假设该网格的四条边均被水包围。\n",
    "\n",
    "#### 示例 1：\n",
    "```\n",
    "输入：grid = [\n",
    "  [\"1\",\"1\",\"1\",\"1\",\"0\"],\n",
    "  [\"1\",\"1\",\"0\",\"1\",\"0\"],\n",
    "  [\"1\",\"1\",\"0\",\"0\",\"0\"],\n",
    "  [\"0\",\"0\",\"0\",\"0\",\"0\"]\n",
    "]\n",
    "输出：1\n",
    "```\n",
    "\n",
    "#### 示例 2：\n",
    "```\n",
    "输入：grid = [\n",
    "  [\"1\",\"1\",\"0\",\"0\",\"0\"],\n",
    "  [\"1\",\"1\",\"0\",\"0\",\"0\"],\n",
    "  [\"0\",\"0\",\"1\",\"0\",\"0\"],\n",
    "  [\"0\",\"0\",\"0\",\"1\",\"1\"]\n",
    "]\n",
    "输出：3\n",
    "```\n",
    "#### 提示：\n",
    "- `m == grid.length`\n",
    "- `n == grid[i].length`\n",
    "- `1 <= m, n <= 300`\n",
    "- `grid[i][j]`的值为`'0'`或`'1'`\n",
    "\n",
    "#### 相关题目\n",
    "- [岛屿数量](https://www.nowcoder.com/practice/0c9664d1554e466aa107d899418e814e)"
   ]
  },
  {
   "cell_type": "code",
   "execution_count": 28,
   "id": "alone-distance",
   "metadata": {},
   "outputs": [],
   "source": [
    "from typing import List\n",
    "\n",
    "def numIslands(grid: List[List[str]]) -> int:\n",
    "    if not (grid and grid[0]):\n",
    "        return 0\n",
    "    \n",
    "    m, n = len(grid), len(grid[0])\n",
    "    \n",
    "    def dfs(grid: List[List[str]], r: int, c: int):\n",
    "        grid[r][c] = '2'\n",
    "        \n",
    "        for (i, j) in [(r - 1, c), (r + 1, c), (r, c - 1), (r, c + 1)]:\n",
    "            if 0 <= i < m and 0 <= j < n and grid[i][j] == '1':\n",
    "                dfs(grid, i, j)\n",
    "    \n",
    "    ans = 0\n",
    "    for r in range(m):\n",
    "        for c in range(n):\n",
    "            if grid[r][c] == '1':\n",
    "                ans += 1\n",
    "                dfs(grid, r, c)\n",
    "\n",
    "    return ans"
   ]
  },
  {
   "cell_type": "code",
   "execution_count": 29,
   "id": "cooked-veteran",
   "metadata": {},
   "outputs": [
    {
     "data": {
      "text/plain": [
       "3"
      ]
     },
     "execution_count": 29,
     "metadata": {},
     "output_type": "execute_result"
    }
   ],
   "source": [
    "numIslands([\n",
    "  [\"1\",\"1\",\"0\",\"0\",\"0\"],\n",
    "  [\"1\",\"1\",\"0\",\"0\",\"0\"],\n",
    "  [\"0\",\"0\",\"1\",\"0\",\"0\"],\n",
    "  [\"0\",\"0\",\"0\",\"1\",\"1\"]\n",
    "])"
   ]
  },
  {
   "cell_type": "code",
   "execution_count": 30,
   "id": "located-springer",
   "metadata": {},
   "outputs": [
    {
     "data": {
      "text/plain": [
       "1"
      ]
     },
     "execution_count": 30,
     "metadata": {},
     "output_type": "execute_result"
    }
   ],
   "source": [
    "numIslands([\n",
    "  [\"1\",\"1\",\"1\",\"1\",\"0\"],\n",
    "  [\"1\",\"1\",\"0\",\"1\",\"0\"],\n",
    "  [\"1\",\"1\",\"0\",\"0\",\"0\"],\n",
    "  [\"0\",\"0\",\"0\",\"0\",\"0\"]\n",
    "])"
   ]
  }
 ],
 "metadata": {
  "kernelspec": {
   "display_name": "Python 3",
   "language": "python",
   "name": "python3"
  },
  "language_info": {
   "codemirror_mode": {
    "name": "ipython",
    "version": 3
   },
   "file_extension": ".py",
   "mimetype": "text/x-python",
   "name": "python",
   "nbconvert_exporter": "python",
   "pygments_lexer": "ipython3",
   "version": "3.8.6"
  }
 },
 "nbformat": 4,
 "nbformat_minor": 5
}
