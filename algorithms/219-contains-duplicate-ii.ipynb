{
 "cells": [
  {
   "cell_type": "markdown",
   "id": "wanted-removal",
   "metadata": {},
   "source": [
    "### [存在重复元素 II](https://leetcode-cn.com/problems/contains-duplicate-ii/)\n",
    "\n",
    "给定一个整数数组和一个整数`k`，判断数组中是否存在两个不同的索引`i`和`j`，使得`nums [i] = nums [j]`，并且`i`和`j`的差的**绝对值**至多为`k`。\n",
    "\n",
    "#### 示例 1:\n",
    "```\n",
    "输入: nums = [1,2,3,1], k = 3\n",
    "输出: true\n",
    "```\n",
    "\n",
    "#### 示例 2:\n",
    "```\n",
    "输入: nums = [1,0,1,1], k = 1\n",
    "输出: true\n",
    "```\n",
    "\n",
    "#### 示例 3:\n",
    "```\n",
    "输入: nums = [1,2,3,1,2,3], k = 2\n",
    "输出: false\n",
    "```"
   ]
  },
  {
   "cell_type": "code",
   "execution_count": 26,
   "id": "elegant-dressing",
   "metadata": {},
   "outputs": [],
   "source": [
    "from typing import List\n",
    "\n",
    "def containsNearbyDuplicate(nums: List[int], k: int) -> bool:\n",
    "    def minGap(arr: List[int]) -> int:\n",
    "        gap = 0x7FFFFFFF\n",
    "        for i in range(1, len(arr)):\n",
    "            gap = min(gap, arr[i] - arr[i - 1])\n",
    "        return gap\n",
    "    \n",
    "    d = {}\n",
    "    for i, n in enumerate(nums):\n",
    "        if n in d:\n",
    "            d[n].append(i)\n",
    "        else:\n",
    "            d[n] = [i]\n",
    "            \n",
    "    for _i, a in d.items():\n",
    "        if len(a) > 1 and minGap(a) <= k:\n",
    "            return True\n",
    "    return False"
   ]
  },
  {
   "cell_type": "code",
   "execution_count": 27,
   "id": "consecutive-taylor",
   "metadata": {},
   "outputs": [
    {
     "data": {
      "text/plain": [
       "True"
      ]
     },
     "execution_count": 27,
     "metadata": {},
     "output_type": "execute_result"
    }
   ],
   "source": [
    "containsNearbyDuplicate([1,2,3,1], 3)"
   ]
  },
  {
   "cell_type": "code",
   "execution_count": 28,
   "id": "divided-documentary",
   "metadata": {},
   "outputs": [
    {
     "data": {
      "text/plain": [
       "True"
      ]
     },
     "execution_count": 28,
     "metadata": {},
     "output_type": "execute_result"
    }
   ],
   "source": [
    "containsNearbyDuplicate([1,0,1,1], 1)"
   ]
  },
  {
   "cell_type": "code",
   "execution_count": 29,
   "id": "religious-genesis",
   "metadata": {},
   "outputs": [
    {
     "data": {
      "text/plain": [
       "False"
      ]
     },
     "execution_count": 29,
     "metadata": {},
     "output_type": "execute_result"
    }
   ],
   "source": [
    "containsNearbyDuplicate([1,2,3,1,2,3], 2)"
   ]
  }
 ],
 "metadata": {
  "kernelspec": {
   "display_name": "Python 3",
   "language": "python",
   "name": "python3"
  },
  "language_info": {
   "codemirror_mode": {
    "name": "ipython",
    "version": 3
   },
   "file_extension": ".py",
   "mimetype": "text/x-python",
   "name": "python",
   "nbconvert_exporter": "python",
   "pygments_lexer": "ipython3",
   "version": "3.8.6"
  }
 },
 "nbformat": 4,
 "nbformat_minor": 5
}
