{
 "cells": [
  {
   "cell_type": "markdown",
   "id": "discrete-scholar",
   "metadata": {},
   "source": [
    "### [二叉树的所有路径](https://leetcode-cn.com/problems/binary-tree-paths/)\n",
    "\n",
    "给定一个二叉树，返回所有从根节点到叶子节点的路径。\n",
    "\n",
    "说明: 叶子节点是指没有子节点的节点。\n",
    "\n",
    "#### 示例:\n",
    "\n",
    "```\n",
    "输入:\n",
    "   1\n",
    " /   \\\n",
    "2     3\n",
    " \\\n",
    "  5\n",
    "输出: [\"1->2->5\", \"1->3\"]\n",
    "解释: 所有根节点到叶子节点的路径为: 1->2->5, 1->3\n",
    "```"
   ]
  },
  {
   "cell_type": "code",
   "execution_count": 2,
   "id": "complicated-medium",
   "metadata": {},
   "outputs": [],
   "source": [
    "from typing import List\n",
    "class TreeNode:\n",
    "    def __init__(self, val=0, left=None, right=None):\n",
    "        self.val = val\n",
    "        self.left = left\n",
    "        self.right = right\n",
    "        \n",
    "class Solution:\n",
    "    def binaryTreePaths(self, root: TreeNode) -> List[str]:\n",
    "        answers = []\n",
    "        def isLeaf(node: TreeNode):\n",
    "            return node.left is None and node.right is None\n",
    "        \n",
    "        def travel(node: TreeNode, arr: List[int]):\n",
    "            if node:\n",
    "                arr.append(node.val)\n",
    "                if isLeaf(node):\n",
    "                    answers.append('->'.join(map(lambda i: str(i), arr)))\n",
    "                else:\n",
    "                    travel(node.left, arr)\n",
    "                    travel(node.right, arr)\n",
    "                arr.pop()\n",
    "        travel(root, [])\n",
    "        return answers"
   ]
  }
 ],
 "metadata": {
  "kernelspec": {
   "display_name": "Python 3",
   "language": "python",
   "name": "python3"
  },
  "language_info": {
   "codemirror_mode": {
    "name": "ipython",
    "version": 3
   },
   "file_extension": ".py",
   "mimetype": "text/x-python",
   "name": "python",
   "nbconvert_exporter": "python",
   "pygments_lexer": "ipython3",
   "version": "3.8.6"
  }
 },
 "nbformat": 4,
 "nbformat_minor": 5
}
