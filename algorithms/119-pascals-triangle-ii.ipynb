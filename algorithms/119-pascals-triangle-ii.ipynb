{
 "cells": [
  {
   "cell_type": "markdown",
   "id": "painted-softball",
   "metadata": {},
   "source": [
    "### [杨辉三角 II](https://leetcode-cn.com/problems/pascals-triangle-ii/)\n",
    "\n",
    "给定一个非负索引`k`，其中`k ≤ 33`，返回杨辉三角的第`k`行。\n",
    "\n",
    "在杨辉三角中，每个数是它左上方和右上方的数的和。\n",
    "\n",
    "#### 示例:\n",
    "```\n",
    "输入: 3\n",
    "输出: [1,3,3,1]\n",
    "```\n",
    "\n",
    "#### 进阶：\n",
    "- 你可以优化你的算法到`O(k)`空间复杂度吗？"
   ]
  },
  {
   "cell_type": "markdown",
   "id": "academic-wrestling",
   "metadata": {},
   "source": [
    "杨辉三角第n行满足：$ 𝐶^0_{𝑛−1}, 𝐶^1_{𝑛−1},⋯,𝐶^{𝑛−1}_{𝑛−1} $"
   ]
  },
  {
   "cell_type": "code",
   "execution_count": 17,
   "id": "offshore-width",
   "metadata": {},
   "outputs": [],
   "source": [
    "from typing import List\n",
    "\n",
    "def permutation(n: int, m: int):\n",
    "    ans = 1\n",
    "    for i in range(m, n):\n",
    "        ans *= (i + 1)\n",
    "    return ans\n",
    "    \n",
    "def combination(n, m):\n",
    "    return permutation(n, m) // permutation(n - m, 1)\n",
    "\n",
    "def getRow(rowIndex: int) -> List[int]:\n",
    "    ans = [1 for _ in range(rowIndex + 1)]\n",
    "    for i in range(rowIndex):\n",
    "        ans[i] = combination(rowIndex, i)\n",
    "    return ans"
   ]
  },
  {
   "cell_type": "code",
   "execution_count": 18,
   "id": "billion-illness",
   "metadata": {},
   "outputs": [
    {
     "data": {
      "text/plain": [
       "[1]"
      ]
     },
     "execution_count": 18,
     "metadata": {},
     "output_type": "execute_result"
    }
   ],
   "source": [
    "getRow(0)"
   ]
  },
  {
   "cell_type": "code",
   "execution_count": 19,
   "id": "familiar-james",
   "metadata": {},
   "outputs": [
    {
     "data": {
      "text/plain": [
       "[1, 1]"
      ]
     },
     "execution_count": 19,
     "metadata": {},
     "output_type": "execute_result"
    }
   ],
   "source": [
    "getRow(1)"
   ]
  },
  {
   "cell_type": "code",
   "execution_count": 20,
   "id": "current-overhead",
   "metadata": {},
   "outputs": [
    {
     "data": {
      "text/plain": [
       "[1, 2, 1]"
      ]
     },
     "execution_count": 20,
     "metadata": {},
     "output_type": "execute_result"
    }
   ],
   "source": [
    "getRow(2)"
   ]
  },
  {
   "cell_type": "code",
   "execution_count": 21,
   "id": "combined-shuttle",
   "metadata": {},
   "outputs": [
    {
     "data": {
      "text/plain": [
       "[1, 3, 3, 1]"
      ]
     },
     "execution_count": 21,
     "metadata": {},
     "output_type": "execute_result"
    }
   ],
   "source": [
    "getRow(3)"
   ]
  },
  {
   "cell_type": "code",
   "execution_count": 22,
   "id": "spiritual-baptist",
   "metadata": {},
   "outputs": [
    {
     "data": {
      "text/plain": [
       "[1, 5, 10, 10, 5, 1]"
      ]
     },
     "execution_count": 22,
     "metadata": {},
     "output_type": "execute_result"
    }
   ],
   "source": [
    "getRow(5)"
   ]
  },
  {
   "cell_type": "code",
   "execution_count": null,
   "id": "palestinian-launch",
   "metadata": {},
   "outputs": [],
   "source": []
  }
 ],
 "metadata": {
  "kernelspec": {
   "display_name": "Python 3",
   "language": "python",
   "name": "python3"
  },
  "language_info": {
   "codemirror_mode": {
    "name": "ipython",
    "version": 3
   },
   "file_extension": ".py",
   "mimetype": "text/x-python",
   "name": "python",
   "nbconvert_exporter": "python",
   "pygments_lexer": "ipython3",
   "version": "3.8.6"
  }
 },
 "nbformat": 4,
 "nbformat_minor": 5
}
