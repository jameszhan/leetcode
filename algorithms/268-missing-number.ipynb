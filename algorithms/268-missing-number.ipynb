{
 "cells": [
  {
   "cell_type": "markdown",
   "id": "motivated-practitioner",
   "metadata": {},
   "source": [
    "### [丢失的数字](https://leetcode-cn.com/problems/missing-number/)\n",
    "\n",
    "给定一个包含`[0, n]`中 n 个数的数组`nums`，找出`[0, n]`这个范围内没有出现在数组中的那个数。\n",
    "\n",
    "#### 进阶：\n",
    "- 你能否实现线性时间复杂度、仅使用额外常数空间的算法解决此问题?\n",
    "\n",
    "#### 示例 1：\n",
    "```\n",
    "输入：nums = [3,0,1]\n",
    "输出：2\n",
    "解释：n = 3，因为有 3 个数字，所以所有的数字都在范围 [0,3] 内。2 是丢失的数字，因为它没有出现在 nums 中。\n",
    "```\n",
    "\n",
    "#### 示例 2：\n",
    "```\n",
    "输入：nums = [0,1]\n",
    "输出：2\n",
    "解释：n = 2，因为有 2 个数字，所以所有的数字都在范围 [0,2] 内。2 是丢失的数字，因为它没有出现在 nums 中。\n",
    "```\n",
    "\n",
    "#### 示例 3：\n",
    "```\n",
    "输入：nums = [9,6,4,2,3,5,7,0,1]\n",
    "输出：8\n",
    "解释：n = 9，因为有 9 个数字，所以所有的数字都在范围 [0,9] 内。8 是丢失的数字，因为它没有出现在 nums 中。\n",
    "```\n",
    "\n",
    "#### 示例 4：\n",
    "```\n",
    "输入：nums = [0]\n",
    "输出：1\n",
    "解释：n = 1，因为有 1 个数字，所以所有的数字都在范围 [0,1] 内。1 是丢失的数字，因为它没有出现在 nums 中。\n",
    "```\n",
    "\n",
    "#### 提示：\n",
    "- n == nums.length\n",
    "- $ 1 <= n <= 10^4 $\n",
    "- 0 <= nums[i] <= n\n",
    "- nums 中的所有数字都 独一无二"
   ]
  },
  {
   "cell_type": "code",
   "execution_count": 6,
   "id": "visible-civilian",
   "metadata": {},
   "outputs": [],
   "source": [
    "from typing import List\n",
    "\n",
    "def missingNumber(nums: List[int]) -> int:\n",
    "    n = len(nums)\n",
    "    s = n * (n + 1) // 2\n",
    "    return s - sum(nums)"
   ]
  },
  {
   "cell_type": "code",
   "execution_count": 7,
   "id": "chicken-antibody",
   "metadata": {},
   "outputs": [
    {
     "data": {
      "text/plain": [
       "2"
      ]
     },
     "execution_count": 7,
     "metadata": {},
     "output_type": "execute_result"
    }
   ],
   "source": [
    "missingNumber([3,0,1])"
   ]
  },
  {
   "cell_type": "code",
   "execution_count": 8,
   "id": "clear-seventh",
   "metadata": {},
   "outputs": [
    {
     "data": {
      "text/plain": [
       "2"
      ]
     },
     "execution_count": 8,
     "metadata": {},
     "output_type": "execute_result"
    }
   ],
   "source": [
    "missingNumber([0,1])"
   ]
  },
  {
   "cell_type": "code",
   "execution_count": 9,
   "id": "massive-iraqi",
   "metadata": {},
   "outputs": [
    {
     "data": {
      "text/plain": [
       "8"
      ]
     },
     "execution_count": 9,
     "metadata": {},
     "output_type": "execute_result"
    }
   ],
   "source": [
    "missingNumber([9,6,4,2,3,5,7,0,1])"
   ]
  },
  {
   "cell_type": "code",
   "execution_count": 10,
   "id": "magnetic-parish",
   "metadata": {},
   "outputs": [
    {
     "data": {
      "text/plain": [
       "1"
      ]
     },
     "execution_count": 10,
     "metadata": {},
     "output_type": "execute_result"
    }
   ],
   "source": [
    "missingNumber([0])"
   ]
  }
 ],
 "metadata": {
  "kernelspec": {
   "display_name": "Python 3",
   "language": "python",
   "name": "python3"
  },
  "language_info": {
   "codemirror_mode": {
    "name": "ipython",
    "version": 3
   },
   "file_extension": ".py",
   "mimetype": "text/x-python",
   "name": "python",
   "nbconvert_exporter": "python",
   "pygments_lexer": "ipython3",
   "version": "3.8.6"
  }
 },
 "nbformat": 4,
 "nbformat_minor": 5
}
