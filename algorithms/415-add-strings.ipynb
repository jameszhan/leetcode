{
 "cells": [
  {
   "cell_type": "markdown",
   "id": "sized-hurricane",
   "metadata": {},
   "source": [
    "### [字符串相加](https://leetcode-cn.com/problems/add-strings/)\n",
    "\n",
    "给定两个字符串形式的非负整数 num1 和num2 ，计算它们的和。\n",
    "\n",
    "#### 提示：\n",
    "- num1 和num2 的长度都小于 5100\n",
    "- num1 和num2 都只包含数字 0-9\n",
    "- num1 和num2 都不包含任何前导零\n",
    "- 你不能使用任何內建 BigInteger 库， 也不能直接将输入的字符串转换为整数形式"
   ]
  },
  {
   "cell_type": "code",
   "execution_count": 46,
   "id": "aboriginal-village",
   "metadata": {},
   "outputs": [],
   "source": [
    "def addStrings(num1: str, num2: str) -> str:\n",
    "    carry, ans = 0, []\n",
    "    i, j, m, n = 0, 0, len(num1), len(num2)\n",
    "\n",
    "    while i < m or j < n:\n",
    "        n1 = int(num1[m - i - 1]) if i < m else 0\n",
    "        n2 = int(num2[n - j - 1]) if j < n else 0\n",
    "        v = n1 + n2 + carry\n",
    "        if v >= 10:\n",
    "            carry = 1\n",
    "            v = v % 10\n",
    "        else:\n",
    "            carry = 0\n",
    "        ans.append(str(v))\n",
    "\n",
    "        i += 1\n",
    "        j += 1\n",
    "        \n",
    "    if carry > 0:\n",
    "        ans.append(str(carry))\n",
    "    return ''.join(reversed(ans))"
   ]
  },
  {
   "cell_type": "code",
   "execution_count": 47,
   "id": "fancy-narrative",
   "metadata": {},
   "outputs": [
    {
     "data": {
      "text/plain": [
       "'1000'"
      ]
     },
     "execution_count": 47,
     "metadata": {},
     "output_type": "execute_result"
    }
   ],
   "source": [
    "addStrings('1', '999')"
   ]
  },
  {
   "cell_type": "code",
   "execution_count": 48,
   "id": "dated-vampire",
   "metadata": {},
   "outputs": [
    {
     "data": {
      "text/plain": [
       "'1110'"
      ]
     },
     "execution_count": 48,
     "metadata": {},
     "output_type": "execute_result"
    }
   ],
   "source": [
    "addStrings('111', '999')"
   ]
  },
  {
   "cell_type": "code",
   "execution_count": 49,
   "id": "elegant-hunter",
   "metadata": {},
   "outputs": [
    {
     "data": {
      "text/plain": [
       "'413'"
      ]
     },
     "execution_count": 49,
     "metadata": {},
     "output_type": "execute_result"
    }
   ],
   "source": [
    "addStrings('408', '5')"
   ]
  }
 ],
 "metadata": {
  "kernelspec": {
   "display_name": "Python 3",
   "language": "python",
   "name": "python3"
  },
  "language_info": {
   "codemirror_mode": {
    "name": "ipython",
    "version": 3
   },
   "file_extension": ".py",
   "mimetype": "text/x-python",
   "name": "python",
   "nbconvert_exporter": "python",
   "pygments_lexer": "ipython3",
   "version": "3.8.6"
  }
 },
 "nbformat": 4,
 "nbformat_minor": 5
}
