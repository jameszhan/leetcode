{
 "cells": [
  {
   "cell_type": "markdown",
   "id": "coated-pilot",
   "metadata": {},
   "source": [
    "### [托普利茨矩阵](https://leetcode-cn.com/problems/toeplitz-matrix/)\n",
    "\n",
    "给你一个`m x n`的矩阵`matrix`。如果这个矩阵是托普利茨矩阵，返回`true`；否则，返回`false`。\n",
    "\n",
    "如果矩阵上每一条由左上到右下的对角线上的元素都相同，那么这个矩阵是**托普利茨矩阵**。\n",
    "\n",
    "#### 示例 1：\n",
    "```\n",
    "输入：matrix = [[1,2,3,4],[5,1,2,3],[9,5,1,2]]\n",
    "输出：true\n",
    "解释：\n",
    "在上述矩阵中, 其对角线为: \n",
    "\"[9]\", \"[5, 5]\", \"[1, 1, 1]\", \"[2, 2, 2]\", \"[3, 3]\", \"[4]\"。 \n",
    "各条对角线上的所有元素均相同, 因此答案是 True 。\n",
    "```\n",
    "\n",
    "#### 示例 2：\n",
    "```\n",
    "输入：matrix = [[1,2],[2,2]]\n",
    "输出：false\n",
    "解释：\n",
    "对角线 \"[1, 2]\" 上的元素不同。\n",
    "```\n",
    "\n",
    "#### 提示：\n",
    "- m == matrix.length\n",
    "- n == matrix[i].length\n",
    "- 1 <= m, n <= 20\n",
    "- 0 <= matrix[i][j] <= 99\n",
    " \n",
    "\n",
    "#### 进阶：\n",
    "- 如果矩阵存储在磁盘上，并且内存有限，以至于一次最多只能将矩阵的一行加载到内存中，该怎么办？\n",
    "- 如果矩阵太大，以至于一次只能将不完整的一行加载到内存中，该怎么办？"
   ]
  },
  {
   "cell_type": "code",
   "execution_count": 1,
   "id": "occupational-crest",
   "metadata": {},
   "outputs": [],
   "source": [
    "from typing import List\n",
    "\n",
    "def isToeplitzMatrix(matrix: List[List[int]]) -> bool:\n",
    "    m, n = len(matrix), len(matrix[0])\n",
    "    for i in range(1, m):\n",
    "        for j in range(1, n):\n",
    "            if matrix[i][j] != matrix[i - 1][j - 1]:\n",
    "                return False\n",
    "    return True"
   ]
  },
  {
   "cell_type": "code",
   "execution_count": 2,
   "id": "japanese-facility",
   "metadata": {},
   "outputs": [
    {
     "data": {
      "text/plain": [
       "True"
      ]
     },
     "execution_count": 2,
     "metadata": {},
     "output_type": "execute_result"
    }
   ],
   "source": [
    "isToeplitzMatrix([[1,2,3,4],[5,1,2,3],[9,5,1,2]])"
   ]
  },
  {
   "cell_type": "code",
   "execution_count": 3,
   "id": "organizational-glass",
   "metadata": {},
   "outputs": [
    {
     "data": {
      "text/plain": [
       "False"
      ]
     },
     "execution_count": 3,
     "metadata": {},
     "output_type": "execute_result"
    }
   ],
   "source": [
    "isToeplitzMatrix([[1,2],[2,2]])"
   ]
  }
 ],
 "metadata": {
  "kernelspec": {
   "display_name": "Python 3",
   "language": "python",
   "name": "python3"
  },
  "language_info": {
   "codemirror_mode": {
    "name": "ipython",
    "version": 3
   },
   "file_extension": ".py",
   "mimetype": "text/x-python",
   "name": "python",
   "nbconvert_exporter": "python",
   "pygments_lexer": "ipython3",
   "version": "3.8.6"
  }
 },
 "nbformat": 4,
 "nbformat_minor": 5
}
