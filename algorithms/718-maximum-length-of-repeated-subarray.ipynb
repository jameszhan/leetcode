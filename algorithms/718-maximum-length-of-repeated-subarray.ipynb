{
 "cells": [
  {
   "cell_type": "markdown",
   "id": "formal-assault",
   "metadata": {},
   "source": [
    "### [最长重复子数组](https://leetcode-cn.com/problems/maximum-length-of-repeated-subarray/)\n",
    "\n",
    "给两个整数数组`A`和`B`，返回两个数组中公共的、长度最长的子数组的长度。\n",
    "\n",
    "#### 示例：\n",
    "```\n",
    "输入：\n",
    "A: [1,2,3,2,1]\n",
    "B: [3,2,1,4,7]\n",
    "输出：3\n",
    "解释：长度最长的公共子数组是 [3, 2, 1] 。\n",
    "```\n",
    "\n",
    "#### 提示：\n",
    "- `1 <= len(A), len(B) <= 1000`\n",
    "- `0 <= A[i], B[i] < 100`\n"
   ]
  },
  {
   "cell_type": "code",
   "execution_count": 9,
   "id": "mighty-transcription",
   "metadata": {},
   "outputs": [],
   "source": [
    "from typing import List\n",
    "\n",
    "def findLength(A: List[int], B: List[int]) -> int:\n",
    "    if not A or not B:\n",
    "        return 0\n",
    "    m, n = len(A), len(B)\n",
    "    dp = [[0 for _ in range(n)] for _ in range(m)]\n",
    "    \n",
    "    ans = 0\n",
    "    for i in range(m):\n",
    "        if A[i] == B[0]:\n",
    "            dp[i][0] = 1\n",
    "            ans = max(ans, dp[i][0])\n",
    "            \n",
    "    for j in range(n):\n",
    "        if A[0] == B[j]:\n",
    "            dp[0][j] = 1\n",
    "            ans = max(ans, dp[i][0])\n",
    "    \n",
    "    for i in range(1, m):\n",
    "        for j in range(1, n):\n",
    "            if A[i] == B[j]:\n",
    "                dp[i][j] = dp[i - 1][j - 1] + 1\n",
    "                ans = max(ans, dp[i][j])\n",
    "    return ans"
   ]
  },
  {
   "cell_type": "code",
   "execution_count": 10,
   "id": "comic-nightmare",
   "metadata": {},
   "outputs": [
    {
     "data": {
      "text/plain": [
       "3"
      ]
     },
     "execution_count": 10,
     "metadata": {},
     "output_type": "execute_result"
    }
   ],
   "source": [
    "findLength([1,2,3,2,1], [3,2,1,4,7])"
   ]
  },
  {
   "cell_type": "markdown",
   "id": "forced-audit",
   "metadata": {},
   "source": [
    "#### [最长公共子串](https://www.nowcoder.com/practice/f33f5adc55f444baa0e0ca87ad8a6aac)\n",
    "\n",
    "给定两个字符串str1和str2,输出两个字符串的最长公共子串，如果最长公共子串为空，输出-1。\n",
    "\n",
    "#### 示例1\n",
    "```\n",
    "输入: \"1AB2345CD\",\"12345EF\"\n",
    "返回值:  \"2345\"\n",
    "```\n",
    "\n",
    "#### 备注:\n",
    "- $ 1 \\leq |str_1|, |str_2| \\leq 5\\,000 $"
   ]
  },
  {
   "cell_type": "code",
   "execution_count": 28,
   "id": "changing-clothing",
   "metadata": {},
   "outputs": [],
   "source": [
    "def LCS(str1: str, str2: str) -> str:\n",
    "    if not str1 or not str2:\n",
    "        return \"\"\n",
    "    \n",
    "    m, n = len(str1), len(str2)\n",
    "    dp = [[0 for _ in range(n)] for _ in range(m)]\n",
    "    \n",
    "    idx1, l = 0, 0\n",
    "    for i in range(m):\n",
    "        if str1[i] == str2[0]:\n",
    "            dp[i][0] = 1\n",
    "            l = 1\n",
    "            idx1 = i\n",
    "            \n",
    "    for j in range(n):\n",
    "        if str1[0] == str2[j]:\n",
    "            dp[0][j] = 1\n",
    "            l = 1\n",
    "            \n",
    "    for i in range(1, m):\n",
    "        for j in range(1, n):\n",
    "            if str1[i] == str2[j]:\n",
    "                dp[i][j] = dp[i - 1][j - 1] + 1\n",
    "                if l < dp[i][j]:\n",
    "                    l = dp[i][j]\n",
    "                    idx1 = i\n",
    "    \n",
    "    start, end = idx1 - l + 1, idx1 + 1\n",
    "    return str1[start:end]"
   ]
  },
  {
   "cell_type": "code",
   "execution_count": 29,
   "id": "third-structure",
   "metadata": {},
   "outputs": [
    {
     "data": {
      "text/plain": [
       "'2345'"
      ]
     },
     "execution_count": 29,
     "metadata": {},
     "output_type": "execute_result"
    }
   ],
   "source": [
    "LCS(\"1AB2345CD\", \"12345EF\")"
   ]
  },
  {
   "cell_type": "code",
   "execution_count": 30,
   "id": "manufactured-confidence",
   "metadata": {},
   "outputs": [
    {
     "data": {
      "text/plain": [
       "'3,2,1'"
      ]
     },
     "execution_count": 30,
     "metadata": {},
     "output_type": "execute_result"
    }
   ],
   "source": [
    "LCS(\"1,2,3,2,1\", \"3,2,1,4,7\")"
   ]
  }
 ],
 "metadata": {
  "kernelspec": {
   "display_name": "Python 3",
   "language": "python",
   "name": "python3"
  },
  "language_info": {
   "codemirror_mode": {
    "name": "ipython",
    "version": 3
   },
   "file_extension": ".py",
   "mimetype": "text/x-python",
   "name": "python",
   "nbconvert_exporter": "python",
   "pygments_lexer": "ipython3",
   "version": "3.8.6"
  }
 },
 "nbformat": 4,
 "nbformat_minor": 5
}
