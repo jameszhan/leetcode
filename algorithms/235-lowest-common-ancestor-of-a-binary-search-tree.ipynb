{
 "cells": [
  {
   "cell_type": "markdown",
   "id": "peaceful-fluid",
   "metadata": {},
   "source": [
    "### [二叉搜索树的最近公共祖先](https://leetcode-cn.com/problems/lowest-common-ancestor-of-a-binary-search-tree/)\n",
    "\n",
    "给定一个二叉搜索树, 找到该树中两个指定节点的最近公共祖先。\n",
    "\n",
    "百度百科中最近公共祖先的定义为：“对于有根树 T 的两个结点 p、q，最近公共祖先表示为一个结点 x，满足 x 是 p、q 的祖先且 x 的深度尽可能大（一个节点也可以是它自己的祖先）。”\n",
    "\n",
    "例如，给定如下二叉搜索树:  `root = [6,2,8,0,4,7,9,null,null,3,5]`\n",
    "\n",
    "#### 示例 1:\n",
    "```\n",
    "输入: root = [6,2,8,0,4,7,9,null,null,3,5], p = 2, q = 8\n",
    "输出: 6 \n",
    "解释: 节点 2 和节点 8 的最近公共祖先是 6。\n",
    "```\n",
    "\n",
    "#### 示例 2:\n",
    "```\n",
    "输入: root = [6,2,8,0,4,7,9,null,null,3,5], p = 2, q = 4\n",
    "输出: 2\n",
    "解释: 节点 2 和节点 4 的最近公共祖先是 2, 因为根据定义最近公共祖先节点可以为节点本身。\n",
    "```\n",
    "\n",
    "#### 说明:\n",
    "- 所有节点的值都是唯一的。\n",
    "- `p`、`q`为不同节点且均存在于给定的二叉搜索树中。"
   ]
  },
  {
   "cell_type": "code",
   "execution_count": 2,
   "id": "directed-alexandria",
   "metadata": {},
   "outputs": [],
   "source": [
    "from typing import List\n",
    "\n",
    "def lowestCommonAncestor(root: 'TreeNode', p: 'TreeNode', q: 'TreeNode') -> 'TreeNode':\n",
    "    def findPath(node: TreeNode, target: TreeNode, paths: List[TreeNode]):\n",
    "        if node:\n",
    "            paths.append(node)\n",
    "            if target.val < node.val:\n",
    "                findPath(node.left, target, paths)\n",
    "            elif target.val > node.val:\n",
    "                findPath(node.right, target, paths)\n",
    "\n",
    "    ppaths, qpaths = [], []\n",
    "    findPath(root, p, ppaths)\n",
    "    findPath(root, q, qpaths)\n",
    "\n",
    "    ans = root\n",
    "    for i in range(min(len(ppaths), len(qpaths))):\n",
    "        if ppaths[i] != qpaths[i]:\n",
    "            break\n",
    "        else:\n",
    "            ans = ppaths[i]\n",
    "\n",
    "    return ans"
   ]
  },
  {
   "cell_type": "code",
   "execution_count": null,
   "id": "improved-google",
   "metadata": {},
   "outputs": [],
   "source": []
  }
 ],
 "metadata": {
  "kernelspec": {
   "display_name": "Python 3",
   "language": "python",
   "name": "python3"
  },
  "language_info": {
   "codemirror_mode": {
    "name": "ipython",
    "version": 3
   },
   "file_extension": ".py",
   "mimetype": "text/x-python",
   "name": "python",
   "nbconvert_exporter": "python",
   "pygments_lexer": "ipython3",
   "version": "3.8.6"
  }
 },
 "nbformat": 4,
 "nbformat_minor": 5
}
