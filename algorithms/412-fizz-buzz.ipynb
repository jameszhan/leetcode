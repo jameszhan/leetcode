{
 "cells": [
  {
   "cell_type": "markdown",
   "id": "spectacular-turkish",
   "metadata": {},
   "source": [
    "### [Fizz Buzz](https://leetcode-cn.com/problems/fizz-buzz/)\n",
    "\n",
    "写一个程序，输出从 1 到 n 数字的字符串表示。\n",
    "\n",
    "- 1. 如果 n 是3的倍数，输出“Fizz”；\n",
    "- 2. 如果 n 是5的倍数，输出“Buzz”；\n",
    "- 3.如果 n 同时是3和5的倍数，输出 “FizzBuzz”。\n",
    "\n",
    "#### 示例：\n",
    "```\n",
    "n = 15,\n",
    "\n",
    "返回:\n",
    "[\n",
    "    \"1\",\n",
    "    \"2\",\n",
    "    \"Fizz\",\n",
    "    \"4\",\n",
    "    \"Buzz\",\n",
    "    \"Fizz\",\n",
    "    \"7\",\n",
    "    \"8\",\n",
    "    \"Fizz\",\n",
    "    \"Buzz\",\n",
    "    \"11\",\n",
    "    \"Fizz\",\n",
    "    \"13\",\n",
    "    \"14\",\n",
    "    \"FizzBuzz\"\n",
    "]\n",
    "```"
   ]
  },
  {
   "cell_type": "code",
   "execution_count": 2,
   "id": "governmental-fellow",
   "metadata": {},
   "outputs": [],
   "source": [
    "from typing import List\n",
    "\n",
    "def fizzBuzz(n: int) -> List[str]:\n",
    "    ans = []\n",
    "    for i in range(n):\n",
    "        k = i + 1\n",
    "        if k % 15 == 0:\n",
    "            ans.append(\"FizzBuzz\")\n",
    "        elif k % 5 == 0:\n",
    "            ans.append(\"Buzz\")\n",
    "        elif k  % 3 == 0:\n",
    "            ans.append(\"Fizz\")\n",
    "        else:\n",
    "            ans.append(str(k))\n",
    "            \n",
    "    return ans"
   ]
  },
  {
   "cell_type": "code",
   "execution_count": 3,
   "id": "frozen-sensitivity",
   "metadata": {},
   "outputs": [
    {
     "data": {
      "text/plain": [
       "['1',\n",
       " '2',\n",
       " 'Fizz',\n",
       " '4',\n",
       " 'Buzz',\n",
       " 'Fizz',\n",
       " '7',\n",
       " '8',\n",
       " 'Fizz',\n",
       " 'Buzz',\n",
       " '11',\n",
       " 'Fizz',\n",
       " '13',\n",
       " '14',\n",
       " 'FizzBuzz']"
      ]
     },
     "execution_count": 3,
     "metadata": {},
     "output_type": "execute_result"
    }
   ],
   "source": [
    "fizzBuzz(15)"
   ]
  }
 ],
 "metadata": {
  "kernelspec": {
   "display_name": "Python 3",
   "language": "python",
   "name": "python3"
  },
  "language_info": {
   "codemirror_mode": {
    "name": "ipython",
    "version": 3
   },
   "file_extension": ".py",
   "mimetype": "text/x-python",
   "name": "python",
   "nbconvert_exporter": "python",
   "pygments_lexer": "ipython3",
   "version": "3.8.6"
  }
 },
 "nbformat": 4,
 "nbformat_minor": 5
}
