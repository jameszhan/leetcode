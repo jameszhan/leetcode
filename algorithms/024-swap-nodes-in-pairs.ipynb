{
 "cells": [
  {
   "cell_type": "markdown",
   "id": "suitable-liability",
   "metadata": {},
   "source": [
    "### [两两交换链表中的节点](https://leetcode-cn.com/problems/swap-nodes-in-pairs/)\n",
    "\n",
    "给定一个链表，两两交换其中相邻的节点，并返回交换后的链表。\n",
    "\n",
    "你不能只是单纯的改变节点内部的值，而是需要实际的进行节点交换。\n",
    "\n",
    "\n",
    "#### 示例 1：\n",
    "```\n",
    "输入：head = [1,2,3,4]\n",
    "输出：[2,1,4,3]\n",
    "```\n",
    "\n",
    "#### 示例 2：\n",
    "```\n",
    "输入：head = []\n",
    "输出：[]\n",
    "```\n",
    "\n",
    "#### 示例 3：\n",
    "```\n",
    "输入：head = [1]\n",
    "输出：[1]\n",
    "```\n",
    "\n",
    "#### 提示：\n",
    "- 链表中节点的数目在范围 [0, 100] 内\n",
    "- 0 <= Node.val <= 100"
   ]
  },
  {
   "cell_type": "code",
   "execution_count": 30,
   "id": "welsh-burning",
   "metadata": {},
   "outputs": [],
   "source": [
    "from typing import List\n",
    "\n",
    "class ListNode:\n",
    "    def __init__(self, val=0, next=None):\n",
    "        self.val = val\n",
    "        self.next = next\n",
    "        \n",
    "    @staticmethod\n",
    "    def fromList(nums: List[int]):\n",
    "        n, head = len(nums), ListNode(nums[0])\n",
    "        node = head\n",
    "        for i in range(1, n):\n",
    "            node.next = ListNode(nums[i])\n",
    "            node = node.next\n",
    "        return head\n",
    "    \n",
    "    def __str__(self):\n",
    "        s = str(self.val)\n",
    "        node = self.next\n",
    "        i = 0\n",
    "        while node:\n",
    "            s += \" -> \" + str(node.val)\n",
    "            node = node.next\n",
    "            if i > 20:\n",
    "                s += '->...'\n",
    "                break\n",
    "            i += 1\n",
    "        return s\n",
    "        \n",
    "class Solution:\n",
    "    def swapPairs(self, head: ListNode) -> ListNode:\n",
    "        if not head or not head.next:\n",
    "            return head\n",
    "        \n",
    "        dummyHead = ListNode(0, head)\n",
    "        prev, curr, nxt = dummyHead, dummyHead.next, dummyHead.next.next\n",
    "        \n",
    "        while nxt:\n",
    "            tmp = nxt.next\n",
    "            prev.next = nxt\n",
    "            nxt.next = curr\n",
    "            prev = curr\n",
    "            curr = tmp\n",
    "            if not curr:\n",
    "                break\n",
    "            nxt = curr.next\n",
    "        \n",
    "        prev.next = curr\n",
    "        return dummyHead.next"
   ]
  },
  {
   "cell_type": "code",
   "execution_count": 31,
   "id": "advanced-branch",
   "metadata": {},
   "outputs": [
    {
     "name": "stdout",
     "output_type": "stream",
     "text": [
      "1 -> 2 -> 3 -> 4\n",
      "2 -> 1 -> 4 -> 3\n"
     ]
    }
   ],
   "source": [
    "head = ListNode.fromList([1, 2, 3, 4])\n",
    "print(head)\n",
    "print(Solution().swapPairs(head))"
   ]
  },
  {
   "cell_type": "code",
   "execution_count": 32,
   "id": "noble-suspension",
   "metadata": {},
   "outputs": [
    {
     "name": "stdout",
     "output_type": "stream",
     "text": [
      "1 -> 2 -> 3 -> 4 -> 5 -> 6 -> 7\n",
      "2 -> 1 -> 4 -> 3 -> 6 -> 5 -> 7\n"
     ]
    }
   ],
   "source": [
    "head = ListNode.fromList([1, 2, 3, 4, 5, 6, 7])\n",
    "print(head)\n",
    "print(Solution().swapPairs(head))"
   ]
  },
  {
   "cell_type": "code",
   "execution_count": 33,
   "id": "handy-option",
   "metadata": {},
   "outputs": [
    {
     "name": "stdout",
     "output_type": "stream",
     "text": [
      "1 -> 2 -> 3 -> 4 -> 5 -> 6\n",
      "2 -> 1 -> 4 -> 3 -> 6 -> 5\n"
     ]
    }
   ],
   "source": [
    "head = ListNode.fromList([1, 2, 3, 4, 5, 6])\n",
    "print(head)\n",
    "print(Solution().swapPairs(head))"
   ]
  }
 ],
 "metadata": {
  "kernelspec": {
   "display_name": "Python 3",
   "language": "python",
   "name": "python3"
  },
  "language_info": {
   "codemirror_mode": {
    "name": "ipython",
    "version": 3
   },
   "file_extension": ".py",
   "mimetype": "text/x-python",
   "name": "python",
   "nbconvert_exporter": "python",
   "pygments_lexer": "ipython3",
   "version": "3.8.6"
  }
 },
 "nbformat": 4,
 "nbformat_minor": 5
}
