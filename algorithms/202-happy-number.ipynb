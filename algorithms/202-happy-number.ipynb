{
 "cells": [
  {
   "cell_type": "markdown",
   "id": "rapid-soccer",
   "metadata": {},
   "source": [
    "### [快乐数](https://leetcode-cn.com/problems/happy-number/)\n",
    "\n",
    "编写一个算法来判断一个数 n 是不是快乐数。\n",
    "\n",
    "「快乐数」定义为：\n",
    "\n",
    "- 对于一个正整数，每一次将该数替换为它每个位置上的数字的平方和。\n",
    "- 然后重复这个过程直到这个数变为 1，也可能是 无限循环 但始终变不到 1。\n",
    "- 如果 可以变为  1，那么这个数就是快乐数。\n",
    "- 如果 n 是快乐数就返回 true ；不是，则返回 false 。\n",
    "\n",
    "#### 示例 1：\n",
    "\n",
    "```\n",
    "输入：19\n",
    "输出：true\n",
    "```\n",
    "##### 解释：\n",
    "- $ 1^2 + 9^2 = 82 $\n",
    "- $ 8^2 + 2^2 = 68 $\n",
    "- $ 6^2 + 8^2 = 100 $\n",
    "- $ 1^2 + 0^2 + 0^2 = 1 $\n",
    "\n",
    "#### 示例 2：\n",
    "```\n",
    "输入：n = 2\n",
    "输出：false\n",
    "```\n",
    "\n",
    "#### 提示：\n",
    "- $ 1 <= n <= 2^{31} - 1 $"
   ]
  },
  {
   "cell_type": "code",
   "execution_count": 12,
   "id": "sapphire-shelter",
   "metadata": {},
   "outputs": [],
   "source": [
    "def isHappy(n: int) -> bool:\n",
    "    s = set()\n",
    "    \n",
    "    def nextNumer(num):\n",
    "        ret = 0\n",
    "        quotient = num\n",
    "        while quotient > 0:\n",
    "            quotient, remainder = divmod(quotient, 10)\n",
    "            ret += remainder ** 2\n",
    "        return ret\n",
    "    \n",
    "    while True:\n",
    "        n = nextNumer(n)\n",
    "        if n == 1:\n",
    "            return True\n",
    "        elif n in s:\n",
    "            return False\n",
    "        else:\n",
    "            s.add(n)"
   ]
  },
  {
   "cell_type": "code",
   "execution_count": 13,
   "id": "ambient-rental",
   "metadata": {},
   "outputs": [
    {
     "data": {
      "text/plain": [
       "True"
      ]
     },
     "execution_count": 13,
     "metadata": {},
     "output_type": "execute_result"
    }
   ],
   "source": [
    "isHappy(19)"
   ]
  },
  {
   "cell_type": "code",
   "execution_count": 14,
   "id": "excessive-quantity",
   "metadata": {},
   "outputs": [
    {
     "data": {
      "text/plain": [
       "False"
      ]
     },
     "execution_count": 14,
     "metadata": {},
     "output_type": "execute_result"
    }
   ],
   "source": [
    "isHappy(37)"
   ]
  },
  {
   "cell_type": "code",
   "execution_count": null,
   "id": "cognitive-track",
   "metadata": {},
   "outputs": [],
   "source": []
  }
 ],
 "metadata": {
  "kernelspec": {
   "display_name": "Python 3",
   "language": "python",
   "name": "python3"
  },
  "language_info": {
   "codemirror_mode": {
    "name": "ipython",
    "version": 3
   },
   "file_extension": ".py",
   "mimetype": "text/x-python",
   "name": "python",
   "nbconvert_exporter": "python",
   "pygments_lexer": "ipython3",
   "version": "3.8.6"
  }
 },
 "nbformat": 4,
 "nbformat_minor": 5
}
