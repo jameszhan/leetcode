{
 "cells": [
  {
   "cell_type": "markdown",
   "id": "present-breed",
   "metadata": {},
   "source": [
    "### [转置矩阵](https://leetcode-cn.com/problems/transpose-matrix/)\n",
    "\n",
    "给定一个矩阵`A`， 返回`A`的转置矩阵。\n",
    "\n",
    "矩阵的转置是指将矩阵的主对角线翻转，交换矩阵的行索引与列索引。\n",
    "\n",
    "#### 示例 1：\n",
    "```\n",
    "输入：[[1,2,3],[4,5,6],[7,8,9]]\n",
    "输出：[[1,4,7],[2,5,8],[3,6,9]]\n",
    "```\n",
    "\n",
    "#### 示例 2：\n",
    "```\n",
    "输入：[[1,2,3],[4,5,6]]\n",
    "输出：[[1,4],[2,5],[3,6]]\n",
    "```\n",
    "\n",
    "#### 提示：\n",
    "\n",
    "- `1 <= A.length <= 1000`\n",
    "- `1 <= A[0].length <= 1000`"
   ]
  },
  {
   "cell_type": "code",
   "execution_count": 5,
   "id": "seven-digit",
   "metadata": {},
   "outputs": [],
   "source": [
    "from typing import List\n",
    "\n",
    "def transpose(matrix: List[List[int]]) -> List[List[int]]:\n",
    "    m, n = len(matrix), len(matrix[0])\n",
    "    t = [[0 for _ in range(m)] for _ in range(n)]\n",
    "    \n",
    "    for i in range(m):\n",
    "        for j in range(n):\n",
    "            t[j][i] = matrix[i][j]\n",
    "            \n",
    "    return t"
   ]
  },
  {
   "cell_type": "code",
   "execution_count": 6,
   "id": "medium-chuck",
   "metadata": {},
   "outputs": [
    {
     "data": {
      "text/plain": [
       "[[1, 4, 7], [2, 5, 8], [3, 6, 9]]"
      ]
     },
     "execution_count": 6,
     "metadata": {},
     "output_type": "execute_result"
    }
   ],
   "source": [
    "transpose([[1,2,3],[4,5,6],[7,8,9]])"
   ]
  },
  {
   "cell_type": "code",
   "execution_count": 7,
   "id": "valued-skiing",
   "metadata": {},
   "outputs": [
    {
     "data": {
      "text/plain": [
       "[[1, 4], [2, 5], [3, 6]]"
      ]
     },
     "execution_count": 7,
     "metadata": {},
     "output_type": "execute_result"
    }
   ],
   "source": [
    "transpose([[1,2,3],[4,5,6]])"
   ]
  },
  {
   "cell_type": "code",
   "execution_count": null,
   "id": "electoral-gazette",
   "metadata": {},
   "outputs": [],
   "source": []
  }
 ],
 "metadata": {
  "kernelspec": {
   "display_name": "Python 3",
   "language": "python",
   "name": "python3"
  },
  "language_info": {
   "codemirror_mode": {
    "name": "ipython",
    "version": 3
   },
   "file_extension": ".py",
   "mimetype": "text/x-python",
   "name": "python",
   "nbconvert_exporter": "python",
   "pygments_lexer": "ipython3",
   "version": "3.8.6"
  }
 },
 "nbformat": 4,
 "nbformat_minor": 5
}
