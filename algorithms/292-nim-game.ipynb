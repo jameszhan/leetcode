{
 "cells": [
  {
   "cell_type": "markdown",
   "id": "large-prototype",
   "metadata": {},
   "source": [
    "### [Nim 游戏](https://leetcode-cn.com/problems/nim-game/)\n",
    "\n",
    "你和你的朋友，两个人一起玩 Nim 游戏：\n",
    "\n",
    "- 桌子上有一堆石头。\n",
    "- 你们轮流进行自己的回合，你作为先手。\n",
    "- 每一回合，轮到的人拿掉 1 - 3 块石头。\n",
    "- 拿掉最后一块石头的人就是获胜者。\n",
    "\n",
    "假设你们每一步都是最优解。请编写一个函数，来判断你是否可以在给定石头数量为 n 的情况下赢得游戏。如果可以赢，返回 true；否则，返回 false 。\n",
    "\n",
    "#### 示例 1：\n",
    "```\n",
    "输入：n = 4\n",
    "输出：false \n",
    "解释：如果堆中有 4 块石头，那么你永远不会赢得比赛；\n",
    "     因为无论你拿走 1 块、2 块 还是 3 块石头，最后一块石头总是会被你的朋友拿走。\n",
    "```\n",
    "\n",
    "#### 示例 2：\n",
    "```\n",
    "输入：n = 1\n",
    "输出：true\n",
    "```\n",
    "\n",
    "#### 示例 3：\n",
    "```\n",
    "输入：n = 2\n",
    "输出：true\n",
    "```\n",
    "\n",
    "#### 提示：\n",
    "- $ 1 <= n <= 2^{31} - 1 $ \n"
   ]
  },
  {
   "cell_type": "code",
   "execution_count": 1,
   "id": "timely-swaziland",
   "metadata": {},
   "outputs": [],
   "source": [
    "# 其实很简单，当你拿完保证剩下的数目要大于3，也就是每轮给对手留4的倍数，你总能有必胜的策略\n",
    "\n",
    "def canWinNim(self, n: int) -> bool:\n",
    "    if n <= 3:\n",
    "        return True\n",
    "    \n",
    "    return n % 4 != 0"
   ]
  },
  {
   "cell_type": "code",
   "execution_count": null,
   "id": "connected-field",
   "metadata": {},
   "outputs": [],
   "source": []
  }
 ],
 "metadata": {
  "kernelspec": {
   "display_name": "Python 3",
   "language": "python",
   "name": "python3"
  },
  "language_info": {
   "codemirror_mode": {
    "name": "ipython",
    "version": 3
   },
   "file_extension": ".py",
   "mimetype": "text/x-python",
   "name": "python",
   "nbconvert_exporter": "python",
   "pygments_lexer": "ipython3",
   "version": "3.8.6"
  }
 },
 "nbformat": 4,
 "nbformat_minor": 5
}
