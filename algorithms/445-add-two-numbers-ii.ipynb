{
 "cells": [
  {
   "cell_type": "markdown",
   "id": "honest-statistics",
   "metadata": {},
   "source": [
    "### [两数相加 II](https://leetcode-cn.com/problems/add-two-numbers-ii/)\n",
    "\n",
    "给你两个**非空**链表来代表两个非负整数。数字最高位位于链表开始位置。它们的每个节点只存储一位数字。将这两数相加会返回一个新的链表。\n",
    "\n",
    "你可以假设除了数字`0`之外，这两个数字都不会以零开头。\n",
    "\n",
    "#### 进阶：\n",
    "如果输入链表不能修改该如何处理？换句话说，你不能对列表中的节点进行翻转。\n",
    "\n",
    "#### 示例：\n",
    "```\n",
    "输入：(7 -> 2 -> 4 -> 3) + (5 -> 6 -> 4)\n",
    "输出：7 -> 8 -> 0 -> 7\n",
    "```"
   ]
  },
  {
   "cell_type": "code",
   "execution_count": null,
   "id": "ecological-interim",
   "metadata": {},
   "outputs": [],
   "source": [
    "class ListNode:\n",
    "    def __init__(self, x):\n",
    "        self.val = x\n",
    "        self.next = None\n",
    "\n",
    "class Solution:\n",
    "    def addTwoNumbers(self, l1: ListNode, l2: ListNode) -> ListNode:\n",
    "        s1, s2 = [], []\n",
    "        while l1 is not None:\n",
    "            s1.append(l1.val)\n",
    "            l1 = l1.next\n",
    "        while l2 is not None:\n",
    "            s2.append(l2.val)\n",
    "            l2 = l2.next\n",
    "        \n",
    "        carry, ans = 0, None\n",
    "        while s1 or s2:\n",
    "            v1 = s1.pop() if s1 else 0\n",
    "            v2 = s2.pop() if s2 else 0\n",
    "            v = v1 + v2 + carry\n",
    "            \n",
    "            if v >= 10:\n",
    "                carry = 1\n",
    "                v = v % 10\n",
    "            else:\n",
    "                carry = 0\n",
    "                \n",
    "            node = ListNode(v)\n",
    "            node.next = ans\n",
    "            ans = node\n",
    "        \n",
    "        if carry > 0:\n",
    "            node = ListNode(carry)\n",
    "            node.next = ans\n",
    "            ans = node\n",
    "        \n",
    "        return ans"
   ]
  }
 ],
 "metadata": {
  "kernelspec": {
   "display_name": "Python 3",
   "language": "python",
   "name": "python3"
  },
  "language_info": {
   "codemirror_mode": {
    "name": "ipython",
    "version": 3
   },
   "file_extension": ".py",
   "mimetype": "text/x-python",
   "name": "python",
   "nbconvert_exporter": "python",
   "pygments_lexer": "ipython3",
   "version": "3.8.6"
  }
 },
 "nbformat": 4,
 "nbformat_minor": 5
}
