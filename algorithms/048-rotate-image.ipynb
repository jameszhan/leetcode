{
 "cells": [
  {
   "cell_type": "markdown",
   "id": "failing-potential",
   "metadata": {},
   "source": [
    "### [旋转图像](https://leetcode-cn.com/problems/rotate-image/)\n",
    "\n",
    "给定一个`n × n`的二维矩阵`matrix`表示一个图像。请你将图像顺时针旋转`90`度。\n",
    "\n",
    "你必须在 原地 旋转图像，这意味着你需要直接修改输入的二维矩阵。请不要 使用另一个矩阵来旋转图像。\n",
    "\n",
    "#### 示例 1：\n",
    "```\n",
    "输入：matrix = [[1,2,3],[4,5,6],[7,8,9]]\n",
    "输出：[[7,4,1],[8,5,2],[9,6,3]]\n",
    "```\n",
    "\n",
    "示例 2：\n",
    "```\n",
    "输入：matrix = [[5,1,9,11],[2,4,8,10],[13,3,6,7],[15,14,12,16]]\n",
    "输出：[[15,13,2,5],[14,3,4,1],[12,6,8,9],[16,7,10,11]]\n",
    "```\n",
    "\n",
    "#### 示例 3：\n",
    "```\n",
    "输入：matrix = [[1]]\n",
    "输出：[[1]]\n",
    "```\n",
    "\n",
    "#### 示例 4：\n",
    "```\n",
    "输入：matrix = [[1,2],[3,4]]\n",
    "输出：[[3,1],[4,2]]\n",
    "```\n",
    "\n",
    "#### 提示：\n",
    "- `matrix.length == n`\n",
    "- `matrix[i].length == n`\n",
    "- `1 <= n <= 20`\n",
    "- `-1000 <= matrix[i][j] <= 1000`"
   ]
  },
  {
   "cell_type": "code",
   "execution_count": 14,
   "id": "regular-quebec",
   "metadata": {},
   "outputs": [],
   "source": [
    "from typing import List\n",
    "\n",
    "def rotate(matrix: List[List[int]]) -> List[List[int]]:\n",
    "    n = len(matrix)\n",
    "    image = [[0 for _ in range(n)] for _ in range(n)]\n",
    "    for i in range(n):\n",
    "        for j in range(n):\n",
    "            image[i][j] = matrix[n - j - 1][i]\n",
    "    return image"
   ]
  },
  {
   "cell_type": "code",
   "execution_count": 12,
   "id": "advanced-shopper",
   "metadata": {},
   "outputs": [
    {
     "data": {
      "text/plain": [
       "[[7, 4, 1], [8, 5, 2], [9, 6, 3]]"
      ]
     },
     "execution_count": 12,
     "metadata": {},
     "output_type": "execute_result"
    }
   ],
   "source": [
    "rotate([[1,2,3],[4,5,6],[7,8,9]])"
   ]
  },
  {
   "cell_type": "code",
   "execution_count": 13,
   "id": "characteristic-episode",
   "metadata": {},
   "outputs": [
    {
     "data": {
      "text/plain": [
       "[[15, 13, 2, 5], [14, 3, 4, 1], [12, 6, 8, 9], [16, 7, 10, 11]]"
      ]
     },
     "execution_count": 13,
     "metadata": {},
     "output_type": "execute_result"
    }
   ],
   "source": [
    "rotate([[5,1,9,11],[2,4,8,10],[13,3,6,7],[15,14,12,16]])"
   ]
  },
  {
   "cell_type": "code",
   "execution_count": 15,
   "id": "sticky-circular",
   "metadata": {},
   "outputs": [
    {
     "data": {
      "text/plain": [
       "[[1]]"
      ]
     },
     "execution_count": 15,
     "metadata": {},
     "output_type": "execute_result"
    }
   ],
   "source": [
    "rotate([[1]])"
   ]
  },
  {
   "cell_type": "code",
   "execution_count": 16,
   "id": "polyphonic-shore",
   "metadata": {},
   "outputs": [
    {
     "data": {
      "text/plain": [
       "[[3, 1], [4, 2]]"
      ]
     },
     "execution_count": 16,
     "metadata": {},
     "output_type": "execute_result"
    }
   ],
   "source": [
    "rotate([[1,2],[3,4]])"
   ]
  },
  {
   "cell_type": "code",
   "execution_count": 18,
   "id": "clean-wings",
   "metadata": {},
   "outputs": [],
   "source": [
    "def inPlaceRotate(matrix: List[List[int]]) -> None:\n",
    "    \"\"\"\n",
    "    Do not return anything, modify matrix in-place instead.\n",
    "    \"\"\"\n",
    "    image = rotate(matrix)\n",
    "    for i in range(n):\n",
    "        for j in range(n):\n",
    "            matrix[i][j] = image[i][j]\n",
    "    return image"
   ]
  },
  {
   "cell_type": "code",
   "execution_count": null,
   "id": "black-register",
   "metadata": {},
   "outputs": [],
   "source": []
  },
  {
   "cell_type": "code",
   "execution_count": null,
   "id": "known-tutorial",
   "metadata": {},
   "outputs": [],
   "source": []
  }
 ],
 "metadata": {
  "kernelspec": {
   "display_name": "Python 3",
   "language": "python",
   "name": "python3"
  },
  "language_info": {
   "codemirror_mode": {
    "name": "ipython",
    "version": 3
   },
   "file_extension": ".py",
   "mimetype": "text/x-python",
   "name": "python",
   "nbconvert_exporter": "python",
   "pygments_lexer": "ipython3",
   "version": "3.8.6"
  }
 },
 "nbformat": 4,
 "nbformat_minor": 5
}
