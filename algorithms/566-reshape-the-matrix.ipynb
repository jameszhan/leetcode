{
 "cells": [
  {
   "cell_type": "markdown",
   "id": "floating-violation",
   "metadata": {},
   "source": [
    "### [重塑矩阵](https://leetcode-cn.com/problems/reshape-the-matrix/)\n",
    "\n",
    "在MATLAB中，有一个非常有用的函数`reshape`，它可以将一个矩阵重塑为另一个大小不同的新矩阵，但保留其原始数据。\n",
    "\n",
    "给出一个由二维数组表示的矩阵，以及两个正整数r和c，分别表示想要的重构的矩阵的行数和列数。\n",
    "\n",
    "重构后的矩阵需要将原始矩阵的所有元素以相同的行遍历顺序填充。\n",
    "\n",
    "如果具有给定参数的`reshape`操作是可行且合理的，则输出新的重塑矩阵；否则，输出原始矩阵。\n",
    "\n",
    "#### 示例 1:\n",
    "```\n",
    "输入: \n",
    "nums = [\n",
    "    [1,2],\n",
    "    [3,4]\n",
    "]\n",
    "r = 1, c = 4\n",
    "输出: \n",
    "[[1,2,3,4]]\n",
    "解释:\n",
    "行遍历nums的结果是 [1,2,3,4]。新的矩阵是 1 * 4 矩阵, 用之前的元素值一行一行填充新矩阵。\n",
    "```\n",
    "\n",
    "#### 示例 2:\n",
    "```\n",
    "输入: \n",
    "nums = [\n",
    " [1,2],\n",
    " [3,4]\n",
    "]\n",
    "r = 2, c = 4\n",
    "输出: \n",
    "[\n",
    " [1,2],\n",
    " [3,4]\n",
    "]\n",
    "解释:\n",
    "没有办法将 2 * 2 矩阵转化为 2 * 4 矩阵。 所以输出原矩阵。\n",
    "```\n",
    "\n",
    "#### 注意：\n",
    "- 给定矩阵的宽和高范围在`[1, 100]`。\n",
    "- 给定的`r`和`c`都是正数。"
   ]
  },
  {
   "cell_type": "code",
   "execution_count": 2,
   "id": "medical-booth",
   "metadata": {},
   "outputs": [],
   "source": [
    "from typing import List\n",
    "def matrixReshape(nums: List[List[int]], r: int, c: int) -> List[List[int]]:\n",
    "    if not (nums and nums[0]):\n",
    "        return nums\n",
    "    \n",
    "    m, n = len(nums), len(nums[0])\n",
    "    if m * n != r * c:\n",
    "        return nums\n",
    "    \n",
    "    mat = [[0 for _ in range(c)] for _ in range(r)]\n",
    "    for i in range(r):\n",
    "        for j in range(c):\n",
    "            k = i * c + j\n",
    "            x = k // n\n",
    "            y = k % n\n",
    "            mat[i][j] = nums[x][y]\n",
    "            \n",
    "    return mat"
   ]
  },
  {
   "cell_type": "code",
   "execution_count": 3,
   "id": "raising-dietary",
   "metadata": {},
   "outputs": [
    {
     "data": {
      "text/plain": [
       "[[1, 2, 3, 4]]"
      ]
     },
     "execution_count": 3,
     "metadata": {},
     "output_type": "execute_result"
    }
   ],
   "source": [
    "nums = [\n",
    "    [1,2],\n",
    "    [3,4]\n",
    "]\n",
    "matrixReshape(nums, 1, 4)"
   ]
  },
  {
   "cell_type": "code",
   "execution_count": 5,
   "id": "voluntary-timing",
   "metadata": {},
   "outputs": [
    {
     "data": {
      "text/plain": [
       "[[1, 2], [3, 4], [5, 6], [7, 8]]"
      ]
     },
     "execution_count": 5,
     "metadata": {},
     "output_type": "execute_result"
    }
   ],
   "source": [
    "nums = [\n",
    "    [1, 2, 3, 4],\n",
    "    [5, 6, 7, 8]\n",
    "]\n",
    "matrixReshape(nums, 4, 2)"
   ]
  }
 ],
 "metadata": {
  "kernelspec": {
   "display_name": "Python 3",
   "language": "python",
   "name": "python3"
  },
  "language_info": {
   "codemirror_mode": {
    "name": "ipython",
    "version": 3
   },
   "file_extension": ".py",
   "mimetype": "text/x-python",
   "name": "python",
   "nbconvert_exporter": "python",
   "pygments_lexer": "ipython3",
   "version": "3.8.6"
  }
 },
 "nbformat": 4,
 "nbformat_minor": 5
}
