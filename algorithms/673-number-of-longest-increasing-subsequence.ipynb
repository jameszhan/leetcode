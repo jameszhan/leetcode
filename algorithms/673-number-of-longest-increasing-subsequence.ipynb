{
 "cells": [
  {
   "cell_type": "markdown",
   "id": "familiar-float",
   "metadata": {},
   "source": [
    "### [最长递增子序列的个数](https://leetcode-cn.com/problems/number-of-longest-increasing-subsequence/)\n",
    "\n",
    "给定一个未排序的整数数组，找到最长递增子序列的个数。\n",
    "\n",
    "#### 示例 1:\n",
    "```\n",
    "输入: [1,3,5,4,7]\n",
    "输出: 2\n",
    "解释: 有两个最长递增子序列，分别是 [1, 3, 4, 7] 和[1, 3, 5, 7]。\n",
    "```\n",
    "\n",
    "#### 示例 2:\n",
    "```\n",
    "输入: [2,2,2,2,2]\n",
    "输出: 5\n",
    "解释: 最长递增子序列的长度是1，并且存在5个子序列的长度为1，因此输出5。\n",
    "```\n",
    "\n",
    "**注意**: 给定的数组长度不超过`2000`并且结果一定是`32`位有符号整数。"
   ]
  },
  {
   "cell_type": "code",
   "execution_count": 76,
   "id": "solid-metropolitan",
   "metadata": {},
   "outputs": [],
   "source": [
    "from typing import List\n",
    "\n",
    "def findNumberOfLIS(nums: List[int]) -> int:\n",
    "    n = len(nums)\n",
    "    if n <= 1:\n",
    "        return n\n",
    "    \n",
    "    counts = [1 for _ in range(n)]\n",
    "    dp = [1 for _ in range(n)]\n",
    "    \n",
    "    for i in range(1, n):\n",
    "        for j in range(i):\n",
    "            if nums[i] > nums[j]:\n",
    "                if dp[j] + 1 > dp[i]:         # 正常增长序列\n",
    "                    counts[i] = counts[j]\n",
    "                elif dp[i] == dp[j] + 1:      # 上一阶段路径\n",
    "                    counts[i] += counts[j]\n",
    "                dp[i] = max(dp[j] + 1, dp[i])\n",
    "\n",
    "    longest, ans = max(dp), 0\n",
    "    for i in range(n):\n",
    "        if dp[i] == longest:\n",
    "            ans += counts[i]\n",
    "    return ans"
   ]
  },
  {
   "cell_type": "code",
   "execution_count": 77,
   "id": "developed-account",
   "metadata": {},
   "outputs": [
    {
     "data": {
      "text/plain": [
       "2"
      ]
     },
     "execution_count": 77,
     "metadata": {},
     "output_type": "execute_result"
    }
   ],
   "source": [
    "findNumberOfLIS([1,3,5,4,7])"
   ]
  },
  {
   "cell_type": "code",
   "execution_count": 78,
   "id": "later-advance",
   "metadata": {},
   "outputs": [
    {
     "data": {
      "text/plain": [
       "5"
      ]
     },
     "execution_count": 78,
     "metadata": {},
     "output_type": "execute_result"
    }
   ],
   "source": [
    "findNumberOfLIS([2,2,2,2,2])"
   ]
  },
  {
   "cell_type": "code",
   "execution_count": 79,
   "id": "innocent-conviction",
   "metadata": {},
   "outputs": [
    {
     "data": {
      "text/plain": [
       "3"
      ]
     },
     "execution_count": 79,
     "metadata": {},
     "output_type": "execute_result"
    }
   ],
   "source": [
    "findNumberOfLIS([1,2,4,3,5,4,7,2])"
   ]
  },
  {
   "cell_type": "code",
   "execution_count": 80,
   "id": "organizational-circumstances",
   "metadata": {},
   "outputs": [
    {
     "data": {
      "text/plain": [
       "10"
      ]
     },
     "execution_count": 80,
     "metadata": {},
     "output_type": "execute_result"
    }
   ],
   "source": [
    "findNumberOfLIS([1,2,3,1,2,3,1,2,3])"
   ]
  }
 ],
 "metadata": {
  "kernelspec": {
   "display_name": "Python 3",
   "language": "python",
   "name": "python3"
  },
  "language_info": {
   "codemirror_mode": {
    "name": "ipython",
    "version": 3
   },
   "file_extension": ".py",
   "mimetype": "text/x-python",
   "name": "python",
   "nbconvert_exporter": "python",
   "pygments_lexer": "ipython3",
   "version": "3.8.6"
  }
 },
 "nbformat": 4,
 "nbformat_minor": 5
}
