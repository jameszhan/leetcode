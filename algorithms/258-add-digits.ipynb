{
 "cells": [
  {
   "cell_type": "markdown",
   "id": "gorgeous-japan",
   "metadata": {},
   "source": [
    "### [各位相加](https://leetcode-cn.com/problems/add-digits/)\n",
    "\n",
    "给定一个非负整数`num`，反复将各个位上的数字相加，直到结果为一位数。\n",
    "\n",
    "#### 示例:\n",
    "```\n",
    "输入: 38\n",
    "输出: 2 \n",
    "解释: 各位相加的过程为：3 + 8 = 11, 1 + 1 = 2。 由于 2 是一位数，所以返回 2。\n",
    "```\n",
    "\n",
    "#### 进阶:\n",
    "- 你可以不使用循环或者递归，且在`O(1)`时间复杂度内解决这个问题吗？"
   ]
  },
  {
   "cell_type": "markdown",
   "id": "original-convergence",
   "metadata": {},
   "source": [
    "#### O(1) 解题思路\n",
    "- 除个位外，每一位上的值都是通过 (9+1) 进位的过程得到的，想一下 拨算盘进位\n",
    "- 把整数 n 看成 n 样物品，原本是以 10 个 1 份打包的，现在从这些 10 个 1 份打包好的里面，拿出 1 个，让它们以 9 个为 1 份打包。\n",
    "- 这样就出现了两部分的东西：\n",
    "    - 原本 10 个现在 9 个 1 份的，打包好的物品，这些，我们不用管\n",
    "    - 零散的物品，它们还可以分成：\n",
    "        - 从原来打包的里面拿出来的物品，它们的总和 =》 原来打包好的份数 =》 10进制进位的次数 =》 10 进制下，除个位外其他位上的值的总和\n",
    "        - 以 10 个 1 份打包时，打不进去的零散物品 =》 10 进制个位上的值\n",
    "- 如上零散物品的总数，就是第一次处理 num 后得到的累加值\n",
    "- 如果这个累加值 >9，那么如题就还需要将各个位上的值再相加，直到结果为个位数为止。也就意味着还需要来一遍如上的过程。\n",
    "- 那么按照如上的思路，似乎可以通过 n % 9 得到最后的值\n",
    "- 但是有1个关键的问题，如果 num 是 9 的倍数，那么就不适用上述逻辑。原本我是想得到 n 被打包成 10 个 1 份的份数+打不进 10 个 1 份的散落个数的和。通过与 9 取模，去获得那个不能整除的 1，作为计算份数的方式，但是如果可以被 9 整除，我就无法得到那个 1，也得不到个位上的数。\n",
    "- 所以需要做一下特殊处理，(num - 1) % 9 + 1\n",
    "- 可以这么做的原因：原本可以被完美分成 9 个为一份的 n 样物品，我故意去掉一个，那么就又可以回到上述逻辑中去得到我要的n 被打包成 10 个一份的份数+打不进 10 个一份的散落个数的和。而这个减去的 1 就相当于从，在 10 个 1 份打包的时候散落的个数中借走的，本来就不影响原来 10 个 1 份打包的份数，先拿走再放回来，都只影响散落的个数，所以没有关系。"
   ]
  },
  {
   "cell_type": "code",
   "execution_count": 5,
   "id": "leading-psychology",
   "metadata": {},
   "outputs": [],
   "source": [
    "def addDigits(num: int) -> int:\n",
    "    return (num - 1) % 9 + 1"
   ]
  },
  {
   "cell_type": "code",
   "execution_count": 6,
   "id": "alpha-restaurant",
   "metadata": {},
   "outputs": [
    {
     "data": {
      "text/plain": [
       "2"
      ]
     },
     "execution_count": 6,
     "metadata": {},
     "output_type": "execute_result"
    }
   ],
   "source": [
    "addDigits(38)"
   ]
  },
  {
   "cell_type": "code",
   "execution_count": null,
   "id": "prime-delhi",
   "metadata": {},
   "outputs": [],
   "source": []
  }
 ],
 "metadata": {
  "kernelspec": {
   "display_name": "Python 3",
   "language": "python",
   "name": "python3"
  },
  "language_info": {
   "codemirror_mode": {
    "name": "ipython",
    "version": 3
   },
   "file_extension": ".py",
   "mimetype": "text/x-python",
   "name": "python",
   "nbconvert_exporter": "python",
   "pygments_lexer": "ipython3",
   "version": "3.8.6"
  }
 },
 "nbformat": 4,
 "nbformat_minor": 5
}
