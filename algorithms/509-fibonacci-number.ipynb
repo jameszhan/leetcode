{
 "cells": [
  {
   "cell_type": "markdown",
   "id": "several-rubber",
   "metadata": {},
   "source": [
    "斐波那契数，通常用`F(n)`表示，形成的序列称为 斐波那契数列。该数列由`0`和`1`开始，后面的每一项数字都是前面两项数字的和。也就是：\n",
    "```\n",
    "F(0) = 0，F(1) = 1\n",
    "F(n) = F(n - 1) + F(n - 2)，其中 n > 1\n",
    "给你 n ，请计算 F(n)。\n",
    "```\n",
    "\n",
    "#### 示例 1：\n",
    "```\n",
    "输入：2\n",
    "输出：1\n",
    "解释：F(2) = F(1) + F(0) = 1 + 0 = 1\n",
    "```\n",
    "\n",
    "#### 示例 2：\n",
    "```\n",
    "输入：3\n",
    "输出：2\n",
    "解释：F(3) = F(2) + F(1) = 1 + 1 = 2\n",
    "```\n",
    "\n",
    "#### 示例 3：\n",
    "```\n",
    "输入：4\n",
    "输出：3\n",
    "解释：F(4) = F(3) + F(2) = 2 + 1 = 3\n",
    "```"
   ]
  },
  {
   "cell_type": "code",
   "execution_count": 1,
   "id": "southwest-translator",
   "metadata": {},
   "outputs": [],
   "source": [
    "def fib(n: int) -> int:\n",
    "    cache = {}\n",
    "    def solve(n: int) -> int:\n",
    "        if n <= 0:\n",
    "            return 0\n",
    "        elif n == 1:\n",
    "            return 1\n",
    "        else:\n",
    "            if n - 1 not in cache:\n",
    "                cache[n - 1] = solve(n - 1)\n",
    "            if n - 2 not in cache:\n",
    "                cache[n - 2] = solve(n - 2)\n",
    "            return cache[n - 1] + cache[n - 2]\n",
    "                \n",
    "    return solve(n)"
   ]
  },
  {
   "cell_type": "code",
   "execution_count": 2,
   "id": "empirical-stress",
   "metadata": {},
   "outputs": [
    {
     "data": {
      "text/plain": [
       "0"
      ]
     },
     "execution_count": 2,
     "metadata": {},
     "output_type": "execute_result"
    }
   ],
   "source": [
    "fib(0)"
   ]
  },
  {
   "cell_type": "code",
   "execution_count": 3,
   "id": "imposed-breath",
   "metadata": {},
   "outputs": [
    {
     "data": {
      "text/plain": [
       "1"
      ]
     },
     "execution_count": 3,
     "metadata": {},
     "output_type": "execute_result"
    }
   ],
   "source": [
    "fib(2)"
   ]
  },
  {
   "cell_type": "code",
   "execution_count": 4,
   "id": "pointed-launch",
   "metadata": {},
   "outputs": [
    {
     "data": {
      "text/plain": [
       "2"
      ]
     },
     "execution_count": 4,
     "metadata": {},
     "output_type": "execute_result"
    }
   ],
   "source": [
    "fib(3)"
   ]
  },
  {
   "cell_type": "code",
   "execution_count": 5,
   "id": "scenic-affairs",
   "metadata": {},
   "outputs": [
    {
     "data": {
      "text/plain": [
       "3"
      ]
     },
     "execution_count": 5,
     "metadata": {},
     "output_type": "execute_result"
    }
   ],
   "source": [
    "fib(4)"
   ]
  },
  {
   "cell_type": "code",
   "execution_count": 6,
   "id": "starting-sleep",
   "metadata": {},
   "outputs": [
    {
     "data": {
      "text/plain": [
       "354224848179261915075"
      ]
     },
     "execution_count": 6,
     "metadata": {},
     "output_type": "execute_result"
    }
   ],
   "source": [
    "fib(100)"
   ]
  }
 ],
 "metadata": {
  "kernelspec": {
   "display_name": "Python 3",
   "language": "python",
   "name": "python3"
  },
  "language_info": {
   "codemirror_mode": {
    "name": "ipython",
    "version": 3
   },
   "file_extension": ".py",
   "mimetype": "text/x-python",
   "name": "python",
   "nbconvert_exporter": "python",
   "pygments_lexer": "ipython3",
   "version": "3.8.6"
  }
 },
 "nbformat": 4,
 "nbformat_minor": 5
}
