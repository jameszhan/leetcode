{
 "cells": [
  {
   "cell_type": "markdown",
   "id": "broken-lawsuit",
   "metadata": {},
   "source": [
    "### [搜索二维矩阵](https://leetcode-cn.com/problems/search-a-2d-matrix/)\n",
    "\n",
    "编写一个高效的算法来判断`m x n`矩阵中，是否存在一个目标值。该矩阵具有如下特性：\n",
    "\n",
    "每行中的整数从左到右按升序排列。\n",
    "每行的第一个整数大于前一行的最后一个整数。\n",
    " \n",
    "#### 示例 1：\n",
    "```\n",
    "输入：matrix = [[1,3,5,7],[10,11,16,20],[23,30,34,60]], target = 3\n",
    "输出：true\n",
    "```\n",
    "\n",
    "#### 示例 2：\n",
    "```\n",
    "输入：matrix = [[1,3,5,7],[10,11,16,20],[23,30,34,60]], target = 13\n",
    "输出：false\n",
    "```\n",
    "\n",
    "#### 提示：\n",
    "- `m == matrix.length`\n",
    "- `n == matrix[i].length`\n",
    "- `1 <= m, n <= 100`\n",
    "- `-104 <= matrix[i][j], target <= 104`\n",
    "\n",
    "#### 相似题目\n",
    "- [排序矩阵查找](https://leetcode-cn.com/problems/sorted-matrix-search-lcci/)\n",
    "- [矩阵元素查找](https://www.nowcoder.com/practice/3afe6fabdb2c46ed98f06cfd9a20f2ce)"
   ]
  },
  {
   "cell_type": "code",
   "execution_count": 24,
   "id": "aging-consumer",
   "metadata": {},
   "outputs": [],
   "source": [
    "from typing import List\n",
    "\n",
    "def searchMatrix(matrix: List[List[int]], target: int) -> bool:\n",
    "    if not (matrix and matrix[0]):\n",
    "        return False\n",
    "    \n",
    "    m, n = len(matrix), len(matrix[0])\n",
    "    \n",
    "    lineno = m - 1\n",
    "    for i in range(m):\n",
    "        first = matrix[i][0]\n",
    "        if first < target:\n",
    "            continue\n",
    "        elif first > target:\n",
    "            lineno = i - 1\n",
    "            break\n",
    "        else:\n",
    "            return True\n",
    "    \n",
    "    if lineno >= 0:\n",
    "        for j in range(n):\n",
    "            if matrix[lineno][j] == target:\n",
    "                return True\n",
    "\n",
    "    return False"
   ]
  },
  {
   "cell_type": "code",
   "execution_count": 25,
   "id": "material-surveillance",
   "metadata": {},
   "outputs": [
    {
     "data": {
      "text/plain": [
       "True"
      ]
     },
     "execution_count": 25,
     "metadata": {},
     "output_type": "execute_result"
    }
   ],
   "source": [
    "searchMatrix([[1,3,5,7],[10,11,16,20],[23,30,34,60]], 3)"
   ]
  },
  {
   "cell_type": "code",
   "execution_count": 26,
   "id": "altered-kuwait",
   "metadata": {},
   "outputs": [
    {
     "data": {
      "text/plain": [
       "False"
      ]
     },
     "execution_count": 26,
     "metadata": {},
     "output_type": "execute_result"
    }
   ],
   "source": [
    "searchMatrix([[1,3,5,7],[10,11,16,20],[23,30,34,60]], 13)"
   ]
  },
  {
   "cell_type": "code",
   "execution_count": 27,
   "id": "experienced-missile",
   "metadata": {},
   "outputs": [
    {
     "data": {
      "text/plain": [
       "True"
      ]
     },
     "execution_count": 27,
     "metadata": {},
     "output_type": "execute_result"
    }
   ],
   "source": [
    "searchMatrix([[1,3,5,7],[10,11,16,20],[23,30,34,50]], 30)"
   ]
  },
  {
   "cell_type": "markdown",
   "id": "harmful-burns",
   "metadata": {},
   "source": [
    "给定M×N矩阵，每一行、每一列都按升序排列，请编写代码找出某元素。\n",
    "\n",
    "#### 示例:\n",
    "\n",
    "现有矩阵`matrix`如下：\n",
    "```\n",
    "[\n",
    "  [1,   4,  7, 11, 15],\n",
    "  [2,   5,  8, 12, 19],\n",
    "  [3,   6,  9, 16, 22],\n",
    "  [10, 13, 14, 17, 24],\n",
    "  [18, 21, 23, 26, 30]\n",
    "]\n",
    "```\n",
    "- 给定 target = 5，返回 true。\n",
    "- 给定 target = 20，返回 false。"
   ]
  },
  {
   "cell_type": "code",
   "execution_count": 46,
   "id": "adolescent-import",
   "metadata": {},
   "outputs": [],
   "source": [
    "def searchMatrix2(matrix: List[List[int]], target: int) -> bool:\n",
    "    if not (matrix and matrix[0]):\n",
    "        return False\n",
    "\n",
    "    m, n = len(matrix), len(matrix[0])\n",
    "    \n",
    "    for i in range(m):\n",
    "        l, r = matrix[i][0], matrix[i][n - 1]\n",
    "        if l <= target <= r:\n",
    "            for j in range(n):\n",
    "                if matrix[i][j] == target:\n",
    "                    return True\n",
    "    return False"
   ]
  },
  {
   "cell_type": "code",
   "execution_count": 47,
   "id": "standard-antibody",
   "metadata": {},
   "outputs": [
    {
     "data": {
      "text/plain": [
       "True"
      ]
     },
     "execution_count": 47,
     "metadata": {},
     "output_type": "execute_result"
    }
   ],
   "source": [
    "matrix = [\n",
    "  [1,   4,  7, 11, 15],\n",
    "  [2,   5,  8, 12, 19],\n",
    "  [3,   6,  9, 16, 22],\n",
    "  [10, 13, 14, 17, 24],\n",
    "  [18, 21, 23, 26, 30]\n",
    "]\n",
    "\n",
    "searchMatrix2(matrix, 5)"
   ]
  },
  {
   "cell_type": "code",
   "execution_count": 48,
   "id": "rapid-values",
   "metadata": {},
   "outputs": [
    {
     "data": {
      "text/plain": [
       "False"
      ]
     },
     "execution_count": 48,
     "metadata": {},
     "output_type": "execute_result"
    }
   ],
   "source": [
    "searchMatrix2(matrix, 20)"
   ]
  },
  {
   "cell_type": "code",
   "execution_count": 49,
   "id": "minus-duration",
   "metadata": {},
   "outputs": [
    {
     "data": {
      "text/plain": [
       "False"
      ]
     },
     "execution_count": 49,
     "metadata": {},
     "output_type": "execute_result"
    }
   ],
   "source": [
    "searchMatrix2([], 0)"
   ]
  },
  {
   "cell_type": "code",
   "execution_count": 50,
   "id": "brutal-martin",
   "metadata": {},
   "outputs": [
    {
     "data": {
      "text/plain": [
       "True"
      ]
     },
     "execution_count": 50,
     "metadata": {},
     "output_type": "execute_result"
    }
   ],
   "source": [
    "searchMatrix2([[1,2,3,4,5],[6,7,8,9,10],[11,12,13,14,15],[16,17,18,19,20],[21,22,23,24,25]], 19)"
   ]
  },
  {
   "cell_type": "code",
   "execution_count": 51,
   "id": "introductory-partnership",
   "metadata": {},
   "outputs": [
    {
     "data": {
      "text/plain": [
       "True"
      ]
     },
     "execution_count": 51,
     "metadata": {},
     "output_type": "execute_result"
    }
   ],
   "source": [
    "searchMatrix2([[1,3,5,7,9],[2,4,6,8,10],[11,13,15,17,19],[12,14,16,18,20],[21,22,23,24,25]], 13)"
   ]
  },
  {
   "cell_type": "markdown",
   "id": "modified-swaziland",
   "metadata": {},
   "source": [
    "已知int一个有序矩阵mat，同时给定矩阵的大小n和m以及需要查找的元素x，且矩阵的行和列都是从小到大有序的。设计查找算法返回所查找元素的二元数组，代表该元素的行号和列号(均从零开始)。保证元素互异。\n",
    "\n",
    "#### 示例1\n",
    "\n",
    "```\n",
    "输入 [[1,2,3],[4,5,6]],2,3,6\n",
    "返回值 [1,2]\n",
    "```"
   ]
  },
  {
   "cell_type": "code",
   "execution_count": 62,
   "id": "floating-timber",
   "metadata": {},
   "outputs": [],
   "source": [
    "def findElement(mat, m, n, x):\n",
    "    if not (mat and mat[0]):\n",
    "        return []\n",
    "    \n",
    "    for i in range(m):\n",
    "        l, r = mat[i][0], mat[i][n - 1]\n",
    "        if l <= x <= r:\n",
    "            for j in range(n):\n",
    "                if mat[i][j] == x:\n",
    "                    return [i, j]\n",
    "    return []"
   ]
  },
  {
   "cell_type": "code",
   "execution_count": 63,
   "id": "nonprofit-protocol",
   "metadata": {},
   "outputs": [
    {
     "data": {
      "text/plain": [
       "[1, 2]"
      ]
     },
     "execution_count": 63,
     "metadata": {},
     "output_type": "execute_result"
    }
   ],
   "source": [
    "findElement([[1,2,3],[4,5,6]], 2, 3, 6)"
   ]
  }
 ],
 "metadata": {
  "kernelspec": {
   "display_name": "Python 3",
   "language": "python",
   "name": "python3"
  },
  "language_info": {
   "codemirror_mode": {
    "name": "ipython",
    "version": 3
   },
   "file_extension": ".py",
   "mimetype": "text/x-python",
   "name": "python",
   "nbconvert_exporter": "python",
   "pygments_lexer": "ipython3",
   "version": "3.8.6"
  }
 },
 "nbformat": 4,
 "nbformat_minor": 5
}
