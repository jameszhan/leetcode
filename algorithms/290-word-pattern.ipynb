{
 "cells": [
  {
   "cell_type": "markdown",
   "id": "enhanced-bosnia",
   "metadata": {},
   "source": [
    "### [单词规律](https://leetcode-cn.com/problems/word-pattern/)\n",
    "\n",
    "给定一种规律`pattern`和一个字符串`str`，判断`str`是否遵循相同的规律。\n",
    "\n",
    "这里的 遵循 指完全匹配，例如， `pattern`里的每个字母和字符串`str`中的每个非空单词之间存在着双向连接的对应规律。\n",
    "\n",
    "#### 示例1:\n",
    "```\n",
    "输入: pattern = \"abba\", str = \"dog cat cat dog\"\n",
    "输出: true\n",
    "```\n",
    "\n",
    "#### 示例 2:\n",
    "```\n",
    "输入:pattern = \"abba\", str = \"dog cat cat fish\"\n",
    "输出: false\n",
    "```\n",
    "\n",
    "#### 示例 3:\n",
    "```\n",
    "输入: pattern = \"aaaa\", str = \"dog cat cat dog\"\n",
    "输出: false\n",
    "```\n",
    "\n",
    "#### 示例 4:\n",
    "```\n",
    "输入: pattern = \"abba\", str = \"dog dog dog dog\"\n",
    "输出: false\n",
    "```\n",
    "\n",
    "#### 说明:\n",
    "- 你可以假设`pattern`只包含小写字母，`str`包含了由单个空格分隔的小写字母。 "
   ]
  },
  {
   "cell_type": "code",
   "execution_count": 19,
   "id": "enhanced-field",
   "metadata": {},
   "outputs": [],
   "source": [
    "def wordPattern(pattern: str, s: str) -> bool:\n",
    "    words = s.split()\n",
    "    m, n = len(pattern), len(words)\n",
    "    if m != n:\n",
    "        return False\n",
    "    \n",
    "    mapping = map(lambda i: (pattern[i], words[i]), range(n))\n",
    "    c2w, w2c = {}, {}\n",
    "    for c, w in mapping:\n",
    "        if c in c2w:\n",
    "            if w != c2w[c]:\n",
    "                return False\n",
    "        else:\n",
    "            c2w[c] = w\n",
    "            \n",
    "        if w in w2c:\n",
    "            if c != w2c[w]:\n",
    "                return False\n",
    "        else:\n",
    "            w2c[w] = c\n",
    "    return True"
   ]
  },
  {
   "cell_type": "code",
   "execution_count": 20,
   "id": "intense-authentication",
   "metadata": {},
   "outputs": [
    {
     "data": {
      "text/plain": [
       "True"
      ]
     },
     "execution_count": 20,
     "metadata": {},
     "output_type": "execute_result"
    }
   ],
   "source": [
    "wordPattern(\"abba\", \"dog cat cat dog\")"
   ]
  },
  {
   "cell_type": "code",
   "execution_count": 21,
   "id": "defined-flesh",
   "metadata": {},
   "outputs": [
    {
     "data": {
      "text/plain": [
       "False"
      ]
     },
     "execution_count": 21,
     "metadata": {},
     "output_type": "execute_result"
    }
   ],
   "source": [
    "wordPattern(\"abba\", \"dog cat cat fish\")"
   ]
  },
  {
   "cell_type": "code",
   "execution_count": 22,
   "id": "wrong-reality",
   "metadata": {},
   "outputs": [
    {
     "data": {
      "text/plain": [
       "True"
      ]
     },
     "execution_count": 22,
     "metadata": {},
     "output_type": "execute_result"
    }
   ],
   "source": [
    "wordPattern(\"abbc\", \"dog cat cat fish\")"
   ]
  },
  {
   "cell_type": "code",
   "execution_count": 23,
   "id": "gorgeous-designer",
   "metadata": {},
   "outputs": [
    {
     "data": {
      "text/plain": [
       "False"
      ]
     },
     "execution_count": 23,
     "metadata": {},
     "output_type": "execute_result"
    }
   ],
   "source": [
    "wordPattern(\"abba\", \"dog dog dog dog\")"
   ]
  }
 ],
 "metadata": {
  "kernelspec": {
   "display_name": "Python 3",
   "language": "python",
   "name": "python3"
  },
  "language_info": {
   "codemirror_mode": {
    "name": "ipython",
    "version": 3
   },
   "file_extension": ".py",
   "mimetype": "text/x-python",
   "name": "python",
   "nbconvert_exporter": "python",
   "pygments_lexer": "ipython3",
   "version": "3.8.6"
  }
 },
 "nbformat": 4,
 "nbformat_minor": 5
}
