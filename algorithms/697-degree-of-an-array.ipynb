{
 "cells": [
  {
   "cell_type": "markdown",
   "id": "median-circus",
   "metadata": {},
   "source": [
    "### [数组的度](https://leetcode-cn.com/problems/degree-of-an-array/)\n",
    "\n",
    "给定一个非空且只包含非负数的整数数组 nums，数组的度的定义是指数组里任一元素出现频数的最大值。\n",
    "\n",
    "你的任务是在 nums 中找到与 nums 拥有相同大小的度的最短连续子数组，返回其长度。\n",
    "\n",
    "#### 示例 1：\n",
    "```\n",
    "输入：[1, 2, 2, 3, 1]\n",
    "输出：2\n",
    "解释：\n",
    "输入数组的度是2，因为元素1和2的出现频数最大，均为2.\n",
    "连续子数组里面拥有相同度的有如下所示:\n",
    "[1, 2, 2, 3, 1], [1, 2, 2, 3], [2, 2, 3, 1], [1, 2, 2], [2, 2, 3], [2, 2]\n",
    "最短连续子数组[2, 2]的长度为2，所以返回2.\n",
    "```\n",
    "\n",
    "#### 示例 2：\n",
    "```\n",
    "输入：[1,2,2,3,1,4,2]\n",
    "输出：6\n",
    "```\n",
    "\n",
    "#### 提示：\n",
    "- nums.length 在1到 50,000 区间范围内。\n",
    "- nums[i] 是一个在 0 到 49,999 范围内的整数。"
   ]
  },
  {
   "cell_type": "code",
   "execution_count": 1,
   "id": "incorporated-rolling",
   "metadata": {},
   "outputs": [],
   "source": [
    "from typing import List\n",
    "from collections import Counter\n",
    "\n",
    "def findShortestSubArray(nums: List[int]) -> int:\n",
    "    counter = Counter(nums)\n",
    "    degree = max(counter.values())\n",
    "    \n",
    "    left, right = {}, {}\n",
    "    for i, n in enumerate(nums):\n",
    "        if counter[n] == degree:\n",
    "            if n not in left:\n",
    "                left[n] = i\n",
    "            if n in left:\n",
    "                right[n] = i\n",
    "    \n",
    "    ans = 0x7FFFFFFF\n",
    "    for k, v in counter.items():\n",
    "        if v == degree:\n",
    "            ans = min(right[k] - left[k] + 1, ans)\n",
    "            \n",
    "    return ans"
   ]
  },
  {
   "cell_type": "code",
   "execution_count": 2,
   "id": "norwegian-hartford",
   "metadata": {},
   "outputs": [
    {
     "data": {
      "text/plain": [
       "2"
      ]
     },
     "execution_count": 2,
     "metadata": {},
     "output_type": "execute_result"
    }
   ],
   "source": [
    "findShortestSubArray([1, 2, 2, 3, 1])"
   ]
  },
  {
   "cell_type": "code",
   "execution_count": 3,
   "id": "returning-pipeline",
   "metadata": {},
   "outputs": [
    {
     "data": {
      "text/plain": [
       "6"
      ]
     },
     "execution_count": 3,
     "metadata": {},
     "output_type": "execute_result"
    }
   ],
   "source": [
    "findShortestSubArray([1,2,2,3,1,4,2])"
   ]
  }
 ],
 "metadata": {
  "kernelspec": {
   "display_name": "Python 3",
   "language": "python",
   "name": "python3"
  },
  "language_info": {
   "codemirror_mode": {
    "name": "ipython",
    "version": 3
   },
   "file_extension": ".py",
   "mimetype": "text/x-python",
   "name": "python",
   "nbconvert_exporter": "python",
   "pygments_lexer": "ipython3",
   "version": "3.8.6"
  }
 },
 "nbformat": 4,
 "nbformat_minor": 5
}
