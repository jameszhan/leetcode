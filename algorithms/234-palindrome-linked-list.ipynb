{
 "cells": [
  {
   "cell_type": "markdown",
   "id": "naked-imaging",
   "metadata": {},
   "source": [
    "请判断一个链表是否为回文链表。\n",
    "\n",
    "#### 示例 1:\n",
    "```\n",
    "输入: 1->2\n",
    "输出: false\n",
    "```\n",
    "\n",
    "#### 示例 2:\n",
    "```\n",
    "输入: 1->2->2->1\n",
    "输出: true\n",
    "```\n",
    "\n",
    "#### 进阶：\n",
    "你能否用 `O(n)` 时间复杂度和 `O(1)` 空间复杂度解决此题？"
   ]
  },
  {
   "cell_type": "code",
   "execution_count": 80,
   "id": "massive-yesterday",
   "metadata": {},
   "outputs": [],
   "source": [
    "class ListNode:\n",
    "    def __init__(self, val=0, next=None):\n",
    "        self.val = val\n",
    "        self.next = next\n",
    "        \n",
    "class Solution:\n",
    "    def isPalindrome(self, head: ListNode) -> bool:\n",
    "        if head is None or head.next is None:\n",
    "            return True\n",
    "        \n",
    "        prev, curr = None, head\n",
    "        fast, slow = head, head\n",
    "        while fast is not None and fast.next is not None:\n",
    "            slow = slow.next\n",
    "            fast = fast.next.next\n",
    "            \n",
    "            curr.next = prev\n",
    "            prev = curr\n",
    "            curr = slow\n",
    "                    \n",
    "        if fast is not None:\n",
    "            curr = curr.next\n",
    "            \n",
    "        while prev is not None and curr is not None:\n",
    "            if prev.val != curr.val:\n",
    "                return False\n",
    "            prev = prev.next\n",
    "            curr = curr.next\n",
    "        return True"
   ]
  },
  {
   "cell_type": "code",
   "execution_count": 81,
   "id": "postal-partnership",
   "metadata": {},
   "outputs": [
    {
     "data": {
      "text/plain": [
       "True"
      ]
     },
     "execution_count": 81,
     "metadata": {},
     "output_type": "execute_result"
    }
   ],
   "source": [
    "n6 = ListNode(1)\n",
    "n5 = ListNode(2, n6)\n",
    "n4 = ListNode(3, n5)\n",
    "n3 = ListNode(3, n4)\n",
    "n2 = ListNode(2, n3)\n",
    "n1 = ListNode(1, n2)\n",
    "\n",
    "solution = Solution()\n",
    "solution.isPalindrome(n1)"
   ]
  },
  {
   "cell_type": "code",
   "execution_count": 82,
   "id": "exotic-pavilion",
   "metadata": {},
   "outputs": [
    {
     "data": {
      "text/plain": [
       "True"
      ]
     },
     "execution_count": 82,
     "metadata": {},
     "output_type": "execute_result"
    }
   ],
   "source": [
    "n5 = ListNode(1)\n",
    "n4 = ListNode(2, n5)\n",
    "n3 = ListNode(3, n4)\n",
    "n2 = ListNode(2, n3)\n",
    "n1 = ListNode(1, n2)\n",
    "\n",
    "solution = Solution()\n",
    "solution.isPalindrome(n1)"
   ]
  },
  {
   "cell_type": "code",
   "execution_count": 83,
   "id": "alpine-electric",
   "metadata": {},
   "outputs": [],
   "source": [
    "class Solution:\n",
    "    def isPalindrome(self, head: ListNode) -> bool:\n",
    "        if head is None or head.next is None:\n",
    "            return True\n",
    "        \n",
    "        h, a = head, []\n",
    "        while h is not None:\n",
    "            a.append(h.val)\n",
    "            h = h.next\n",
    "        \n",
    "        return a == a[::-1]"
   ]
  },
  {
   "cell_type": "code",
   "execution_count": 84,
   "id": "preceding-tragedy",
   "metadata": {},
   "outputs": [],
   "source": [
    "class Solution:\n",
    "    def isPalindrome(self, head: ListNode) -> bool:\n",
    "        if head is None or head.next is None:\n",
    "            return True\n",
    "        \n",
    "        l, r = [], []\n",
    "        fast, slow = head, head\n",
    "        while fast is not None and fast.next is not None:\n",
    "            l.append(slow.val)\n",
    "            slow = slow.next\n",
    "            fast = fast.next.next\n",
    "        \n",
    "        if fast is not None:\n",
    "            slow = slow.next\n",
    "        \n",
    "        while slow is not None:\n",
    "            r.append(slow.val)\n",
    "            slow = slow.next\n",
    "        \n",
    "        return l == r[::-1]"
   ]
  },
  {
   "cell_type": "code",
   "execution_count": 85,
   "id": "hungry-england",
   "metadata": {},
   "outputs": [
    {
     "ename": "IndentationError",
     "evalue": "expected an indented block (<ipython-input-85-b242713c0a3b>, line 22)",
     "output_type": "error",
     "traceback": [
      "\u001b[0;36m  File \u001b[0;32m\"<ipython-input-85-b242713c0a3b>\"\u001b[0;36m, line \u001b[0;32m22\u001b[0m\n\u001b[0;31m    return l == r[::-1]\u001b[0m\n\u001b[0m    ^\u001b[0m\n\u001b[0;31mIndentationError\u001b[0m\u001b[0;31m:\u001b[0m expected an indented block\n"
     ]
    }
   ],
   "source": [
    "class Solution:\n",
    "    def isPalindrome(self, head: ListNode) -> bool:\n",
    "        if head is None or head.next is None:\n",
    "            return True\n",
    "        \n",
    "        l, r = [], []\n",
    "        fast, slow = head, head\n",
    "        while fast is not None and fast.next is not None:\n",
    "            l.append(slow.val)\n",
    "            slow = slow.next\n",
    "            fast = fast.next.next\n",
    "        \n",
    "        if fast is not None:\n",
    "            slow = slow.next\n",
    "        \n",
    "        while slow is not None:\n",
    "            r.append(slow.val)\n",
    "            slow = slow.next\n",
    "            \n",
    "        n = len(l)\n",
    "        for i in range(n):\n",
    "            if l[i] != r[n - i - 1]:\n",
    "                return False\n",
    "        return True"
   ]
  },
  {
   "cell_type": "code",
   "execution_count": null,
   "id": "previous-improvement",
   "metadata": {},
   "outputs": [],
   "source": []
  }
 ],
 "metadata": {
  "kernelspec": {
   "display_name": "Python 3",
   "language": "python",
   "name": "python3"
  },
  "language_info": {
   "codemirror_mode": {
    "name": "ipython",
    "version": 3
   },
   "file_extension": ".py",
   "mimetype": "text/x-python",
   "name": "python",
   "nbconvert_exporter": "python",
   "pygments_lexer": "ipython3",
   "version": "3.8.6"
  }
 },
 "nbformat": 4,
 "nbformat_minor": 5
}
