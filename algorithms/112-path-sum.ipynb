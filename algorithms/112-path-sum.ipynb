{
 "cells": [
  {
   "cell_type": "markdown",
   "id": "accepting-appearance",
   "metadata": {},
   "source": [
    "### [路径总和](https://leetcode-cn.com/problems/path-sum/)\n",
    "\n",
    "给你二叉树的根节点`root`和一个表示目标和的整数`targetSum`，判断该树中是否存在**根节点到叶子节点**的路径，这条路径上所有节点值相加等于目标和`targetSum`。\n",
    "\n",
    "叶子节点 是指没有子节点的节点。\n",
    "\n",
    "#### 示例 1：\n",
    "```\n",
    "输入：root = [5,4,8,11,null,13,4,7,2,null,null,null,1], targetSum = 22\n",
    "输出：true\n",
    "```\n",
    "\n",
    "#### 示例 2：\n",
    "```\n",
    "输入：root = [1,2,3], targetSum = 5\n",
    "输出：false\n",
    "```\n",
    "\n",
    "#### 示例 3：\n",
    "```\n",
    "输入：root = [1,2], targetSum = 0\n",
    "输出：false\n",
    "```\n",
    "\n",
    "#### 提示：\n",
    "- 树中节点的数目在范围`[0, 5000]`内\n",
    "- `-1000 <= Node.val <= 1000`\n",
    "- `-1000 <= targetSum <= 1000`"
   ]
  },
  {
   "cell_type": "code",
   "execution_count": 2,
   "id": "excited-silence",
   "metadata": {},
   "outputs": [],
   "source": [
    "class TreeNode:\n",
    "    def __init__(self, val=0, left=None, right=None):\n",
    "        self.val = val\n",
    "        self.left = left\n",
    "        self.right = right\n",
    "        \n",
    "class Solution:\n",
    "    def hasPathSum(self, root: TreeNode, targetSum: int) -> bool:\n",
    "        def isLeaf(node: TreeNode):\n",
    "            return node.left is None and node.right is None\n",
    "        \n",
    "        def checkPath(node: TreeNode, target: int):\n",
    "            if node:\n",
    "                if isLeaf(node):\n",
    "                    if node.val == target:\n",
    "                        return True\n",
    "                    else:\n",
    "                        return False\n",
    "                else:\n",
    "                    return checkPath(node.left, target - node.val) or checkPath(node.right, target - node.val)\n",
    "            else:\n",
    "                return False\n",
    "        \n",
    "        return checkPath(root, targetSum)"
   ]
  },
  {
   "cell_type": "code",
   "execution_count": null,
   "id": "innocent-forwarding",
   "metadata": {},
   "outputs": [],
   "source": []
  }
 ],
 "metadata": {
  "kernelspec": {
   "display_name": "Python 3",
   "language": "python",
   "name": "python3"
  },
  "language_info": {
   "codemirror_mode": {
    "name": "ipython",
    "version": 3
   },
   "file_extension": ".py",
   "mimetype": "text/x-python",
   "name": "python",
   "nbconvert_exporter": "python",
   "pygments_lexer": "ipython3",
   "version": "3.8.6"
  }
 },
 "nbformat": 4,
 "nbformat_minor": 5
}
