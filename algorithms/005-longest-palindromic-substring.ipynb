{
 "cells": [
  {
   "cell_type": "markdown",
   "id": "uniform-shell",
   "metadata": {},
   "source": [
    "### [最长回文子串](https://leetcode-cn.com/problems/longest-palindromic-substring/)\n",
    "\n",
    "给你一个字符串 s，找到 s 中最长的回文子串。\n",
    "\n",
    "#### 示例 1：\n",
    "```\n",
    "输入：s = \"babad\"\n",
    "输出：\"bab\"\n",
    "解释：\"aba\" 同样是符合题意的答案。\n",
    "```\n",
    "\n",
    "#### 示例 2：\n",
    "```\n",
    "输入：s = \"cbbd\"\n",
    "输出：\"bb\"\n",
    "```\n",
    "\n",
    "#### 示例 3：\n",
    "```\n",
    "输入：s = \"a\"\n",
    "输出：\"a\"\n",
    "```\n",
    "\n",
    "#### 示例 4：\n",
    "```\n",
    "输入：s = \"ac\"\n",
    "输出：\"a\"\n",
    "```\n",
    "\n",
    "#### 提示：\n",
    "\n",
    "- `1 <= s.length <= 1000`\n",
    "- `s`仅由数字和英文字母（大写和/或小写）组成"
   ]
  },
  {
   "cell_type": "code",
   "execution_count": 129,
   "id": "latter-scenario",
   "metadata": {},
   "outputs": [],
   "source": [
    "def longestPalindrome(s: str) -> str:\n",
    "    n = len(s)\n",
    "    if n <= 1:\n",
    "        return s\n",
    "    \n",
    "    dp = [[False for _ in range(n)] for _ in range(n)]\n",
    "    for i in range(n):\n",
    "        dp[i][i] = True\n",
    "    \n",
    "    maxLength, start, end = 0, 0, 0\n",
    "    for i in reversed(range(n - 1)):\n",
    "        for j in range(i + 1, n):\n",
    "            if s[i] == s[j]:\n",
    "                if j - i < 3:\n",
    "                    dp[i][j] = True\n",
    "                else:\n",
    "                    dp[i][j] = dp[i + 1][j - 1]\n",
    "                \n",
    "            if dp[i][j]:\n",
    "                if j - i + 1 > maxLength:\n",
    "                    maxLength = j - i + 1\n",
    "                    start, end = i, j\n",
    "    \n",
    "    return s[start:end+1]"
   ]
  },
  {
   "cell_type": "code",
   "execution_count": 130,
   "id": "cloudy-scholarship",
   "metadata": {},
   "outputs": [
    {
     "data": {
      "text/plain": [
       "'aca'"
      ]
     },
     "execution_count": 130,
     "metadata": {},
     "output_type": "execute_result"
    }
   ],
   "source": [
    "longestPalindrome(\"aacabdkacaa\")"
   ]
  },
  {
   "cell_type": "code",
   "execution_count": 131,
   "id": "animated-quantum",
   "metadata": {},
   "outputs": [
    {
     "data": {
      "text/plain": [
       "'aba'"
      ]
     },
     "execution_count": 131,
     "metadata": {},
     "output_type": "execute_result"
    }
   ],
   "source": [
    "longestPalindrome('babad')"
   ]
  },
  {
   "cell_type": "code",
   "execution_count": 132,
   "id": "wrong-amber",
   "metadata": {},
   "outputs": [
    {
     "data": {
      "text/plain": [
       "'1234321'"
      ]
     },
     "execution_count": 132,
     "metadata": {},
     "output_type": "execute_result"
    }
   ],
   "source": [
    "longestPalindrome(\"abc1234321ab\")"
   ]
  },
  {
   "cell_type": "code",
   "execution_count": 133,
   "id": "antique-bracelet",
   "metadata": {},
   "outputs": [
    {
     "data": {
      "text/plain": [
       "'a'"
      ]
     },
     "execution_count": 133,
     "metadata": {},
     "output_type": "execute_result"
    }
   ],
   "source": [
    "longestPalindrome(\"ac\")"
   ]
  },
  {
   "cell_type": "markdown",
   "id": "ancient-weekend",
   "metadata": {},
   "source": [
    "对于一个字符串，请设计一个高效算法，计算其中最长回文子串的长度。\n",
    "\n",
    "给定字符串A以及它的长度n，请返回最长回文子串的长度。\n",
    "\n",
    "#### 示例1\n",
    "```\n",
    "输入 \"abc1234321ab\",12\n",
    "返回值 7\n",
    "```"
   ]
  },
  {
   "cell_type": "code",
   "execution_count": 136,
   "id": "stable-actress",
   "metadata": {},
   "outputs": [],
   "source": [
    "def getLongestPalindrome(A: str, n: int):\n",
    "    n = len(A)\n",
    "    if n <= 1:\n",
    "        return n\n",
    "    \n",
    "    dp = [[False for _ in range(n)] for _ in range(n)]\n",
    "    ans = 1\n",
    "    for i in reversed(range(n - 2)):\n",
    "        dp[i][i] = False\n",
    "        for j in range(i + 1, n):\n",
    "            if A[i] == A[j]:\n",
    "                if j - i < 3:\n",
    "                    dp[i][j] = True\n",
    "                else:\n",
    "                    dp[i][j] = dp[i + 1][j - 1]\n",
    "            \n",
    "            if dp[i][j] and j - i + 1 > ans:\n",
    "                ans = j - i + 1\n",
    "                \n",
    "    return ans"
   ]
  },
  {
   "cell_type": "code",
   "execution_count": 137,
   "id": "further-emergency",
   "metadata": {},
   "outputs": [
    {
     "data": {
      "text/plain": [
       "7"
      ]
     },
     "execution_count": 137,
     "metadata": {},
     "output_type": "execute_result"
    }
   ],
   "source": [
    "getLongestPalindrome(\"abc1234321ab\", 12)"
   ]
  },
  {
   "cell_type": "markdown",
   "id": "neither-pillow",
   "metadata": {},
   "source": [
    "![填表顺序](https://notes.zizhizhan.com/files/interview/images/leetcode005-001.png)\n",
    "\n",
    "![填表顺序](https://notes.zizhizhan.com/files/interview/images/leetcode005-002.png)"
   ]
  },
  {
   "cell_type": "code",
   "execution_count": null,
   "id": "proud-biotechnology",
   "metadata": {},
   "outputs": [],
   "source": []
  }
 ],
 "metadata": {
  "kernelspec": {
   "display_name": "Python 3",
   "language": "python",
   "name": "python3"
  },
  "language_info": {
   "codemirror_mode": {
    "name": "ipython",
    "version": 3
   },
   "file_extension": ".py",
   "mimetype": "text/x-python",
   "name": "python",
   "nbconvert_exporter": "python",
   "pygments_lexer": "ipython3",
   "version": "3.8.6"
  }
 },
 "nbformat": 4,
 "nbformat_minor": 5
}
