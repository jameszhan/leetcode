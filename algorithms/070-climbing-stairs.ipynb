{
 "cells": [
  {
   "cell_type": "markdown",
   "id": "bound-depth",
   "metadata": {},
   "source": [
    "### 爬楼梯\n",
    "\n",
    "假设你正在爬楼梯。需要`n`阶你才能到达楼顶。\n",
    "\n",
    "每次你可以爬`1`或`2`个台阶。你有多少种不同的方法可以爬到楼顶呢？\n",
    "\n",
    "> 注意：给定 n 是一个正整数。\n",
    "\n",
    "#### 示例 1：\n",
    "```\n",
    "输入： 2\n",
    "输出： 2\n",
    "解释： 有两种方法可以爬到楼顶。\n",
    "1.  1 阶 + 1 阶\n",
    "2.  2 阶\n",
    "```\n",
    "\n",
    "#### 示例 2：\n",
    "\n",
    "```\n",
    "输入： 3\n",
    "输出： 3\n",
    "解释： 有三种方法可以爬到楼顶。\n",
    "1.  1 阶 + 1 阶 + 1 阶\n",
    "2.  1 阶 + 2 阶\n",
    "3.  2 阶 + 1 阶\n",
    "```"
   ]
  },
  {
   "cell_type": "code",
   "execution_count": 7,
   "id": "complimentary-switch",
   "metadata": {},
   "outputs": [],
   "source": [
    "def climbStairs(num: int) -> int:\n",
    "    assert num > 0, 'n must be a positive number'\n",
    "    \n",
    "    cache = {}\n",
    "    def solve(n):\n",
    "        if n <= 1:\n",
    "            return 1\n",
    "        if n - 1 not in cache:\n",
    "            cache[n - 1] = solve(n - 1)\n",
    "        if n - 2 not in cache:\n",
    "            cache[n - 2] = solve(n - 2)\n",
    "        \n",
    "        return cache[n - 1] + cache[n - 2]\n",
    "    \n",
    "    return solve(num)"
   ]
  },
  {
   "cell_type": "code",
   "execution_count": 8,
   "id": "novel-words",
   "metadata": {},
   "outputs": [
    {
     "data": {
      "text/plain": [
       "1"
      ]
     },
     "execution_count": 8,
     "metadata": {},
     "output_type": "execute_result"
    }
   ],
   "source": [
    "climbStairs(1)"
   ]
  },
  {
   "cell_type": "code",
   "execution_count": 9,
   "id": "downtown-silicon",
   "metadata": {},
   "outputs": [
    {
     "data": {
      "text/plain": [
       "5"
      ]
     },
     "execution_count": 9,
     "metadata": {},
     "output_type": "execute_result"
    }
   ],
   "source": [
    "climbStairs(4)"
   ]
  },
  {
   "cell_type": "code",
   "execution_count": 10,
   "id": "billion-manor",
   "metadata": {},
   "outputs": [
    {
     "data": {
      "text/plain": [
       "573147844013817084101"
      ]
     },
     "execution_count": 10,
     "metadata": {},
     "output_type": "execute_result"
    }
   ],
   "source": [
    "climbStairs(100)"
   ]
  }
 ],
 "metadata": {
  "kernelspec": {
   "display_name": "Python 3",
   "language": "python",
   "name": "python3"
  },
  "language_info": {
   "codemirror_mode": {
    "name": "ipython",
    "version": 3
   },
   "file_extension": ".py",
   "mimetype": "text/x-python",
   "name": "python",
   "nbconvert_exporter": "python",
   "pygments_lexer": "ipython3",
   "version": "3.8.6"
  }
 },
 "nbformat": 4,
 "nbformat_minor": 5
}
