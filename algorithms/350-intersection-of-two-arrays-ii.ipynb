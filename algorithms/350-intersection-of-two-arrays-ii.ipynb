{
 "cells": [
  {
   "cell_type": "markdown",
   "id": "early-agreement",
   "metadata": {},
   "source": [
    "### [两个数组的交集 II](https://leetcode-cn.com/problems/intersection-of-two-arrays-ii/)\n",
    "\n",
    "给定两个数组，编写一个函数来计算它们的交集。\n",
    "\n",
    "#### 示例 1：\n",
    "```\n",
    "输入：nums1 = [1,2,2,1], nums2 = [2,2]\n",
    "输出：[2,2]\n",
    "```\n",
    "#### 示例 2:\n",
    "```\n",
    "输入：nums1 = [4,9,5], nums2 = [9,4,9,8,4]\n",
    "输出：[4,9]\n",
    "```\n",
    "\n",
    "#### 说明：\n",
    "- 输出结果中每个元素出现的次数，应与元素在两个数组中出现次数的最小值一致。\n",
    "- 我们可以不考虑输出结果的顺序。\n",
    "\n",
    "#### 进阶：\n",
    "- 如果给定的数组已经排好序呢？你将如何优化你的算法？\n",
    "- 如果 nums1 的大小比 nums2 小很多，哪种方法更优？\n",
    "- 如果 nums2 的元素存储在磁盘上，内存是有限的，并且你不能一次加载所有的元素到内存中，你该怎么办？"
   ]
  },
  {
   "cell_type": "code",
   "execution_count": 2,
   "id": "reliable-split",
   "metadata": {},
   "outputs": [],
   "source": [
    "from typing import List\n",
    "\n",
    "def intersect(nums1: List[int], nums2: List[int]) -> List[int]:\n",
    "    if not nums1 or not nums2:\n",
    "        return []\n",
    "    d1, d2 = {}, {}\n",
    "    for n1 in nums1:\n",
    "        d1[n1] = d1.get(n1, 0) + 1\n",
    "        \n",
    "    for n2 in nums2:\n",
    "        d2[n2] = d2.get(n2, 0) + 1\n",
    "    \n",
    "    ans = []\n",
    "    if len(d1) < len(d2):\n",
    "        for k, v in d1.items():\n",
    "            if k in d2:\n",
    "                ans.extend([k] * min(v, d2[k]))\n",
    "    else:\n",
    "        for k, v in d2.items():\n",
    "            if k in d1:\n",
    "                ans.extend([k] * min(v, d1[k]))\n",
    "    return ans"
   ]
  },
  {
   "cell_type": "code",
   "execution_count": 3,
   "id": "presidential-holly",
   "metadata": {},
   "outputs": [
    {
     "data": {
      "text/plain": [
       "[2, 2]"
      ]
     },
     "execution_count": 3,
     "metadata": {},
     "output_type": "execute_result"
    }
   ],
   "source": [
    "nums1 = [1,2,2,1]\n",
    "nums2 = [2,2]\n",
    "intersect(nums1, nums2)"
   ]
  },
  {
   "cell_type": "code",
   "execution_count": 4,
   "id": "synthetic-country",
   "metadata": {},
   "outputs": [
    {
     "data": {
      "text/plain": [
       "[9, 4]"
      ]
     },
     "execution_count": 4,
     "metadata": {},
     "output_type": "execute_result"
    }
   ],
   "source": [
    "nums1 = [4,9,5]\n",
    "nums2 = [9,4,9,8,4]\n",
    "intersect(nums1, nums2)"
   ]
  },
  {
   "cell_type": "code",
   "execution_count": null,
   "id": "prerequisite-gibson",
   "metadata": {},
   "outputs": [],
   "source": []
  }
 ],
 "metadata": {
  "kernelspec": {
   "display_name": "Python 3",
   "language": "python",
   "name": "python3"
  },
  "language_info": {
   "codemirror_mode": {
    "name": "ipython",
    "version": 3
   },
   "file_extension": ".py",
   "mimetype": "text/x-python",
   "name": "python",
   "nbconvert_exporter": "python",
   "pygments_lexer": "ipython3",
   "version": "3.8.6"
  }
 },
 "nbformat": 4,
 "nbformat_minor": 5
}
